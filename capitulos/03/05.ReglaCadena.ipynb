{
 "cells": [
  {
   "attachments": {},
   "cell_type": "markdown",
   "metadata": {},
   "source": [
    "# Regla de la cadena \n",
    "\n",
    "## Matriz jacobiana y regla de la cadena\n",
    "\n",
    "La noción de matriz jacobiana, junto con la de regla general de la cadena, nos va a permitir calcular las derivadas parciales de una composición de funciones diferenciables. \n",
    "\n",
    "````{prf:theorem}  Diferenciabilidad de una función compuesta\n",
    ":label: th_dif_func_comp\n",
    ":nonumber: \n",
    "\n",
    "Sean $\\mathbf{F}: D \\subset \\mathbb{R}^n \\rightarrow \\mathbb{R}^m$ y $G: \\mathbb{R}^m \\rightarrow \\mathbb{R}$ dos funciones tales que $\\mathbf{F}(D) \\subset \\mathbb{R}^m$. Sea $\\mathbf{a} \\in D$ tal que $\\mathbf{F}$ es diferenciable en $\\mathbf{a}$ y $G$ es diferenciable en $\\mathbf{F}(\\mathbf{a})$. Entonces la función compuesta $G \\circ \\mathbf{F}$ es diferenciable en $\\mathbf{a}$ y a partir de la **regla general de la cadena** se tiene:\n",
    "\n",
    "$$\n",
    "\\mathrm{J}(G \\circ \\mathbf{F}) (\\mathbf{a}) = \\mathrm{J}G(\\mathbf{F}(\\mathbf{a})) \\; \\mathrm{J}\\mathbf{F}(\\mathbf{a}),\n",
    "$$\n",
    "\n",
    "donde $\\mathrm{J}G = \\left[\\frac{\\partial G}{\\partial \\overline{x}_{1}}, \\frac{\\partial G}{\\partial \\overline{x}_{2}}, ... , \\frac{\\partial G}{\\partial \\overline{x}_{m}}\\right]$ es la matriz jacobiana de $G$, y \n",
    "\n",
    "$$\n",
    "\\mathrm{J}\\mathbf{F} =\n",
    "\\begin{bmatrix}\n",
    "\\frac{\\partial F_{1}}{\\partial x_{1}} & \\frac{\\partial F_{1}}{\\partial x_{2}} & ... & \\frac{\\partial F_{1}}{\\partial x_{n}} \\\\\n",
    "\\frac{\\partial F_{2}}{\\partial x_{1}} & \\frac{\\partial F_{2}}{\\partial x_{2}} & ... & \\frac{\\partial F_{2}}{\\partial x_{n}} \\\\\n",
    "... & ... & ... & ... \\\\\n",
    "\\frac{\\partial F_{m}}{\\partial x_{1}} & \\frac{\\partial F_{m}}{\\partial x_{2}} & ... & \\frac{\\partial F_{m}}{\\partial x_{n}} \\\\\n",
    "\\end{bmatrix}\n",
    "$$\n",
    "\n",
    "es la matriz jacobiana de $\\mathbf{F}$.\n",
    "````\n",
    "\n",
    "**NOTA 1:** Recuerda que para una función $G: \\mathbb{R}^m \\rightarrow \\mathbb{R}$, la matriz jacobiana es igual a la transpuesta del gradiente. Por tanto, a partir de la igualdad anterior, tenemos que \n",
    "\n",
    "$$\n",
    "\\mathrm{J}(G \\circ \\mathbf{F}) (\\mathbf{a}) = (\\mathbf{\\nabla}G)^\\mathrm{t} (\\mathbf{F}(\\mathbf{a})) \\; \\mathrm{J}\\mathbf{F}(\\mathbf{a}).\n",
    "$$\n",
    "\n",
    "**NOTA 2:** La regla de la cadena para el caso multivariable es una generalización de la regla de la cadena para una variable. Si $n = m = 1$, tal que $a \\in \\mathbb{R}$, $\\mathbf{F}: D \\subset \\mathbb{R} \\rightarrow \\mathbb{R}$ y $G: \\mathbb{R} \\rightarrow \\mathbb{R}$, entonces \n",
    "\n",
    "$$\n",
    "\\mathrm{J}(G \\circ F) (a) = \\mathrm{J}G(F(a)) \\; \\mathrm{J}F(a) = G'(F(a))\\; F'(a).\n",
    "$$\n",
    "\n",
    "Aunque no lo haremos así, os dejamos un par de *remarks*, por si lo veis en algún libro y os llama la atención:\n",
    "\n",
    "````{prf:remark} Regla de la cadena para una variable independiente\n",
    ":label: rc_01_regla_cadena\n",
    ":nonumber:\n",
    "\n",
    "Sea $w = G(x_1,x_2,...,x_m)$, donde $G$ es una función diferenciable de las $m$ variables $x_1, x_2, ... , x_m$. Si cada una de las $x_j = F_j(t)$ es una función diferenciable de $t$, entonces $w$ es una función diferenciable de $t$, y\n",
    "\n",
    "$$\n",
    "\\frac{dw}{dt} = (\\mathbf{\\nabla}G)^\\mathrm{t} (\\mathbf{F}(t)) \\; \\mathrm{J}\\mathbf{F}(t) = \\frac{\\partial w}{\\partial x_1}\\frac{dx_1}{dt} + \\frac{\\partial w}{\\partial x_2}\\frac{dx_2}{dt} + ... + \\frac{\\partial w}{\\partial x_m}\\frac{dx_m}{dt}.\n",
    "$$\n",
    "````\n",
    "\n",
    "````{prf:remark} Regla de la cadena para dos variables independientes\n",
    ":label: rc_02_regla_cadena\n",
    ":nonumber:\n",
    "\n",
    "Sea $w = G(x_1,x_2,...,x_m)$, donde $G$ es una función diferenciable de las $m$ variables $x_1, x_2, ... , x_m$. Si cada una de las $x_j = F_j(s,t)$ es una función diferenciable de $s$ y $t$, entonces $w$ es una función diferenciable de $s$ y $t$, y \n",
    "\n",
    "$$\n",
    "\\begin{bmatrix}\n",
    "\\frac{\\partial w}{\\partial s}\\\\\n",
    "\\frac{\\partial w}{\\partial t}\\\\\n",
    "\\end{bmatrix}\n",
    "= (\\mathbf{\\nabla}G)^\\mathrm{t} (\\mathbf{F}(s,t)) \\; \\mathrm{J}\\mathbf{F}(s,t) = \n",
    "\\begin{bmatrix}\n",
    "\\frac{\\partial w}{\\partial x_1}\\frac{\\partial x_1}{\\partial s} + \\frac{\\partial w}{\\partial x_2}\\frac{\\partial x_2}{\\partial s} + \\ldots + \\frac{\\partial w}{\\partial x_m}\\frac{\\partial x_m}{\\partial s}\\\\\n",
    "\\frac{\\partial w}{\\partial x_1}\\frac{\\partial x_1}{\\partial t} + \\frac{\\partial w}{\\partial x_2}\\frac{\\partial x_2}{\\partial t} + \\ldots + \\frac{\\partial w}{\\partial x_m}\\frac{\\partial x_m}{\\partial t}\n",
    "\\end{bmatrix}\n",
    "$$\n",
    "````"
   ]
  },
  {
   "attachments": {},
   "cell_type": "markdown",
   "metadata": {},
   "source": [
    "## Ejemplo una variable\n",
    "\n",
    "Consideramos la composición de funciones:\n",
    "\n",
    "$$\n",
    "\\begin{array}{ccccc}\n",
    "\\mathbb{R} & \\stackrel{\\mathbf{F}}{\\longrightarrow} & \\mathbb{R}^{2} & \\stackrel{G}{\\longrightarrow} & \\mathbb{R} \\\\\n",
    "t &\\to & \\mathbf{F}(t) = \\begin{bmatrix} x=\\sin(t) \\\\ y=e^{t} \\end{bmatrix} & \\to & G(x,y) = x^2y-y^2 \n",
    "\\end{array}\n",
    "$$\n",
    "\n",
    "Vamos a calcular el jacobiano de esta composición. Recordemos que\n",
    "\n",
    "$$\n",
    "\\mathrm{J}\\left( G\\circ\\mathbf{F}\\right)(t) = \\mathrm{J}G(\\mathbf{F}(t)) \\; \\mathrm{J}\\mathbf{F}(t).\n",
    "$$\n",
    "\n",
    "Vamos a calcular cada uno de los factores de este producto:\n",
    "\n",
    "$$\n",
    "\\mathrm{J}\\mathbf{F}(t) = \\begin{bmatrix} \\frac{\\partial x}{\\partial t} (t) \\\\ \\\\ \\frac{\\partial y}{\\partial t} (t) \\end{bmatrix}\n",
    "= \\begin{bmatrix} \\cos(t) \\\\ \\\\ e^t \\end{bmatrix}. \n",
    "$$\n",
    "\n",
    "El segundo factor es:\n",
    "\n",
    "$$\n",
    "\\mathrm{J}G(x,y) = \\begin{bmatrix} \\dfrac{\\partial G}{\\partial x} (x,y) & \\dfrac{\\partial G}{\\partial y} (x,y) \\end{bmatrix} = \n",
    "\\begin{bmatrix} 2xy & x^2-2y\\end{bmatrix},\n",
    "$$\n",
    "entonces:\n",
    "\n",
    "$$\n",
    "\\mathrm{J}G (\\mathbf{F}(t)) = \\mathrm{J}G \\left( \\sin(t), e^{t} \\right) = \\begin{bmatrix} 2\\sin(t) e^{t} & \\sin^2(t)-2e^{t}\\end{bmatrix}.\n",
    "$$\n",
    "Y, por lo tanto,\n",
    "\n",
    "$$\n",
    "\\mathrm{J}\\left( G\\circ\\mathbf{F}\\right)(t) = \\begin{bmatrix} 2\\sin(t) e^{t} & \\sin^2(t)-2e^{t}\\end{bmatrix} \\begin{bmatrix} \\cos(t) \\\\ \\\\ e^t \\end{bmatrix} \n",
    "= 2e^{t}\\sin(t)\\cos(t) + e^{t}\\sin^{2}(t)-2e^{2t}.\n",
    "$$\n",
    "\n",
    "Ya estaría, pero vamos a hacerlo por otro camino: vamos a construir explícitamente la función composición y a derivarla:\n",
    "\n",
    "$$\n",
    "t \\stackrel{\\mathbf{F}}\\longrightarrow \\left(\\sin(t),e^{t}\\right) \\stackrel{G}{\\longrightarrow} e^{t}\\sin^{2}(t)-e^{2t},\n",
    "$$\n",
    "y, derivando directamente,\n",
    "\n",
    "$$\n",
    "\\mathrm{J}\\left( G\\circ\\mathbf{F}\\right)(t) = \\frac{d}{dt}\\left(e^{t}\\sin^{2}(t)-e^{2t}\\right) = e^{t}\\sin^{2}(t) + 2 e^{t}\\sin(t)\\cos(t) - 2e^{2t}.\n",
    "$$\n",
    "\n",
    "¡¡Da lo mismo de las dos maneras!! I can't believe it!!"
   ]
  },
  {
   "attachments": {},
   "cell_type": "markdown",
   "metadata": {},
   "source": [
    "## Ejemplo de dos variables\n",
    "\n",
    "Consideramos la composición de funciones:\n",
    "\n",
    "$$\n",
    "\\begin{array}{ccccc}\n",
    "\\mathbb{R}^{2} & \\stackrel{\\mathbf{F}}{\\longrightarrow} & \\mathbb{R}^{2} & \\stackrel{G}{\\longrightarrow} & \\mathbb{R} \\\\\n",
    "\\begin{bmatrix} r \\\\ \\theta \\end{bmatrix} &\\to & \\mathbf{F}(r,\\theta) = \\begin{bmatrix} x=r\\cos(\\theta) \\\\ y=r\\sin(\\theta) \\end{bmatrix} & \\to & G(x,y) = x^2 + y^2 \n",
    "\\end{array}\n",
    "$$\n",
    "\n",
    "Vamos a calcular el jacobiano de esta composición. Recordemos que\n",
    "\n",
    "$$\n",
    "\\mathrm{J}\\left( G\\circ\\mathbf{F}\\right)(r,\\theta) = \\mathrm{J}G(\\mathbf{F}(r,\\theta)) \\; \\mathrm{J}\\mathbf{F}(r,\\theta).\n",
    "$$\n",
    "\n",
    "Vamos a calcular cada uno de los factores de este producto:\n",
    "\n",
    "$$\n",
    "\\mathrm{J}\\mathbf{F}(r,\\theta) = \n",
    "\\begin{bmatrix} \\dfrac{\\partial x}{\\partial r} & \\dfrac{\\partial x}{\\partial \\theta} \\\\ \\\\ \\dfrac{\\partial y}{\\partial r} & \\dfrac{\\partial y}{\\partial \\theta} \\end{bmatrix}\n",
    "= \\begin{bmatrix} \\cos(\\theta) & -r\\sin(\\theta) \\\\ \\\\ \\sin(\\theta) & r\\cos(\\theta) \\end{bmatrix}.\n",
    "$$\n",
    "\n",
    "El segundo factor es:\n",
    "\n",
    "$$\n",
    "\\mathrm{J}G(x,y) = \\begin{bmatrix} \\dfrac{\\partial G}{\\partial x} &  \\dfrac{\\partial G}{\\partial y} \\end{bmatrix} = \\begin{bmatrix} 2x & 2y \\end{bmatrix}.\n",
    "$$\n",
    "\n",
    "Entonces:\n",
    "\n",
    "$$\n",
    "\\mathrm{J}G (\\mathbf{F}(t)) = \\mathrm{J}G \\left( r\\cos(t), r\\sin(\\theta) \\right) = \\begin{bmatrix} 2r\\cos(\\theta) & 2r\\sin(\\theta) \\end{bmatrix}.\n",
    "$$\n",
    "Y, por lo tanto,\n",
    "\n",
    "\\begin{eqnarray*}\n",
    "\\mathrm{J}\\left( G\\circ\\mathbf{F}\\right)(t) &=& \\begin{bmatrix} 2r\\cos(\\theta) & 2r\\sin(\\theta) \\end{bmatrix} \n",
    "\\begin{bmatrix} \\cos(\\theta) & -r\\sin(\\theta) \\\\ \\\\ \\sin(\\theta) & r\\cos(\\theta) \\end{bmatrix} \\\\\n",
    "\\\\\n",
    "&=& \\begin{bmatrix} 2r\\cos^{2}(\\theta) + 2r\\sin^2(\\theta) & -2r^2\\sin(\\theta)\\cos(\\theta) + 2r^2\\sin(\\theta)\\cos(\\theta) \\end{bmatrix}\n",
    "= \\begin{bmatrix} 2r & 0 \\end{bmatrix}.\n",
    "\\end{eqnarray*}\n",
    "\n",
    "Como en el ejemplo anterior, vamos a construir explícitamente la función composición y a calcular su jacobiano:\n",
    "\n",
    "$$\n",
    "(r,\\theta) \\stackrel{\\mathbf{F}}\\longrightarrow \\left(r\\cos(\\theta), r\\sin(t)\\right) \\stackrel{G}{\\longrightarrow} r^{2}\\cos^{2}(\\theta) + r^{2}\\sin^{2}(\\theta),\n",
    "$$\n",
    "y, derivando directamente,\n",
    "\n",
    "$$\n",
    "\\mathrm{J}\\left( G\\circ\\mathbf{F}\\right)(r,\\theta) = \\begin{bmatrix} \\dfrac{(G\\circ\\mathbf{F})}{\\partial r} (r,\\theta) & \\dfrac{(G\\circ\\mathbf{F})}{\\partial \\theta} (r,\\theta) \\end{bmatrix}\n",
    "= \\begin{bmatrix} 2r & 0\\end{bmatrix}.\n",
    "$$\n",
    "\n",
    "Again... ¡¡Da lo mismo!! ¡¡GUAU, GUAU, GUAUUUU!!"
   ]
  },
  {
   "attachments": {},
   "cell_type": "markdown",
   "metadata": {},
   "source": [
    "## Jacobiano de la composición de funciones con `sympy`\n",
    "\n",
    "Retomamos este último ejemplo para resolverlo ayudados por `sympy`. A ver si vuelve a dar lo mismo... aunque ya sería mucha suerte, ¿no? "
   ]
  },
  {
   "cell_type": "code",
   "execution_count": 5,
   "metadata": {},
   "outputs": [
    {
     "data": {
      "text/latex": [
       "$\\displaystyle \\left[\\begin{matrix}\\cos{\\left(t \\right)} & - r \\sin{\\left(t \\right)}\\\\\\sin{\\left(t \\right)} & r \\cos{\\left(t \\right)}\\end{matrix}\\right]$"
      ],
      "text/plain": [
       "Matrix([\n",
       "[cos(t), -r*sin(t)],\n",
       "[sin(t),  r*cos(t)]])"
      ]
     },
     "metadata": {},
     "output_type": "display_data"
    },
    {
     "data": {
      "text/latex": [
       "$\\displaystyle \\left[\\begin{matrix}2 x & 2 y\\end{matrix}\\right]$"
      ],
      "text/plain": [
       "Matrix([[2*x, 2*y]])"
      ]
     },
     "metadata": {},
     "output_type": "display_data"
    },
    {
     "data": {
      "text/latex": [
       "$\\displaystyle \\left[\\begin{matrix}2 r & 0\\end{matrix}\\right]$"
      ],
      "text/plain": [
       "Matrix([[2*r, 0]])"
      ]
     },
     "metadata": {},
     "output_type": "display_data"
    }
   ],
   "source": [
    "import sympy as sp\n",
    "\n",
    "x, y, r, t = sp.symbols('x y r t', real=True) \n",
    "\n",
    "# Definimos las funciones F y G como matrices\n",
    "F = sp.Matrix([r*sp.cos(t), r*sp.sin(t)])\n",
    "G = sp.Matrix([ x**2 + y**2 ])\n",
    "\n",
    "# Calculamos (y mostramos) las matrices jacobianas asociadas a F y G\n",
    "jac_F = F.jacobian([r,t])\n",
    "display(jac_F)\n",
    "\n",
    "jac_G = G.jacobian([x,y])\n",
    "display(jac_G)\n",
    "\n",
    "# Calculamos la jacobiana de la composición como producto de matrices\n",
    "jac_GoF = jac_G.subs({x:r*sp.cos(t),y:r*sp.sin(t)})*jac_F\n",
    "display(sp.simplify(jac_GoF))"
   ]
  },
  {
   "attachments": {},
   "cell_type": "markdown",
   "metadata": {},
   "source": [
    "## Derivación implícita\n",
    "\n",
    "Como ya aprendimos al comienzo de la Sección {ref}`sec:3.4.PlanoTangente`, es posible que una función venga dada implícitamente. \n",
    "Por ejemplo, la función de una variable $y = f(x)$ puede venir determinada por la expresión $y^3 + y^2 - 5y - x^2 = -4$. \n",
    "Aunque no conozcamos su expresión explícita podemos fácilmente calcular las derivadas de las variables dependientes en función de las independientes. Os mostramos a continuación cómo hacerlo.\n",
    "\n",
    "* **Funciones con una única variable independiente**. Supongamos que existe una única variable independiente, $x$, y una variable dependiente, $y\\equiv y(x)$. En este caso, \n",
    "\n",
    "    $$\n",
    "    F(x,y) = 0 \\stackrel{\\frac{\\partial}{\\partial x}}{\\Longrightarrow} \n",
    "    \\frac{\\partial F}{\\partial x}(x,y)\\frac{\\partial x}{\\partial x} + \\frac{\\partial F}{\\partial y}(x,y)\\frac{\\partial y}{\\partial x}.\n",
    "    $$\n",
    "\n",
    "    Despejamos en la anterior expresión, teniendo en cuenta que $\\frac{\\partial x}{\\partial x}=1$, y obtenemos:\n",
    "\n",
    "    $$\n",
    "    \\frac{\\partial y}{\\partial x} = - \\frac{ \\frac{\\partial F}{\\partial x}(x,y)  } { \\frac{\\partial F}{\\partial y}(x,y) }.\n",
    "    $$\n",
    "\n",
    "* **Funciones con dos variables independientes**. Si ahora tenemos una relación implícita entre dos variables independientes, $x$ e $y$, y una variable que depende de las anteriores, $z \\equiv z(x,y)$, ,\n",
    "\n",
    "    \\begin{eqnarray*}\n",
    "    F(x,y,z) = 0 &\\stackrel{\\frac{\\partial}{\\partial x}}{\\Longrightarrow}&\n",
    "    \\frac{\\partial F}{\\partial x}(x,y,z)\\frac{\\partial x}{\\partial x} + \\cancel{ \\frac{\\partial F}{\\partial y}(x,y,z)\n",
    "    {\\color{red} \\frac{\\partial y}{\\partial x}} } \n",
    "    + \\frac{\\partial F}{\\partial z}(x,y,z)\\frac{\\partial z}{\\partial x} = 0 \\\\\n",
    "    & \\Rightarrow & \\frac{\\partial z}{\\partial x} = - \\frac{ \\frac{\\partial F}{\\partial x}(x,y,z)  } { \\frac{\\partial F}{\\partial z}(x,y,z) } \\\\\n",
    "    F(x,y,z) = 0 &\\stackrel{\\frac{\\partial}{\\partial y}}{\\Longrightarrow}&\n",
    "    \\cancel{ \\frac{\\partial F}{\\partial y}(x,y,z){\\color{red} \\frac{\\partial x}{\\partial y}} } \n",
    "    + \\frac{\\partial F}{\\partial y}(x,y,z) \\frac{\\partial y}{\\partial y} \n",
    "    + \\frac{\\partial F}{\\partial z}(x,y,z)\\frac{\\partial z}{\\partial y} = 0\\\\\n",
    "    & \\Rightarrow & \\frac{\\partial z}{\\partial y} = - \\frac{ \\frac{\\partial F}{\\partial y}(x,y,z)  } { \\frac{\\partial F}{\\partial z}(x,y,z) }\n",
    "    \\end{eqnarray*}\n",
    "\n",
    "Veamos algún ejemplo.\n",
    "\n",
    "````{prf:example}  \n",
    ":label: 3.x._ex\n",
    ":nonumber: \n",
    "\n",
    "Calcula $\\dfrac{\\partial y}{\\partial x}$ a partir de la expresión $y^3 + y^2 - 5y - x^2 = -4$. \n",
    "\n",
    "**Solución:**\n",
    "\n",
    "Tomando $F$ tal que $F(x,y) = 0$, tenemos que\n",
    "\n",
    "$$\n",
    "F(x,y) = y^3 + y^2 - 5y - x^2 + 4.\n",
    "$$\n",
    "\n",
    "Entonces\n",
    "\n",
    "$$\n",
    "\\frac{\\partial F}{\\partial x}(x,y) = -2x \\quad \\textrm{ y } \\quad \\frac{\\partial F}{\\partial y}(x,y) = 3y^2 + 2y - 5.\n",
    "$$\n",
    "\n",
    "Entonces\n",
    "\n",
    "$$\n",
    "\\frac{\\partial y}{\\partial x} = -\\frac{F_x(x,y)}{F_y(x,y)} = - \\frac{(-2x)}{3y^2 + 2y - 5} = \\frac{2x}{3y^2 + 2y - 5}.\n",
    "$$\n",
    "````\n",
    "\n",
    "Vamos a preguntarle a nuestro oráculo, por si nos hemos equivocado."
   ]
  },
  {
   "cell_type": "code",
   "execution_count": 14,
   "metadata": {},
   "outputs": [
    {
     "data": {
      "text/latex": [
       "$\\displaystyle - x^{2} + y^{3} + y^{2} - 5 y + 4 = 0$"
      ],
      "text/plain": [
       "Eq(-x**2 + y**3 + y**2 - 5*y + 4, 0)"
      ]
     },
     "metadata": {},
     "output_type": "display_data"
    },
    {
     "name": "stdout",
     "output_type": "stream",
     "text": [
      "Derivada implícita con respecto a x: \n"
     ]
    },
    {
     "data": {
      "text/latex": [
       "$\\displaystyle \\frac{2 x}{3 y^{2} + 2 y - 5}$"
      ],
      "text/plain": [
       "2*x/(3*y**2 + 2*y - 5)"
      ]
     },
     "metadata": {},
     "output_type": "display_data"
    }
   ],
   "source": [
    "import sympy as sp\n",
    "x, y = sp.symbols('x y', real=True) \n",
    "\n",
    "F = y**3 + y**2 - 5*y - x**2 + 4 \n",
    "display(sp.Eq(F,0)) # Aqui está la ec. implícita F(x,y) = 0 \n",
    "\n",
    "# Cálculo de las derivadas de F respecto x e y\n",
    "F_x, F_y = sp.diff(F, x), sp.diff(F, y) \n",
    "\n",
    "# Utilizamos la fórmula\n",
    "y_x = - F_x/F_y\n",
    "\n",
    "print('Derivada implícita con respecto a x: ')\n",
    "display(y_x)"
   ]
  },
  {
   "attachments": {},
   "cell_type": "markdown",
   "metadata": {},
   "source": [
    "Ya por último vamos a resolver directamente con `sympy` un ejemplo con dos variables independientes (te queda como ejercicio comprobar que `sympy` no se equivoca).\n",
    "\n",
    "````{prf:example}  \n",
    ":label: 3.5.Ej2\n",
    ":nonumber: \n",
    "\n",
    "Calcular $\\frac{\\partial z}{\\partial x}$ y $\\frac{\\partial z}{\\partial y}$ a partir de la expresión  $\\cos(x^2 z)+\\sin(y^2 z) + z^2 = 0$.\n",
    "````"
   ]
  },
  {
   "cell_type": "code",
   "execution_count": 37,
   "metadata": {},
   "outputs": [
    {
     "data": {
      "text/latex": [
       "$\\displaystyle z^{2} + \\sin{\\left(y^{2} z \\right)} + \\cos{\\left(x^{2} z \\right)} = 0$"
      ],
      "text/plain": [
       "Eq(z**2 + sin(y**2*z) + cos(x**2*z), 0)"
      ]
     },
     "metadata": {},
     "output_type": "display_data"
    },
    {
     "name": "stdout",
     "output_type": "stream",
     "text": [
      "Derivada implícita con respecto a x: \n"
     ]
    },
    {
     "data": {
      "text/latex": [
       "$\\displaystyle \\frac{2 x z \\sin{\\left(x^{2} z \\right)}}{- x^{2} \\sin{\\left(x^{2} z \\right)} + y^{2} \\cos{\\left(y^{2} z \\right)} + 2 z}$"
      ],
      "text/plain": [
       "2*x*z*sin(x**2*z)/(-x**2*sin(x**2*z) + y**2*cos(y**2*z) + 2*z)"
      ]
     },
     "metadata": {},
     "output_type": "display_data"
    },
    {
     "name": "stdout",
     "output_type": "stream",
     "text": [
      "Derivada implícita con respecto a y: \n"
     ]
    },
    {
     "data": {
      "text/latex": [
       "$\\displaystyle - \\frac{2 y z \\cos{\\left(y^{2} z \\right)}}{- x^{2} \\sin{\\left(x^{2} z \\right)} + y^{2} \\cos{\\left(y^{2} z \\right)} + 2 z}$"
      ],
      "text/plain": [
       "-2*y*z*cos(y**2*z)/(-x**2*sin(x**2*z) + y**2*cos(y**2*z) + 2*z)"
      ]
     },
     "metadata": {},
     "output_type": "display_data"
    }
   ],
   "source": [
    "import sympy as sp\n",
    "x, y, z = sp.symbols('x y z', real=True) \n",
    "\n",
    "F = sp.cos(x**2 * z) + sp.sin(y**2 * z) + z**2 \n",
    "display(sp.Eq(F,0)) # Aqui está la ec. implícita F(x,y) = 0 \n",
    "\n",
    "# Cálculo de las derivadas de F respecto x, y, z\n",
    "F_x, F_y, F_z = sp.diff(F, x), sp.diff(F, y), sp.diff(F,z) \n",
    "\n",
    "# Utilizamos las fórmulas\n",
    "z_x = - F_x/F_z\n",
    "z_y = - F_y/F_z\n",
    "\n",
    "print('Derivada implícita con respecto a x: ')\n",
    "display(z_x)\n",
    "print('Derivada implícita con respecto a y: ')\n",
    "display(z_y)"
   ]
  }
 ],
 "metadata": {
  "kernelspec": {
   "display_name": "Python 3 (ipykernel)",
   "language": "python",
   "name": "python3"
  },
  "language_info": {
   "codemirror_mode": {
    "name": "ipython",
    "version": 3
   },
   "file_extension": ".py",
   "mimetype": "text/x-python",
   "name": "python",
   "nbconvert_exporter": "python",
   "pygments_lexer": "ipython3",
   "version": "3.11.2"
  },
  "vscode": {
   "interpreter": {
    "hash": "6bee1e8c92def9b58716ddd07d843225b81ed35493dd8048850a9a59c060c325"
   }
  }
 },
 "nbformat": 4,
 "nbformat_minor": 2
}
