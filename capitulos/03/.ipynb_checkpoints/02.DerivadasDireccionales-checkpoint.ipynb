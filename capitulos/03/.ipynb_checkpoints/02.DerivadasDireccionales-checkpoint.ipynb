{
 "cells": [
  {
   "cell_type": "markdown",
   "metadata": {},
   "source": [
    "# Derivadas direccionales y gradiente\n",
    "\n",
    "## Derivadas direccionales\n",
    "\n",
    "En la sección anterior hemos aprendido cómo, dado el gráfico de una función de dos variables,  calcular la inclinación haciendo cortes por planos paralelos a los ejes $X$ e $Y$. \n",
    "Ahora vamos a ampliar esta idea y veremos cómo calcular la inclinación en cualquier dirección. \n",
    "\n",
    "Es decir, veremos la inclinación que tenemos que afrontar si queremos bajar (o subir) por la ladera de una montaña, en cualquier dirección...\n",
    "\n",
    "<img src=\"../../images/3.2.Montaña.png\" width=\"300\"/>\n",
    "\n",
    "````{prf:definition} Derivada direccional\n",
    ":label: def_DerivDirec\n",
    ":nonumber: \n",
    "\n",
    "Sea $f:\\mathbb{R}^{2} \\to \\mathbb{R}$ y $\\left(x_{0}, y_{0}\\right)$ un punto en el dominio de $f$. \n",
    "Sea $\\mathbf{u}=\\left(u_{1},u_{2}\\right)$, un vector unitario ($\\|\\mathbf{u}\\|=1$). \n",
    "Definimos la **derivada direccional de $f$ en $\\left(x_{0}, y_{0}\\right)$ en la dirección de $\\mathbf{u}$**, \n",
    "$D_{\\mathbf{u}}f\\left(x_{0}, y_{0}\\right)$, como el límite, si existe,\n",
    "\n",
    "\\begin{eqnarray*}\n",
    " D_{\\mathbf{u}}f\\left(x_{0}, y_{0}\\right) &:=& \n",
    "    \\lim_{h\\to 0}\\frac{f\\left( (x_{0}, y_{0}) + h(v_{1},v_{2}) \\right)-f\\left(x_{0}, y_{0}\\right)}{h} \\\\\n",
    "    &=& \\lim_{h\\to 0}\\frac{f\\left(x_{0}+hv_{1}, y_{0}+hv_{2} \\right)-f\\left(x_{0}, y_{0}\\right)}{h}.\n",
    "\\end{eqnarray*}\n",
    "    \n",
    "<img src=\"../../images/3.2.Derivada_direccional.jpg\" width=\"400\"/>\n",
    "    \n",
    "````\n",
    "\n",
    "La imagen anterior la hemos obtenido de la aplicación de Geogebra, creada por Laura del Río, https://www.geogebra.org/m/ZTttemYc.\n",
    "\n",
    "Destaquemos que, si $f$ es una función que depende de tres variables, podemos definir de forma análoga la derivada direccional de $f$ en un punto de su dominio según la dirección marcada por cualquier vector unitario en $\\mathbb{R}^3$.\n",
    "\n"
   ]
  },
  {
   "cell_type": "markdown",
   "metadata": {},
   "source": [
    "## Vector gradiente\n",
    "\n",
    "````{prf:definition} Vector gradiente\n",
    ":label: def_gradiente\n",
    ":nonumber: \n",
    "\n",
    "Sea $f:\\mathbb{R}^{2} \\to \\mathbb{R}$ y $\\left(x_{0}, y_{0}\\right)$ un punto en el dominio de $f$. \n",
    " Definimos el **vector gradiente de $f$ en $\\left(x_{0}, y_{0}\\right)$** como el límite, si existe,\n",
    "\n",
    "$$\n",
    " \\mathbf{\\nabla}f \\left(x_{0}, y_{0}\\right) = \n",
    " \\left( \\frac{\\partial f}{\\partial x} \\left(x_{0}, y_{0}\\right), \\frac{\\partial f}{\\partial y} \\left(x_{0}, y_{0}\\right) \\right).\n",
    "$$\n",
    "        \n",
    "````"
   ]
  }
 ],
 "metadata": {
  "kernelspec": {
   "display_name": "Python 3 (ipykernel)",
   "language": "python",
   "name": "python3"
  },
  "language_info": {
   "codemirror_mode": {
    "name": "ipython",
    "version": 3
   },
   "file_extension": ".py",
   "mimetype": "text/x-python",
   "name": "python",
   "nbconvert_exporter": "python",
   "pygments_lexer": "ipython3",
   "version": "3.11.2"
  },
  "vscode": {
   "interpreter": {
    "hash": "6bee1e8c92def9b58716ddd07d843225b81ed35493dd8048850a9a59c060c325"
   }
  }
 },
 "nbformat": 4,
 "nbformat_minor": 2
}
