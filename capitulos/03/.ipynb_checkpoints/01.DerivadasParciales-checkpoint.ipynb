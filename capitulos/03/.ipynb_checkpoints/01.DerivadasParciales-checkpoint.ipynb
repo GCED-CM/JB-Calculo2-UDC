{
 "cells": [
  {
   "cell_type": "markdown",
   "metadata": {},
   "source": [
    "# Derivadas parciales\n",
    "\n",
    "## Derivadas parciales para una función de dos variables\n",
    "\n",
    "Antes de entrar en materia, te recomendamos que pongas al día tus conocimientos de derivadas para funciones de una variable. Puedes consultar:\n",
    "\n",
    "* https://luishervella.github.io/JB_Calculo1_UDC/capitulos/03/01.DerivacionDefProp.html\n",
    "* https://es.wikipedia.org/wiki/Derivada\n",
    "* ...\n",
    "\n",
    "Ahora, si nos enfrentamos a una función que dependa de dos variables independientes (normalmente denotadas como $x$ e $y$), podemos calcular su derivada respecto a cada una de estas variables, suponiendo que la otra queda *congelada*. \n",
    "Este proceso se denomina **diferenciación parcial**, y el resultado se conoce como **derivada parcial** de $f$ con respecto a la variable elegida ($x$ o $y$). \n",
    "\n",
    "¡Vamos a formalizar la definición!\n",
    "\n",
    "Por cierto, las gráficas que mostramos han sido obtenidas con la aplicación de Geogebra de Laura del Río que podéis ver aquí: https://www.geogebra.org/m/CH9CR9tb.\n",
    "\n",
    "````{prf:definition} Derivadas parciales para funciones de dos variables\n",
    ":label: def_DerivParc2D\n",
    ":nonumber: \n",
    "\n",
    "Sea $f:\\mathbb{R}^{2} \\to \\mathbb{R}$ y $\\left(x_{0}, y_{0}\\right)$ un punto en el dominio de $f$. Definimos las derivadas parciales de $f$ en $\\left(x_{0}, y_{0}\\right)$ como los límites, si existen,\n",
    "\n",
    "* $\\displaystyle\\frac{\\partial f}{\\partial x} \\left(x_{0}, y_{0}\\right) := \n",
    "    \\lim_{h\\to 0}\\frac{f\\left( (x_{0}, y_{0}) + h(1,0) \\right)-f\\left(x_{0}, y_{0}\\right)}{h}\n",
    "    = \\lim_{h\\to 0}\\frac{f\\left(x_{0}+h, y_{0} \\right)-f\\left(x_{0}, y_{0}\\right)}{h}$,\n",
    "    \n",
    "    <img src=\"../../images/3.1.Derivada_parcial_X.jpg\" width=\"600\"/>\n",
    "    \n",
    "* $\\displaystyle\\frac{\\partial f}{\\partial y} \\left(x_{0}, y_{0}\\right) := \n",
    "    \\lim_{h\\to 0}\\frac{f\\left( (x_{0}, y_{0}) + h(0,1) \\right)-f\\left(x_{0}, y_{0}\\right)}{h}\n",
    "    = \\lim_{h\\to 0}\\frac{f\\left(x_{0}, y_{0}+h \\right)-f\\left(x_{0}, y_{0}\\right)}{h}$.\n",
    "    \n",
    "    <img src=\"../../images/3.1.Derivada_parcial_Y.jpg\" width=\"600\"/>\n",
    "    \n",
    "````\n",
    "\n",
    "**Nota:** En la práctica, para funciones suficientemente regulares, si queremos calcular la derivada parcial respecto a $x$, consideramos $y$ como una constante y derivamos respecto a $x$ (respectivamente, si queremos calcular la derivada parcial respecto a $y$, consideramos $x$ constante y derivamos respecto a $y$), como mostramos en el siguiente ejemplo:\n",
    "\n",
    "* $ \\displaystyle f(x,y) = 5x^3y^2+4x^2y^3 \\to \\displaystyle\\frac{\\partial f}{\\partial x}(x,y) = 15x^2y^2+8xy^3$,\n",
    "\n",
    "* $ \\displaystyle f(x,y) = 5x^3y^2+4x^2y^3 \\to \\displaystyle\\frac{\\partial f}{\\partial y}(x,y) = 10x^3y+12x^2y^2$.\n",
    "\n",
    "**Interpretación geométrica:** Como se puede ver en las ilustraciones anteriores, \n",
    "\n",
    "* Si $y=y_{0}$, entonces $z = f\\left(x,y_{0}\\right)$ representa la curva formada por la intersección de la superficie \n",
    "    $z = f(x,y)$ con el plano $y=y_{0}$. Por lo tanto, la derivada parcial respecto a $x$ en el punto \n",
    "    $\\left(x_{0}, y_{0}\\right)$ será la pendiente de esta curva en dicho punto.\n",
    "    \n",
    "* Análogamente, la derivada parcial respecto a $y$ en el punto $\\left(x_{0}, y_{0}\\right)$ será la pendiente de la curva fruto de la intersección del plano $x = x_{0}$ con la superficie $z = f(x,y)$.\n",
    "\n",
    "````{prf:remark} Notación para derivadas parciales\n",
    ":label: rem_NotacionDerivParc\n",
    ":nonumber: \n",
    "\n",
    "Si $z = f(x,y)$, denotaremos, indistintamente, sus derivadas parciales mediante\n",
    "\n",
    "* $\\displaystyle  \\frac{\\partial f}{\\partial x}(x,y) = \\left.\\frac{\\partial f}{\\partial x}\\right|_{(x,y)} =  f_{x}(x,y) $,\n",
    "\n",
    "* $\\displaystyle  \\frac{\\partial f}{\\partial y}(x,y) = \\left.\\frac{\\partial f}{\\partial y}\\right|_{(x,y)} =  f_{y}(x,y) $.\n",
    "\n",
    "\n",
    "````\n"
   ]
  },
  {
   "cell_type": "markdown",
   "metadata": {},
   "source": [
    "## Derivadas parciales para funciones de dos variables con `Python`\n",
    "\n",
    "Veamos ahora cómo calcular derivadas parciales utilizando sympy. \n",
    "\n",
    "La función clave es `sp.diff`. que debe llevar como argumentos la expresión a derivar (o función Lambda, también vale) y, a continuación, la variable respecto a la que queremos hacerlo. \n",
    "\n",
    "Veamos un par de ejemplos:"
   ]
  },
  {
   "cell_type": "code",
   "execution_count": 31,
   "metadata": {},
   "outputs": [
    {
     "data": {
      "text/latex": [
       "$\\displaystyle 15 x^{2} y^{2} + 8 x y^{3}$"
      ],
      "text/plain": [
       "15*x**2*y**2 + 8*x*y**3"
      ]
     },
     "metadata": {},
     "output_type": "display_data"
    },
    {
     "data": {
      "text/latex": [
       "$\\displaystyle 10 x^{3} y + 12 x^{2} y^{2}$"
      ],
      "text/plain": [
       "10*x**3*y + 12*x**2*y**2"
      ]
     },
     "metadata": {},
     "output_type": "display_data"
    },
    {
     "name": "stdout",
     "output_type": "stream",
     "text": [
      "df_x(1,2):  64*z**4 + 160*z**2\n"
     ]
    },
    {
     "data": {
      "text/latex": [
       "$\\displaystyle \\left( \\left( x, \\  y\\right) \\mapsto 20 x^{3} y^{3} z^{2} + 8 x y^{3} z^{4} \\right)$"
      ],
      "text/plain": [
       "Lambda((x, y), 20*x**3*y**3*z**2 + 8*x*y**3*z**4)"
      ]
     },
     "metadata": {},
     "output_type": "display_data"
    }
   ],
   "source": [
    "import sympy as sp\n",
    "x, y = sp.symbols('x y', real=True) # define las variables simbólicas x, y\n",
    "\n",
    "f_expr = 5* x**3 * y**2 + 4* x**2 * y**3\n",
    "\n",
    "df_x_expr = sp.diff(f_expr,x)   # Derivada parcial respecto a x\n",
    "df_y_expr = sp.diff(f_expr,y)   # Derivada parcial respecto a y\n",
    "\n",
    "df_x = sp.Lambda((x,y),df_x_expr)  # Creamos una función Lambda para la derivada respecto x\n",
    "\n",
    "display(df_x_expr) \n",
    "display(df_y_expr)\n",
    "\n",
    "print(\"df_x(1,2): \",df_x(1,2))  # Usamos la función Lambda para evaluar la derivada en un punto\n",
    "display(df_x)"
   ]
  },
  {
   "cell_type": "markdown",
   "metadata": {},
   "source": [
    "## Derivadas parciales para una función de tres o más variables\n",
    "\n",
    "El concepto de derivación parcial que hemos definido para una función de dos variables, se puede extender de forma directa a funciones con tres o más variables, como veremos a continuación.\n",
    "\n",
    "````{prf:definition} Derivadas parciales para funciones de tres variables\n",
    ":label: def_DerivParc3D\n",
    ":nonumber: \n",
    "\n",
    "Sea $f:\\mathbb{R}^{3} \\to \\mathbb{R}$ y $\\left(x_{0}, y_{0}, z_{0}\\right)$ un punto en el dominio de $f$. Definimos las derivadas parciales de $f$ en $\\left(x_{0}, y_{0}, z_{0}\\right)$ como los límites, si existen,\n",
    "\n",
    "* $\\displaystyle\\frac{\\partial f}{\\partial x} \\left(x_{0}, y_{0}, z_{0}\\right) := \n",
    "    \\lim_{h\\to 0}\\frac{f\\left( (x_{0}, y_{0}, z_{0}) + h(1,0,0) \\right)-f\\left(x_{0}, y_{0}, z_{0}\\right)}{h}$,\n",
    "        \n",
    "* $\\displaystyle\\frac{\\partial f}{\\partial y} \\left(x_{0}, y_{0}, z_{0}\\right) := \n",
    "    \\lim_{h\\to 0}\\frac{f\\left( (x_{0}, y_{0}, z_{0}) + h(0,1,0) \\right)-f\\left(x_{0}, y_{0}, z_{0}\\right)}{h}$,\n",
    "    \n",
    "* $\\displaystyle\\frac{\\partial f}{\\partial y} \\left(x_{0}, y_{0}, z_{0}\\right) := \n",
    "    \\lim_{h\\to 0}\\frac{f\\left( (x_{0}, y_{0}, z_{0}) + h(0,0,1) \\right)-f\\left(x_{0}, y_{0}, z_{0}\\right)}{h}$.\n",
    "        \n",
    "````\n",
    "\n",
    "**Nota:** Al igual que para funciones de dos variables, para calcular la derivada parcial respecto a una de las variables, consideramos las otras como constantes y derivamos la función respecto a la variable de que se trate como si fuera una función de una única variable. Por ejemplo:\n",
    "\n",
    "* $ \\displaystyle f(x,y,z) = 5 x^4 y^3 z^2 + 4 x^2 y^3 z^4 \\to \\displaystyle\\frac{\\partial f}{\\partial x}(x,y,z) = 20 x^3 y^3 z^2 + 8 x y^3 z^4$,\n",
    "\n",
    "* $ \\displaystyle f(x,y,z) =  5 x^4 y^3 z^2 + 4 x^2 y^3 z^4 \\to \\displaystyle\\frac{\\partial f}{\\partial y}(x,y,z) = 15 x^4 y^2 z^2 + 12 x^2 y^2 z^4$,\n",
    "\n",
    "* $ \\displaystyle f(x,y,z) =  5 x^4 y^3 z^2 + 4 x^2 y^3 z^4 \\to \\displaystyle\\frac{\\partial f}{\\partial y}(x,y,z) = 10 x^4 y^3 z + 16 x^2 y^3 z^3$.\n",
    "\n",
    "Por supuesto, el cálculo de derivadas parciales para funciones con tres variables utilizando `Sympy` es totalmente análogo a lo ya visto para funciones de dos variables, como mostramos a continuación.\n"
   ]
  },
  {
   "cell_type": "code",
   "execution_count": 33,
   "metadata": {},
   "outputs": [
    {
     "data": {
      "text/latex": [
       "$\\displaystyle 12 x^{3} y^{3} z^{2} + 8 x y^{3} z^{4}$"
      ],
      "text/plain": [
       "12*x**3*y**3*z**2 + 8*x*y**3*z**4"
      ]
     },
     "metadata": {},
     "output_type": "display_data"
    },
    {
     "data": {
      "text/latex": [
       "$\\displaystyle 9 x^{4} y^{2} z^{2} + 12 x^{2} y^{2} z^{4}$"
      ],
      "text/plain": [
       "9*x**4*y**2*z**2 + 12*x**2*y**2*z**4"
      ]
     },
     "metadata": {},
     "output_type": "display_data"
    },
    {
     "data": {
      "text/latex": [
       "$\\displaystyle 6 x^{4} y^{3} z + 16 x^{2} y^{3} z^{3}$"
      ],
      "text/plain": [
       "6*x**4*y**3*z + 16*x**2*y**3*z**3"
      ]
     },
     "metadata": {},
     "output_type": "display_data"
    },
    {
     "name": "stdout",
     "output_type": "stream",
     "text": [
      "df_x(1,2,3):  6048\n"
     ]
    },
    {
     "data": {
      "text/latex": [
       "$\\displaystyle \\left( \\left( x, \\  y, \\  z\\right) \\mapsto 12 x^{3} y^{3} z^{2} + 8 x y^{3} z^{4} \\right)$"
      ],
      "text/plain": [
       "Lambda((x, y, z), 12*x**3*y**3*z**2 + 8*x*y**3*z**4)"
      ]
     },
     "metadata": {},
     "output_type": "display_data"
    }
   ],
   "source": [
    "import sympy as sp\n",
    "x, y, z = sp.symbols('x y z', real=True) # define las variables simbólicas x, y, z\n",
    "\n",
    "f_expr = 5* x**4 * y**3 * z**2 + 4* x**2 * y**3 * z**4\n",
    "\n",
    "df_x_expr = sp.diff(f_expr,x)   # Derivada parcial respecto a x\n",
    "df_y_expr = sp.diff(f_expr,y)   # Derivada parcial respecto a y\n",
    "df_z_expr = sp.diff(f_expr,z)   # Derivada parcial respecto a z\n",
    "\n",
    "\n",
    "df_x = sp.Lambda((x,y,z),df_x_expr)  # Creamos una función Lambda para la derivada respecto x\n",
    "\n",
    "display(df_x_expr) \n",
    "display(df_y_expr)\n",
    "display(df_z_expr)\n",
    "\n",
    "print(\"df_x(1,2,3): \",df_x(1,2,3))  # Usamos la función Lambda para evaluar la derivada en un punto\n",
    "display(df_x)"
   ]
  },
  {
   "cell_type": "markdown",
   "metadata": {},
   "source": [
    "## Derivadas parciales de orden superior\n",
    "\n",
    "Al igual que hacíamos para funciones de una variable, introduciendo derivadas segundas, terceras, *etc.*, en funciones de varias variables podemos introducir las derivadas parciales de las funciones derivadas parciales, para obtener de este modo las derivadas parciales segundas, terceras, ...\n",
    "\n",
    "Por ejemplo, para una función $z=f(x,y)$, dependiente de dos variables, podemos definir:\n",
    "\n",
    "1. Derivada parcial de orden 2, respecto a $x$ dos veces:\n",
    "\n",
    "    $$\n",
    "    \\frac{\\partial}{\\partial x}\\left(\\frac{\\partial f}{\\partial x}\\right) = \\frac{\\partial^{2}f}{\\partial x^2}=f_{xx}.\n",
    "    $$\n",
    "    \n",
    "2. Derivada parcial de orden 2, primero respecto a $x$ y luego respecto a $y$:\n",
    "\n",
    "    $$\n",
    "    \\frac{\\partial}{\\partial y}\\left(\\frac{\\partial f}{\\partial x}\\right) = \\frac{\\partial^{2}f}{\\partial y \\partial x}=f_{xy}.\n",
    "    $$\n",
    "    \n",
    "3. Derivada parcial de orden 2, primero respecto a $y$ y luego respecto a $x$:\n",
    "\n",
    "    $$\n",
    "    \\frac{\\partial}{\\partial x}\\left(\\frac{\\partial f}{\\partial y}\\right) = \\frac{\\partial^{2}f}{\\partial x \\partial y}=f_{yx}.\n",
    "    $$\n",
    "    \n",
    "4. Derivada parcial de orden 2, respecto a $y$ dos veces:\n",
    "\n",
    "    $$\n",
    "    \\frac{\\partial}{\\partial y}\\left(\\frac{\\partial f}{\\partial y}\\right) = \\frac{\\partial^{2}f}{\\partial y^2}=f_{yy}.\n",
    "    $$\n",
    " \n",
    "El segundo y tercer caso se denominan **derivadas parciales mixtas**. Tienen una propiedad importante:\n",
    "\n",
    "````{prf:property} Igualdad de las derivadas parciales mixtas\n",
    ":label: prop_DerivMixtas\n",
    ":nonumber: \n",
    "\n",
    "Si $f$ es una función de dos variables tal que $\\frac{\\partial^{2}f}{\\partial y \\partial x}$ y \n",
    "$\\frac{\\partial^{2}f}{\\partial x \\partial y}$ son funciones continuas en un disco abierto $D$, entonces, para cualquier punto $(x,y)\\in D$, \n",
    "\n",
    "$$\n",
    "\\frac{\\partial^{2}f}{\\partial y \\partial x}(x,y) = \\frac{\\partial^{2}f}{\\partial x \\partial y} (x,y).\n",
    "$$\n",
    "\n",
    "````\n",
    "\n",
    "En cuanto al cálculo en `Sympy` de las derivadas parciales de orden superior:"
   ]
  },
  {
   "cell_type": "code",
   "execution_count": 30,
   "metadata": {},
   "outputs": [
    {
     "data": {
      "text/latex": [
       "$\\displaystyle 2 y^{2} \\cdot \\left(15 x + 4 y\\right)$"
      ],
      "text/plain": [
       "2*y**2*(15*x + 4*y)"
      ]
     },
     "metadata": {},
     "output_type": "display_data"
    },
    {
     "data": {
      "text/latex": [
       "$\\displaystyle 6 x y \\left(5 x + 4 y\\right)$"
      ],
      "text/plain": [
       "6*x*y*(5*x + 4*y)"
      ]
     },
     "metadata": {},
     "output_type": "display_data"
    },
    {
     "data": {
      "text/latex": [
       "$\\displaystyle 6 x y \\left(5 x + 4 y\\right)$"
      ],
      "text/plain": [
       "6*x*y*(5*x + 4*y)"
      ]
     },
     "metadata": {},
     "output_type": "display_data"
    },
    {
     "data": {
      "text/latex": [
       "$\\displaystyle 2 x^{2} \\cdot \\left(5 x + 12 y\\right)$"
      ],
      "text/plain": [
       "2*x**2*(5*x + 12*y)"
      ]
     },
     "metadata": {},
     "output_type": "display_data"
    }
   ],
   "source": [
    "import sympy as sp\n",
    "x, y = sp.symbols('x y', real=True) # define las variables simbólicas x, y\n",
    "\n",
    "f_expr = 5* x**3 * y**2 + 4* x**2 * y**3\n",
    "\n",
    "df_xx_expr = sp.diff(f_expr,x,x)   # Derivada parcial respecto a x dos veces. También se puede escribir sp.diff(f_expr,x,2)\n",
    "df_yx_expr = sp.diff(f_expr,x,y)   # Derivada parcial primero respecto x, luego respecto y\n",
    "df_xy_expr = sp.diff(f_expr,y,x)   # Derivada parcial primero respecto y, luego respecto x\n",
    "df_yy_expr = sp.diff(f_expr,y,y)   # Derivada parcial respecto a x dos veces\n",
    "\n",
    "display(df_xx_expr) \n",
    "display(df_yx_expr)\n",
    "display(df_xy_expr)\n",
    "display(df_yy_expr)"
   ]
  }
 ],
 "metadata": {
  "kernelspec": {
   "display_name": "Python 3 (ipykernel)",
   "language": "python",
   "name": "python3"
  },
  "language_info": {
   "codemirror_mode": {
    "name": "ipython",
    "version": 3
   },
   "file_extension": ".py",
   "mimetype": "text/x-python",
   "name": "python",
   "nbconvert_exporter": "python",
   "pygments_lexer": "ipython3",
   "version": "3.11.2"
  },
  "vscode": {
   "interpreter": {
    "hash": "6bee1e8c92def9b58716ddd07d843225b81ed35493dd8048850a9a59c060c325"
   }
  }
 },
 "nbformat": 4,
 "nbformat_minor": 2
}
