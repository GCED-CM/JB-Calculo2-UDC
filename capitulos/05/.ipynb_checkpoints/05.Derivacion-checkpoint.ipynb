{
 "cells": [
  {
   "cell_type": "markdown",
   "metadata": {},
   "source": [
    "# Derivación con Python\n",
    "\n",
    "Esta sección pretende ser un compendio (esperemos que claro y ordenado) de todo el `Python` \n",
    "que hemos ido usando en las cinco primeras secciones del Capítulo 3. \n",
    "\n",
    "**Objetivos:**\n",
    "\n",
    "- Cálculo de las derivadas parciales y direccionales.\n",
    "- Cálculo del vector gradiente.\n",
    "- Cálculo del plano tangente y de la recta normal.\n",
    "- Regla de la cadena."
   ]
  },
  {
   "cell_type": "markdown",
   "metadata": {},
   "source": [
    "## Derivadas parciales para funciones de dos variables con `Python`\n",
    "\n",
    "Veamos ahora cómo calcular derivadas parciales utilizando sympy. \n",
    "\n",
    "La función clave es `sp.diff`. que debe llevar como argumentos la expresión a derivar (o función Lambda, también vale) y, a continuación, la variable respecto a la que queremos hacerlo. \n",
    "\n",
    "Veamos un par de ejemplos:"
   ]
  },
  {
   "cell_type": "code",
   "execution_count": 1,
   "metadata": {},
   "outputs": [
    {
     "data": {
      "text/latex": [
       "$\\displaystyle 15 x^{2} y^{2} + 8 x y^{3}$"
      ],
      "text/plain": [
       "15*x**2*y**2 + 8*x*y**3"
      ]
     },
     "metadata": {},
     "output_type": "display_data"
    },
    {
     "data": {
      "text/latex": [
       "$\\displaystyle 10 x^{3} y + 12 x^{2} y^{2}$"
      ],
      "text/plain": [
       "10*x**3*y + 12*x**2*y**2"
      ]
     },
     "metadata": {},
     "output_type": "display_data"
    },
    {
     "name": "stdout",
     "output_type": "stream",
     "text": [
      "df_x(1,2):  124\n"
     ]
    },
    {
     "data": {
      "text/latex": [
       "$\\displaystyle \\left( \\left( x, \\  y\\right) \\mapsto 15 x^{2} y^{2} + 8 x y^{3} \\right)$"
      ],
      "text/plain": [
       "Lambda((x, y), 15*x**2*y**2 + 8*x*y**3)"
      ]
     },
     "metadata": {},
     "output_type": "display_data"
    }
   ],
   "source": [
    "import sympy as sp\n",
    "x, y = sp.symbols('x y', real=True) # define las variables simbólicas x, y\n",
    "\n",
    "f_expr = 5* x**3 * y**2 + 4* x**2 * y**3\n",
    "\n",
    "df_x_expr = sp.diff(f_expr,x)   # Derivada parcial respecto a x\n",
    "df_y_expr = sp.diff(f_expr,y)   # Derivada parcial respecto a y\n",
    "\n",
    "df_x = sp.Lambda((x,y),df_x_expr)  # Creamos una función Lambda para la derivada respecto x\n",
    "\n",
    "display(df_x_expr) \n",
    "display(df_y_expr)\n",
    "\n",
    "print(\"df_x(1,2): \",df_x(1,2))  # Usamos la función Lambda para evaluar la derivada en un punto\n",
    "display(df_x)"
   ]
  },
  {
   "cell_type": "markdown",
   "metadata": {},
   "source": [
    "## Derivadas parciales para funciones de tres o más variables"
   ]
  },
  {
   "cell_type": "code",
   "execution_count": 2,
   "metadata": {},
   "outputs": [
    {
     "data": {
      "text/latex": [
       "$\\displaystyle 20 x^{3} y^{3} z^{2} + 8 x y^{3} z^{4}$"
      ],
      "text/plain": [
       "20*x**3*y**3*z**2 + 8*x*y**3*z**4"
      ]
     },
     "metadata": {},
     "output_type": "display_data"
    },
    {
     "data": {
      "text/latex": [
       "$\\displaystyle 15 x^{4} y^{2} z^{2} + 12 x^{2} y^{2} z^{4}$"
      ],
      "text/plain": [
       "15*x**4*y**2*z**2 + 12*x**2*y**2*z**4"
      ]
     },
     "metadata": {},
     "output_type": "display_data"
    },
    {
     "data": {
      "text/latex": [
       "$\\displaystyle 10 x^{4} y^{3} z + 16 x^{2} y^{3} z^{3}$"
      ],
      "text/plain": [
       "10*x**4*y**3*z + 16*x**2*y**3*z**3"
      ]
     },
     "metadata": {},
     "output_type": "display_data"
    },
    {
     "name": "stdout",
     "output_type": "stream",
     "text": [
      "df_x(1,2,3):  6624\n"
     ]
    },
    {
     "data": {
      "text/latex": [
       "$\\displaystyle \\left( \\left( x, \\  y, \\  z\\right) \\mapsto 20 x^{3} y^{3} z^{2} + 8 x y^{3} z^{4} \\right)$"
      ],
      "text/plain": [
       "Lambda((x, y, z), 20*x**3*y**3*z**2 + 8*x*y**3*z**4)"
      ]
     },
     "metadata": {},
     "output_type": "display_data"
    }
   ],
   "source": [
    "import sympy as sp\n",
    "x, y, z = sp.symbols('x y z', real=True) # define las variables simbólicas x, y, z\n",
    "\n",
    "f_expr = 5* x**4 * y**3 * z**2 + 4* x**2 * y**3 * z**4\n",
    "\n",
    "df_x_expr = sp.diff(f_expr,x)   # Derivada parcial respecto a x\n",
    "df_y_expr = sp.diff(f_expr,y)   # Derivada parcial respecto a y\n",
    "df_z_expr = sp.diff(f_expr,z)   # Derivada parcial respecto a z\n",
    "\n",
    "\n",
    "df_x = sp.Lambda((x,y,z),df_x_expr)  # Creamos una función Lambda para la derivada respecto x\n",
    "\n",
    "display(df_x_expr) \n",
    "display(df_y_expr)\n",
    "display(df_z_expr)\n",
    "\n",
    "print(\"df_x(1,2,3): \",df_x(1,2,3))  # Usamos la función Lambda para evaluar la derivada en un punto\n",
    "display(df_x)"
   ]
  },
  {
   "cell_type": "markdown",
   "metadata": {},
   "source": [
    "## Derivadas parciales de orden superior"
   ]
  },
  {
   "cell_type": "code",
   "execution_count": 3,
   "metadata": {},
   "outputs": [
    {
     "data": {
      "text/latex": [
       "$\\displaystyle 2 y^{2} \\cdot \\left(15 x + 4 y\\right)$"
      ],
      "text/plain": [
       "2*y**2*(15*x + 4*y)"
      ]
     },
     "metadata": {},
     "output_type": "display_data"
    },
    {
     "data": {
      "text/latex": [
       "$\\displaystyle 6 x y \\left(5 x + 4 y\\right)$"
      ],
      "text/plain": [
       "6*x*y*(5*x + 4*y)"
      ]
     },
     "metadata": {},
     "output_type": "display_data"
    },
    {
     "data": {
      "text/latex": [
       "$\\displaystyle 6 x y \\left(5 x + 4 y\\right)$"
      ],
      "text/plain": [
       "6*x*y*(5*x + 4*y)"
      ]
     },
     "metadata": {},
     "output_type": "display_data"
    },
    {
     "data": {
      "text/latex": [
       "$\\displaystyle 2 x^{2} \\cdot \\left(5 x + 12 y\\right)$"
      ],
      "text/plain": [
       "2*x**2*(5*x + 12*y)"
      ]
     },
     "metadata": {},
     "output_type": "display_data"
    }
   ],
   "source": [
    "import sympy as sp\n",
    "x, y = sp.symbols('x y', real=True) # define las variables simbólicas x, y\n",
    "\n",
    "f_expr = 5* x**3 * y**2 + 4* x**2 * y**3\n",
    "\n",
    "df_xx_expr = sp.diff(f_expr,x,x)   # Derivada parcial respecto a x dos veces. También se puede escribir sp.diff(f_expr,x,2)\n",
    "df_yx_expr = sp.diff(f_expr,x,y)   # Derivada parcial primero respecto x, luego respecto y\n",
    "df_xy_expr = sp.diff(f_expr,y,x)   # Derivada parcial primero respecto y, luego respecto x\n",
    "df_yy_expr = sp.diff(f_expr,y,y)   # Derivada parcial respecto a x dos veces\n",
    "\n",
    "display(df_xx_expr) \n",
    "display(df_yx_expr)\n",
    "display(df_xy_expr)\n",
    "display(df_yy_expr)"
   ]
  },
  {
   "cell_type": "markdown",
   "metadata": {},
   "source": [
    "## Cálculo del vector gradiente\n",
    "\n",
    "Calculamos el vector gradiente como la transpuesta de la matriz jacobiana para funciones de $\\mathbb{R}^{n}$ a $\\mathbb{R}$, como se muestra en el siguiente ejemplo."
   ]
  },
  {
   "cell_type": "code",
   "execution_count": null,
   "metadata": {},
   "outputs": [],
   "source": [
    "import sympy as sp\n",
    "\n",
    "x, y = sp.symbols('x y', real=True) \n",
    "\n",
    "F = sp.Matrix([3*x**2-5*y**2])\n",
    "\n",
    "# Cálculo del jacobiano de F\n",
    "jac_F = F.jacobian([x,y])\n",
    "grad_F = jac_F.transpose()\n",
    "\n",
    "# NOTA: Se puede hacer lo mismo en un único paso:\n",
    "# grad_F = F.jacobian([x,y]).transpose()\n",
    "\n",
    "display(grad_F)"
   ]
  },
  {
   "cell_type": "markdown",
   "metadata": {},
   "source": [
    "## Derivada direccional\n",
    "\n",
    "Mostramos a continuación cómo calcular la derivada direccional de la función $f(x,y) = x\\sqrt{y}$, en un punto cualquiera $(x,y)$, según la dirección que marca el vector $\\mathbf{u}=(1,2)$. "
   ]
  },
  {
   "cell_type": "code",
   "execution_count": null,
   "metadata": {},
   "outputs": [],
   "source": [
    "import sympy as sp\n",
    "\n",
    "x, y = sp.symbols('x y', real=True) \n",
    "\n",
    "F = sp.Matrix([ x*sp.sqrt(y) ])\n",
    "\n",
    "grad_F = F.jacobian([x,y]).transpose()\n",
    "display(grad_F)\n",
    "\n",
    "u = sp.Matrix([1, 2]) # Definimos un vector director unitario\n",
    "\n",
    "display(u)\n",
    "norm_u = sp.sqrt(u.dot(u))\n",
    "u = u/norm_u\n",
    "display(u)\n",
    "\n",
    "df_u = u.dot(grad_F)\n",
    "display(df_u)\n"
   ]
  },
  {
   "cell_type": "markdown",
   "metadata": {},
   "source": [
    "## El vector gradiente es ortogonal a las curvas de nivel\n",
    "\n",
    "Lo mostramos gráficamente sobre un ejemplo sencillo."
   ]
  },
  {
   "cell_type": "code",
   "execution_count": null,
   "metadata": {},
   "outputs": [],
   "source": [
    "import sympy as sp\n",
    "import numpy as np\n",
    "import matplotlib\n",
    "import matplotlib.pyplot as plt\n",
    "%matplotlib inline\n",
    "\n",
    "x, y = sp.symbols('x y', real=True) # define las variables simbólicas x, y\n",
    "\n",
    "F = sp.Matrix([ sp.sin(x)*sp.cos(x*y**2/10) ])\n",
    "F_lamb = sp.lambdify((x,y),F[0,0], \"numpy\")\n",
    "# display(F_lamb)\n",
    "\n",
    "grad_F = F.jacobian([x,y]).transpose()\n",
    "grad_F_lamb = sp.lambdify((x,y), [grad_F[0,0],grad_F[1,0]], \"numpy\") \n",
    "# Creamos una función lambdify del gradiente para poder evaluarlo en cualquier punto\n",
    "\n",
    "N = 50  # 50 puntos en cada dirección de los ejes cartesianos para las curvas de nivel\n",
    "x = np.linspace(-np.pi, np.pi, N)\n",
    "y = np.linspace(-np.pi, np.pi, N)\n",
    "X, Y = np.meshgrid(x, y)\n",
    "Values = F_lamb(X,Y)\n",
    "\n",
    "Ng = 10  # 10 puntos en cada dirección de los ejes cartesianos para los vectores gradientes\n",
    "xg = np.linspace(-np.pi, np.pi, Ng)\n",
    "yg = np.linspace(-np.pi, np.pi, Ng)\n",
    "Xg, Yg = np.meshgrid(xg, yg)\n",
    "Values_Grad=grad_F_lamb(Xg,Yg)\n",
    "\n",
    "p = plt.contour(X, Y, Values) # Representación gráfica de las curvas de nivel\n",
    "plt.clabel(p) # Se añade el valor numérico a cada curva de nivel\n",
    "plt.quiver(Xg, Yg, Values_Grad[0], Values_Grad[1]) # Representación gráfica del campo de vectores gradiente\n",
    "# plt.quiver(Xg, Yg, Values_Grad) # Representación gráfica del campo de vectores gradiente\n",
    "# Etiquetas de los ejes\n",
    "plt.xlabel('x')\n",
    "plt.ylabel('y')\n",
    "plt.axis('square')\n",
    "plt.show()"
   ]
  },
  {
   "cell_type": "markdown",
   "metadata": {},
   "source": [
    "## Cálculo y representación del plano tangente y de la recta normal con `Python`\n",
    "\n",
    "Consideramos a continuación el problema de encontrar el plano tangente y la recta normal a la superficie $z=f(x,y)=x^2+y^2+3$ en el punto $(x_0,y_0,z_0)=(1,1/2,f(1,1/2))$, que resolvemos, en `Python`, aplicando los resultados expuestos. En primer lugar, importamos los módulos necesarios teniendo en cuenta que usaremos `Matplotlib` para la representación gráfica. "
   ]
  },
  {
   "cell_type": "code",
   "execution_count": null,
   "metadata": {},
   "outputs": [],
   "source": [
    "import sympy as sp\n",
    "import numpy as np\n",
    "import matplotlib\n",
    "import matplotlib.pyplot as plt\n",
    "from mpl_toolkits.mplot3d import axes3d\n",
    "%matplotlib inline"
   ]
  },
  {
   "cell_type": "markdown",
   "metadata": {},
   "source": [
    "Ahora vamos a calcular:\n",
    "\n",
    "1. Plano tangente.\n",
    "2. Ángulo de inclinación de éste.\n",
    "3. Recta normal."
   ]
  },
  {
   "cell_type": "code",
   "execution_count": null,
   "metadata": {},
   "outputs": [],
   "source": [
    "x, y, z, t = sp.symbols('x y z t', real=True) # definimos las variables simbólicas\n",
    "f = sp.Lambda((x,y), x**2+y**2+3)\n",
    "x0 = 1; y0=sp.Rational(1/2); z0=f(x0,y0)\n",
    "\n",
    "# Cálculo de la ecuación del plano tangente\n",
    "F = sp.Matrix([f(x,y)-z])\n",
    "grad_F = F.jacobian([x,y,z]).transpose()\n",
    "n = grad_F.subs(x,x0).subs(y,y0).subs(z,z0)\n",
    "plano_tang = sp.solve(sp.Eq(n[0]*(x-x0)+n[1]*(y-y0)+n[2]*(z-z0),0),z)[0]\n",
    "\n",
    "display(plano_tang)\n",
    "\n",
    "# Cálculo de la inclinación del plano tangente\n",
    "angulo=sp.acos(sp.Abs(n[2])/sp.sqrt(n.dot(n)))\n",
    "display('Ángulo de inclinación del plano tangente:',angulo) \n",
    "\n",
    "# Cálculo de la ecuación vectorial de la recta normal\n",
    "recta_norm = sp.Lambda(t,(x0+t*n[0], y0+t*n[1], z0+t*n[2]))\n",
    "\n",
    "display(recta_norm)"
   ]
  },
  {
   "cell_type": "markdown",
   "metadata": {},
   "source": [
    "Una vez calculado el plano tangente y la recta normal, se traslada la información del módulo **Sympy** a **Numpy**, para un uso posterior en **Matplotlib** y graficamos:"
   ]
  },
  {
   "cell_type": "code",
   "execution_count": null,
   "metadata": {},
   "outputs": [],
   "source": [
    "f_n = sp.lambdify((x,y),f(x,y),\"numpy\") # función numpy con la expresión de f(x,y)\n",
    "Plano_tang = sp.lambdify((x,y),plano_tang,\"numpy\") \n",
    "Recta_norm = sp.lambdify(t,recta_norm(t),\"numpy\") \n",
    "\n",
    "# Nube de puntos para representar la superficie y el plano\n",
    "N = 50\n",
    "x = np.linspace(-2, 2, N)\n",
    "y = np.linspace(-2, 2, N)\n",
    "X, Y = np.meshgrid(x, y)\n",
    "fval = f_n(X,Y)\n",
    "Pval = Plano_tang(X,Y)\n",
    "\n",
    "# Conjunto de puntos para representar la recta normal\n",
    "tvec = np.linspace(-2, 2, 100)\n",
    "Rval = Recta_norm(tvec)\n",
    "\n",
    "# Creación de la figura 3D\n",
    "fig = plt.figure()\n",
    "ax = plt.axes(projection=\"3d\")\n",
    "# Representación de la superficie z=f(x,y), el plano tangente y la recta normal\n",
    "surf_F = ax.plot_surface(X, Y, fval) \n",
    "surf_Plano = ax.plot_surface(X, Y, Pval)\n",
    "recta = ax.plot3D(*Rval)\n",
    "# Etiquetas de los ejes\n",
    "ax.set_xlabel('x')\n",
    "ax.set_ylabel('y')\n",
    "ax.set_zlabel('z')\n",
    "# Punto de vista del observador: elevación, ángulo azimutal\n",
    "ax.view_init(elev=10, azim=-100)\n",
    "ax.auto_scale_xyz([-2,2],[-2,2],[-5,10])\n",
    "plt.show()"
   ]
  }
 ],
 "metadata": {
  "kernelspec": {
   "display_name": "Python 3 (ipykernel)",
   "language": "python",
   "name": "python3"
  },
  "language_info": {
   "codemirror_mode": {
    "name": "ipython",
    "version": 3
   },
   "file_extension": ".py",
   "mimetype": "text/x-python",
   "name": "python",
   "nbconvert_exporter": "python",
   "pygments_lexer": "ipython3",
   "version": "3.11.2"
  },
  "vscode": {
   "interpreter": {
    "hash": "6bee1e8c92def9b58716ddd07d843225b81ed35493dd8048850a9a59c060c325"
   }
  }
 },
 "nbformat": 4,
 "nbformat_minor": 2
}
