{
 "cells": [
  {
   "cell_type": "markdown",
   "metadata": {},
   "source": [
    "# Límites y continuidad en Python\n",
    "\n",
    "Esta sección pretende ser un compendio (esperemos que más claro y mejor ordenado) de todo el `Python` \n",
    "que hemos ido usando en el Capítulo 2. \n",
    "\n",
    "**Objetivos:**\n",
    "\n",
    "- Explorar el dominio, singularidades y rango de una función.\n",
    "- Cálculo de límites en una y varias variables.\n",
    "- Análisis de la continuidad de una función."
   ]
  },
  {
   "cell_type": "markdown",
   "metadata": {},
   "source": [
    "## Dominio e rango dunha función de varias variables\n",
    "Para calcular el dominio de una función, se puede, en primer lugar, calcular las singularidades de una función dada. \n",
    "\n",
    "En la implementación del módulo `Sympy` únicamente está disponible este cálculo para funciones de tipo racional y con dependencia de una única variable. \n",
    "\n",
    "Si tenemos esto en cuenta, el dominio de la función vendrá dado por el conjunto de puntos del espacio excepto las singularidades. Para el caso de varias variables, este análisis sólo se puede hacer con respecto a una de las variables, tomando como fijas el resto. "
   ]
  },
  {
   "cell_type": "code",
   "execution_count": 6,
   "metadata": {},
   "outputs": [
    {
     "data": {
      "text/latex": [
       "$\\displaystyle \\left\\{- y\\right\\}$"
      ],
      "text/plain": [
       "FiniteSet(-y)"
      ]
     },
     "metadata": {},
     "output_type": "display_data"
    },
    {
     "data": {
      "text/latex": [
       "$\\displaystyle \\left\\{0, - x\\right\\}$"
      ],
      "text/plain": [
       "FiniteSet(0, -x)"
      ]
     },
     "metadata": {},
     "output_type": "display_data"
    }
   ],
   "source": [
    "import sympy as sp\n",
    "\n",
    "\n",
    "\n",
    "f=sp.Lambda((x,y), x/((x+y)*y))\n",
    "display(sp.calculus.singularities(f(x,y), x))\n",
    "display(sp.calculus.singularities(f(x,y), y))"
   ]
  },
  {
   "cell_type": "markdown",
   "metadata": {},
   "source": [
    "Do mesmo xeito ao que ocorre coas singularidades, **Sympy** soamente é capaz de calcular o rango de funcións dunha única variable. Aínda que isto supón unha limitación, é posible explorar o rango dunha función de varias variables restrinxindo os valores dos argumentos a certos planos cartesianos e analizando o rango das funcións resultantes (dunha variable):"
   ]
  },
  {
   "cell_type": "code",
   "execution_count": 7,
   "metadata": {},
   "outputs": [
    {
     "data": {
      "text/latex": [
       "$\\displaystyle \\left(-\\infty, 1\\right) \\cup \\left(1, \\infty\\right)$"
      ],
      "text/plain": [
       "Union(Interval.open(-oo, 1), Interval.open(1, oo))"
      ]
     },
     "metadata": {},
     "output_type": "display_data"
    },
    {
     "data": {
      "text/latex": [
       "$\\displaystyle \\left(-\\infty, -4\\right] \\cup \\left(0, \\infty\\right)$"
      ],
      "text/plain": [
       "Union(Interval(-oo, -4), Interval.open(0, oo))"
      ]
     },
     "metadata": {},
     "output_type": "display_data"
    },
    {
     "data": {
      "text/latex": [
       "$\\displaystyle \\left(-\\infty, \\infty\\right)$"
      ],
      "text/plain": [
       "Interval(-oo, oo)"
      ]
     },
     "metadata": {},
     "output_type": "display_data"
    }
   ],
   "source": [
    "x, y, z = sp.symbols('x y z', real=True) # define as variables simbólicas x, y, z\n",
    "f=sp.Lambda((x,y,z), x*z/((x+y)*y))\n",
    "Rx = sp.calculus.util.function_range(f(x,1,1), x, sp.Reals)\n",
    "Ry = sp.calculus.util.function_range(f(1,y,1), y, sp.Reals)\n",
    "Rz = sp.calculus.util.function_range(f(1,1,z), z, sp.Reals)\n",
    "display(Rx)\n",
    "display(Ry)\n",
    "display(Rz)"
   ]
  },
  {
   "cell_type": "markdown",
   "metadata": {},
   "source": [
    "### **Exercicio 5.1** \n",
    "Calcula as singularidades e o rango da función $f(x,y)=\\displaystyle\\frac{y+x}{y-x^3}$."
   ]
  },
  {
   "cell_type": "code",
   "execution_count": 8,
   "metadata": {},
   "outputs": [],
   "source": [
    "# O TEU CÓDIGO AQUÍ"
   ]
  },
  {
   "cell_type": "markdown",
   "metadata": {},
   "source": [
    "## Límites\n",
    "O módulo **Sympy** soamente dispón de ferramentas para cálcular os límites que depende dunha única variable. A pesar desta limitación, é posible calcular límites en varias variables usando as técnicas que xa revisamos nas clases de pizarra como son o uso de camiños por rectas $y=mx$, os límites (re)iterados, ou o cambio a coordenadas polares."
   ]
  },
  {
   "cell_type": "markdown",
   "metadata": {},
   "source": [
    "### Límites de expresións nunha variable\n",
    "Os límites de expresións nunha variable poden calcularse usando a función `sp.limit`. O mesmo comando tamén permite o cálculo de límites laterais. Comprobemos o seu uso cunha función dunha variable moi sinxela (que non posúe límite):\n",
    "$$\n",
    "f(x)=\n",
    "\\begin{cases}\n",
    "-1 & \\text{se } x\\le 0,\\\\\n",
    "+1 & \\text{se } x \\gt 0.\\\\\n",
    "\\end{cases}\n",
    "$$"
   ]
  },
  {
   "cell_type": "code",
   "execution_count": 9,
   "metadata": {},
   "outputs": [
    {
     "data": {
      "text/latex": [
       "$\\displaystyle \\begin{cases} -1 & \\text{for}\\: x \\leq 0 \\\\1 & \\text{otherwise} \\end{cases}$"
      ],
      "text/plain": [
       "Piecewise((-1, x <= 0), (1, True))"
      ]
     },
     "metadata": {},
     "output_type": "display_data"
    }
   ],
   "source": [
    "x = sp.Symbol('x', real=True) # define a variable simbólica x\n",
    "f = -1 + 2 * sp.Heaviside(x, 0)\n",
    "F = sp.Lambda(x, f)\n",
    "# Comprobar a definición da función F\n",
    "display(sp.simplify(F(x).rewrite(sp.Piecewise)))"
   ]
  },
  {
   "cell_type": "markdown",
   "metadata": {},
   "source": [
    "Neste caso, o límite $\\displaystyle\\lim_{x\\to 0}f(x)$ non existe xa que os límite laterais non coinciden. A pesar disto, obtense:"
   ]
  },
  {
   "cell_type": "code",
   "execution_count": 10,
   "metadata": {},
   "outputs": [
    {
     "data": {
      "text/latex": [
       "$\\displaystyle 1$"
      ],
      "text/plain": [
       "1"
      ]
     },
     "metadata": {},
     "output_type": "display_data"
    },
    {
     "data": {
      "text/latex": [
       "$\\displaystyle 1$"
      ],
      "text/plain": [
       "1"
      ]
     },
     "metadata": {},
     "output_type": "display_data"
    },
    {
     "data": {
      "text/latex": [
       "$\\displaystyle -1$"
      ],
      "text/plain": [
       "-1"
      ]
     },
     "metadata": {},
     "output_type": "display_data"
    }
   ],
   "source": [
    "display(sp.limit(F(x),x,0)) # Por defecto usa o valor do límite pola dereita\n",
    "display(sp.limit(F(x),x,0,dir='+')) # límite pola dereita\n",
    "display(sp.limit(f,x,0,dir='-')) # límite pola esquerda"
   ]
  },
  {
   "cell_type": "markdown",
   "metadata": {},
   "source": [
    "Do mesmo xeito a como se definen os límite cando $x$ tende a un valor finito $a$, tamén se poden calcular os valores cando $x\\to+\\infty$ ou $x\\to-\\infty$. O valor de $\\infty$ está representado en **Sympy** por `sp.oo`. No caso da función $f(x)=e^x$, se obtén:"
   ]
  },
  {
   "cell_type": "code",
   "execution_count": 11,
   "metadata": {},
   "outputs": [
    {
     "data": {
      "text/latex": [
       "$\\displaystyle 0$"
      ],
      "text/plain": [
       "0"
      ]
     },
     "metadata": {},
     "output_type": "display_data"
    },
    {
     "data": {
      "text/latex": [
       "$\\displaystyle \\infty$"
      ],
      "text/plain": [
       "oo"
      ]
     },
     "metadata": {},
     "output_type": "display_data"
    }
   ],
   "source": [
    "display(sp.limit(sp.exp(x),x,-sp.oo))\n",
    "display(sp.limit(sp.exp(x),x,sp.oo))"
   ]
  },
  {
   "cell_type": "markdown",
   "metadata": {},
   "source": [
    "### Límites de expresións en varias variables\n",
    "Como xa revisamos nas clases de pizarra, o cálculo de límites en varias variables é máis complexo xa que debemos analizar todos os camiños posibles para poder asegurar que o límite existe e coincide cun valor dado. Por exemplo, no caso da función $f(x,y)=\\frac{x^2y}{x^5+y^2}$ podemos ter valores diferentes segundo o camiño escollido para chegar ao punto $(0,0)$:"
   ]
  },
  {
   "cell_type": "code",
   "execution_count": 12,
   "metadata": {},
   "outputs": [
    {
     "data": {
      "text/latex": [
       "$\\displaystyle 0$"
      ],
      "text/plain": [
       "0"
      ]
     },
     "execution_count": 12,
     "metadata": {},
     "output_type": "execute_result"
    }
   ],
   "source": [
    "x, y = sp.symbols('x y', real=True) # define a variable simbólica x e y\n",
    "f = sp.Lambda((x,y), x**2*y/(x**5+y**2)) # agora temos definida a función simbólica f(x)\n",
    "sp.limit(f(x,y),x,0) # límite fixando o valor de y"
   ]
  },
  {
   "cell_type": "code",
   "execution_count": 13,
   "metadata": {},
   "outputs": [
    {
     "data": {
      "text/latex": [
       "$\\displaystyle 0$"
      ],
      "text/plain": [
       "0"
      ]
     },
     "execution_count": 13,
     "metadata": {},
     "output_type": "execute_result"
    }
   ],
   "source": [
    "sp.limit(f(x,y),y,0) # límite fixando o valor de x"
   ]
  },
  {
   "cell_type": "code",
   "execution_count": 14,
   "metadata": {},
   "outputs": [
    {
     "data": {
      "text/latex": [
       "$\\displaystyle \\frac{m x^{3}}{m^{2} x^{2} + x^{5}}$"
      ],
      "text/plain": [
       "m*x**3/(m**2*x**2 + x**5)"
      ]
     },
     "metadata": {},
     "output_type": "display_data"
    },
    {
     "data": {
      "text/latex": [
       "$\\displaystyle 0$"
      ],
      "text/plain": [
       "0"
      ]
     },
     "execution_count": 14,
     "metadata": {},
     "output_type": "execute_result"
    }
   ],
   "source": [
    "m = sp.Symbol('m', real=True)\n",
    "display(f(x,m*x))\n",
    "sp.limit(f(x,m*x),x,0) # límites polas rectas de pendente m"
   ]
  },
  {
   "cell_type": "markdown",
   "metadata": {},
   "source": [
    "Nembargantes, se se emprega o camiño $y=x^3$ obtense un valor do límite diferentes de cero, do que se conclúe que o límite non existe:"
   ]
  },
  {
   "cell_type": "code",
   "execution_count": 15,
   "metadata": {},
   "outputs": [
    {
     "data": {
      "text/latex": [
       "$\\displaystyle 1$"
      ],
      "text/plain": [
       "1"
      ]
     },
     "execution_count": 15,
     "metadata": {},
     "output_type": "execute_result"
    }
   ],
   "source": [
    "sp.limit(f(x,x**3),x,0)"
   ]
  },
  {
   "cell_type": "markdown",
   "metadata": {},
   "source": [
    "### Límites (re)iterados\n",
    "Os límites (re)iterados é outra ferramenta máis para tratar de analizar o que ocorre co límite de funcións de varias variables. Posto que estos límite iterados son unha sucesión de cálculos de límites tendo en conta unha soa variable, este procedemento pode implementarse en **Sympy**. Por exemplo, se consideramos $f(x,y)= \\displaystyle \\frac{x^2-y^2}{x^2+y^2}$, resulta"
   ]
  },
  {
   "cell_type": "code",
   "execution_count": 16,
   "metadata": {},
   "outputs": [
    {
     "data": {
      "text/latex": [
       "$\\displaystyle -1$"
      ],
      "text/plain": [
       "-1"
      ]
     },
     "execution_count": 16,
     "metadata": {},
     "output_type": "execute_result"
    }
   ],
   "source": [
    "f = sp.Lambda((x,y),(x**2-y**2)/(x**2+y**2))\n",
    "g = sp.limit(f(x,y),x,0)\n",
    "sp.limit(g,y,0)"
   ]
  },
  {
   "cell_type": "code",
   "execution_count": 17,
   "metadata": {},
   "outputs": [
    {
     "data": {
      "text/latex": [
       "$\\displaystyle 1$"
      ],
      "text/plain": [
       "1"
      ]
     },
     "execution_count": 17,
     "metadata": {},
     "output_type": "execute_result"
    }
   ],
   "source": [
    "g = sp.limit(f(x,y),y,0)\n",
    "sp.limit(g,x,0)"
   ]
  },
  {
   "cell_type": "markdown",
   "metadata": {},
   "source": [
    "e polo tanto pódese concluir que non existe o límite, xa que os valores non coinciden.\n",
    "\n",
    "### Casos onde non existe límites\n",
    "Como xa vimos nos exemplos analizados en clase de pizarra, existen multitude de exemplos onde os límites non existe, como é o caso de $\\displaystyle\\lim_{(x,y)\\to(0,0)}f(x,y)$ con \n",
    "$$\n",
    "f(x,y)=\n",
    "\\begin{cases}\n",
    "\\frac{xy}{x^2+y^2} & \\text{se } x^2+y^2 \\gt 0,\\\\\n",
    "0 & \\text{se } (x,y)=(0,0).\n",
    "\\end{cases}\n",
    "$$"
   ]
  },
  {
   "cell_type": "code",
   "execution_count": 18,
   "metadata": {},
   "outputs": [
    {
     "data": {
      "text/latex": [
       "$\\displaystyle \\left( \\left( x, \\  y\\right) \\mapsto \\begin{cases} 0 & \\text{for}\\: x^{2} + y^{2} \\leq 0 \\\\\\frac{x y}{x^{2} + y^{2}} & \\text{otherwise} \\end{cases} \\right)$"
      ],
      "text/plain": [
       "Lambda((x, y), Piecewise((0, x**2 + y**2 <= 0), (x*y/(x**2 + y**2), True)))"
      ]
     },
     "metadata": {},
     "output_type": "display_data"
    },
    {
     "data": {
      "text/latex": [
       "$\\displaystyle 0$"
      ],
      "text/plain": [
       "0"
      ]
     },
     "execution_count": 18,
     "metadata": {},
     "output_type": "execute_result"
    }
   ],
   "source": [
    "# Definición das función definida a cachos\n",
    "f1 = x*y/(x**2+y**2); f2 = 0\n",
    "f = f2 + (f1-f2) * sp.Heaviside(x**2+y**2, 0)\n",
    "F = sp.Lambda((x,y), f)\n",
    "# Comprobar a definición da función F\n",
    "display(sp.simplify(F.rewrite(sp.Piecewise)))\n",
    "# Límite iterado primeiro en x e despois en y\n",
    "G = sp.limit(F(x,y),x,0)\n",
    "sp.limit(G,y,0)"
   ]
  },
  {
   "cell_type": "markdown",
   "metadata": {},
   "source": [
    "Tendo en conta o límite sobre a recta $y=mx$, resulta:"
   ]
  },
  {
   "cell_type": "code",
   "execution_count": 19,
   "metadata": {},
   "outputs": [
    {
     "data": {
      "text/latex": [
       "$\\displaystyle \\frac{m x^{2} \\theta\\left(m^{2} x^{2} + x^{2}\\right)}{m^{2} x^{2} + x^{2}}$"
      ],
      "text/plain": [
       "m*x**2*Heaviside(m**2*x**2 + x**2, 0)/(m**2*x**2 + x**2)"
      ]
     },
     "metadata": {},
     "output_type": "display_data"
    },
    {
     "data": {
      "text/latex": [
       "$\\displaystyle \\frac{m}{m^{2} + 1}$"
      ],
      "text/plain": [
       "m/(m**2 + 1)"
      ]
     },
     "execution_count": 19,
     "metadata": {},
     "output_type": "execute_result"
    }
   ],
   "source": [
    "display(F(x,m*x))\n",
    "sp.limit(F(x,m*x),x,0)"
   ]
  },
  {
   "cell_type": "markdown",
   "metadata": {},
   "source": [
    "Polo que podemos asegurar que o límite non existe xa que o valor do límite dependería de $m$. Un último exemplo, onde os límites iterados dan lugar a funcións descontinuas (nos cálculos intermedios), pero aínda así, os límite iterados existen e ademais son iguais. Consideramos a función:\n",
    "$$\n",
    "f(x,y)=\n",
    "\\begin{cases}\n",
    "y & \\text{se } x \\gt 0,\\\\\n",
    "-y & \\text{se } x \\le 0.\n",
    "\\end{cases}\n",
    "$$"
   ]
  },
  {
   "cell_type": "code",
   "execution_count": 20,
   "metadata": {},
   "outputs": [
    {
     "data": {
      "text/latex": [
       "$\\displaystyle \\left( \\left( x, \\  y\\right) \\mapsto \\begin{cases} - y & \\text{for}\\: x \\leq 0 \\\\y & \\text{otherwise} \\end{cases} \\right)$"
      ],
      "text/plain": [
       "Lambda((x, y), Piecewise((-y, x <= 0), (y, True)))"
      ]
     },
     "metadata": {},
     "output_type": "display_data"
    },
    {
     "data": {
      "text/latex": [
       "$\\displaystyle y$"
      ],
      "text/plain": [
       "y"
      ]
     },
     "metadata": {},
     "output_type": "display_data"
    },
    {
     "data": {
      "text/latex": [
       "$\\displaystyle - y$"
      ],
      "text/plain": [
       "-y"
      ]
     },
     "metadata": {},
     "output_type": "display_data"
    },
    {
     "data": {
      "text/latex": [
       "$\\displaystyle 0$"
      ],
      "text/plain": [
       "0"
      ]
     },
     "execution_count": 20,
     "metadata": {},
     "output_type": "execute_result"
    }
   ],
   "source": [
    "# f = sp.Piecewise((y, x > 0), (-y, True))\n",
    "# Definición das función definida a cachos\n",
    "f1 = y; f2 = -y\n",
    "f = f2 + (f1-f2) * sp.Heaviside(x, 0)\n",
    "F = sp.Lambda((x,y), f)\n",
    "# Comprobar a definición da función F\n",
    "display(sp.simplify(F.rewrite(sp.Piecewise)))\n",
    "# Límite iterado primeiro en x e despois en y\n",
    "Gp = sp.limit(F(x,y),x,0,dir='+')\n",
    "display(Gp)\n",
    "Gm = sp.limit(F(x,y),x,0,dir='-')\n",
    "display(Gm)\n",
    "sp.limit(Gp,y,0) # que ten o mesmo resultado que sp.limit(Gm,y,0)"
   ]
  },
  {
   "cell_type": "code",
   "execution_count": 21,
   "metadata": {
    "scrolled": true
   },
   "outputs": [
    {
     "data": {
      "text/latex": [
       "$\\displaystyle 0$"
      ],
      "text/plain": [
       "0"
      ]
     },
     "metadata": {},
     "output_type": "display_data"
    }
   ],
   "source": [
    "# Límite iterado primeiro en y e despois en x\n",
    "G = sp.limit(F(x,y),y,0)\n",
    "display(G)"
   ]
  },
  {
   "cell_type": "markdown",
   "metadata": {},
   "source": [
    "### Límites con coordenadas polares\n",
    "Un dos recursos que usaremos con máis frecuencia para calcular límites en varias variables será o uso de coordenadas polares (no plano) ou coordenadas esféricas (no espazo tridimensional), para calcular límites do tipo $\\displaystyle\\lim_{(x,y)\\to(0,0)}f(x,y)$ substitutindo $x=r\\cos\\theta$ e $y=r\\sin\\theta$. Por exemplo:"
   ]
  },
  {
   "cell_type": "code",
   "execution_count": 22,
   "metadata": {},
   "outputs": [
    {
     "data": {
      "text/latex": [
       "$\\displaystyle \\left( \\left( x, \\  y\\right) \\mapsto \\frac{x^{3} + 2 x y^{2}}{x^{2} + y^{2}} \\right)$"
      ],
      "text/plain": [
       "Lambda((x, y), (x**3 + 2*x*y**2)/(x**2 + y**2))"
      ]
     },
     "metadata": {},
     "output_type": "display_data"
    },
    {
     "data": {
      "text/latex": [
       "$\\displaystyle \\frac{2 r^{3} \\sin^{2}{\\left(\\theta \\right)} \\cos{\\left(\\theta \\right)} + r^{3} \\cos^{3}{\\left(\\theta \\right)}}{r^{2} \\sin^{2}{\\left(\\theta \\right)} + r^{2} \\cos^{2}{\\left(\\theta \\right)}}$"
      ],
      "text/plain": [
       "(2*r**3*sin(theta)**2*cos(theta) + r**3*cos(theta)**3)/(r**2*sin(theta)**2 + r**2*cos(theta)**2)"
      ]
     },
     "metadata": {},
     "output_type": "display_data"
    },
    {
     "data": {
      "text/latex": [
       "$\\displaystyle 0$"
      ],
      "text/plain": [
       "0"
      ]
     },
     "execution_count": 22,
     "metadata": {},
     "output_type": "execute_result"
    }
   ],
   "source": [
    "r = sp.Symbol('r', nonnegative=True)\n",
    "theta = sp.Symbol('theta', real=True)\n",
    "f = (x**3+2*x*y**2)/(x**2+y**2)\n",
    "F = sp.Lambda((x,y), f)\n",
    "display(F)\n",
    "display(F(r*sp.cos(theta), r*sp.sin(theta)))\n",
    "sp.limit(F(r*sp.cos(theta), r*sp.sin(theta)),r,0)"
   ]
  },
  {
   "cell_type": "markdown",
   "metadata": {},
   "source": [
    "### **Exercicio 5.2** \n",
    "\n",
    "Dada a función $f(x,y)=\\displaystyle\\frac{x-y^3}{x+y^3}$ calcula os seguintes límites cando $(x,y)\\to (0,0)$:\n",
    "- Límites sobre as rectas $y=mx$\n",
    "- Límites iterados\n",
    "- Límite usando coordenadas polares"
   ]
  },
  {
   "cell_type": "code",
   "execution_count": 23,
   "metadata": {},
   "outputs": [],
   "source": [
    "# O TEU CÓDIGO AQUÍ"
   ]
  },
  {
   "cell_type": "markdown",
   "metadata": {},
   "source": [
    "## Análise da continuidade de varias variables\n",
    "\n",
    "No módulo de **Sympy** existe unha función que calcular o dominio de continuidade (o conxunto de puntos onde a funciín é continua) dunha función dunha única variable. No caso de varias variables, o que se pode analizar é a continuidade dunha función con respecto ao resto de variables fixas. A función  empregar é `sp.calculus.util.continuous_domain(f(x,y), x, sp.Reals)`"
   ]
  },
  {
   "cell_type": "code",
   "execution_count": 24,
   "metadata": {},
   "outputs": [
    {
     "data": {
      "text/latex": [
       "$\\displaystyle \\mathbb{R} \\setminus \\left\\{- y\\right\\}$"
      ],
      "text/plain": [
       "Complement(Reals, FiniteSet(-y))"
      ]
     },
     "metadata": {},
     "output_type": "display_data"
    },
    {
     "data": {
      "text/latex": [
       "$\\displaystyle \\left(\\left(-\\infty, 0\\right) \\cup \\left(0, \\infty\\right)\\right) \\setminus \\left\\{- x\\right\\}$"
      ],
      "text/plain": [
       "Complement(Union(Interval.open(-oo, 0), Interval.open(0, oo)), FiniteSet(-x))"
      ]
     },
     "metadata": {},
     "output_type": "display_data"
    }
   ],
   "source": [
    "f=sp.Lambda((x,y), x/((x+y)*y))\n",
    "Ix = sp.calculus.util.continuous_domain(f(x,y), x, sp.Reals)\n",
    "Iy = sp.calculus.util.continuous_domain(f(x,y), y, sp.Reals)\n",
    "display(Ix)\n",
    "display(Iy)"
   ]
  },
  {
   "cell_type": "markdown",
   "metadata": {},
   "source": [
    "Ademáis, para analizar a continuidade de $F$ nun punto $(a,b)$, basta con comprobar que\n",
    "$$\n",
    "F(a,b)=\\lim_{(x,y)\\to(a,b)}F(x,y).\n",
    "$$\n",
    "Por exemplo, no caso dunha función dunha única variable:"
   ]
  },
  {
   "cell_type": "code",
   "execution_count": 27,
   "metadata": {},
   "outputs": [
    {
     "data": {
      "text/latex": [
       "$\\displaystyle \\mathbb{R}$"
      ],
      "text/plain": [
       "Reals"
      ]
     },
     "metadata": {},
     "output_type": "display_data"
    },
    {
     "data": {
      "text/latex": [
       "$\\displaystyle \\left( x \\mapsto \\begin{cases} - x & \\text{for}\\: x \\leq 0 \\\\x & \\text{otherwise} \\end{cases} \\right)$"
      ],
      "text/plain": [
       "Lambda(x, Piecewise((-x, x <= 0), (x, True)))"
      ]
     },
     "metadata": {},
     "output_type": "display_data"
    },
    {
     "name": "stdout",
     "output_type": "stream",
     "text": [
      "A función F é continua en x=0: True\n"
     ]
    }
   ],
   "source": [
    "# Dominio de continuidade da función valor absoluto\n",
    "F = sp.Lambda((x), sp.Abs(x))\n",
    "Ix = sp.calculus.util.continuous_domain(F(x), x, sp.Reals)\n",
    "display(Ix)\n",
    "\n",
    "# Comprobación da continuidade definida a cachos\n",
    "# f = sp.Piecewise((x, x > 0), (-x, True))\n",
    "# Definición das función definida a cachos\n",
    "f1 = x; f2 = -x\n",
    "f = f2 + (f1-f2) * sp.Heaviside(x, 0)\n",
    "F = sp.Lambda((x), f)\n",
    "# Comprobar a definición da función F\n",
    "display(sp.simplify(F.rewrite(sp.Piecewise)))\n",
    "\n",
    "F = sp.Lambda((x), f)\n",
    "print('A función F é continua en x=0:', sp.limit(F(x),x,0)==F(0))\n",
    "Ix = sp.calculus.util.continuous_domain(F(x), x, sp.Reals)\n"
   ]
  },
  {
   "cell_type": "markdown",
   "metadata": {},
   "source": [
    "### **Exercicio 5.3** \n",
    "Analiza a continuidade da función \n",
    "$$\n",
    "f(x,y)=\n",
    "\\begin{cases}\n",
    "\\displaystyle\\frac{1}{xy} & \\text{se }x\\neq 0, y\\neq 0,\\\\\n",
    "1 & \\text{noutro caso},\n",
    "\\end{cases}\n",
    "$$\n",
    "en calquera punto $(x,y)$ do plano"
   ]
  },
  {
   "cell_type": "code",
   "execution_count": 26,
   "metadata": {},
   "outputs": [],
   "source": [
    "# O TEU CÓDIGO AQUÍ"
   ]
  }
 ],
 "metadata": {
  "kernelspec": {
   "display_name": "Python 3 (ipykernel)",
   "language": "python",
   "name": "python3"
  },
  "language_info": {
   "codemirror_mode": {
    "name": "ipython",
    "version": 3
   },
   "file_extension": ".py",
   "mimetype": "text/x-python",
   "name": "python",
   "nbconvert_exporter": "python",
   "pygments_lexer": "ipython3",
   "version": "3.11.2"
  },
  "vscode": {
   "interpreter": {
    "hash": "6bee1e8c92def9b58716ddd07d843225b81ed35493dd8048850a9a59c060c325"
   }
  }
 },
 "nbformat": 4,
 "nbformat_minor": 2
}
