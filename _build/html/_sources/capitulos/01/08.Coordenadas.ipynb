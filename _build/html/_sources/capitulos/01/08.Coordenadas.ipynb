{
 "cells": [
  {
   "attachments": {},
   "cell_type": "markdown",
   "metadata": {},
   "source": [
    "# Coordenadas cilíndricas y esféricas\n",
    "\n",
    "Hasta ahora hemos utilizado las coordenadas cartesianas para representar punto, rectas y superficies en $\\mathbb{R}^{3}$. \n",
    "Es decir, caracterizamos cada punto por sus coordenadas respecto a los tres ejes cartesianos: $(x,y,z)$. \n",
    "En esta sección vamos a estudiar otras dos maneras de describir un punto con las coordenadas cilíndircas y esféricas, lo que, \n",
    "en ocasiones, nos permitirá simplificar la escritura.\n",
    "\n",
    "## Coordenadas cilíndricas\n",
    "\n",
    "El sistema de coordenadas cilíndricas es una extensión de las coordenadas polares en el plano al espacio 3D. Mantendremos las\n",
    "coordenadas polares en el plano $XY$ añadiendo la altura $Z$. Es decir:\n",
    "\n",
    "````{prf:definition} Coordenadas cilíndricas\n",
    ":label: def_1.8.cilindricas\n",
    ":nonumber: \n",
    "\n",
    "En un **sistema de coordenadas cilíndricas** un punto $P$ del espacio se representa por medio de una terna ordenada\n",
    "$\\left(r,\\theta,z\\right)$, donde:\n",
    "\n",
    "1. $(r,\\theta)$ es una representación en coordenadas polares de la proyección de $P$ sobre el plano $XY$.\n",
    "2. $z$ es la distancia dirigida de $(r,\\theta)$ a $P$.\n",
    "\n",
    "<img src=\"../../images/1.8.coordenadas_cilindricas.jpg\" width=\"350\"/>\n",
    "\n",
    "````\n",
    "\n",
    "Para realizar los cambios de coordenadas, de cartesianas a cilíndricas y viceversa, aplicaremos las siguientes fórmulas:\n",
    "\n",
    "* **Cartesianas a cilíndricas**: \n",
    "\n",
    "    $r = \\sqrt{x^2+y^2}$, $\\theta = \\arctan\\left(\\frac{y}{x}\\right)$, $z=z$.\n",
    "* **Cilíndricas a cartesianas**:\n",
    "\n",
    "    $x = r\\cos\\theta$, $y=r\\sin\\theta$, $z=z$.\n",
    "\n",
    "Las coordenadas cilíndricas son especialmente convenientes para representar superficies cilíndircas y superficies de revolución con el eje $Z$ como eje de simetría, \n",
    "como mostramos en la figura a continuación:\n",
    "\n",
    "<img src=\"../../images/1.8.cilindros_en_cilindricas.jpg\" width=\"1000\"/>\n",
    "\n",
    "También los planos verticales y horizontales tienen ecuaciones simples en coordenadas cilíndricas:\n",
    "\n",
    "<img src=\"../../images/1.8.planos_en_cilindricas.jpg\" width=\"750\"/>\n",
    "\n"
   ]
  }
 ],
 "metadata": {
  "kernelspec": {
   "display_name": "Python 3",
   "language": "python",
   "name": "python3"
  },
  "language_info": {
   "codemirror_mode": {
    "name": "ipython",
    "version": 3
   },
   "file_extension": ".py",
   "mimetype": "text/x-python",
   "name": "python",
   "nbconvert_exporter": "python",
   "pygments_lexer": "ipython3",
   "version": "3.11.1 (tags/v3.11.1:a7a450f, Dec  6 2022, 19:58:39) [MSC v.1934 64 bit (AMD64)]"
  },
  "orig_nbformat": 4,
  "vscode": {
   "interpreter": {
    "hash": "6bee1e8c92def9b58716ddd07d843225b81ed35493dd8048850a9a59c060c325"
   }
  }
 },
 "nbformat": 4,
 "nbformat_minor": 2
}
