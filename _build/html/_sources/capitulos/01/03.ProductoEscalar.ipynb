{
 "cells": [
  {
   "cell_type": "markdown",
   "metadata": {},
   "source": [
    "# El producto escalar\n",
    "\n",
    "En las dos secciones precedentes hemos introducido dos operaciones para vectores: la suma y el producto por un escalar. Ahora vamos a estudiar una tercera operación: el producto escalar.\n",
    "\n",
    "## Producto escalar. Definición y propiedades\n",
    "\n",
    "````{prf:definition} Producto escalar\n",
    ":label: def_01_producto_escalar\n",
    ":nonumber: \n",
    "\n",
    "El producto escalar es una aplicación $\\mathbb{R}^{n} \\times \\mathbb{R}^{n} \\to \\mathbb{R}$ que se define, en general, como\n",
    "\n",
    "$$\n",
    "\\mathbf{u}\\cdot\\mathbf{v} := \\sum_{i=1}^{n} u_{i} v_{i} \\in \\mathbb{R}.\n",
    "$$\n",
    "\n",
    "Así, en los casos que venimos estudiando,\n",
    "\n",
    "1. En $\\mathbb{R}^{2}$, $\\displaystyle \\mathbf{u} \\cdot \\mathbf{v} = u_{1}v_{1} + u_{2}v_{2} \\in \\mathbb{R}$.\n",
    "2. En $\\mathbb{R}^{3}$, $\\displaystyle \\mathbf{u} \\cdot \\mathbf{v} = u_{1}v_{1} + u_{2}v_{2} + u_{3}v_{3} \\in \\mathbb{R}$.\n",
    "\n",
    "````\n",
    "\n",
    "````{prf:example} \n",
    ":label: ex_01_producto_escalar\n",
    ":nonumber: \n",
    "\n",
    "* El producto escalar de los vectores en el plano $\\mathbf{u} = (1,2)$ y $\\mathbf{v} = (-3,4)$ es:\n",
    "\n",
    "    $$ \\mathbf{u}\\cdot\\mathbf{v} = 1 \\, (-3) + 2* 4 = -3 + 8 = 5.$$\n",
    "* El producto escalar de los vectores en el espacio $\\mathbf{u} = (1,2,3)$ y $\\mathbf{v} = (-3,4,-5)$ es:\n",
    "\n",
    "    $$ \\mathbf{u}\\cdot\\mathbf{v} = 1 \\, (-3) + 2* 4 + 3 \\, (-5)= -3 + 8 -15 = -10.$$\n",
    "````\n",
    "\n",
    "````{prf:property} \n",
    ":label: prop_01_producto_escalar\n",
    ":nonumber: \n",
    "\n",
    "Sean $\\mathbf{u}$, $\\mathbf{v}$ y $\\mathbf{v}$ vectores en $\\mathbb{R}^{n}$ y $c\\in\\mathbb{R}$. Entonces\n",
    "\n",
    "1. $\\mathbf{u}\\cdot\\mathbf{v} = \\mathbf{v}\\cdot\\mathbf{u}$ (propiedad conmutativa).\n",
    "2. $\\mathbf{u}\\cdot(\\mathbf{v}+\\mathbf{w}) = \\mathbf{u}\\cdot\\mathbf{v} + \\mathbf{u}\\cdot\\mathbf{w}$ (propiedad distributiva).\n",
    "3. $c\\, (\\mathbf{u}\\cdot\\mathbf{v}) = c\\, \\mathbf{u}\\cdot \\mathbf{v} = \\mathbf{u}\\cdot c\\, \\mathbf{v}$.\n",
    "4. $\\mathbf{0}\\cdot\\mathbf{v} = \\mathbf{0}$.\n",
    "5. $\\mathbf{u}\\cdot\\mathbf{u} = \\|\\mathbf{u}\\|^2$.\n",
    "\n",
    "````\n",
    "\n",
    "**Nota:** En `Numpy` se calcula con el comando np.dot (que también admite la sintaxis, para los vectores u y v, `u.dot(v)`):\n",
    "\n"
   ]
  },
  {
   "cell_type": "code",
   "execution_count": 9,
   "metadata": {},
   "outputs": [
    {
     "name": "stdout",
     "output_type": "stream",
     "text": [
      "Producto escalar de u y v:  -10\n",
      "Producto escalar de u y v:  -10\n"
     ]
    }
   ],
   "source": [
    "import numpy as np\n",
    "\n",
    "# Definimos los vectores u y v\n",
    "u = np.array([1, 2, 3])\n",
    "v = np.array([-3, 4, -5])\n",
    "\n",
    "# Calculamos el producto escalar de u y v con np.dot\n",
    "dot_product = np.dot (u,v)\n",
    "print('Producto escalar de u y v: ', dot_product)\n",
    "\n",
    "# Una opción equivalente de llamar a la misma función np.dot:\n",
    "dot_product = u.dot(v)\n",
    "print('Producto escalar de u y v: ', dot_product)"
   ]
  },
  {
   "cell_type": "markdown",
   "metadata": {},
   "source": [
    "Para hacer el producto escalar en `Sympy` tenemos que usar la segunda sintaxis. Recuerda que en este caso los vectores tienen que definirse como `sp.Matrix`."
   ]
  },
  {
   "cell_type": "code",
   "execution_count": 12,
   "metadata": {},
   "outputs": [
    {
     "name": "stdout",
     "output_type": "stream",
     "text": [
      "73/30\n"
     ]
    }
   ],
   "source": [
    "import sympy as sp\n",
    "\n",
    "u = sp.Matrix([sp.frac('1/2'), sp.frac('1/3'), 1])\n",
    "v = sp.Matrix([sp.frac('1/5'), 1, 2])\n",
    "\n",
    "# Calculamos el producto escalar de u y v en Sympy\n",
    "product = u.dot(v)\n",
    "print(product)"
   ]
  },
  {
   "cell_type": "markdown",
   "metadata": {},
   "source": [
    "## Ángulo entre dos vectores\n",
    "\n",
    "El ángulo entre dos vectores, $\\mathbf{u}$, $\\mathbf{v}\\in\\mathbb{R}^{2}$, ambos distintos de $\\mathbf{0}$, es el ángulo $\\theta$, $\\theta\\in [0,\\pi]$, entre estos vectores situados \n",
    "en su posición estándar (es decir, con el punto inicial de ambos en el origen de coordenadas).\n",
    "\n",
    "<img src=\"../../images/01_angulo_vectores.png\" width=\"250\"/>\n",
    "\n",
    "Puede calcularse utilizando la siguiente propiedad:\n",
    "\n",
    "````{prf:property} \n",
    ":label: prop_01_angulo_vectores\n",
    ":nonumber: \n",
    "\n",
    "Si $\\theta$ es el ángulo entre los vectores $\\mathbf{u}$, $\\mathbf{v}\\in\\mathbb{R}^{2}$, ambos distintos de $\\mathbf{0}$, entonces\n",
    "\n",
    "$$\n",
    "\\cos\\theta = \\frac{\\mathbf{u}\\cdot\\mathbf{v}}{\\|\\mathbf{u}\\|\\|\\mathbf{v}\\|},\n",
    "$$\n",
    "\n",
    "o, equivalentemente,\n",
    "\n",
    "$$\n",
    "\\theta = \\arccos\\left(\\frac{\\mathbf{u}\\cdot\\mathbf{v}}{\\|\\mathbf{u}\\|\\|\\mathbf{v}\\|}\\right),\n",
    "$$\n",
    "````\n",
    "\n",
    "Debemos hacer algunas consideraciones sobre esta propiedad:\n",
    "\n",
    "1. Queremos destacar que, como el denominador en esta fracción es siempre un número positivo, $\\mathbf{u}\\cdot\\mathbf{v}$ y $\\cos\\theta$ tendrán siempre el mismo signo. Por lo tanto podemos deducir fácilmente el signo de $\\mathbf{u}\\cdot\\mathbf{v}$ según el signo de $\\cos\\theta$, como mostramos en la siguiente figura.\n",
    "\n",
    "    <img src=\"../../images/01_signo_producto_escalar.png\" width=\"1200\"/>\n",
    "2. Dos vectores distintos a $\\mathbf{0}$ son perpendiculares si y sólo si su producto escalar es $0$. En este caso se dice que estos dos vectores son **ortogonales**.\n",
    "3. De la fórmula anterior, si se conoce el ángulo, $\\theta$, que forman dos vectores, se deduce una manera alternativa de calcular el producto escalar:\n",
    "\n",
    "    $$\n",
    "    \\mathbf{u}\\cdot\\mathbf{v} = \\|\\mathbf{u}\\| \\|\\mathbf{v}\\| \\cos(\\theta).\n",
    "    $$\n",
    "\n",
    "Vamos a hacer un ejercicio sencillo: calcularemos el ángulo que forman los vectores $\\mathbf{u} = (3,-1,2)$ y $\\mathbf{v} = (-4,0,2)$. \n",
    "Te sugerimos que después practiques tú, calculando los ángulos que forman cada uno de estos vectores con $\\mathbf{w} = (1,-2,-2)$.\n",
    "\n",
    "Haremos, en primer lugar, los cálculos utilizando `Sympy`, paso a paso, tal como lo deberías hacer en papel. Luego realizaremos el mismo cálculo, aprovechando la mayor potencia numérica de `Numpy`."
   ]
  },
  {
   "cell_type": "code",
   "execution_count": 14,
   "metadata": {},
   "outputs": [
    {
     "data": {
      "text/plain": [
       "'Coseno del ángulo entre los vectores: '"
      ]
     },
     "metadata": {},
     "output_type": "display_data"
    },
    {
     "data": {
      "text/latex": [
       "$\\displaystyle - \\frac{2 \\sqrt{70}}{35}$"
      ],
      "text/plain": [
       "-2*sqrt(70)/35"
      ]
     },
     "metadata": {},
     "output_type": "display_data"
    },
    {
     "data": {
      "text/plain": [
       "'Ángulo entre u y v: '"
      ]
     },
     "metadata": {},
     "output_type": "display_data"
    },
    {
     "data": {
      "text/latex": [
       "$\\displaystyle \\operatorname{acos}{\\left(- \\frac{2 \\sqrt{70}}{35} \\right)}$"
      ],
      "text/plain": [
       "acos(-2*sqrt(70)/35)"
      ]
     },
     "metadata": {},
     "output_type": "display_data"
    }
   ],
   "source": [
    "import sympy as sp\n",
    "# Definimos el vectores\n",
    "u = Matrix([3, -1, 2])\n",
    "v = Matrix([-4, 0, 2])\n",
    "\n",
    "# Calculamos las normas de los vectores\n",
    "norma_u = sp.sqrt(u.dot(u))\n",
    "norma_v = sp.sqrt(v.dot(v))\n",
    "\n",
    "# Calculamos el coseno del ángulo entre u y v\n",
    "cos_theta = u.dot(v) / (norma_u*norma_v)\n",
    "display('Coseno del ángulo entre los vectores: ',cos_theta)\n",
    "\n",
    "# Finalmente, calculamos este ángulo utilizando la función arco-coseno:\n",
    "theta = sp.acos(cos_theta)\n",
    "display('Ángulo entre u y v: ', theta)"
   ]
  },
  {
   "cell_type": "code",
   "execution_count": 15,
   "metadata": {},
   "outputs": [
    {
     "data": {
      "text/plain": [
       "'Ángulo entre u y v: '"
      ]
     },
     "metadata": {},
     "output_type": "display_data"
    },
    {
     "data": {
      "text/plain": [
       "2.0692767639323297"
      ]
     },
     "metadata": {},
     "output_type": "display_data"
    }
   ],
   "source": [
    "import numpy as np\n",
    "\n",
    "# Definimos los vectores u y v\n",
    "u = np.array([3, -1, 2])\n",
    "v = np.array([-4, 0, 2])\n",
    "\n",
    "# Calculamos y almacenamos las normas de estos vectores\n",
    "norm_u = np.linalg.norm(u) \n",
    "norm_v = np.linalg.norm(v) \n",
    "\n",
    "# Ángulo entre u y v:\n",
    "cos_theta1 = np.dot(u,v) / (norm_u * norm_v)\n",
    "theta1 = np.arccos(cos_theta1)\n",
    "\n",
    "display('Ángulo entre u y v: ', theta1)\n"
   ]
  },
  {
   "cell_type": "markdown",
   "metadata": {},
   "source": [
    "## Cosenos directores\n",
    "\n",
    "En general, nos va a convenir medir los ángulos que un vector dado, $\\mathbf{v}$, forma con los tres vectores canónicos, $\\mathbf{i}$, $\\mathbf{j}$ y $\\mathbf{k}$. \n",
    "Lo ilustramos con la siguiente figura, obtenida de la aplicación en Geogebra creada por Elvira Martínez, y con la que podéis jugar aquí: https://www.geogebra.org/m/PvPNNGb9.\n",
    "\n",
    "<img src=\"../../images/01_angulos_directores.jpg\" width=\"750\"/>\n",
    "\n",
    "````{prf:definition} Ángulos y cosenos directores\n",
    ":label: def_01_angulos_directores\n",
    ":nonumber: \n",
    "\n",
    "Dado un vector $\\mathbf{v} = \\left(v_{1}, v_{2}, v_{3}\\right)\\neq \\mathbf{0}$. Llamaremos **ángulos directores** a\n",
    "\n",
    "* $\\alpha$, el ángulo que forma $\\mathbf{v}$ con el vector canónico $\\mathbf{i}$.\n",
    "* $\\beta$, el ángulo que forma $\\mathbf{v}$ con el vector canónico $\\mathbf{j}$.\n",
    "* $\\gamma$, el ángulo que forma $\\mathbf{v}$ con el vector canónico $\\mathbf{k}$.\n",
    "\n",
    "Los cosenos de estos ángulos se llaman **cosenos directores**. \n",
    "````\n",
    "\n",
    "Podemos calcular los cosenos directores con la última propiedad enunciada:\n",
    "\n",
    "* $\\cos\\alpha = \\dfrac{\\mathbf{v}\\cdot\\mathbf{i}}{\\|\\mathbf{v}\\|\\|\\mathbf{i}\\|} = \\dfrac{ v_{1} } {\\|\\mathbf{v}\\|}$.\n",
    "* $\\cos\\beta = \\dfrac{\\mathbf{v}\\cdot\\mathbf{j}}{\\|\\mathbf{v}\\|\\|\\mathbf{j}\\|} = \\dfrac{ v_{2} } {\\|\\mathbf{v}\\|}$.\n",
    "* $\\cos\\gamma = \\dfrac{\\mathbf{v}\\cdot\\mathbf{k}}{\\|\\mathbf{v}\\|\\|\\mathbf{k}\\|} = \\dfrac{ v_{3} } {\\|\\mathbf{v}\\|}$.\n",
    "\n",
    "Una consecuencia interesante de estas fórmulas es que los cosenos directores nos permiten escribir la forma normalizada de cualquier vector:\n",
    "\n",
    "$$\n",
    "\\frac{\\mathbf{v}} {\\|\\mathbf{v}\\|} = \\frac{ v_{1} } {\\|\\mathbf{v}\\|} \\mathbf{i} + \\frac{ v_{2} } {\\|\\mathbf{v}\\|} \\mathbf{j} + \\frac{ v_{3} } {\\|\\mathbf{v}\\|} \\mathbf{k}\n",
    "= \\cos\\alpha  \\mathbf{i} + \\cos\\beta \\mathbf{j} + \\cos\\gamma \\mathbf{k}.\n",
    "$$\n",
    "\n",
    "\n",
    "Como **ejercicio** te proponemos que calcules, a mano, con `Sympy` y, finalmente, con `Numpy`, los ángulos y cosenos directores para el vector $\\mathbf{v} = (2,3,4)$.\n"
   ]
  },
  {
   "cell_type": "markdown",
   "metadata": {},
   "source": [
    "## Proyecciones y componentes vectoriales\n",
    "\n",
    "Vamos a ver ahora una especie de operación inversa para la suma de vectores. Aprenderemos a calcular las descomponer un vector en función de otros dos o tres (en función de que nos movamos en el plano o en el espacio 3D) vectores. \n",
    "\n",
    "Esta operación, que, en principio suena *rara*, es muy habitual en muchas aplicaciones físicas. Tal vez el ejemplo más habitual sea el de descomponer la fuerza de la gravedad sobre un peso situado en un plano inclinado en sus componentes horizontal y vertical, como se muestra en el siguiente dibujo (imagen obtenida de la aplicación de Geogebra de Jesús Benayas Yepes, https://www.geogebra.org/m/fwBuf7Hy):\n",
    "\n",
    "<img src=\"../../images/01_plano_inclinado.jpg\" width=\"650\"/>\n",
    "\n",
    "````{prf:definition} Proyecciones\n",
    ":label: def_01_proyeccion\n",
    ":nonumber: \n",
    "\n",
    "Consideramos dos vectores arbitrarios, $\\mathbf{u}$ y $\\mathbf{v}$, distintos de $\\mathbf{0}$. Entonces:\n",
    "\n",
    "* Definimos la **proyección de $\\mathbf{u}$ en la dirección de $\\mathbf{v}$** como el vector\n",
    "\n",
    "    $$\n",
    "    \\mathbf{w}_{1} \\equiv \\mathrm{proy}_{\\mathbf{v}} \\mathbf{u} = \\left(\\frac{ \\mathbf{u}\\cdot\\mathbf{v} }{ \\|\\mathbf{v}\\|^2 }\\right) \\mathbf{v}.\n",
    "    $$\n",
    "* Definimos la **componente vectorial de $\\mathbf{u}$ ortogonal a $\\mathbf{v}$** como el vector\n",
    "\n",
    "    $$\n",
    "    \\mathbf{w}_{2} = \\mathbf{u} - \\mathbf{w}_{1} = \\mathbf{u} - \\mathrm{proy}_{\\mathbf{v}} \\mathbf{u}. \n",
    "    $$\n",
    "````\n",
    "Con esta definición, podemos escribir $\\mathbf{u} = \\mathbf{w}_{1} + \\mathbf{w}_{2}$, siendo $\\mathbf{w}_{1}$ paralelo a $\\mathbf{v}$ y $\\mathbf{w}_{2}$ ortogonal a $\\mathbf{v}$.  \n",
    "\n",
    "<img src=\"../../images/01_proyeccion.png\" width=\"300\"/>\n",
    "\n",
    "A continuación, como ejemplo, vamos a calcular con `Numpy` y a dibujar con `Matplotlib` las proyecciones de $\\mathbf{u} = (5,10)$ respecto a $\\mathbf{v}=(4,3)$. ¡Anímate a hacerlo a mano!\n"
   ]
  },
  {
   "cell_type": "code",
   "execution_count": 27,
   "metadata": {},
   "outputs": [
    {
     "data": {
      "image/png": "[encoded data removed]",
      "text/plain": [
       "<Figure size 640x480 with 1 Axes>"
      ]
     },
     "metadata": {},
     "output_type": "display_data"
    }
   ],
   "source": [
    "import numpy as np\n",
    "import matplotlib as mp\n",
    "import matplotlib.pyplot as plt\n",
    "\n",
    "# Definimos los vectores u y v\n",
    "u = np.array([5, 10])\n",
    "v = np.array([4, 3])\n",
    "\n",
    "# Calculamos las proyecciones de u respecto a v\n",
    "w1 = ( np.dot(u,v)/ np.linalg.norm(v)**2 ) * v\n",
    "w2 = u - w1 \n",
    "\n",
    "# Ahora dibujamos estos vectores\n",
    "plt.quiver(np.array([0,0,0,0]), np.array([0,0,0,0]), np.array([u[0],w1[0],v[0],w2[0]]), np.array([u[1],w1[1],v[1],w2[1]]), color=['r','k','b','g'], angles='xy', scale_units='xy', scale=1)\n",
    "\n",
    "# Definición de los límites de los ejes\n",
    "plt.xlim([-5,12])\n",
    "plt.ylim([-1,12])\n",
    "\n",
    "# Etiquetas de los ejes\n",
    "plt.xlabel('x')\n",
    "plt.ylabel('y')\n",
    "\n",
    "# Añadimos etiquetas a los vectores\n",
    "plt.text(u[0]/2+0.5, u[1]/2, 'u', fontsize=12, color='r')\n",
    "plt.text(v[0]/2, v[1]/2-0.5, 'v', fontsize=12, color='b')\n",
    "plt.text(w1[0]/2, w1[1]/2-0.5, 'w1', fontsize=12, color='k')\n",
    "plt.text(w2[0]/2, w2[1]/2, 'w2', fontsize=12, color='g')\n",
    "\n",
    "# Visualización\n",
    "plt.show()\n"
   ]
  }
 ],
 "metadata": {
  "kernelspec": {
   "display_name": "Python 3 (ipykernel)",
   "language": "python",
   "name": "python3"
  },
  "language_info": {
   "codemirror_mode": {
    "name": "ipython",
    "version": 3
   },
   "file_extension": ".py",
   "mimetype": "text/x-python",
   "name": "python",
   "nbconvert_exporter": "python",
   "pygments_lexer": "ipython3",
   "version": "3.11.8"
  },
  "vscode": {
   "interpreter": {
    "hash": "6bee1e8c92def9b58716ddd07d843225b81ed35493dd8048850a9a59c060c325"
   }
  }
 },
 "nbformat": 4,
 "nbformat_minor": 2
}
