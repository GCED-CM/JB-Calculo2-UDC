{
 "cells": [
  {
   "attachments": {},
   "cell_type": "markdown",
   "metadata": {},
   "source": [
    "# Vectores en el plano\n",
    "\n",
    "## Definición de vector en el plano\n",
    "\n",
    "Muchas cantidades en geometría y física (área, volumen, temperatura, masa, tiempo,...) se pueden caracterizar por un único número real que se escala a las unidades de medida adecuadas ($m^2$, $m^3$, $^o$ C,...). \n",
    "Se llaman **magnitudes escalares**, y al número real asociado con ellas se llama **escalar**. \n",
    "\n",
    "Sin embargo, otras cantidades (fuerza, velocidad, aceleración,...) implican magnitud y dirección y no pueden caracterizarse completamente por un solo número real: \n",
    "necesitaremos los vectores (y, más adelante, en algunos casos, las matrices).\n",
    "\n",
    "De momento, vamos a centrarnos en dar una correcta definición para estas cantidades en el plano, $\\mathbb{R}^2$.\n",
    "\n",
    "En este caso, para cantidades que impliquen magnitud y dirección, utilizaremos los llamados **segmentos de recta dirigidos**, $\\vec{PQ}$. \n",
    "Este segmento tendrá como punto inicial un punto, $P$, en el plano y como punto final otro punto, $Q$, en el mismo. Su **longitud** (o **magnitud**) se denota por $\\|PQ\\|$.\n",
    "\n",
    "<img src=\"../../images/1_vector_plano.png\" width=\"400\"/>\n",
    "\n",
    "Debemos destacar que los segmentos de recta dirigidos que tienen la misma longitud y dirección son **equivalentes**.\n",
    "\n",
    "````{prf:definition} \n",
    ":label: def_1_vector\n",
    ":nonumber: \n",
    "\n",
    "Un vector es un elemento matemático que tiene una dirección y una magnitud. Se representa como una flecha con un punto inicial y un punto final en un espacio \n",
    "bidimensional o tridimensional. La dirección del vector se da por la línea recta que une los dos puntos, y su magnitud se da por la longitud de la flecha. \n",
    "Los vectores se utilizan comúnmente en física, ingeniería y matemáticas para representar cantidades que tienen una dirección asociada, como la velocidad, la aceleración y la fuerza.\n",
    "````"
   ]
  },
  {
   "cell_type": "markdown",
   "metadata": {},
   "source": []
  }
 ],
 "metadata": {
  "kernelspec": {
   "display_name": "Python 3",
   "language": "python",
   "name": "python3"
  },
  "language_info": {
   "codemirror_mode": {
    "name": "ipython",
    "version": 3
   },
   "file_extension": ".py",
   "mimetype": "text/x-python",
   "name": "python",
   "nbconvert_exporter": "python",
   "pygments_lexer": "ipython3",
   "version": "3.10.8"
  },
  "orig_nbformat": 4,
  "vscode": {
   "interpreter": {
    "hash": "f2c0f1c90395c109e1b87b1f4d6d2ea9e1b09c8587e65b0565fcfbe20df05a54"
   }
  }
 },
 "nbformat": 4,
 "nbformat_minor": 2
}
