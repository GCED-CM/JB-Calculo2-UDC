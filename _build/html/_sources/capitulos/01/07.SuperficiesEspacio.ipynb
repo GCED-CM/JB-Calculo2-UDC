{
 "cells": [
  {
   "attachments": {},
   "cell_type": "markdown",
   "metadata": {},
   "source": [
    "# Superficies en el espacio\n",
    "\n",
    "En esta sección vamos a estudiar las ecuaciones de algunos tipos más complejos de superficies: cilíndircas, cuádricas y de revolución.\n",
    "\n",
    "## Superficies cilíndricas\n",
    "\n",
    "Hasta ahora hemos estudiado dos tipos de superficies:\n",
    "\n",
    "* Esferas, en la sección {ref}`sec:1.2.3.esfera`: $\\left(x- x_{0}\\right)^2 + \\left(y- y_{0}\\right)^2 + \\left(z- z_{0}\\right)^2 = r^2$.\n",
    "* Planos, en la sección {ref}`sec:1.6.3.plano`: $Ax+By+Cz+D=0$.\n",
    "\n",
    "Vamos ahora con un tercer tipo de superficie en el espacio llamada **superficie cilíndrica** o, simplemente, **cilindro**.\n",
    "\n",
    "Vamos a pensar, para fijar ideas, en un cilindro circular recto, como mostramos en la siguiente figura:\n",
    "\n",
    "<img src=\"../../images/1.7.cilindro_circular_recto.jpg\" width=\"250\"/>\n",
    "\n",
    "Este cilindro se genera cuando una recta vertical (es decir, paralela al eje $Z$) se mueve alrededor de la circunferencia $x^2+y^2=a^2$ en el plano $XY$.\n",
    "Generalizamos esta idea en la siguiente definición:\n",
    "\n",
    "````{prf:definition} Superficie cilíndrica\n",
    ":label: def_1.7_cilindro\n",
    ":nonumber: \n",
    "\n",
    "Sea $C$ una curva sobre un plano y $L$ una recta no paralela a ese plano. \n",
    "Llamaremos superficie cilíndrica a la superficie que generan todas las rectas paralelas a $L$ que cortan a $C$.\n",
    "\n",
    "Llamaremos a $C$ **curva generadora** (o **directriz**) y llamaremos **recta generatriz** a $L$. \n",
    "\n",
    "````\n",
    "\n",
    "Sin pérdida de generalidad, podemos suponer que $C$ está en uno de los tres planos de coordenadas. Además, en esta asignatura nos\n",
    "limitaremos a estudiar cilindros rectos, es decir, cilindros cuyas recta generatriz es perpendicular al plano de coordenadas que contiene a $C$.\n",
    "\n",
    "<img src=\"../../images/1.7.cilindro.jpg\" width=\"400\"/>\n",
    "\n",
    "Para describir la ecuación de un cilindro recto, basta con dar la ecuación de la curva $C$ en el plano de coordenadas en que se encuentre, ya que la tercera \n",
    "coordenada, al generarse por una recta perpendicular a este plano, será arbitraria. \n",
    "\n",
    "Por ejemplo, para el cilindro circular recto con el que empezábamos esta subsección, la ecuación en el espacio será $x^2+y^2 = a^2$, \n",
    "ya que podemos elegir cualquier $z$ para este cilindro.\n",
    "\n",
    "Mostramos a continuación (utilizando la aplicación de Geogebra de Allan Avendaño, https://www.geogebra.org/m/VJfSv5Rn) un cilindro parabólico, de ecuación $z = y^2$,\n",
    "y un cilindro hiperbólico, de ecuación $x^2-y^2 = 4$.\n",
    "\n",
    "<img src=\"../../images/1.7.cilindros.jpg\" width=\"750\"/>\n"
   ]
  },
  {
   "attachments": {},
   "cell_type": "markdown",
   "metadata": {},
   "source": [
    "## Superficies cuádricas\n",
    "\n",
    "Las superficies cuádricas responden a la ecuación general $P_{2}(x,y,z) = 0$, siendo $P_{2}$ un polinomio de orden $2$ en las variables $x$, $y$ y $z$, es decir\n",
    "\n",
    "$$\n",
    "Ax^2 + By^2 + Cz^2 + Dxy + Exz + Fyz + Gx + Hy + Ix + J =0.\n",
    "$$\n",
    "\n",
    "En dimensión 3 juegan el mismo papel que las secciones cónicas en el plano. \n",
    "\n",
    "De aquí salen 6 tipos básicos de superficies cuádricas: elipsoide, hiperboloide de una hoja, hiperboloide de dos hojas, cono elíptico, paraboloide elíptico y paraboloide hiperbólico \n",
    "(mira en la wiki: https://es.wikipedia.org/wiki/Cu%C3%A1drica).\n",
    "\n",
    "<img src=\"../../images/1.7.elipsoide_hiperboloide.jpg\" width=\"750\"/>\n",
    "\n",
    "<img src=\"../../images/1.7.hiperboloide_cono.jpg\" width=\"750\"/>\n",
    "\n",
    "<img src=\"../../images/1.7.paraboloides.jpg\" width=\"750\"/>\n"
   ]
  },
  {
   "attachments": {},
   "cell_type": "markdown",
   "metadata": {},
   "source": [
    "## Superficies de revolución\n",
    "\n",
    "El quinto tipo de superficie que vamos a estudiar son las superficies de revolución. \n",
    "\n",
    "Podemos pensar, por ejemplo, la gráfica de una función $y = r(z)$ en el plano $YZ$. \n",
    "Si esta gráfica gira alrededor del eje $Z$ forma una superficie de revolución:\n",
    "\n",
    "<img src=\"../../images/1.7.revolucion.jpg\" width=\"250\"/>\n",
    "\n",
    "La traza de la superficie en el plano $z=z_{0}$ es un círculo cuyo radio es $r\\left(z_{0}\\right)$ y cuya ecuación es\n",
    "\n",
    "$$\n",
    "x^2 + y^2 = \\left[ r\\left(z_{0}\\right) \\right]^2\n",
    "$$\n",
    "Si en vez de centrarnos en el círculo de radio $r\\left(z_{0}\\right)$ dejamos variar $z$ en un determinado intervalo (o en todos los números reales) obtendremos una superficie 3D.\n",
    "\n",
    "De forma similar se pueden obtener ecuaciones de superficies de revolución al situar una curva en uno de los planos de coordenadas y dejarla girar alrededor del eje perpendicular.\n",
    "\n",
    "````{prf:definition} Superficie de revolución\n",
    ":label: def_1.7_revolucion\n",
    ":nonumber: \n",
    "\n",
    "Si la gráfica de una función $r$ se gira sobre uno de los ejes coordenados, la ecuación de la superficie de revolución resultante tendrá una de las siguientes formas:\n",
    "\n",
    "1. Al girar alrededor del eje $X$: $y^2+z^2 = \\left[ r(x) \\right]^2$.\n",
    "2. Al girar alrededor del eje $Y$: $x^2+z^2 = \\left[ r(y) \\right]^2$.\n",
    "3. Al girar alrededor del eje $Z$: $x^2+y^2 = \\left[ r(z) \\right]^2$.\n",
    "\n",
    "````\n",
    "\n"
   ]
  }
 ],
 "metadata": {
  "kernelspec": {
   "display_name": "Python 3",
   "language": "python",
   "name": "python3"
  },
  "language_info": {
   "codemirror_mode": {
    "name": "ipython",
    "version": 3
   },
   "file_extension": ".py",
   "mimetype": "text/x-python",
   "name": "python",
   "nbconvert_exporter": "python",
   "pygments_lexer": "ipython3",
   "version": "3.11.1 (tags/v3.11.1:a7a450f, Dec  6 2022, 19:58:39) [MSC v.1934 64 bit (AMD64)]"
  },
  "orig_nbformat": 4,
  "vscode": {
   "interpreter": {
    "hash": "6bee1e8c92def9b58716ddd07d843225b81ed35493dd8048850a9a59c060c325"
   }
  }
 },
 "nbformat": 4,
 "nbformat_minor": 2
}
