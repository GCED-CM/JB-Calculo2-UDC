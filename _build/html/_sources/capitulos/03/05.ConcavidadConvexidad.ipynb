{
 "cells": [
  {
   "cell_type": "markdown",
   "metadata": {},
   "source": [
    "# Convexidad y concavidad\n",
    "\n",
    "## Definiciones\n",
    "\n",
    "Matemáticamente, la idea de una función convexa es sencilla: es aquella función en la que la recta secante está por encima de la gráfica de la función. \n",
    "Dicho de forma coloquial: es un vaso en el que no se derramaría el agua. \n",
    "\n",
    "<img src=\"../../images/cap_deriv_convexidad.png\" width=\"400\"/>\n",
    "\n",
    "Si recordamos que la recta secante a $f$ por $a$ y $b$ tiene ecuación $r(x) =\\frac{f(b)-f(a)}{b-a}(x-a) + f(a)$, obtenemos la siguiente definición formal:\n",
    "\n",
    "````{prf:definition}  Convexidad\n",
    ":label: def_convexidad\n",
    ":nonumber: \n",
    "\n",
    "Se dice que $f$ es convexa en $[a,b]$ si\n",
    "            \n",
    "$$\n",
    "f(x) \\leq \\frac{f(b)-f(a)}{b-a}(x-a) + f(a) \\, , \\qquad \\forall x \\in [a,b].\n",
    "$$\n",
    "\n",
    "````\n",
    "\n",
    "Análogamente, diremos que $f$ es cóncava si la gráfica queda por debajo de la recta secante o, equivalentemente, si su inversa es una función convexa.\n",
    "\n",
    "````{prf:definition}  Concavidad\n",
    ":label: def_concavidad\n",
    ":nonumber: \n",
    "\n",
    "Se dice que $f$ es cóncava en $[a,b]$ si $-f$ es convexa en ese intervalo.\n",
    "            \n",
    "````\n",
    "\n",
    "La última definición vinculada a concavidad/convexidad es la siguiente:\n",
    "\n",
    "````{prf:definition}  Punto de inflexión\n",
    ":label: def_punto_inflexion\n",
    ":nonumber: \n",
    "\n",
    "Se dice que $f$ tiene un punto de inflexión en $x_{0}$ si en ese punto la función pasa de cóncava a convexa o viceversa.\n",
    "\n",
    "````\n",
    "\n",
    "<img src=\"../../images/cap_deriv_puntos_inflexion.png\" width=\"400\"/>\n",
    "\n",
    "## Convexidad y concavidad para funciones suficientemente derivables\n",
    "\n",
    "Y ahora una reflexión, que nos llevará a una importante propiedad: si una función es convexa (mira el gráfico del principio de esta sección), su derivada, si existe, será negativa al principio, luego valdrá $0$ en el mínimo relativo para pasar a ser positiva a continuación. Es decir, la derivada de una función convexa es creciente. Y, por tanto, la derivada de ésta (es decir, la segunda derivada de $f$, siempre que exista) será positiva. Por supuesto, pasa lo contrario para una función cóncava. \n",
    "\n",
    "Todo esto se resume en la siguiente\n",
    "\n",
    "````{prf:property}  \n",
    ":label: prop_concavidad_convexidad\n",
    ":nonumber: \n",
    "\n",
    "* Sea $f:[a,b] \\longrightarrow \\mathbb{R}$ continua en $[a,b]$ y\n",
    "derivable en $(a,b)$. Entonces $f$ es convexa en $[a,b]$ si y sólo \n",
    "si $f'$ es creciente en $(a,b)$. Esto equivale a que $f'' \\geq 0$, \n",
    "si $f$ tiene derivada segunda.\n",
    "\n",
    "* Análogamente, $f$ es cóncava en $[a,b]$ si y sólo si $f'$ es decreciente\n",
    "en $(a,b)$ (es decir, si y sólo si $f'' \\leq 0$, en caso de  existir derivada segunda).\n",
    "\n",
    "````\n",
    "\n",
    "Ilustramos esta propiedad en la siguiente figura:\n",
    "\n",
    "<img src=\"../../images/cap_deriv_prop_convexidad.png\" width=\"400\"/>\n",
    "\n",
    "## Más información\n",
    "\n",
    "* En esta página web puedes ver más explicaciones y algunos ejemplos (tanto resueltos como propuestos): https://www.funciones.xyz/concavidad-y-convexidad-de-una-funcion-curvatura/ \n",
    "* En la wiki empiezan fácil, pero van hacia conceptos más abstractos. Aún así, puedes echarle un vistazo: https://es.wikipedia.org/wiki/Funci%C3%B3n_convexa "
   ]
  }
 ],
 "metadata": {
  "jupytext": {
   "formats": "ipynb,md:myst"
  },
  "kernelspec": {
   "display_name": "Python 3.10.8 64-bit (microsoft store)",
   "language": "python",
   "name": "python3"
  },
  "language_info": {
   "codemirror_mode": {
    "name": "ipython",
    "version": 3
   },
   "file_extension": ".py",
   "mimetype": "text/x-python",
   "name": "python",
   "nbconvert_exporter": "python",
   "pygments_lexer": "ipython3",
   "version": "3.10.8"
  },
  "vscode": {
   "interpreter": {
    "hash": "f2c0f1c90395c109e1b87b1f4d6d2ea9e1b09c8587e65b0565fcfbe20df05a54"
   }
  }
 },
 "nbformat": 4,
 "nbformat_minor": 2
}
