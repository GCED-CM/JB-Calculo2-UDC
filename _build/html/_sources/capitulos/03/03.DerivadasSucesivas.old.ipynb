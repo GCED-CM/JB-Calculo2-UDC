{
 "cells": [
  {
   "cell_type": "markdown",
   "metadata": {},
   "source": [
    "# Derivadas sucesivas\n",
    "\n",
    "Vamos a suponer que tenemos una función $f:(a,b) \\longrightarrow \\mathbb R$, derivable en $(a,b)$. Podemos considerar, entonces, su función derivada en $(a,b)$:\n",
    "\n",
    "   \\begin{equation*}\n",
    "   \\begin{array}{cccc}\n",
    "   f': & (a,b) & \\longrightarrow & \\mathbb{R} \\\\\n",
    "      &   x   &   \\leadsto      & f'(x)\n",
    "   \\end{array}\n",
    "   \\end{equation*}\n",
    "\n",
    "````{prf:definition} \n",
    ":label: def_derivada_segunda\n",
    ":nonumber: \n",
    "\n",
    "Dado un punto $x_0 \\in (a,b)$ definimos la **derivada segunda** de $f$ en $x_0$ como la derivada de $f'$ en $x_0$, es decir, como el siguiente límite:\n",
    " \n",
    " \\begin{equation*}\n",
    "    f''(x_0) =(f')'(x_0) = \\lim_{h\\rightarrow 0} \\dfrac{f'(x_0+h) - f'(x_0)}{h}.\n",
    " \\end{equation*}\n",
    " Si este límite existe y es finito, se dice que $f$ es derivable dos veces en $x_0$.\n",
    "````\n",
    "\n",
    "````{prf:definition} \n",
    ":label: def_derivadas_sucesivas\n",
    ":nonumber: \n",
    "\n",
    " Si $f$ admite derivada segunda en todo punto de $(a,b)$ definimos su **derivada tercera** en $x_0$ como el límite, si existe,\n",
    " \n",
    "   \\begin{equation*}\n",
    "      f'''(x_0) =(f'')'(x_0) = \\lim_{h\\rightarrow 0} \\dfrac{f''(x_0+h) - f''(x_0)}{h}.\n",
    "   \\end{equation*}\n",
    " Así podríamos definir la derivada cuarta, etc. En general, una vez que se tiene $f^{n-1}:(a,b) \\longrightarrow \\mathbb R$, definimos la **derivada n-ésima en $x_{0}$** como: \n",
    " \n",
    "   \\begin{equation*}\n",
    "   f^{n}(x_0) = \\left( f^{(n-1)}\\right)'(x_0).\n",
    "   \\end{equation*}\n",
    " ````\n",
    "\n",
    "Por ejemplo, si partimos de una función sencilla,\n",
    "* $f(x) = \\sin(x)+x^2$,\n",
    "* $f'(x) = \\cos(x) + 2x$,\n",
    "* $f''(x) = -\\sin(x) + 2$,\n",
    "* $f'''(x) = - \\cos(x)$,\n",
    "* etc.\n",
    "\n",
    "La orden en `Sympy` para calcular la derivada n-ésima de una expresión es la siguiente: "
   ]
  },
  {
   "cell_type": "code",
   "execution_count": 5,
   "metadata": {},
   "outputs": [
    {
     "data": {
      "text/latex": [
       "$\\displaystyle x^{2} + \\sin{\\left(x \\right)}$"
      ],
      "text/plain": [
       "x**2 + sin(x)"
      ]
     },
     "metadata": {},
     "output_type": "display_data"
    },
    {
     "data": {
      "text/latex": [
       "$\\displaystyle 2 x + \\cos{\\left(x \\right)}$"
      ],
      "text/plain": [
       "2*x + cos(x)"
      ]
     },
     "metadata": {},
     "output_type": "display_data"
    },
    {
     "data": {
      "text/latex": [
       "$\\displaystyle 2 - \\sin{\\left(x \\right)}$"
      ],
      "text/plain": [
       "2 - sin(x)"
      ]
     },
     "metadata": {},
     "output_type": "display_data"
    },
    {
     "data": {
      "text/latex": [
       "$\\displaystyle - \\cos{\\left(x \\right)}$"
      ],
      "text/plain": [
       "-cos(x)"
      ]
     },
     "metadata": {},
     "output_type": "display_data"
    }
   ],
   "source": [
    "import sympy as sp\n",
    "\n",
    "x = sp.symbols('x', real=True)\n",
    "f_exp = sp.sin(x) + x**2\n",
    "display(f_exp)\n",
    "display(sp.diff(f_exp,x))\n",
    "display(sp.diff(f,x,2))\n",
    "display(sp.diff(f,x,3))\n",
    "# Nota: también se puede usar la siguiente escritura:\n",
    "# display(f_exp.diff(x,3))"
   ]
  },
  {
   "cell_type": "markdown",
   "metadata": {},
   "source": [
    "````{prf:definition} Clase de una función\n",
    ":label: def_clase_funcion \n",
    ":nonumber: \n",
    "\n",
    "Sea $f:(a,b) \\longrightarrow \\mathbb R$. Diremos que\n",
    "1. $f$ es de clase $n$ en $(a,b)$, $f \\in \\mathcal{C}^n(a,b)$, si existen las $n$ primeras derivadas de $f$, $f'$, $f''$, $\\ldots$, $f^{(n}$, y además $f^{(n}$ es una función continua,\n",
    "2. $f$ es de clase $0$ en $(a,b)$, $f\\in\\mathcal{C}^0(a,b)$, si $f$ es continua,\n",
    "3. $f$ es de clase $\\infty$ en (a,b), $f \\in \\mathcal{C}^\\infty(a,b)$, si $f\\in\\mathcal{C}^n(a,b), \\forall n\\in\\mathbb N$,\n",
    "4. $f$ es de clase $n$ en $[a,b]$, $f \\in \\mathcal{C}^n[a,b]$,si existe $(c,d)\\supset [a,b]$ tal que $f\\in\\mathcal{C}^n(c,d)$.\n",
    "````\n",
    "\n",
    "Veamos un ejercicio/ejemplo completo para practicas:\n",
    "\n",
    "````{prf:example} \n",
    ":label: ex_clase_funcion\n",
    ":nonumber: \n",
    "\n",
    "Sea la función $f(x) = \\dfrac{1}{2} x |x|$, $\\forall x\\in\\mathbb R$. ¿Cuál es la clase de $f$ en $\\mathbb R$?\n",
    "````\n",
    "\n",
    "**Respuesta:** En primer lugar, separamos el valor absoluto según lo de dentro sea positivo o negativo,\n",
    "\n",
    "$$\n",
    "f(x)=\\left\\{\n",
    "\\begin{array}{cl}\n",
    "-\\frac{1}{2}x^2&\\quad\\mbox{si }x<0, \\\\\n",
    "\\frac{1}{2}x^2&\\quad\\mbox{si }x\\geq 0.\n",
    "\\end{array}\\right.\n",
    "$$\n",
    "La representación gráfica de $f$ en `Sympy` se puede obtener del siguiento modo:"
   ]
  },
  {
   "cell_type": "code",
   "execution_count": 17,
   "metadata": {},
   "outputs": [
    {
     "data": {
      "image/png": "[encoded data removed]",
      "text/plain": [
       "<Figure size 432x288 with 1 Axes>"
      ]
     },
     "metadata": {
      "needs_background": "light"
     },
     "output_type": "display_data"
    }
   ],
   "source": [
    "f_expr = 1/2*x*sp.Abs(x)\n",
    "p = sp.plot(f_expr, (x, -4, 4), show=False)\n",
    "p[0].line_color='r'\n",
    "p.xlabel='x'\n",
    "p.ylabel='y'\n",
    "p.show()"
   ]
  },
  {
   "cell_type": "markdown",
   "metadata": {},
   "source": [
    "Ahora vamos a comprobar si $f$ es una función continua. Es evidente que $f$ es continua en todo punto $x$ distinto del $0$, ya que para $x<0$ y para $x>0$ $f$ es un polinomio. El $0$ es un punto que debemos estudiar con más cuidado, ya que en él se produce un cambio en la definición de $f$. Calculamos sus límites laterales,\n",
    "\n",
    "\\begin{eqnarray*}\n",
    "&&\\lim_{x\\to 0^{-}}f(x)=\\lim_{x\\to 0^{-}}-\\frac{1}{2}x^2=0=f(0), \\\\\n",
    "&&\\lim_{x\\to 0^{+}}f(x)=\\lim_{x\\to 0^{+}}\\frac{1}{2}x^2=0=f(0).\n",
    "\\end{eqnarray*}\n",
    "Como los dos límites coinciden con el valor de la función en ese punto, ya sabemos que $f$ es continua en $0$ y, por tanto, continua en todo $\\mathbb R$. Entonces \n",
    "\n",
    "$$\\fbox{$f\\in\\mathcal{C}^0(\\mathbb R).$}$$"
   ]
  },
  {
   "cell_type": "code",
   "execution_count": 20,
   "metadata": {},
   "outputs": [
    {
     "data": {
      "text/latex": [
       "$\\displaystyle 0$"
      ],
      "text/plain": [
       "0"
      ]
     },
     "metadata": {},
     "output_type": "display_data"
    },
    {
     "data": {
      "text/latex": [
       "$\\displaystyle 0$"
      ],
      "text/plain": [
       "0"
      ]
     },
     "metadata": {},
     "output_type": "display_data"
    },
    {
     "name": "stdout",
     "output_type": "stream",
     "text": [
      "f es de clase 0? True\n"
     ]
    }
   ],
   "source": [
    "f = sp.Lambda(x, f_expr)\n",
    "display(sp.limit(f(x),x,0,dir='-'))\n",
    "display(sp.limit(f(x),x,0,dir='+'))\n",
    "print('f es de clase 0?', sp.limit(f(x),x,0) == f(0))"
   ]
  },
  {
   "cell_type": "markdown",
   "metadata": {},
   "source": [
    "Vamos a calcular ahora la derivada de $f$. El $0$ es el punto problemático. Estudiamos $f'(0)$ en primer lugar, calculando sus derivadas laterales:\n",
    "\n",
    "\\begin{eqnarray*}\n",
    "&&f'(0^{-})=\\lim_{h\\to 0^{-}}\\frac{f(h)-f(0)}{h}=\\lim_{h\\to\n",
    "0^{-}}\\frac{-\\frac{1}{2}h^2-0}{h}=\\lim_{h\\to 0^{-}}-\\frac{1}{2}h^2=0, \\\\\n",
    "&&f'(0^{+})=\\lim_{h\\to 0^{+}}\\frac{f(h)-f(0)}{h}=\\lim_{h\\to\n",
    "0^{+}}\\frac{\\frac{1}{2}h^2-0}{h}=\\lim_{h\\to 0^{+}}\\frac{1}{2}h^2=0.\n",
    "\\end{eqnarray*}\n",
    "Como las derivadas laterales coinciden, sabemos que $f'$ es una función derivable en el $0$ y que $f'(0)=0$. En el resto de puntos es muy sencillo derivar, porque $f$ es un polinomio. Resulta entonces,\n",
    "\n",
    "$$\n",
    "f'(x)=\\left\\{\n",
    "\\begin{array}{cl}\n",
    "-x&\\quad\\mbox{si }x<0, \\\\\n",
    "0&\\quad\\mbox{si }x=0, \\\\\n",
    "x&\\quad\\mbox{si }x\\geq 0.\n",
    "\\end{array}\\right.\n",
    "$$\n",
    "Es muy sencillo comprobar que $f'$ es una función continua. Entonces \n",
    "\n",
    "$$\\fbox{$f\\in\\mathcal{C}^1(\\mathbb R).$}$$\n",
    "La representación gráfica de $f'$ se obtiene del siguiente modo."
   ]
  },
  {
   "cell_type": "code",
   "execution_count": 30,
   "metadata": {},
   "outputs": [
    {
     "data": {
      "image/png": "[encoded data removed]",
      "text/plain": [
       "<Figure size 432x288 with 1 Axes>"
      ]
     },
     "metadata": {
      "needs_background": "light"
     },
     "output_type": "display_data"
    }
   ],
   "source": [
    "p = sp.plot(f_expr.diff(x,1), (x, -4, 4), show=False)\n",
    "p[0].line_color='r'\n",
    "p.xlabel='x'\n",
    "p.ylabel='y'\n",
    "p.show()"
   ]
  },
  {
   "cell_type": "markdown",
   "metadata": {},
   "source": [
    "Ahora intentamos calcular la derivada segunda de $f$. Comenzamos con el punto problemático, $x=0$, calculando sus derivadas laterales.\n",
    "\n",
    "\\begin{eqnarray*}\n",
    "&&f''(0^{-})=\\lim_{h\\to 0^{-}}\\frac{f'(h)-f'(0)}{h}=\\lim_{h\\to\n",
    "0^{-}}\\frac{-h-0}{h}=\\lim_{h\\to 0^{-}}-1=-1, \\\\\n",
    "&&f''(0^{+})=\\lim_{h\\to 0^{+}}\\frac{f'(h)-f'(0)}{h}=\\lim_{h\\to\n",
    "0^{+}}\\frac{h-0}{h}=\\lim_{h\\to 0^{+}}1=1.\n",
    "\\end{eqnarray*}\n",
    "Como las derivadas laterales no coinciden, resulta que $\\not\\exists f''(0)$. Por lo tanto \n",
    "\n",
    "$$\\fbox{$f\\not\\in\\mathcal{C}^2(\\mathbb R).$}$$\n",
    "Con la ayuda de Sympy podríamos analizarlo del siguiente modo:"
   ]
  },
  {
   "cell_type": "code",
   "execution_count": 44,
   "metadata": {},
   "outputs": [
    {
     "data": {
      "image/png": "[encoded data removed]",
      "text/plain": [
       "<Figure size 432x288 with 1 Axes>"
      ]
     },
     "metadata": {
      "needs_background": "light"
     },
     "output_type": "display_data"
    },
    {
     "name": "stdout",
     "output_type": "stream",
     "text": [
      "f2_0Minus =  -1.00000000000000 , f2_0Plus =  1.00000000000000\n",
      "Existe f''(0)? False\n"
     ]
    }
   ],
   "source": [
    "f2_expr = f_expr.diff(x,2)\n",
    "p = sp.plot(f2_expr, (x, -4, 4), show=False)\n",
    "p[0].line_color='r'\n",
    "p.xlabel='x'\n",
    "p.ylabel='y'\n",
    "p.show()\n",
    "\n",
    "f2 = sp.Lambda(x, f2_expr)\n",
    "f2_0Minus = sp.limit(f2(x),x,0,dir='-')\n",
    "f2_0Plus = sp.limit(f2(x),x,0,dir='+')\n",
    "print('f2_0Minus = ', f2_0Minus, ', f2_0Plus = ', f2_0Plus) \n",
    "print('Existe f\\'\\'(0)?',f2_0Minus==f2_0Plus)"
   ]
  }
 ],
 "metadata": {
  "kernelspec": {
   "display_name": "Python 3",
   "language": "python",
   "name": "python3"
  },
  "language_info": {
   "codemirror_mode": {
    "name": "ipython",
    "version": 3
   },
   "file_extension": ".py",
   "mimetype": "text/x-python",
   "name": "python",
   "nbconvert_exporter": "python",
   "pygments_lexer": "ipython3",
   "version": "3.9.13"
  },
  "vscode": {
   "interpreter": {
    "hash": "4253bf17849ddc6b6e8c6b6b1c64951bcfcb143729dea15b0d22aeda669b2aa2"
   }
  }
 },
 "nbformat": 4,
 "nbformat_minor": 2
}
