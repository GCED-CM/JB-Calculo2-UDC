{
 "cells": [
  {
   "cell_type": "markdown",
   "metadata": {},
   "source": [
    "# Diferenciabilidad\n",
    "\n",
    "Comenzaremos esta sección motivando la aparición de un concepto más fuerte que el asociado a la existencia de las derivadas parciales, que resulta ser el concepto de diferenciabilidad. Para ello es necesario explicar que para funciones de dos o más variables la existencia de las derivadas parciales (es decir, la derivabilidad en la dirección de los ejes) no garantiza la continuidad, a diferencia de lo que ocurre para funciones de una variable. Además, la existencia de las derivadas parciales tampoco garantiza la existencia de todas las derivadas direccionales. Como ejemplo que ilustra ambas cuestiones, se puede considerar el siguiente. \n",
    "\n",
    "````{prf:example}\n",
    ":label: ex_03_der_cont Existencia de derivadas parciales no implica continuidad ni derivabilidad en toda dirección \n",
    ":nonumber:\n",
    "\n",
    "La función \n",
    "\n",
    "$$\n",
    "f(x,y)=\\left\\{\n",
    "\\begin{array}{ll}\n",
    "\\dfrac{-3xy}{x^2+y^2} & \\textrm{si }(x,y)\\neq\n",
    "(0,0),\n",
    "\\\\ \n",
    " 0 & \\textrm{si }(x,y)=(0,0),\n",
    "\\end{array}\n",
    "\\right.\n",
    "$$\n",
    "\n",
    "no es continua en $(0,0)$ ni existen todas sus derivadas direccionales, pero existen sus derivadas parciales (de primer orden) en dicho punto. Se puede comprobar que $f$ no es continua en $(0,0)$ analizando su límite a través de dos caminos como se muestra en la figura. En concreto, el límite restringido a la recta $y=x$ es\n",
    "\n",
    "$$\n",
    "\\lim_{\\substack{ (x,y)\\to (0,0)\\\\ y=x}} f(x,y)=\\lim_{x\\to 0} f(x,x)=\\lim_{x\\to 0}\\dfrac{-3x^2}{2x^2}=-\\dfrac{3}{2},\n",
    "$$\n",
    "\n",
    "mientras que considerando la recta $y=-x$ se tiene \n",
    "\n",
    "$$\n",
    "\\lim_{\\substack{ (x,y)\\to (0,0)\\\\ y=-x}} f(x,y)=\\lim_{x\\to 0} f(x,-x)=\\lim_{x\\to 0}\\dfrac{3x^2}{2x^2}=\\dfrac{3}{2}.\n",
    "$$\n",
    "\n",
    "Por tanto, el límite de $f$ en $(0,0)$ no existe, y podemos concluir que $f$ no es continua en $(0,0)$. A continuación, comprobamos la existencia de las derivadas parciales en el $(0,0)$ utilizando la definición,    \n",
    "\n",
    "\\begin{eqnarray*}\n",
    "\\dfrac{\\partial f}{\\partial x}(0,0)&=\\lim_{h\\to 0} \\dfrac{f(h,0)-f(0,0)}{h}=\\lim_{h\\to 0}\\dfrac{0-0}{h}=0,\\\\\n",
    "\\dfrac{\\partial f}{\\partial y}(0,0)&=\\lim_{h\\to 0} \\dfrac{f(0,h)-f(0,0)}{h}=\\lim_{h\\to 0}\\dfrac{0-0}{h}=0.\n",
    "\\end{eqnarray*}\n",
    "\n",
    "Sin embargo, en este caso podemos comprobar, de forma análoga a como sigue, que no existe en el $(0,0)$ ninguna otra derivada direccional distinta a las parciales. Por simplicidad, lo comprobamos únicamente en la dirección del vector $\\mathbf{u}=\\left(\\frac{1}{\\sqrt{2}},\\frac{1}{\\sqrt{2}}\\right)$: \n",
    "\n",
    "\\begin{eqnarray*}\n",
    " D_{\\left(\\frac{1}{\\sqrt{2}},\\frac{1}{\\sqrt{2}}\\right)}f(0,0) &:=& \n",
    "    \\lim_{h\\to 0}\\frac{f\\left( (0,0) + h\\left(\\frac{1}{\\sqrt{2}},\\frac{1}{\\sqrt{2}}\\right) \\right)-f(0,0)}{h} \\\\\n",
    "    &=& \\lim_{h\\to 0}\\frac{f\\left(\\frac{h}{\\sqrt{2}},\\frac{h}{\\sqrt{2}}\\right)}{h}=\\lim_{h\\to 0}\\frac{\\frac{-\\frac{3h^2}{2}}{\\frac{h^2}{2}+\\frac{h^2}{2}}}{h}=\n",
    "    \\left\\{\\begin{array}{l}\\displaystyle\\lim_{h\\to 0^-}\\frac{-3}{2h}=\\infty\\\\ \\displaystyle\\lim_{h\\to 0^+}\\frac{-3}{2h}=-\\infty\\end{array} \\right.\n",
    "\\end{eqnarray*}\n",
    "\n",
    "\n",
    "<img src=\"../../images/03_ejemplo1.png\" width=\"250\"/>\n",
    "\n",
    "````\n",
    "\n"
   ]
  },
  {
   "cell_type": "markdown",
   "metadata": {},
   "source": [
    "El concepto de diferenciabilidad está relacionado con la existencia de una aproximación lineal de la función en las proximidades del punto. En concreto, introducimos a continuación su definición formal para el caso de funciones escalares de dos variables resultando natural su extensión a más variables,\n",
    "\n",
    "````{prf:definition} Diferenciabilidad\n",
    ":label: def_03_difer \n",
    ":nonumber: \n",
    "\n",
    "Sea $f:R\\subset \\mathbb{R}^2\\longrightarrow\n",
    "\\mathbb{R}$ con $R$ abierto. Decimos que $f$ es diferenciable en $(x_0,y_0)\\in D$, si existen las derivadas parciales primeras de $f$ en el punto $(x_0,y_0)$, y además\n",
    "\n",
    "$$\n",
    "\\lim_{(x,y)\\to (x_0,y_0)}\\dfrac{f(x,y)-[f(x_0,y_0)+\\nabla f(x_0,y_0)\\cdot (x-x_0,y-y_0)]}{||(x-x_0,y-y_0)||}=0.\n",
    "$$\n",
    "\n",
    "Decimos que $f$ es diferenciable en $R$, si lo es en cada punto de $R$.\n",
    "\n",
    "````\n",
    "\n"
   ]
  },
  {
   "cell_type": "markdown",
   "metadata": {},
   "source": [
    "Finalizamos la sección estableciendo dos condiciones para la diferenciabilidad, la necesaria de continuidad y la suficiente de continuidad de las derivadas parciales.\n",
    "\n",
    "````{prf:theorem} Diferenciabilidad implica continuidad \n",
    ":label: th_03_cont\n",
    ":nonumber: \n",
    "Si $f$ es diferenciable en $\\mathbf{x}_0$, entonces $f$ es continua en $\\mathbf{x}_0$.\n",
    "\n",
    "````\n",
    "\n",
    "````{prf:theorem} Condición suficiente para la diferenciabilidad \n",
    ":label: th_03_cont_der\n",
    ":nonumber: \n",
    "Si las derivadas parciales (de primer orden) de $f$ son continuas en una región abierta $R$, entonces $f$ es diferenciable en $R$.\n",
    "\n",
    "````\n"
   ]
  }
 ],
 "metadata": {
  "kernelspec": {
   "display_name": "Python 3 (ipykernel)",
   "language": "python",
   "name": "python3"
  },
  "language_info": {
   "codemirror_mode": {
    "name": "ipython",
    "version": 3
   },
   "file_extension": ".py",
   "mimetype": "text/x-python",
   "name": "python",
   "nbconvert_exporter": "python",
   "pygments_lexer": "ipython3",
   "version": "3.9.13"
  },
  "vscode": {
   "interpreter": {
    "hash": "6bee1e8c92def9b58716ddd07d843225b81ed35493dd8048850a9a59c060c325"
   }
  }
 },
 "nbformat": 4,
 "nbformat_minor": 2
}
