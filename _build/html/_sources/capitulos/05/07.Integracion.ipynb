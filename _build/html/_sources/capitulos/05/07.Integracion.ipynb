{
 "cells": [
  {
   "cell_type": "markdown",
   "metadata": {},
   "source": [
    "# Integración con Python\n",
    "\n",
    "Esta sección pretende ser un compendio (esperemos que claro y ordenado) de todo el `Python` \n",
    "que hemos ido usando en el Capítulo 4. \n",
    "\n",
    "Esta sección también puede servir como repaso de los conceptos más aplicados que hemos introducido en dicho capítulo."
   ]
  },
  {
   "cell_type": "markdown",
   "metadata": {},
   "source": [
    "## Integrales iteradas con `Sympy`\n",
    "\n",
    "Mostramos, sobre un ejemplo, el cálculo de integrales iteradas con la ayuda de `Sympy`.\n",
    "\n",
    "En este caso vamos a calcular la integral\n",
    "\n",
    "$$\n",
    "\\int_{1}^{2}\\left[\\int_{1}^{x} (2xy + 3y^2)dy \\right] dx.\n",
    "$$\n",
    "Lo haremos de dos maneras diferentes:\n",
    "\n",
    "1. integrando primero respecto a $y$ y luego respecto a $x$,\n",
    "2. integrando primero respecto a $x$ y luego respecto a $y$."
   ]
  },
  {
   "cell_type": "code",
   "execution_count": 2,
   "metadata": {},
   "outputs": [
    {
     "data": {
      "text/latex": [
       "$\\displaystyle 5$"
      ],
      "text/plain": [
       "5"
      ]
     },
     "metadata": {},
     "output_type": "display_data"
    },
    {
     "data": {
      "text/latex": [
       "$\\displaystyle 5$"
      ],
      "text/plain": [
       "5"
      ]
     },
     "metadata": {},
     "output_type": "display_data"
    }
   ],
   "source": [
    "import sympy as sp\n",
    "\n",
    "x, y = sp.symbols('x y', real=True) # define as variables simbólicas x, y\n",
    "\n",
    "f_expr = 2*x*y + 3*y**2\n",
    "f = sp.Lambda((x,y), f_expr)\n",
    "\n",
    "res1 = sp.integrate(f_expr, (y, 1, x), (x, 1, 2))\n",
    "display(res1)\n",
    "res2 = sp.integrate(f(x,y), (y, 1, x), (x, 1, 2))\n",
    "display(res2)"
   ]
  },
  {
   "cell_type": "markdown",
   "metadata": {},
   "source": [
    "## Cálculo del área de una superficie utilizando ' Sympy' \n",
    "\n",
    "En este caso, debemos integrar la función $1$ en la región de que se trate. \n",
    "\n",
    "Como ejemplo, vamos a calcular la superficie de la región que mostramos a continuación:\n",
    "\n",
    "<img src=\"../../images/4.2.Region1.png\" width=\"400\"/>"
   ]
  },
  {
   "cell_type": "code",
   "execution_count": 3,
   "metadata": {},
   "outputs": [
    {
     "data": {
      "text/latex": [
       "$\\displaystyle - \\cos{\\left(2 \\right)} + \\cos{\\left(1 \\right)}$"
      ],
      "text/plain": [
       "-cos(2) + cos(1)"
      ]
     },
     "metadata": {},
     "output_type": "display_data"
    },
    {
     "data": {
      "text/latex": [
       "$\\displaystyle 0.956449142415282$"
      ],
      "text/plain": [
       "0.956449142415282"
      ]
     },
     "metadata": {},
     "output_type": "display_data"
    }
   ],
   "source": [
    "import sympy as sp\n",
    "\n",
    "x, y = sp.symbols('x y', real=True) # define as variables simbólicas x, y\n",
    "\n",
    "# res = sp.integrate(1, (y, sp.cos(x), sp.sin(x)), (x, 1, 2))\n",
    "res = sp.integrate(1, (y, 0, sp.sin(x)), (x, 1, 2))\n",
    "display(res)\n",
    "display(sp.N(res))"
   ]
  },
  {
   "cell_type": "markdown",
   "metadata": {},
   "source": [
    "## Cálculo de volúmenes con ' Sympy' \n",
    "\n",
    "Para calcular el volumen entre el plano $XY$ y el gráfico de una función positiva, debemos integrar esa función en el dominio correspondiente. \n",
    "\n",
    "Como ejemplo, vamos a calcular (de dos maneras distintas, según el orden elegido para las variables) el volumen de la región  sólida delimitada por el plano $z=f(x,y)=2–x–2y$ y los tres planos de coordenadas\n",
    "\n",
    "<img src=\"../../images/05_vol_iter.png\" width=\"250\"/>\n"
   ]
  },
  {
   "cell_type": "code",
   "execution_count": 4,
   "metadata": {},
   "outputs": [
    {
     "data": {
      "text/latex": [
       "$\\displaystyle \\frac{2}{3}$"
      ],
      "text/plain": [
       "2/3"
      ]
     },
     "metadata": {},
     "output_type": "display_data"
    },
    {
     "data": {
      "text/latex": [
       "$\\displaystyle \\frac{2}{3}$"
      ],
      "text/plain": [
       "2/3"
      ]
     },
     "metadata": {},
     "output_type": "display_data"
    }
   ],
   "source": [
    "import sympy as sp\n",
    "x, y = sp.symbols('x y', real=True)\n",
    "f = sp.Lambda((x,y),2-x-2*y)\n",
    "volumen = sp.integrate(f(x,y), (y, 0, (2-x)/2), (x, 0, 2))\n",
    "display(volumen)\n",
    "volumen2 = sp.integrate(f(x,y), (x, 0, 2-2*y), (y, 0, 1))\n",
    "display(volumen2)"
   ]
  },
  {
   "cell_type": "markdown",
   "metadata": {},
   "source": [
    "## Cálculo del valor medio con ' Sympy'\n",
    "\n",
    "Si queremos calcular el valor medio de una función de dos variables en una región plana, $R$, debemos aplicar la fórmula\n",
    "\n",
    "$$\n",
    "\\textrm{Valor medio}=\\dfrac{1}{\\textrm{Área}\\,(R)}\\int_R\\int f(x,y)\\,dA.\n",
    "$$\n",
    "\n",
    "Calculamos a continuación el valor medio de $f(x,y)=\\dfrac{1}{2}xy$ sobre la región del plano $R$ dada por un rectángulo con vértices $(0,0)$, $(4,0)$, $(4,3)$ y $(0,3)$. Para ello, observamos que el área de la región rectangular $R$ es $4\\times 3=12$, y que los límites para $x$ e $y$ son $0\\leq x\\leq 4$ e $0\\leq y\\leq 3$, como se muestra en la figura \n",
    "\n",
    "<img src=\"../../images/05_valor_medio.png\" width=\"350\"/>"
   ]
  },
  {
   "cell_type": "code",
   "execution_count": 5,
   "metadata": {},
   "outputs": [
    {
     "data": {
      "text/latex": [
       "$\\displaystyle 1.5$"
      ],
      "text/plain": [
       "1.50000000000000"
      ]
     },
     "metadata": {},
     "output_type": "display_data"
    }
   ],
   "source": [
    "import sympy as sp\n",
    "x, y = sp.symbols('x y', real=True)\n",
    "f = sp.Lambda((x,y),1/12*1/2*x*y)\n",
    "val_m = sp.integrate(f(x,y), (y, 0, 3), (x, 0, 4))\n",
    "display(val_m)"
   ]
  },
  {
   "cell_type": "markdown",
   "metadata": {},
   "source": [
    "## Integración con cambio de variable en `Sympy`\n",
    "\n",
    "Para realizar un cambio de variable debemos aplicar la fórmula \n",
    "\n",
    "$$\n",
    "\\displaystyle \\int_{R} \\int G(x,y) \\, dx \\, dy = \\int_{S} \\int (G \\circ \\mathbf{F})(u,v) |\\det \\mathrm{J}\\mathbf{F}(u,v)| \\, du \\, dv.\n",
    "$$\n",
    "\n",
    "Como ejemplo, vamos a integrar $\\displaystyle \\int_R \\int 9xy \\, dA$, siendo $R$ la región que mostramos en la siguiente figura\n",
    "\n",
    "<img src=\"../../images/5.4_Ejemplo_1.png\" width=\"250\"/>\n",
    "\n",
    "Consideramos el siguiente cambio de variable: \n",
    "\n",
    "$$\n",
    "\\left\\{\\begin{array}{lcl}\n",
    "u &=& x + y \\\\\n",
    "v &=& x - 2y\n",
    "\\end{array}\\right.\n",
    "$$"
   ]
  },
  {
   "cell_type": "code",
   "execution_count": 6,
   "metadata": {},
   "outputs": [
    {
     "data": {
      "text/plain": [
       "'Valor de la integral: '"
      ]
     },
     "metadata": {},
     "output_type": "display_data"
    },
    {
     "data": {
      "text/latex": [
       "$\\displaystyle 54.6666666666667$"
      ],
      "text/plain": [
       "54.6666666666667"
      ]
     },
     "metadata": {},
     "output_type": "display_data"
    }
   ],
   "source": [
    "import sympy as sp\n",
    "\n",
    "x, y, u, v = sp.symbols('x y u v', real=True) # define las variables simbólicas x, y, u, v\n",
    "\n",
    "# Definimos las funciones F y G como matrices\n",
    "F = sp.Matrix([ 1/3*(2*u+v), 1/3*(u-v) ])\n",
    "G = sp.Matrix([ 9*x*y ])\n",
    "\n",
    "# Definimos la nueva función a integrar \n",
    "GoF_expr = G.subs(x,1/3*(2*u+v)).subs(y,1/3*(u-v))\n",
    "\n",
    "# Calculamos el determinante de la matriz jacobiana asociada a F\n",
    "det_jac_F = sp.det( F.jacobian([u,v]) )\n",
    "\n",
    "# Calculamos la integral sobre la nueva región de integración\n",
    "res = sp.integrate(GoF_expr*abs(det_jac_F), (v, -4, 0), (u, 1, 4))\n",
    "display('Valor de la integral: ')\n",
    "display(sp.simplify(res[0]))"
   ]
  },
  {
   "cell_type": "markdown",
   "metadata": {},
   "source": [
    "## Integración con cambio a polares con ' Sympy' \n",
    "\n",
    "Como caso particular de especial interés, al cambiar de coordenadas cartesianas a polares, la fórmula anterior resulta\n",
    "\n",
    "$$\n",
    "\\int_{R} \\int G(x,y) \\, dA = \\int_{\\alpha}^{\\beta} \\int_{g_1(\\theta)}^{g_2(\\theta)} G(r\\cos(\\theta),r\\sin(\\theta)) r \\, dr \\, d\\theta.\n",
    "$$\n",
    "\n",
    "Vamos a aplicarlo a un ejemplo concreto, en el que calcularemos la integral $\\displaystyle \\int_R \\int (x^2 + y) \\, dA$, siendo \n",
    "$R$ la región anular mostrada en la siguiente figura:\n",
    "\n",
    "<img src=\"../../images/5.4_Ejemplo_2.png\" width=\"300\"/>"
   ]
  },
  {
   "cell_type": "code",
   "execution_count": 7,
   "metadata": {},
   "outputs": [
    {
     "data": {
      "text/plain": [
       "'Valor de la integral: '"
      ]
     },
     "metadata": {},
     "output_type": "display_data"
    },
    {
     "data": {
      "text/latex": [
       "$\\displaystyle 6 \\pi$"
      ],
      "text/plain": [
       "6*pi"
      ]
     },
     "metadata": {},
     "output_type": "display_data"
    }
   ],
   "source": [
    "import sympy as sp\n",
    "\n",
    "x, y, r, th = sp.symbols('x y r th', real=True) # define las variables simbólicas x, y, r, th\n",
    "\n",
    "# Definimos las funciones F y G como matrices\n",
    "F = sp.Matrix([ r*sp.cos(th), r*sp.sin(th) ])\n",
    "G = sp.Matrix([ x**2 + y ])\n",
    "\n",
    "# Definimos la nueva función a integrar \n",
    "GoF_expr = G.subs(x,r*sp.cos(th)).subs(y,r*sp.sin(th))\n",
    "\n",
    "# Calculamos el determinante de la matriz jacobiana asociada a F\n",
    "det_jac_F = sp.det( F.jacobian([r,th]) )\n",
    "\n",
    "# Calculamos la integral sobre la nueva región de integración\n",
    "res = sp.integrate(GoF_expr*abs(det_jac_F), (r, 1, sp.sqrt(5)), (th, 0, 2*sp.pi))\n",
    "display('Valor de la integral: ')\n",
    "display(sp.simplify(res[0]))"
   ]
  }
 ],
 "metadata": {
  "kernelspec": {
   "display_name": "Python 3 (ipykernel)",
   "language": "python",
   "name": "python3"
  },
  "language_info": {
   "codemirror_mode": {
    "name": "ipython",
    "version": 3
   },
   "file_extension": ".py",
   "mimetype": "text/x-python",
   "name": "python",
   "nbconvert_exporter": "python",
   "pygments_lexer": "ipython3",
   "version": "3.11.3"
  },
  "vscode": {
   "interpreter": {
    "hash": "6bee1e8c92def9b58716ddd07d843225b81ed35493dd8048850a9a59c060c325"
   }
  }
 },
 "nbformat": 4,
 "nbformat_minor": 2
}
