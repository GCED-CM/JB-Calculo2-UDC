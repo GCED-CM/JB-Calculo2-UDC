{
 "cells": [
  {
   "cell_type": "markdown",
   "metadata": {},
   "source": [
    "# Integración 2D\n",
    "\n",
    "Para comenzar este tema, recomendamos encarecidamente la lectura de:\n",
    "\n",
    "* En este mismo Jupyter Book, la sección anterior, Sección {ref}`sec:4.1.revision`.\n",
    "* En el Jupyter Book de Cálculo en una variable, la [sección de cálculo de primitivas](https://luishervella.github.io/JB_Calculo1_UDC/capitulos/04/01.IntegracionIndefinida.html).\n",
    "\n"
   ]
  },
  {
   "cell_type": "markdown",
   "metadata": {},
   "source": [
    "## Integrales iteradas\n",
    "\n",
    "Consideramos una función $f:D\\subset\\mathbb{R}^2 \\to \\mathbb{R}$. Supongamos que conocemos \n",
    "\n",
    "* una primitiva de esta función respecto a $x$ (es decir, considerando $y$ como una constante), que denotamos $F_{x}(x,y)$, \n",
    "* y/o una primitiva respecto a $y$, que denotaremos por $F_{y}(x,y)$. \n",
    " \n",
    "Si ahora queremos realizar una integral en una región que sólo dependa de $x$ o de $y$ tendremos:\n",
    "\n",
    "\\begin{eqnarray*}\n",
    "    \\int_{h_{1}(y)}^{h_{2}(y)} f(x,y)dx &=& F_{x}(x,y)\\Big]_{x=h_{1}(y)}^{x=h_{2}(y)} = \n",
    "        F_{x}\\left(h_{2}(y),y\\right)- F_{x}\\left(h_{1}(y),y\\right), \\\\\n",
    "    \\int_{g_{1}(x)}^{g_{2}(x)} f(x,y)dy &=& F_{y}(x,y)\\Big]_{y=g_{1}(x)}^{y=g_{2}(x)} = \n",
    "        F_{y}\\left(x,g_{2}(x)\\right)- F_{y}\\left(x,g_{1}(x)\\right). \n",
    "\\end{eqnarray*}\n",
    "\n",
    "\n",
    "````{prf:example} Ejemplo 1 \n",
    ":label: ej_4.2_Ejemplo1\n",
    ":nonumber: \n",
    "\n",
    "Evaluar $\\displaystyle \\int_{1}^{x}\\left(2xy + 3y^2\\right) dy$.\n",
    "\n",
    "**SOLUCIÓN:** \n",
    "\n",
    "En este caso, considerando $x$ constante e integrando con respecto a $y$,\n",
    "\n",
    "$$\n",
    "    \\int_{1}^{x}\\left(2xy + 3y^2\\right) dy = \\Big[ xy^2 + y^3 \\Big]_{y=1}^{y=x}\n",
    "    = (2x^3) - (x+1) = 2x^3 - x - 1.\n",
    "$$\n",
    "````\n",
    "\n",
    "````{prf:example} Ejemplo 2 \n",
    ":label: ej_4.2_Ejemplo2\n",
    ":nonumber:\n",
    "\n",
    "Evaluar $\\displaystyle \\int_{1}^{2}\\left[\\int_{1}^{x} (2xy + 3y^2)dy \\right] dx$.\n",
    "\n",
    "**SOLUCIÓN:**\n",
    "\n",
    "Ahora, usando lo que acabamos de hacer en el ejemplo anterior,\n",
    "\n",
    "\\begin{eqnarray*}\n",
    "   \\int_{1}^{2}\\left[\\int_{1}^{x} (2xy + 3y^2)dy \\right] dx &=& \\int_{1}^{2} \\left(2x^3-x-1\\right) dx \\\\\n",
    "   &=& \\Big[ \\frac{x^4}{2}-\\frac{x^2}{2}-x\\Big]_{x=1}^{x=2} = 4 - (-1) = 5.\n",
    "\\end{eqnarray*}\n",
    "````\n",
    "\n",
    "Este último ejemplo corresponde a una **integral iterada**. \n",
    "\n",
    "Normalmente, los corchetes que utilizamos en él no se escriben explícitamente y aparecen directamente expresiones como\n",
    "\n",
    "$$\n",
    "  \\int_{a}^{b}\\int_{g_{1}(x)}^{g_{2}(x)} f(x,y) \\, dy \\, dx \\quad\\text{o}\\quad \n",
    "  \\int_{c}^{d}\\int_{h_{1}(y)}^{h_{2}(y)} f(x,y) \\, dx \\, dy. \n",
    "$$\n",
    "Los límites interiores de integración pueden ser variables con respecto a la variable externa de integración. Sin embargo, los límites exteriores de integración deben ser constantes con respecto a ambas variables de integración. Es importante tener esto en cuenta a la hora de definir el dominio sobre el que integraremos. \n",
    "\n",
    "Después de realizar la integración interna se obtiene una integral *estándar* definida. La segunda integración produce un número real. \n",
    "\n",
    "Pensemos un momento el dominio sobre el que estamos realizando la integración en este segundo ejemnplo:\n",
    "\n",
    "1. En el eje vertical, $y$ varía desde la recta horizontal $y=1$ hasta la recta bisectriz del primer cuadrante, $y=x$. ¿Dónde pasa esto? Pues...\n",
    "2. Cuando $x$ varía entre $1$ y $2$.\n",
    "\n",
    "Es decir, estamos integrando en el dominio que mostramos, sombreado, en la siguiente figura:\n",
    "\n",
    "<img src=\"../../images/4.2.Ejemplo2.png\" width=\"400\"/>\n"
   ]
  },
  {
   "cell_type": "markdown",
   "metadata": {},
   "source": [
    "## Aplicación: cálculo del área de una región del plano\n",
    "\n",
    "Vamos a ver una primera aplicación de las integrales iteradas.\n",
    "\n",
    "En cursos pasados aprendisteis (o eso esperamos...) a calcular áreas debajo de una curva o entre dos curvas con integrales de una variable. Vamos a hacer algo muy parecido con integración doble. Adelanto (o, con esa horrible palabra, *spoiler*): basta definir correctamente el dominio e integrar en él la función unidad ($f(x,y) = 1$).\n",
    "\n",
    "````{prf:definition} Área de una región del plano \n",
    ":label: def_4.2_Area\n",
    ":nonumber:\n",
    "\n",
    "1. Si $R$ está definida por $a\\leq x \\leq b$ y $g_{1}(x)\\leq y \\leq g_{2}(x)$, donde $g_{1}$ y $g_{2}$ son funciones continuas en $[a,b]$, el áre de $R$ será\n",
    "\n",
    "    $$\n",
    "      A = \\int_{a}^{b}\\int_{g_{1}(x)}^{g_{2}(x)} dy \\, dx. \n",
    "    $$\n",
    "    \n",
    "    <img src=\"../../images/4.2.Region1.png\" width=\"400\"/>\n",
    "\n",
    "2.  Si $R$ está definida por $c\\leq y \\leq d$ y $h_{1}(y)\\leq x \\leq h_{2}(y)$, donde $h_{1}$ y $h_{2}$ son funciones continuas en $[a,b]$, el áre de $R$ será\n",
    "\n",
    "    $$\n",
    "      A = \\int_{c}^{d}\\int_{h_{1}(y)}^{h_{2}(y)} dx \\, dy.\n",
    "    $$\n",
    "    \n",
    "    <img src=\"../../images/4.2.Region2.png\" width=\"400\"/>\n",
    "\n",
    "````\n",
    "\n",
    "Te dejamos como ejercicio que calcules (a mano) el área de las dos regiones que se muestran en las figuras de la anterior definición. ¡Ánimo! Con lo que aparece en la próxima subsección podrás comprobar con Python si tus cálculos han sido correctos."
   ]
  },
  {
   "cell_type": "markdown",
   "metadata": {},
   "source": [
    "## Python. Cálculo de integrales iteradas\n",
    "\n",
    "Con la ayuda de `Sympy` es muy sencillo calcular una integral iterada. \n",
    "La orden fundamental es `sp.integrate`, que actúa sobre una expresión o una función Lambda (en el siguiente ejemplo mostramos ambos casos para que puedas ver que el resultado es idéntico). Hay que indicar la variable respecto a la que queremos integrar, el límite inferior y el superior.\n",
    "Eso sí, en cada paso sólo es capaz de integrar respecto a una variable, por lo que el proceso en el ordenador es prácticamente igual al que hacemos a mano: primero calculamos la integral interior y a su valor le calculamos la integral exterior. **El orden, en este caso, es esencial**.\n",
    "\n",
    "Veámoslo sobre el ejemplo 2, que resolvimos manualmente hace un rato:"
   ]
  },
  {
   "cell_type": "code",
   "execution_count": 7,
   "metadata": {},
   "outputs": [
    {
     "data": {
      "text/latex": [
       "$\\displaystyle 5$"
      ],
      "text/plain": [
       "5"
      ]
     },
     "metadata": {},
     "output_type": "display_data"
    },
    {
     "data": {
      "text/latex": [
       "$\\displaystyle 5$"
      ],
      "text/plain": [
       "5"
      ]
     },
     "metadata": {},
     "output_type": "display_data"
    }
   ],
   "source": [
    "import sympy as sp\n",
    "\n",
    "x, y = sp.symbols('x y', real=True) # define as variables simbólicas x, y\n",
    "\n",
    "f_expr = 2*x*y + 3*y**2\n",
    "f = sp.Lambda((x,y), f_expr)\n",
    "\n",
    "res1 = sp.integrate(f_expr, (y, 1, x), (x, 1, 2))\n",
    "display(res1)\n",
    "res2 = sp.integrate(f(x,y), (y, 1, x), (x, 1, 2))\n",
    "display(res2)"
   ]
  },
  {
   "cell_type": "markdown",
   "metadata": {},
   "source": [
    "Podemos emplear este comando para calcular el área de una región, como hacemos a continuación con el área de la primera región en la última definición:"
   ]
  },
  {
   "cell_type": "code",
   "execution_count": 9,
   "metadata": {},
   "outputs": [
    {
     "data": {
      "text/latex": [
       "$\\displaystyle - \\sin{\\left(2 \\right)} - \\cos{\\left(2 \\right)} + \\cos{\\left(1 \\right)} + \\sin{\\left(1 \\right)}$"
      ],
      "text/plain": [
       "-sin(2) - cos(2) + cos(1) + sin(1)"
      ]
     },
     "metadata": {},
     "output_type": "display_data"
    },
    {
     "data": {
      "text/latex": [
       "$\\displaystyle 0.888622700397497$"
      ],
      "text/plain": [
       "0.888622700397497"
      ]
     },
     "metadata": {},
     "output_type": "display_data"
    }
   ],
   "source": [
    "import sympy as sp\n",
    "\n",
    "x, y = sp.symbols('x y', real=True) # define as variables simbólicas x, y\n",
    "\n",
    "# res = sp.integrate(1, (y, sp.cos(x), sp.sin(x)), (x, 1, 2))\n",
    "res = sp.integrate(1, (y, 0, sp.sin(x)), (x, 1, 2))\n",
    "display(res)\n",
    "display(sp.N(res))"
   ]
  },
  {
   "cell_type": "markdown",
   "metadata": {},
   "source": [
    "## Para seguir practicando\n",
    "\n",
    "En la [página que vas a encontrar si pulsas este enlace](http://www.unsj.edu.ar/unsjVirtual/calculo2analisis2/wp-content/uploads/2020/04/Ejercicios_Resueltos_ID.pdf), de la Universidad Nacional de San Juan, en Argentina, vas a encontrar algunos ejercicios resueltos y otros propuestos para practicar el cálculo de área de regiones mediante integración iterada. Eso sí: refrena tu ímpetu de momento y deja para más tarde las integrales que impliquen cambio de variable, que aún no lo hemos explicado."
   ]
  }
 ],
 "metadata": {
  "kernelspec": {
   "display_name": "Python 3 (ipykernel)",
   "language": "python",
   "name": "python3"
  },
  "language_info": {
   "codemirror_mode": {
    "name": "ipython",
    "version": 3
   },
   "file_extension": ".py",
   "mimetype": "text/x-python",
   "name": "python",
   "nbconvert_exporter": "python",
   "pygments_lexer": "ipython3",
   "version": "3.11.3"
  },
  "vscode": {
   "interpreter": {
    "hash": "6bee1e8c92def9b58716ddd07d843225b81ed35493dd8048850a9a59c060c325"
   }
  }
 },
 "nbformat": 4,
 "nbformat_minor": 2
}