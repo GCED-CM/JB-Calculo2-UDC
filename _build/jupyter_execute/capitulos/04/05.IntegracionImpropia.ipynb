{
 "cells": [
  {
   "cell_type": "markdown",
   "metadata": {},
   "source": [
    "# Integración impropia\n",
    "\n",
    "Anteriormente hemos definido la integral de Riemann de funciones acotadas en intervalos acotados.  Aunque parezca paradójico, en algunas ocasiones también es posible calcular la integral de una función no necesariamente acotada en intervalos no necesariamente acotados; por ejemplo:\n",
    "\\begin{equation*}\n",
    "\\int_1^{\\infty} \\frac{dx}{x^3} \\, , \\qquad \\qquad \\int_{-1}^{1} \\frac{dx}{x^2} \\, .\n",
    "\\end{equation*}"
   ]
  },
  {
   "cell_type": "markdown",
   "metadata": {},
   "source": [
    "Estas integrales se denominan **impropias** y pueden clasificarse en:\n",
    "- de primera especie, si la función está acotada pero el intervalo es infinito,\n",
    "- de segunda especie, si el intervalo es finito pero la función no está acotada en el intervalo,\n",
    "- de tercera especie, cuando ni la función ni el intervalo de integración están acotados."
   ]
  },
  {
   "cell_type": "markdown",
   "metadata": {},
   "source": [
    "## Integrales impropias de primera especie\n",
    "\n",
    "En estas integrales, **la función es acotada pero el intervalo de integración es infinito**.  \n",
    "\n",
    "Sea $f: [a,+\\infty) \\rightarrow \\mathbb{R}$ integrable en $[a, b]$ para cualquier $b \\geq a$.  Entonces, se define:\n",
    "\\begin{equation*}\n",
    "\\int_a^{+\\infty} f(x) \\, dx = \\underset{b \\rightarrow +\\infty}{\\lim} \\int_a^b f(x) \\, dx \\, .\n",
    "\\end{equation*}\n",
    "Su cálculo tiene dos partes:\n",
    "1. Calculamos la integral definida en un intervalo finito.\n",
    "2. Hacemos que el extremo superior del intervalo tienda a infinito.\n",
    "\n",
    "Veamos un ejemplo:\n",
    "\\begin{equation*}\n",
    "I = \\int_0^{+\\infty} e^{-2x} \\, dx \\, .\n",
    "\\end{equation*}\n",
    "La función del integrando está acotada y tiene una primitiva inmediata, pero el intervalo de integración no está acotado por la derecha.  Por lo tanto, vamos a calcular nuestra integral impropia como\n",
    "\\begin{align*}\n",
    "I = \\int_0^{+\\infty} e^{-2x} \\, dx &= \\underset{b \\rightarrow +\\infty}{\\lim} \\int_0^{b} e^{-2x} \\, dx = \\\\\n",
    "  &= \\underset{b \\rightarrow +\\infty}{\\lim} \\left[ -\\frac{1}{2} e^{-2x} \\right]_0^b\n",
    "   = \\underset{b \\rightarrow +\\infty}{\\lim} \\left( -\\frac{1}{2} \\right) \\left[ e^{-2b} - 1 \\right]\n",
    "   = -\\frac{1}{2} \\left[ 0 - 1 \\right] = \\frac{1}{2} \\, .\n",
    "\\end{align*}\n",
    "\n",
    "Hemos obtenido un resultado finito.  En estos casos, decimos que **la integral impropia es convergente**. \n"
   ]
  },
  {
   "cell_type": "markdown",
   "metadata": {},
   "source": [
    "De forma similar podemos resolver una integral impropia donde el intervalo no está acotado por la izquierda.\n",
    "\n",
    "Si $f: (-\\infty, b] \\rightarrow \\mathbb{R}$ es integrable en $[a, b]$ para cualquier $a \\leq b$, se define:\n",
    "\\begin{equation*}\n",
    "\\int_{-\\infty}^b f(x) \\, dx = \\underset{a \\rightarrow -\\infty}{\\lim} \\int_a^b f(x) \\, dx \\, .\n",
    "\\end{equation*}\n",
    "\n",
    "Por ejemplo,\n",
    "\\begin{equation*}\n",
    "\\int_{-\\infty}^{-3} \\frac{dx}{x^2} \\, dx = \\underset{a \\rightarrow -\\infty}{\\lim} \\int_a^{-3} \\frac{dx}{x^2} \\, dx\n",
    "   = \\underset{a \\rightarrow -\\infty}{\\lim} \\left[ -\\frac{1}{x} \\right]_a^{-3}\n",
    "   =  \\underset{a \\rightarrow -\\infty}{\\lim} \\left[ \\frac{1}{3} + \\frac{1}{a} \\right]\n",
    "   = \\frac{1}{3} \\, ,\n",
    "\\end{equation*}\n",
    "o bien\n",
    "\\begin{equation*}\n",
    "\\int_{-\\infty}^1 e^{-x} \\, dx = \\underset{a \\rightarrow -\\infty}{\\lim} \\int_a^1 e^{-x} \\, dx\n",
    "   = \\underset{a \\rightarrow -\\infty}{\\lim} \\left[ -e^{-x} \\right]_a^1\n",
    "   = \\underset{a \\rightarrow -\\infty}{\\lim} \\left[ -e^{-1} + e^{-a} \\right] = +\\infty \\, .\n",
    "\\end{equation*}\n",
    "En el primer caso estamos, de nuevo, ante una integral convergente (porque el resultado es finito), mientras que la segunda integral es **divergente**."
   ]
  },
  {
   "cell_type": "markdown",
   "metadata": {},
   "source": [
    "Si el intervalo no está acotado en ninguno de sus extremos, debemos descomponer la integral en dos integrales impropias donde -en cada una de ellas- solo uno de los extremos no está acotado:\n",
    "\\begin{align*}\n",
    "\\int_{-\\infty}^{+\\infty} \\frac{dx}{x^2+1} \n",
    "    &= \\int_{-\\infty}^c \\frac{dx}{x^2+1} + \\int_c^{+\\infty} \\frac{dx}{x^2+1} = \\\\\n",
    "    &= \\underset{a \\rightarrow -\\infty}{\\lim} \\int_a^c \\frac{dx}{x^2+1} \n",
    "     + \\underset{b \\rightarrow +\\infty}{\\lim} \\int_c^b \\frac{dx}{x^2+1} \\\\\n",
    "    &= \\underset{a \\rightarrow -\\infty}{\\lim} \\left[ \\arctan (x) \\right]_a^c \n",
    "     + \\underset{b \\rightarrow +\\infty}{\\lim} \\left[ \\arctan (x) \\right]_c^b \\\\ \n",
    "    &= \\left[ \\arctan (c) - \\underset{a \\rightarrow -\\infty}{\\lim} \\arctan (a) \\right]\n",
    "     + \\left[ \\underset{b \\rightarrow +\\infty}{\\lim} \\arctan (b) - \\arctan (c) \\right] \\\\\n",
    "    &= \\arctan (c) - \\left( -\\frac{\\pi}{2} \\right) + \\frac{\\pi}{2} - \\arctan (c) = \\pi \\, .\n",
    "\\end{align*}\n",
    "Si la integral está bien planteada, el resultado será independiente del punto $c$ introducido.\n",
    "\n",
    "````{prf:remark} \n",
    ":label: rem_impropia \n",
    ":nonumber: \n",
    "En este caso, **si una de las integrales en la descomposición es divergente, toda la integral se dice divergente**, independientemente de lo que le pase a la otra integral. \n",
    "````"
   ]
  },
  {
   "cell_type": "markdown",
   "metadata": {},
   "source": [
    "## Integrales impropias de segunda especie\n",
    "\n",
    "Decimos que **una integral impropia es de segunda especie cuando el intervalo de integración es finito pero la función a integrar, $f$, no está acotada en algún punto del intervalo**:\n",
    "\\begin{equation*}\n",
    "\\underset{x \\rightarrow c}{\\lim} f(x) = \\pm \\infty \\qquad \\text{ con } c \\in [a,b] \\, .\n",
    "\\end{equation*}\n",
    "\n",
    "En estos casos debemos tener la precaución de tomar límites en un entorno del punto (o puntos) donde la función deja de estar acotada.\n",
    "\n",
    "Por ejemplo, consideremos la integral\n",
    "\\begin{equation*}\n",
    "\\int_2^4 \\frac{dx}{\\sqrt{x-2}} \\, .\n",
    "\\end{equation*}\n",
    "Podemos comprobar que el integrando, $f(x) = \\frac{1}{\\sqrt{x-2}}$, tiende a infinito cuando $x$ tiende a $2$; como este punto es, precisamente, el extremo izquierdo del intervalo, basta con calcular la integral en el intervalo $[c, 4]$ y hacer que $c$ tienda a $2$:\n",
    "\\begin{align*}\n",
    "\\int_2^4 \\frac{dx}{\\sqrt{x-2}} &= \\underset{c \\rightarrow 2}{\\lim} \\int_c^4 (x-2)^{-1/2} \\, dx = \\\\\n",
    "    &= \\underset{c \\rightarrow 2}{\\lim} \\left[ \\frac{(x-2)^{1/2}}{1/2} \\right]_c^4\n",
    "     = 2 \\underset{c \\rightarrow 2}{\\lim} \\left[ \\sqrt{4-2} - \\sqrt{c-2} \\right] = 2 \\sqrt{2} \\, .\n",
    "\\end{align*}\n",
    "Se hace de manera similar si la función tiende a infinito cuando nos acercamos al límite derecho del intervalo:\n",
    "\\begin{align*}\n",
    "\\int_2^4 \\frac{dx}{(x-4)^{1/3}} &= \\underset{c \\rightarrow 4}{\\lim} \\int_2^c (x-4)^{-1/3} \\, dx \n",
    "   = \\underset{c \\rightarrow 4}{\\lim} \\left[ \\frac{(x-4)^{2/3}}{2/3} \\right]_2^c \\\\\n",
    "   &= \\frac{3}{2} \\underset{c \\rightarrow 4}{\\lim} \\left[ (c-4)^{2/3} - (2-4)^{2/3} \\right]\n",
    "   = -\\frac{3}{2} 2^{2/3} \\, .\n",
    "\\end{align*}\n",
    "\n",
    "Y si el punto donde la función tiende a infinito está en el interior del intervalo de integración, basta con descomponer la integral en una suma de otras dos como las que acabamos de describir. Por ejemplo:\n",
    "\\begin{align*}\n",
    "\\int_1^4 \\frac{dx}{(x-2)^{1/3}} &= \\int_1^2 \\frac{dx}{(x-2)^{1/3}} + \\int_2^4 \\frac{dx}{(x-2)^{1/3}} \\\\\n",
    "     &=\\underset{b \\rightarrow 2}{\\lim} \\int_1^b (x-2)^{-1/3} \\, dx \n",
    "                                 + \\underset{a \\rightarrow 2}{\\lim} \\int_a^4 (x-2)^{-1/3} \\, dx  \\\\\n",
    "    &= \\underset{b \\rightarrow 2}{\\lim} \\left[ \\frac{(x-2)^{2/3}}{2/3} \\right]_1^b\n",
    "     + \\underset{a \\rightarrow 2}{\\lim} \\left[ \\frac{(x-2)^{2/3}}{2/3} \\right]_a^4  \\\\\n",
    "    &= \\frac{3}{2} \\underset{b \\rightarrow 2}{\\lim} \\left[ (b-2)^{2/3} - (1-2)^{2/3} \\right]\n",
    "     + \\frac{3}{2} \\underset{a \\rightarrow 2}{\\lim} \\left[ (4-2)^{2/3} - (a-2)^{2/3} \\right]  \\\\\n",
    "    &= \\frac{3}{2} \\left[ 0 - 1 \\right] + \\frac{3}{2} \\left[ 2^{2/3} - 0 \\right] \n",
    "     = \\frac{3}{2} \\left(\\sqrt[3]{4} - 1 \\right) \\, .\n",
    "\\end{align*}\n"
   ]
  },
  {
   "cell_type": "markdown",
   "metadata": {},
   "source": [
    "## Integrales impropias de tercera especie\n",
    "\n",
    "En este grupo incluimos las **integrales en las que tanto el intervalo como la función no están acotadas**.  \n",
    "\n",
    "Para resolverlas, basta con combinar las técnicas que hemos visto en las secciones anteriores.\n",
    "\n",
    "Veamos un ejemplo:\n",
    "\\begin{equation*}\n",
    "\\int_1^{+\\infty} \\frac{dx}{(x-4)^{2/5}} \\, .\n",
    "\\end{equation*}\n",
    "Vemos que el intervalo de integración es infinito y, además, la función a integrar no está acotada en $x = 4$.  \n",
    "\n",
    "Para resolverla, la descomponemos en:\n",
    "- una integral entre $1$ y $4$ (impropia de segunda especie),\n",
    "- una integral entre $4$ y $6$ (impropia de segunda especie),\n",
    "- una integral entre $6$ y $+\\infty$ (impropia de primera especie).\n",
    "\n",
    "Hemos escogido el punto $6$ como podríamos haber escogido cualquier otro en $(4, +\\infty)$.  De esta manera,\n",
    "\\begin{align*}\n",
    "\\int_1^{+\\infty} \\frac{dx}{(x-4)^{2/5}} &= \\int_1^4 \\frac{dx}{(x-4)^{2/5}} \n",
    "       + \\int_4^6 \\frac{dx}{(x-4)^{2/5}} + \\int_6^{+\\infty} \\frac{dx}{(x-4)^{2/5}} \\\\\n",
    "    &= \\underset{b \\rightarrow 4}{\\lim} \\int_1^b (x-4)^{-2/5} \\, dx \n",
    "     + \\underset{a \\rightarrow 4}{\\lim} \\int_a^6 (x-4)^{-2/5} \\, dx \\\\\n",
    "    & \\hphantom{=} + \\underset{c \\rightarrow +\\infty}{\\lim} \\int_6^c (x-4)^{-2/5} \\, dx \\\\\n",
    "    &= \\underset{b \\rightarrow 4}{\\lim} \\left[ \\frac{(x-4)^{3/5}}{3/5} \\right]_1^b\n",
    "     + \\underset{a \\rightarrow 4}{\\lim} \\left[ \\frac{(x-4)^{3/5}}{3/5} \\right]_a^6\n",
    "     + \\underset{c \\rightarrow +\\infty}{\\lim} \\left[ \\frac{(x-4)^{3/5}}{3/5} \\right]_6^c \\\\\n",
    "    &= \\dfrac{5}{3} \\left[ \\underset{b \\rightarrow 4}{\\lim} \\left( (b-4)^{3/5} - (-3)^{3/5} \\right) \n",
    "                         + \\underset{a \\rightarrow 4}{\\lim} \\left( (6-4)^{3/5} - (a-4)^{3/5} \\right) \\right. \\\\\n",
    "    & \\hphantom{= \\dfrac{5}{3}} \\left. + \\underset{c \\rightarrow +\\infty}{\\lim} \\left( (c-4)^{3/5} - 2^{3/5} \\right) \\right]  \\\\\n",
    "    &= \\dfrac{5}{3} \\left[ 0 + 3^{3/5} + 2^{3/5} - 0 \n",
    "                    + \\underset{c \\rightarrow +\\infty}{\\lim} (c-4)^{3/5} - 2^{3/5} \\right] = +\\infty \\, .\n",
    "\\end{align*}\n",
    "Por lo tanto, en este ejemplo, estamos ante una integral divergente.\n",
    "\n",
    "Recordamos que basta con que uno de los trozos sea divergente para que toda la integral sea considerada del mismo modo."
   ]
  },
  {
   "cell_type": "markdown",
   "metadata": {},
   "source": [
    "## Más información\n",
    "\n",
    "Puedes encontrar más información, y algunos ejemplos/ejercicios en\n",
    "* https://es.wikipedia.org/wiki/Integral_impropia\n",
    "* https://es.khanacademy.org/math/ap-calculus-bc/bc-integration-new/bc-6-13/a/improper-integrals-review\n",
    "\n",
    "## Otros ejercicios\n",
    "\n",
    "Además de los ejercicios que puedes encontrar en los boletines, te recomendamos que eches un vistazo a\n",
    "* https://www.ehu.eus/~mtpalezp/mundo/ana1/EJERCICIOSINTEGRALIMPROPIA.pdf\n",
    "* https://existelimite.blogspot.com/search/label/Integraci%C3%B3n%20impropia (son un poco más difíciles de lo habitual, pero... ¡tú puedes!)."
   ]
  }
 ],
 "metadata": {
  "kernelspec": {
   "display_name": "Python 3.10.8 64-bit (microsoft store)",
   "language": "python",
   "name": "python3"
  },
  "language_info": {
   "codemirror_mode": {
    "name": "ipython",
    "version": 3
   },
   "file_extension": ".py",
   "mimetype": "text/x-python",
   "name": "python",
   "nbconvert_exporter": "python",
   "pygments_lexer": "ipython3",
   "version": "3.10.8"
  },
  "vscode": {
   "interpreter": {
    "hash": "f2c0f1c90395c109e1b87b1f4d6d2ea9e1b09c8587e65b0565fcfbe20df05a54"
   }
  }
 },
 "nbformat": 4,
 "nbformat_minor": 4
}