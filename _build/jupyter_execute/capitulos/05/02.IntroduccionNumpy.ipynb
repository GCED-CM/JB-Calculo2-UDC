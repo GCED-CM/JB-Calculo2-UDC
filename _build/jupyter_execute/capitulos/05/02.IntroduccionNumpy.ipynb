{
 "cells": [
  {
   "cell_type": "markdown",
   "metadata": {},
   "source": [
    "(sec:introduccion_Numpy)=\n",
    "# Introducción a Numpy\n",
    "\n",
    "El trabajo con números es una de las cuestiones comunes y centrales en cualquier disciplina científica y en particular en ingeniería de datos. Debido a su importancia existen una gran cantidad de librerías dedicadas a la implementación de métodos eficientes para manipular números y funciones. Incluso existen lenguajes y entornos de programación especialmente diseñados para este propósito, tales como el lenguaje Fortran o Matlab/Octave.\n",
    "\n",
    "Para el lenguaje Python, que es el empleado en esta asignatura, la librería **NumPy** (http://www.numpy.org/) es la más ampliamente usada para cálculos numéricos. Esta librería permite usar un amplio abanico de estructuras de datos y funciones para cálculos numéricos. En esta sección, revisaremos algunas de estas funcionalidades. \n",
    "\n",
    "**NumPy** es una librería enorme y tiene funcionalidades muy extensas. En esta sección realizaremos una introducción muy breve. Para descrubrir más funcionalidades y cómo utilizarla con muchos otros propósitos, la mejor fuente de información en línea son los buscadores, y en particular la comunidad http://stackoverflow.com/.\n",
    "\n",
    "## Objetivos\n",
    "\n",
    "- Trabajar con objetos y métodos.\n",
    "- Introducción a los vectores unidimensionales de números (`numpy.array`). \n",
    "- Manipulación de vectores numéricos (indexado, troceado, etc.).\n",
    "- Aplicar operaciones numéricas elementales.\n",
    "- Ejercicio: eficiencia de **Numpy** en funciones vectorizadas y no vectorizadas."
   ]
  },
  {
   "cell_type": "markdown",
   "metadata": {},
   "source": [
    "## Importar el módulo **NumPy**\n",
    "\n",
    "Para tener disponible **NumPy** en el código, debemos primero importarlo. Para ello, resulta habitual importar **Numpy** utilizando la abreviatura '`np`': "
   ]
  },
  {
   "cell_type": "code",
   "execution_count": 108,
   "metadata": {},
   "outputs": [],
   "source": [
    "import numpy as np"
   ]
  },
  {
   "cell_type": "markdown",
   "metadata": {},
   "source": [
    "Además, para poder trabajar en modo simbólico, será preciso también importar el módulo **Sympy**:"
   ]
  },
  {
   "cell_type": "code",
   "execution_count": 115,
   "metadata": {},
   "outputs": [],
   "source": [
    "import sympy as sp"
   ]
  },
  {
   "cell_type": "markdown",
   "metadata": {},
   "source": [
    "## Programación orientada a objetos\n",
    "\n",
    "Como todos los módulos de Python, la librería **Numpy** está implementada siguiendo una estrategia de programación orientada a objetos. Por tanto, cualquier estructura de datos en Python, incluso la más simple, se debe entender como un objeto que pertenece a una clase, al que se le pueden aplicar todas las operaciones implementadas sobre esa clase de objetos (a las que se le llaman métodos de la clase). Incluso un número, es un objeto de una clase:"
   ]
  },
  {
   "cell_type": "code",
   "execution_count": 78,
   "metadata": {},
   "outputs": [
    {
     "name": "stdout",
     "output_type": "stream",
     "text": [
      "3.3\n",
      "<class 'float'>\n"
     ]
    },
    {
     "data": {
      "text/plain": [
       "True"
      ]
     },
     "execution_count": 78,
     "metadata": {},
     "output_type": "execute_result"
    }
   ],
   "source": [
    "a = 3.3\n",
    "print(a)\n",
    "print(type(a))\n",
    "isinstance(a,float)"
   ]
  },
  {
   "cell_type": "markdown",
   "metadata": {},
   "source": [
    "Para comprobar los atributos y los métodos que podemos aplicar sobre un objeto en particular, podemos utilizar la función `dir()`, que nos devuelve una lista con sus nombres. Podemos distinguir entre dos tipos de atributos y métodos: los **privados** que son los que habitualmente hacen referencia a los cálculos más básicos y en cuyo nombre aparece el prefijo y sufijo `__*__`, y los **públicos**. Teclea `dir(a)` para comprobar los atributos y métodos que podemos aplicar sobre `a`."
   ]
  },
  {
   "cell_type": "markdown",
   "metadata": {},
   "source": [
    "Por ejemplo, podemos comprobar si un número real es mayor que otro de dos formas diferentes: utilizando el operador lógico `>` o bien aplicando su método privado correspondiente `__gt__`: "
   ]
  },
  {
   "cell_type": "code",
   "execution_count": 80,
   "metadata": {},
   "outputs": [
    {
     "name": "stdout",
     "output_type": "stream",
     "text": [
      "True\n",
      "True\n"
     ]
    }
   ],
   "source": [
    "a=6.4; b=5.3\n",
    "print(a.__gt__(b))\n",
    "print(a > b)"
   ]
  },
  {
   "cell_type": "markdown",
   "metadata": {},
   "source": [
    "En cualquier caso, en Python tanto los métodos privados como los públicos se aplican de la misma manera. Por ejemplo:"
   ]
  },
  {
   "cell_type": "code",
   "execution_count": 81,
   "metadata": {},
   "outputs": [
    {
     "name": "stdout",
     "output_type": "stream",
     "text": [
      "False\n",
      "3\n",
      "3\n"
     ]
    },
    {
     "name": "stderr",
     "output_type": "stream",
     "text": [
      "<ipython-input-81-9c54d346766f>:4: DeprecationWarning: `np.int` is a deprecated alias for the builtin `int`. To silence this warning, use `int` by itself. Doing this will not modify any behavior and is safe. When replacing `np.int`, you may wish to use e.g. `np.int64` or `np.int32` to specify the precision. If you wish to review your current use, check the release note link for additional information.\n",
      "Deprecated in NumPy 1.20; for more details and guidance: https://numpy.org/devdocs/release/1.20.0-notes.html#deprecations\n",
      "  print(np.int(a))\n"
     ]
    }
   ],
   "source": [
    "a=3.4\n",
    "print(a.is_integer())\n",
    "print(a.__int__())\n",
    "print(np.int(a))"
   ]
  },
  {
   "cell_type": "markdown",
   "metadata": {},
   "source": [
    "> ** NOTA **: En este curso no vamos a trabajar ni será necesaria la implementación de código utilizando una programación orientada a objetos. Pero lo que sí será necesario es ser consciente de las diferentes clases de objetos que se utilicen y de los atributos y métodos definidos sobre cada una de ellas."
   ]
  },
  {
   "cell_type": "markdown",
   "metadata": {},
   "source": [
    "## Vectores de números\n",
    "\n",
    "En Python existen multitud de formas de guardar datos numéricos (o no) como pueden ser la estructura lista o tupla. Las listas en Python presentan una gran flexibilidad (pudiendo contener datos de diferente naturaleza) lo que hace que su rendimiento computacional sea muy limitado. En la mayoría de aplicaciones científicas en matemáticas e ingeniería de datos, los problemas reales involucran operaciones sobre enormes conjuntos de datos y por lo tanto la velocidad computacional es muy importante para estos grandes problemas. Para trabajar de forma eficiente con estos problemas, **Numpy** proporciona funciones especializadas y estructuras de datos para el cálculo numérico eficiente. En particular, para el caso de conjuntos de números de un mismo tipo (perdiendo parte de la flexibilidad de las listas pero ganando eficiencia computacional)."
   ]
  },
  {
   "cell_type": "markdown",
   "metadata": {},
   "source": [
    "## Creación de vectores unidimensionales e indexado\n",
    "Un vector unidimensional es una colección ordenada de números a los que se puede acceder mediante el índice correspondiente (en el caso de Python, empezando a contar en cero). Por defecto, los vectores en **Numpy** son vectores fila. Para crear un vector **Numpy** que contiene solamente 'ceros' o solamente 'unos', se pueden utilizar, respectivamente, las funciones `np.zeros()` o `np.ones()`. También podemos hacer uso de la función `np.random.rand()` para crear un vector con valores aleatorios:"
   ]
  },
  {
   "cell_type": "code",
   "execution_count": 82,
   "metadata": {},
   "outputs": [
    {
     "name": "stdout",
     "output_type": "stream",
     "text": [
      "[0. 0. 0. 0. 0. 0. 0. 0. 0. 0.]\n",
      "[1. 1. 1. 1. 1.]\n",
      "[0.2504582  0.65345129 0.05754834 0.43993261 0.53599724 0.43962971]\n",
      "<class 'numpy.ndarray'> <class 'numpy.ndarray'> <class 'numpy.ndarray'>\n"
     ]
    }
   ],
   "source": [
    "u = np.zeros(10) #creamos un vector Numpy de longitud 10 de ceros\n",
    "v = np.ones(5) #creamos un vector Numpy de longitud 5 de unos\n",
    "r = np.random.rand(6) #creamos un vector Numpy de longitud 6 con valores aleatorios\n",
    "print(u)\n",
    "print(v)\n",
    "print(r)\n",
    "print(type(u),type(v),type(r))"
   ]
  },
  {
   "cell_type": "markdown",
   "metadata": {},
   "source": [
    "El tipo por defecto de los números que contienen los vectores en **Numpy** es `float64` (que es el tipo guardado en `np.float`). Si queremos usar otros tipos, tendríamos que utilizar el argumento opcional `dtype`. Se puede comprobar el tipo de los números de un vector accediendo al atributo `dtype` de los vectores **Numpy**:"
   ]
  },
  {
   "cell_type": "code",
   "execution_count": 83,
   "metadata": {
    "scrolled": true
   },
   "outputs": [
    {
     "name": "stdout",
     "output_type": "stream",
     "text": [
      "float64 float64 float64\n",
      "[0 0 0 0 0 0 0 0 0 0]\n",
      "<class 'numpy.ndarray'>\n",
      "int32\n",
      "[0. 0. 0. 0. 0. 0. 0. 0. 0. 0.]\n"
     ]
    },
    {
     "name": "stderr",
     "output_type": "stream",
     "text": [
      "<ipython-input-83-9289ed7b784d>:2: DeprecationWarning: `np.int` is a deprecated alias for the builtin `int`. To silence this warning, use `int` by itself. Doing this will not modify any behavior and is safe. When replacing `np.int`, you may wish to use e.g. `np.int64` or `np.int32` to specify the precision. If you wish to review your current use, check the release note link for additional information.\n",
      "Deprecated in NumPy 1.20; for more details and guidance: https://numpy.org/devdocs/release/1.20.0-notes.html#deprecations\n",
      "  w = np.zeros(10, dtype=np.int)\n"
     ]
    },
    {
     "ename": "ValueError",
     "evalue": "operands could not be broadcast together with shapes (10,) (5,) ",
     "output_type": "error",
     "traceback": [
      "\u001b[1;31m---------------------------------------------------------------------------\u001b[0m",
      "\u001b[1;31mValueError\u001b[0m                                Traceback (most recent call last)",
      "\u001b[1;32m<ipython-input-83-9289ed7b784d>\u001b[0m in \u001b[0;36m<module>\u001b[1;34m\u001b[0m\n\u001b[0;32m      5\u001b[0m \u001b[0mprint\u001b[0m\u001b[1;33m(\u001b[0m\u001b[0mw\u001b[0m\u001b[1;33m.\u001b[0m\u001b[0mdtype\u001b[0m\u001b[1;33m)\u001b[0m\u001b[1;33m\u001b[0m\u001b[1;33m\u001b[0m\u001b[0m\n\u001b[0;32m      6\u001b[0m \u001b[0mprint\u001b[0m\u001b[1;33m(\u001b[0m\u001b[0mu\u001b[0m \u001b[1;33m+\u001b[0m \u001b[0mw\u001b[0m\u001b[1;33m)\u001b[0m \u001b[1;31m# Implícitamente se hace una conversión de tipo de int64 a float64\u001b[0m\u001b[1;33m\u001b[0m\u001b[1;33m\u001b[0m\u001b[0m\n\u001b[1;32m----> 7\u001b[1;33m \u001b[0mprint\u001b[0m\u001b[1;33m(\u001b[0m\u001b[0mu\u001b[0m \u001b[1;33m+\u001b[0m \u001b[0mv\u001b[0m\u001b[1;33m)\u001b[0m \u001b[1;31m# ERROR: Los vectores non tienen el mismo tamaño!\u001b[0m\u001b[1;33m\u001b[0m\u001b[1;33m\u001b[0m\u001b[0m\n\u001b[0m",
      "\u001b[1;31mValueError\u001b[0m: operands could not be broadcast together with shapes (10,) (5,) "
     ]
    }
   ],
   "source": [
    "print(u.dtype,v.dtype,r.dtype)\n",
    "w = np.zeros(10, dtype=np.int)\n",
    "print(w)\n",
    "print(type(w))\n",
    "print(w.dtype)\n",
    "print(u + w) # Implícitamente se hace una conversión de tipo de int64 a float64 \n",
    "print(u + v) # ERROR: Los vectores non tienen el mismo tamaño!"
   ]
  },
  {
   "cell_type": "markdown",
   "metadata": {},
   "source": [
    "Podemos cambiar los coeficientes de un vector utilizando la indexación,"
   ]
  },
  {
   "cell_type": "code",
   "execution_count": 11,
   "metadata": {},
   "outputs": [
    {
     "name": "stdout",
     "output_type": "stream",
     "text": [
      "[0. 0. 0. 0. 0. 0. 0. 0. 0. 0.]\n",
      "[10.   0.   0.  -4.3  0.   0.   0.   0.   0.   1. ]\n"
     ]
    }
   ],
   "source": [
    "print(u)\n",
    "u[0] = 10.0\n",
    "u[3] = -4.3\n",
    "u[9] = 1.0\n",
    "print(u)"
   ]
  },
  {
   "cell_type": "markdown",
   "metadata": {},
   "source": [
    "> **NOTA IMPORTANTE **: Hai que recordar que en Python los valores de los índices empiezan en cero!\n",
    "\n",
    "Evidentemente, existen otras maneras de crear vectores de números de tipo `numpy.array`, como, por ejemplo, aplicando la función `np.array()` a una lista Python de números:"
   ]
  },
  {
   "cell_type": "code",
   "execution_count": 57,
   "metadata": {},
   "outputs": [
    {
     "name": "stdout",
     "output_type": "stream",
     "text": [
      "[ 4.  8.  9. 11. -2.]\n",
      "<class 'list'>\n",
      "<class 'numpy.ndarray'>\n"
     ]
    }
   ],
   "source": [
    "u = [4.0, 8.0, 9.0, 11.0, -2.0]\n",
    "v = np.array(u) \n",
    "print(v)\n",
    "print(type(u))\n",
    "print(type(v))"
   ]
  },
  {
   "cell_type": "markdown",
   "metadata": {},
   "source": [
    "Además, existen otros dos métodos para crear vectores de números que nos serán de utilidad a lo largo del curso (y en particular cando tegamos que pintar funciones con **Matplotlib** en una o en varias variables):\n",
    "- `numpy.arange` \n",
    "- `numpy.linspace`\n",
    "\n",
    "La función `arange` crea un vector con valores enteros consecutivos (de forma semejante a la función de Python `range`). Por ejemplo, podemos crear el vector fila $\\vec{u}=(0, 1, 2, 3, 4, 5)$ usando `arange`,"
   ]
  },
  {
   "cell_type": "code",
   "execution_count": 84,
   "metadata": {
    "scrolled": true
   },
   "outputs": [
    {
     "name": "stdout",
     "output_type": "stream",
     "text": [
      "[0 1 2 3 4 5]\n",
      "<class 'numpy.ndarray'>\n",
      "int32\n"
     ]
    }
   ],
   "source": [
    "u = np.arange(6)\n",
    "print(u)\n",
    "print(type(u))\n",
    "print(u.dtype)"
   ]
  },
  {
   "cell_type": "markdown",
   "metadata": {},
   "source": [
    "Podemos comprobar que el número $6$ no está incluido ya que el rango de valores comienza en $0$ y el vector solamente posee seis elementos. Sin embargo, podemos especificar el valor numérico en el que comienza y finaliza el vector: "
   ]
  },
  {
   "cell_type": "code",
   "execution_count": 85,
   "metadata": {},
   "outputs": [
    {
     "name": "stdout",
     "output_type": "stream",
     "text": [
      "[2 3 4 5]\n"
     ]
    }
   ],
   "source": [
    "u = np.arange(2, 6)\n",
    "print(u)"
   ]
  },
  {
   "cell_type": "markdown",
   "metadata": {},
   "source": [
    "La función `linspace` junto con la función `meshgrid` se usará de forma habitual para pintar funciones de una y varias variables a lo largo de este curso. Esta función `linspace` crea un vector de números equiespaciados con un valor inicial y final (ambos incluidos) y con un tamaño determinado:"
   ]
  },
  {
   "cell_type": "code",
   "execution_count": 86,
   "metadata": {},
   "outputs": [
    {
     "name": "stdout",
     "output_type": "stream",
     "text": [
      "[  0.  20.  40.  60.  80. 100.]\n",
      "float64\n"
     ]
    }
   ],
   "source": [
    "w = np.linspace(0., 100., 6)\n",
    "print(w)\n",
    "print(w.dtype)"
   ]
  },
  {
   "cell_type": "markdown",
   "metadata": {},
   "source": [
    "Para comprobar el tamaño de un vector, se puede usar la función `len`, aunque una forma más general de comprobar la dimensión del vector w es usar `w.shape`, que nos devuelve una tupla con las dimensiones del vector:"
   ]
  },
  {
   "cell_type": "code",
   "execution_count": 87,
   "metadata": {},
   "outputs": [
    {
     "name": "stdout",
     "output_type": "stream",
     "text": [
      "6\n",
      "(6,)\n"
     ]
    }
   ],
   "source": [
    "print(len(w))\n",
    "print(w.shape)"
   ]
  },
  {
   "cell_type": "markdown",
   "metadata": {},
   "source": [
    "`shape` nos informa sobre el tamaño del vector en *cada* dirección. En el caso de los vectores, hay una única dirección, mientras que en conjuntos de datos con múltiples índices (matrices, o tensores $n$-dimensionales) `shape` nos informaría del tamaño de estas estructuras de datos en cada dirección. Por ejemplo, creamos a continuación una matriz de ceros de tipo entero de tamaño $2\\times 3$ y comprobamos su tamaño:"
   ]
  },
  {
   "cell_type": "code",
   "execution_count": 88,
   "metadata": {},
   "outputs": [
    {
     "name": "stdout",
     "output_type": "stream",
     "text": [
      "[[0 0 0]\n",
      " [0 0 0]]\n",
      "(2, 3)\n"
     ]
    },
    {
     "name": "stderr",
     "output_type": "stream",
     "text": [
      "<ipython-input-88-755cab7bd294>:1: DeprecationWarning: `np.int` is a deprecated alias for the builtin `int`. To silence this warning, use `int` by itself. Doing this will not modify any behavior and is safe. When replacing `np.int`, you may wish to use e.g. `np.int64` or `np.int32` to specify the precision. If you wish to review your current use, check the release note link for additional information.\n",
      "Deprecated in NumPy 1.20; for more details and guidance: https://numpy.org/devdocs/release/1.20.0-notes.html#deprecations\n",
      "  A =  np.zeros((2,3), dtype=np.int)\n"
     ]
    }
   ],
   "source": [
    "A =  np.zeros((2,3), dtype=np.int)\n",
    "print(A)\n",
    "print(A.shape)"
   ]
  },
  {
   "cell_type": "markdown",
   "metadata": {},
   "source": [
    "## Troceado de vectores\n",
    "\n",
    "Cuando se trabaja con vectores de números, es habitual tener que extraer un subconjunto de estos para crear un nuevo vector. Por ejemplo, obtener los tres primeros coeficientes de un vector o, en el caso de matrices, restringir los cálculos a su segunda columna. A este tipo de operaciones se le denomina troceado de vectores (o, en inglés, *array slicing*). \n",
    "\n",
    "Vamos a explorar esto mediante varios ejemplos, empezando mediante un vector de valores aleatorios:"
   ]
  },
  {
   "cell_type": "code",
   "execution_count": 103,
   "metadata": {},
   "outputs": [
    {
     "name": "stdout",
     "output_type": "stream",
     "text": [
      "[0.40824542 0.56540931 0.86805103 0.02612602 0.21546124]\n",
      "Troceado usando '[:]' [0.40824542 0.56540931 0.86805103 0.02612602 0.21546124]\n",
      "Troceado usando '[1:3]': [0.56540931 0.86805103]\n",
      "Troceado usando '[2:-1]': [0.86805103 0.02612602]\n",
      "Troceado usando '[2:-2]': [0.86805103]\n",
      "Troceado usando '[:3]': [0.40824542 0.56540931 0.86805103]\n",
      "Troceado usando '[4:]': [0.21546124]\n"
     ]
    }
   ],
   "source": [
    "a = np.random.rand(5)\n",
    "print(a)\n",
    "\n",
    "# Usar ':' implica el conjunto entero en el rango de los índices, es decir, desde 0 hasta longitud-1\n",
    "b = a[:]\n",
    "print(\"Troceado usando '[:]' {}\".format(b))\n",
    "\n",
    "# Usar '1:3' implica los índices 1 -> 3 (sin incluir a 3)\n",
    "b = a[1:3]\n",
    "print(\"Troceado usando '[1:3]': {}\".format(b))\n",
    "\n",
    "# Usar '2:-1' implica los índices 2 -> el primero desde el final (sin incluirlo)\n",
    "b = a[2:-1]\n",
    "print(\"Troceado usando '[2:-1]': {}\".format(b))\n",
    "\n",
    "# Usar '2:-2' implica los índices 2 -> el segundo desde el final (sin incluirlo)\n",
    "b = a[2:-2]\n",
    "print(\"Troceado usando '[2:-2]': {}\".format(b))\n",
    "\n",
    "# Usar ':3' implica usar índices dende el principio hasta 3 (sin incluir el índice 3)\n",
    "b = a[:3]\n",
    "print(\"Troceado usando '[:3]': {}\".format(b))\n",
    "\n",
    "# Usar '4:' implica los índices desde 4 -> hasta el final\n",
    "b = a[4:]\n",
    "print(\"Troceado usando '[4:]': {}\".format(b))"
   ]
  },
  {
   "cell_type": "markdown",
   "metadata": {},
   "source": [
    "> **NOTA**: el uso del índice `-1`, se asocia con el último elemento del vector. Del mismo modo, el índice `-2` está vinculado al segundo elemento empezando por el final, etc. Este convenio de referenciar índices desde el final de un vector es muy útil ya que con el uso de estos índices negativos se puede hacer referencia a los últimos coeficientes de un vector sin tener que hacer referencia expresa a su tamaño."
   ]
  },
  {
   "cell_type": "markdown",
   "metadata": {},
   "source": [
    "El troceado también se puede aplicar a matrices:"
   ]
  },
  {
   "cell_type": "code",
   "execution_count": 95,
   "metadata": {},
   "outputs": [
    {
     "name": "stdout",
     "output_type": "stream",
     "text": [
      "[[1.3 0. ]\n",
      " [0.  2. ]]\n",
      "[0. 2.]\n",
      "[1.3 0. ]\n"
     ]
    }
   ],
   "source": [
    "B = np.array([[1.3, 0], [0, 2.0]])\n",
    "print(B)\n",
    "\n",
    "# Extraer la segunda fila\n",
    "row = B[1, :]\n",
    "print(row)\n",
    "\n",
    "# Extraer la primera columna (almacenada en un vector fila)\n",
    "col = B[:, 0] \n",
    "print(col)"
   ]
  },
  {
   "cell_type": "markdown",
   "metadata": {},
   "source": [
    "Existen muchas otras estrategias y sintaxis relacionadas con el troceado de vectores, que quedan fuera del alcance de esta  breve introducción a **Numpy**. Para una información más detallada, se puede consultar: https://docs.scipy.org/doc/numpy/reference/arrays.indexing.html"
   ]
  },
  {
   "cell_type": "markdown",
   "metadata": {},
   "source": [
    "## Aritmética y funciones sobre vectores\n",
    "\n",
    "Los vectores en **NumPy** soportan las operaciones aritméticas básicas (sumas, restas, productos, etc.):"
   ]
  },
  {
   "cell_type": "code",
   "execution_count": 89,
   "metadata": {},
   "outputs": [
    {
     "name": "stdout",
     "output_type": "stream",
     "text": [
      "[1.  0.2 1.2]\n",
      "[2.  0.1 2.1]\n",
      "[3.  0.3 3.3]\n"
     ]
    }
   ],
   "source": [
    "a = np.array([1.0, 0.2, 1.2])\n",
    "b = np.array([2.0, 0.1, 2.1])\n",
    "print(a)\n",
    "print(b)\n",
    "\n",
    "# Suma de a y b\n",
    "c = a + b\n",
    "print(c)"
   ]
  },
  {
   "cell_type": "markdown",
   "metadata": {},
   "source": [
    "y en el caso del producto de sus elementos por un valor escalar,"
   ]
  },
  {
   "cell_type": "code",
   "execution_count": 90,
   "metadata": {},
   "outputs": [
    {
     "name": "stdout",
     "output_type": "stream",
     "text": [
      "[10.  2. 12.]\n"
     ]
    }
   ],
   "source": [
    "c = 10.0*a\n",
    "print(c)"
   ]
  },
  {
   "cell_type": "markdown",
   "metadata": {},
   "source": [
    "y de elevar todas sus componentes a una potencia:"
   ]
  },
  {
   "cell_type": "code",
   "execution_count": 91,
   "metadata": {},
   "outputs": [
    {
     "name": "stdout",
     "output_type": "stream",
     "text": [
      "[ 4  9 16]\n"
     ]
    }
   ],
   "source": [
    "a = np.array([2, 3, 4])\n",
    "print(a**2)"
   ]
  },
  {
   "cell_type": "markdown",
   "metadata": {},
   "source": [
    "También se pueden aplicar las funciones de cálculo de **Numpy** a cada una de sus componentes:"
   ]
  },
  {
   "cell_type": "code",
   "execution_count": 104,
   "metadata": {},
   "outputs": [
    {
     "name": "stdout",
     "output_type": "stream",
     "text": [
      "[0.         1.57079633 3.14159265 4.71238898]\n",
      "[ 0.0000000e+00  1.0000000e+00  1.2246468e-16 -1.0000000e+00]\n"
     ]
    }
   ],
   "source": [
    "# Crear el vector [0, π/2, π, 3π/2]\n",
    "a = np.array([0.0, np.pi/2, np.pi, 3*np.pi/2])\n",
    "print(a)\n",
    "\n",
    "# Calcular el seno de cada componente del vector\n",
    "b = np.sin(a)\n",
    "print(b)"
   ]
  },
  {
   "cell_type": "markdown",
   "metadata": {},
   "source": [
    "Evidentemente, también se podría calcular el seno de cada componente del vector, accediendo a cada uno de los elementos mediante su índice y haciendo los cálculos en el interior de un bucle `for`:"
   ]
  },
  {
   "cell_type": "code",
   "execution_count": 93,
   "metadata": {},
   "outputs": [
    {
     "name": "stdout",
     "output_type": "stream",
     "text": [
      "[ 0.0000000e+00  1.0000000e+00  1.2246468e-16 -1.0000000e+00]\n"
     ]
    }
   ],
   "source": [
    "b = np.zeros(len(a)) #inicializamos el vector resultante\n",
    "for i in range(len(a)):\n",
    "    b[i] = np.sin(a[i])\n",
    "\n",
    "print(b)"
   ]
  },
  {
   "cell_type": "markdown",
   "metadata": {},
   "source": [
    "En este caso el programa es más largo y difícil de leer. Además, en muchos casos será más lento. A la manipulación de vectores y cualquiera de los cálculos realizados entre ellos sin acceder a sus índices suele conocerse como 'vectorización'. Cuando sea posible emplearla, la vectorización incrementará el rendimiento y velocidad de los códigos de cálculo. En el ejercicio final de este guión, se analizará el rendimiento de este tipo de técnicas."
   ]
  },
  {
   "cell_type": "markdown",
   "metadata": {},
   "source": [
    "Los códigos ateriores calculan el seno de cada componente del vector `a`. Debemos remarcar que para ello la función que se está utilizando es `np.sin`, que depende directamente del módulo **Numpy**. El uso de cualquier otra implementación de la función en otros módulos (por ejemplo, en el módulo **Sympy**), podría dar lugar a error cuando se aplica a objetos pertenecientes al módulo **Numpy**. De hecho, en general, las funciones dependientes de **Sympy** no admiten operaciones vectoriales sobre vectores de **Numpy**. Sin embargo, se pueden traducir objetos que dependen del módulo **Sympy** a objetos del módulo **Numpy** a través del método `sp.lambdify`. Veamos a continuación algunos ejemplos de su uso:"
   ]
  },
  {
   "cell_type": "code",
   "execution_count": 145,
   "metadata": {},
   "outputs": [
    {
     "name": "stdout",
     "output_type": "stream",
     "text": [
      "[ 1. -1.  1. -1.]\n",
      "[ 1.  1. -1. -1.]\n"
     ]
    }
   ],
   "source": [
    "x = sp.Symbol('x', real=True) # definimos la variable simbólica x\n",
    "\n",
    "# Ejemplo con una expresión simbólica \n",
    "expr = sp.cos(2*x) # definimos la expresión simbólica\n",
    "f = sp.lambdify(x,expr,\"numpy\") # función numpy de la expresión simbólica expr\n",
    "b = f(a) # Calculamos el coseno del ángulo doble de cada componente del vector a\n",
    "print(b)\n",
    "\n",
    "# Ejemplo con una función simbólica  \n",
    "f = sp.Lambda(x,sp.sin(x)+sp.cos(x)) # definimos la función simbólica\n",
    "fn = sp.lambdify(x,f(x),\"numpy\") # función numpy de la expresión simbólica f(x)\n",
    "b = fn(a) # Aplicamos la función fn a cada componente del vector a\n",
    "print(b)"
   ]
  },
  {
   "cell_type": "markdown",
   "metadata": {},
   "source": [
    "## Ejercicio: aceleración con Numpy en el cálculo de normas de vectores\n",
    "\n",
    "La norma euclídea (o módulo) de un vector $\\vec{x}=(x_{0},\\ldots,x_{n-1})\\in\\mathbb{R}^{n}$ viene dada por \n",
    "\n",
    "$$\n",
    "\\| \\vec{x} \\| = \\sqrt{\\sum_{i=0}^{n-1} x_{i} x_{i}}\n",
    "$$\n",
    "\n",
    "donde $x_{i}$ es el $i$-ésimo coeficiente de $\\vec{x}$. En resumen, su norma no requiere más que el cálculo del producto interior por sí mismo, seguido por el cálculo de una raíz cuadrada. Para calcular el valor de la norma, se pueden seguir diferentes estrategias: la primera de ellas puede consistir en usar un bucle para recorrer todos los coeficientes del vector y sumar el cuadrado de cada coeficiente, luego coger la suma de todas estas cantidades y calcular la raíz cuadrada.\n",
    "\n",
    "Para evaluar el rendimiento computacional de esta implementación, vamos a coger un vector moderadamente grande (con 10 millones de elementos) y calcular su tiempo de cálculo:"
   ]
  },
  {
   "cell_type": "code",
   "execution_count": 96,
   "metadata": {},
   "outputs": [
    {
     "name": "stdout",
     "output_type": "stream",
     "text": [
      "<class 'numpy.ndarray'>\n"
     ]
    }
   ],
   "source": [
    "# Crear un vector NumPy con 10 millones de valores aleatorios\n",
    "x = np.random.rand(10000000)\n",
    "print(type(x))"
   ]
  },
  {
   "cell_type": "code",
   "execution_count": 97,
   "metadata": {},
   "outputs": [
    {
     "name": "stdout",
     "output_type": "stream",
     "text": [
      "Wall time: 2.21 s\n",
      "1825.7456665166999\n"
     ]
    }
   ],
   "source": [
    "def compute_norm(x):\n",
    "    norm = 0.0\n",
    "    for xi in x:\n",
    "        norm += xi*xi\n",
    "    return np.sqrt(norm)\n",
    "\n",
    "%time norm = compute_norm(x)\n",
    "print(norm)"
   ]
  },
  {
   "cell_type": "markdown",
   "metadata": {},
   "source": [
    "El tiempo de cálculo que nos interesa es el que aparece bajo la etiqueta '`Wall time`'.\n",
    "\n",
    "> ** NOTA **: Los detalles de cómo la etiqueta `%time` trabaja en este guión non son de importancia en este curso. Debemos indicar que esta forma de proceder es únicamente válida para consolas o ficheros que se ejecuten bajo [I]Python y entornos de servidores Jupyter. Esta forma de trabajar es muy compacta y conveniente para medir el tiempo que se requiere para completar la ejecución de una línea de código."
   ]
  },
  {
   "cell_type": "markdown",
   "metadata": {},
   "source": [
    "### **Ejercicio 1** \n",
    "Usando la misma implementación basada en un bucle, accede a cada elemento del vector por su índice comenzando desde el primero hasta el último. Haz lo mismo con un bucle que acceda en orden inverso, desde el último hasta el primero."
   ]
  },
  {
   "cell_type": "code",
   "execution_count": 98,
   "metadata": {},
   "outputs": [],
   "source": [
    "# ESCRIBE AQUÍ TU CÓDIGO\n"
   ]
  },
  {
   "cell_type": "markdown",
   "metadata": {},
   "source": [
    "### **Ejercicio 2** \n",
    "Trata de emplear funciones **Numpy** para definir una función que evite el bucle sobre los coeficientes del vector y que no acceda elemento a elemento del mismo (versión vectorizada)."
   ]
  },
  {
   "cell_type": "code",
   "execution_count": 99,
   "metadata": {},
   "outputs": [],
   "source": [
    "# ESCRIBE AQUÍ TU CÓDIGO\n"
   ]
  },
  {
   "cell_type": "markdown",
   "metadata": {},
   "source": [
    "> ** NOTA **: La función `np.dot(,)` permite calcular el producto interior de dos vectores."
   ]
  },
  {
   "cell_type": "markdown",
   "metadata": {},
   "source": [
    "### **Ejercicio 3** \n",
    "Compara los tiempos de cálculo de las cuatro implementaciones para diferentes dimensiones del vector $\\vec{x}$, de tamaños $10$, $10^3$, $10^5$, $10^7$. A partir de estos tiempos de cálculo: ¿qué se puede deducir como conclusión?"
   ]
  },
  {
   "cell_type": "code",
   "execution_count": 30,
   "metadata": {},
   "outputs": [],
   "source": [
    "# ESCRIBE AQUÍ TU CÓDIGO\n"
   ]
  }
 ],
 "metadata": {
  "kernelspec": {
   "display_name": "Python 3 (ipykernel)",
   "language": "python",
   "name": "python3"
  },
  "language_info": {
   "codemirror_mode": {
    "name": "ipython",
    "version": 3
   },
   "file_extension": ".py",
   "mimetype": "text/x-python",
   "name": "python",
   "nbconvert_exporter": "python",
   "pygments_lexer": "ipython3",
   "version": "3.11.2"
  },
  "vscode": {
   "interpreter": {
    "hash": "6bee1e8c92def9b58716ddd07d843225b81ed35493dd8048850a9a59c060c325"
   }
  }
 },
 "nbformat": 4,
 "nbformat_minor": 4
}