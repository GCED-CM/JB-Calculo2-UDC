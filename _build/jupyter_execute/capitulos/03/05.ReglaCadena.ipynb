{
 "cells": [
  {
   "cell_type": "markdown",
   "metadata": {},
   "source": [
    "# Regla de la cadena \n",
    "\n",
    "## Regla de la cadena para una variable independiente\n",
    "\n",
    "````{prf:theorem}  Regla de la cadena: una variable independiente\n",
    ":label: th_regla_cad_var_ind\n",
    ":nonumber: \n",
    "\n",
    "Sea $w = f(x,y)$, donde $f$ es una función derivable de $x$ e $y$. Si $x = g(t)$ e $y = h(t)$, donde $g$ y $h$ son funciones derivables de $t$, entonces $w$ es una función diferenciable de $t$, y \n",
    "\n",
    "$$\n",
    "\\frac{dw}{dt} = \\frac{\\partial w}{\\partial x} \\frac{dx}{dt} + \\frac{\\partial w}{\\partial y} \\frac{dy}{dt}.\n",
    "$$\n",
    "````\n",
    "<img src=\"../../images/3.5.Regla_cadena_1_var_ind.png\" width=\"200\"/>\n",
    "\n",
    "¡A practicar!\n",
    "\n",
    "````{prf:example}  \n",
    ":label: 3.x._ex\n",
    ":nonumber: \n",
    "\n",
    "Sea $w = x^2y - y^2$ donde $x = \\sin(t)$ e $y = e^t$. Calcular $dw/dt$ cuando $t = 0$.\n",
    "\n",
    "**Solución:**\n",
    "\n",
    "Por la regla de la cadena para una variable independiente, tenemos que\n",
    "\n",
    "\\begin{equation*} \n",
    "\\begin{split}\n",
    "\\frac{dw}{dt} & = \\frac{\\partial w}{\\partial x} \\frac{dx}{dt} + \\frac{\\partial w}{\\partial y} \\frac{dy}{dt} \\\\\n",
    " & = 2xy(\\cos(t)) + (x^2 - 2y)e^t \\\\\n",
    " & = 2\\sin(t)e^t\\cos(t) + (\\sin^2(t) - 2e^t)e^t \\\\\n",
    " & = 2e^t\\sin(t)\\cos(t) + e^t\\sin^2(t) - 2e^(2t).\n",
    "\\end{split}\n",
    "\\end{equation*}\n",
    "\n",
    "Cuando $t = 0$, se tiene que\n",
    "\n",
    "$$\n",
    "\\frac{dw}{dt} = -2.\n",
    "$$\n",
    "````\n",
    "\n",
    "````{prf:remark} \n",
    ":label: rc_01_regla_cadena\n",
    ":nonumber:\n",
    "\n",
    "La regla de la cadena para una variable independiente se puede extender a cualquier número de variables. Si\n",
    "\n",
    "$$\n",
    "w = f(x_1,x_2,\\ldots,x_n),\n",
    "$$\n",
    "\n",
    "donde cada una de las $x_j$ es una función diferenciable de una sola variable $t$. Entonces\n",
    "\n",
    "$$\n",
    "\\frac{dw}{dt} = \\frac{\\partial w}{\\partial x_1}\\frac{dx_1}{dt} + \\frac{\\partial w}{\\partial x_2}\\frac{dx_2}{dt} + \\ldots + \\frac{\\partial w}{\\partial x_n}\\frac{dx_n}{dt}.\n",
    "$$\n",
    "````\n",
    "\n",
    "## Regla de la cadena para dos variables independientes\n",
    "\n",
    "````{prf:theorem}  Regla de la cadena: dos variables independientes\n",
    ":label: th_regla_cad_2_var_ind\n",
    ":nonumber: \n",
    "\n",
    "Sea $w = f(x,y)$, donde $f$ es una función diferenciable de $x$ e $y$. Si $x = g(s,t)$ e $y = h(s,t)$ son tales que las derivadas parciales de primer order $\\partial x / \\partial s$, $\\partial x / \\partial t$, $\\partial y / \\partial s$ y $\\partial y / \\partial t$ existen, entonces $\\partial w / \\partial s$ y $\\partial w / \\partial t$ existen y vienen dadas por\n",
    "\n",
    "$$\n",
    "\\frac{\\partial w}{\\partial s} = \\frac{\\partial w}{\\partial x} \\frac{\\partial x}{\\partial s} + \\frac{\\partial w}{\\partial y} \\frac{\\partial y}{\\partial s} \\quad \\textrm{ y } \\quad \\frac{\\partial w}{\\partial t} = \\frac{\\partial w}{\\partial x} \\frac{\\partial x}{\\partial t} + \\frac{\\partial w}{\\partial y} \\frac{\\partial y}{\\partial t}.\n",
    "$$\n",
    "````\n",
    "\n",
    "<img src=\"../../images/3.5.Regla_cadena_2_var_ind.png\" width=\"300\"/>\n",
    "\n",
    "¡Sigamos practicando!\n",
    "\n",
    "````{prf:example}  \n",
    ":label: 3.x._ex\n",
    ":nonumber: \n",
    "\n",
    "Utiliza la regla de la cadena para calcular $\\frac{dw}{ds}$ y $\\frac{dw}{dt}$ para $w = 2xy$ donde $x = s^2 + t^2$ e $y = s/t$. \n",
    "\n",
    "**Solución:**\n",
    "\n",
    "Por la regla de la cadena para dos variables independientes, si $t$ se asume constante y diferenciamos con respecto a $s$, obtenemos que\n",
    "\n",
    "\\begin{equation*} \n",
    "\\begin{split}\n",
    "\\frac{\\partial w}{\\partial s} & = \\frac{\\partial w}{\\partial x} \\frac{\\partial x}{\\partial s} + \\frac{\\partial w}{\\partial y} \\frac{\\partial y}{\\partial s} \\\\\n",
    " & = 2y(2s) + 2x\\frac{1}{t} \\\\\n",
    " & = 2 \\color{blue}{\\frac{s}{t}}\\normalcolor(2s) + 2(\\color{blue}{s^2 + t^2}\\normalcolor)\\frac{1}{t} \\\\\n",
    " & = \\frac{4s^2}{t} + \\frac{2s^2 + 2t^2}{t} \\\\\n",
    " & = \\frac{6s^2 + 2t^2}{t}.\n",
    "\\end{split}\n",
    "\\end{equation*}\n",
    "\n",
    "Del mismo modo, asumiendo $s$ constante, obtenemos que\n",
    "\n",
    "\\begin{equation*} \n",
    "\\begin{split}\n",
    "\\frac{\\partial w}{\\partial t} & = \\frac{\\partial w}{\\partial x} \\frac{\\partial x}{\\partial t} + \\frac{\\partial w}{\\partial y} \\frac{\\partial y}{\\partial t} \\\\\n",
    " & = 2y(2t) + 2x\\frac{-s}{t^2} \\\\\n",
    " & = 2\\color{blue}{\\frac{s}{t}}\\normalcolor(2t) + 2(\\color{blue}{s^2 + t^2}\\normalcolor)\\frac{-s}{t^2} \\\\\n",
    " & = 4s - \\frac{2s^3 + 2st^2}{t^2} \\\\\n",
    " & = \\frac{4st^2 - 2s^3 - 2st^2}{t^2} \\\\\n",
    " & = \\frac{2st^2 - 2s^3}{t^2}.\n",
    "\\end{split}\n",
    "\\end{equation*}\n",
    "````\n",
    "\n",
    "Vamos ahora a practicar con `Python`."
   ]
  },
  {
   "cell_type": "code",
   "execution_count": 1,
   "metadata": {},
   "outputs": [],
   "source": [
    "import sympy as sp"
   ]
  },
  {
   "cell_type": "code",
   "execution_count": 2,
   "metadata": {},
   "outputs": [
    {
     "name": "stdout",
     "output_type": "stream",
     "text": [
      "Derivada de w con respecto a s: \n"
     ]
    },
    {
     "data": {
      "text/latex": [
       "$\\displaystyle \\frac{6 s^{2}}{t} + 2 t$"
      ],
      "text/plain": [
       "6*s**2/t + 2*t"
      ]
     },
     "metadata": {},
     "output_type": "display_data"
    },
    {
     "name": "stdout",
     "output_type": "stream",
     "text": [
      "Derivada de w con respecto a t: \n"
     ]
    },
    {
     "data": {
      "text/latex": [
       "$\\displaystyle - \\frac{2 s^{3}}{t^{2}} + 2 s$"
      ],
      "text/plain": [
       "-2*s**3/t**2 + 2*s"
      ]
     },
     "metadata": {},
     "output_type": "display_data"
    }
   ],
   "source": [
    "x, y, s, t = sp.symbols('x y s t', real=True) # define las variables simbólicas x, y, s, t \n",
    "w = 2*x*y # define w(x,y)\n",
    "xx = s**2 + t**2 # define x(s,t)\n",
    "yy = s/t # define y(s,t)\n",
    "# Cálculo de la derivada de w con respecto a s:\n",
    "w_x, w_y = sp.diff(w,x).subs({x:s**2+t**2,y:s/t}), sp.diff(w,y).subs({x:s**2+t**2,y:s/t})\n",
    "x_s, y_s = sp.diff(xx,s), sp.diff(yy,s)\n",
    "w_s = w_x * x_s + w_y * y_s\n",
    "print('Derivada de w con respecto a s: ')\n",
    "display(sp.simplify(w_s))\n",
    "# Cálculo de la derivada de w con respecto a t:\n",
    "x_t, y_t = sp.diff(xx,t), sp.diff(yy,t)\n",
    "w_t = w_x * x_t + w_y * y_t\n",
    "print('Derivada de w con respecto a t: ')\n",
    "display(sp.simplify(w_t))"
   ]
  },
  {
   "cell_type": "markdown",
   "metadata": {},
   "source": [
    "````{prf:remark} \n",
    ":label: rc_02_regla_cadena\n",
    ":nonumber:\n",
    "\n",
    "La regla de la cadena para dos variables independientes también se puede extender a cualquier número de variables. Si $w$ es una función diferenciable de las $n$ variables $x_1, x_2, \\ldots, x_n$, donde cada $x_j$ es una función diferenciable de las $m$ variables $t_1, t_2, \\ldots, t_m$. Para $w = f(x_1, x_2, \\ldots, x_n)$, se obtiene:  \n",
    "\n",
    "\\begin{eqnarray*}\n",
    "&& \\frac{\\partial w}{\\partial t_1} = \\frac{\\partial w}{\\partial x_1}\\frac{\\partial x_1}{\\partial t_1} + \\frac{\\partial w}{\\partial x_2}\\frac{\\partial x_2}{\\partial t_1} + \\ldots + \\frac{\\partial w}{\\partial x_n}\\frac{\\partial x_n}{\\partial t_1}, \\\\ \n",
    "&& \\frac{\\partial w}{\\partial t_2} = \\frac{\\partial w}{\\partial x_1}\\frac{\\partial x_1}{\\partial t_2} + \\frac{\\partial w}{\\partial x_2}\\frac{\\partial x_2}{\\partial t_2} + \\ldots + \\frac{\\partial w}{\\partial x_n}\\frac{\\partial x_n}{\\partial t_2}, \\\\\n",
    "&& \\quad \\vdots \\\\\n",
    "&& \\frac{\\partial w}{\\partial t_m} = \\frac{\\partial w}{\\partial x_1}\\frac{\\partial x_1}{\\partial t_m} + \\frac{\\partial w}{\\partial x_2}\\frac{\\partial x_2}{\\partial t_m} + \\ldots + \\frac{\\partial w}{\\partial x_n}\\frac{\\partial x_n}{\\partial t_m}\n",
    "\\end{eqnarray*}\n",
    "````"
   ]
  },
  {
   "cell_type": "markdown",
   "metadata": {},
   "source": [
    "## Derivación implícita\n",
    "\n",
    "Si queremos calcular las derivadas de una función que depende de una o varias variables no tenemos porque conocer su expresión de forma explícita, puede venir dada implícitamente. Por ejemplo, la función $y = f(x)$ puede venir determinada por la expresión $y^3 + y^2 - 5y - x^2 = -4$. En este caso, no se conoce de forma explícita cuál es la expresión de $f$ en términos de $x$. A pesar de ello, es posible calcular la derivada parcial $\\partial f/\\partial x$. \n",
    "\n",
    "````{prf:definition} Regla de la cadena: derivación implícita\n",
    ":label: def_rc_2vi\n",
    ":nonumber: \n",
    "\n",
    "Si la ecuación $F(x,y) = 0$ define a $y$ implícitamente como función derivable de $x$, entonces\n",
    "\n",
    "$$\n",
    "\\frac{dy}{dx} = -\\frac{F_x(x,y)}{F_y(x,y)}, \\quad F_y(x,y) \\neq 0.\n",
    "$$\n",
    "\n",
    "Si la ecuación $F(x,y,z) = 0$ define a $z$ implícitamente como función diferenciable de $x$ e $y$, entonces\n",
    "\n",
    "$$\n",
    "\\frac{\\partial z}{\\partial x} = -\\frac{F_x(x,y,z)}{F_z(x,y,z)} \\quad \\textrm{ y } \\quad \\frac{\\partial z}{\\partial y} = -\\frac{F_y(x,y,z)}{F_z(x,y,z)}, \\quad F_z(x,y,z) \\neq 0.\n",
    "$$\n",
    "````\n",
    "\n",
    "¡A seguir practicando!\n",
    "\n",
    "````{prf:example}  \n",
    ":label: 3.x._ex\n",
    ":nonumber: \n",
    "\n",
    "Calcular $dy/dx$ para $y^3 + y^2 - 5y - x^2 = -4$. \n",
    "\n",
    "**Solución:**\n",
    "\n",
    "Tomando $F$ tal que $F(x,y) = 0$, tenemos que\n",
    "\n",
    "$$\n",
    "F(x,y) = y^3 + y^2 - 5y - x^2 + 4.\n",
    "$$\n",
    "\n",
    "Entonces\n",
    "\n",
    "$$\n",
    "F_x(x,y) = -2x \\quad \\textrm{ y } \\quad F_y(x,y) = 3y^2 + 2y - 5.\n",
    "$$\n",
    "\n",
    "Usando el resultado teórico de derivación implícita, obtenemos que\n",
    "\n",
    "$$\n",
    "\\frac{dy}{dx} = -\\frac{F_x(x,y)}{F_y(x,y)} = - \\frac{(-2x)}{3y^2 + 2y - 5} = \\frac{2x}{3y^2 + 2y - 5}.\n",
    "$$\n",
    "````\n",
    "\n",
    "Vamos a comprobar que el cálculo es correcto con la ayuda de `Python`."
   ]
  },
  {
   "cell_type": "code",
   "execution_count": 3,
   "metadata": {},
   "outputs": [
    {
     "data": {
      "text/latex": [
       "$\\displaystyle - x^{2} + y^{3} + y^{2} - 5 y + 4 = 0$"
      ],
      "text/plain": [
       "Eq(-x**2 + y**3 + y**2 - 5*y + 4, 0)"
      ]
     },
     "metadata": {},
     "output_type": "display_data"
    },
    {
     "name": "stdout",
     "output_type": "stream",
     "text": [
      "Derivada implícita con respecto a x: \n"
     ]
    },
    {
     "data": {
      "text/latex": [
       "$\\displaystyle \\frac{2 x}{3 y^{2} + 2 y - 5}$"
      ],
      "text/plain": [
       "2*x/(3*y**2 + 2*y - 5)"
      ]
     },
     "metadata": {},
     "output_type": "display_data"
    }
   ],
   "source": [
    "x, y = sp.symbols('x y', real=True) # define la variable simbólica x e y \n",
    "F = y**3 + y**2 - 5*y - x**2 + 4 # define F tal que F(x,y) = 0\n",
    "display(sp.Eq(F,0))\n",
    "# Cálculo de la derivada implícita con respecto a x\n",
    "F_x, F_y = sp.diff(F, x), sp.diff(F, y) \n",
    "y_x = - F_x/F_y\n",
    "print('Derivada implícita con respecto a x: ')\n",
    "display(y_x)"
   ]
  }
 ],
 "metadata": {
  "kernelspec": {
   "display_name": "Python 3 (ipykernel)",
   "language": "python",
   "name": "python3"
  },
  "language_info": {
   "codemirror_mode": {
    "name": "ipython",
    "version": 3
   },
   "file_extension": ".py",
   "mimetype": "text/x-python",
   "name": "python",
   "nbconvert_exporter": "python",
   "pygments_lexer": "ipython3",
   "version": "3.9.12"
  },
  "vscode": {
   "interpreter": {
    "hash": "6bee1e8c92def9b58716ddd07d843225b81ed35493dd8048850a9a59c060c325"
   }
  }
 },
 "nbformat": 4,
 "nbformat_minor": 2
}