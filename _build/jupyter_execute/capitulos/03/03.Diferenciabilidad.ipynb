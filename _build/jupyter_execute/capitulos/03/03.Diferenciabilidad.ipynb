{
 "cells": [
  {
   "attachments": {},
   "cell_type": "markdown",
   "metadata": {},
   "source": [
    "# Diferenciabilidad\n",
    "\n",
    "## Definición de diferenciabilidad\n",
    "\n",
    "Comenzaremos esta sección motivando la aparición de un concepto más fuerte que el asociado a la existencia de las derivadas parciales, que resulta ser el concepto de diferenciabilidad. \n",
    "\n",
    "En primer lugar, debemos entender que, para funciones de dos o más variables, la existencia de las derivadas parciales (es decir, la derivabilidad en la dirección de los ejes) no garantiza la existencia de otras derivadas direccionales. Es más, **ni siquiera garantiza la continuidad**. \n",
    "\n",
    "Vamos a verlo sobre un ejemplo: \n",
    "\n",
    "````{prf:example} \n",
    ":label: ex_03_der_cont  \n",
    ":nonumber:\n",
    "\n",
    "Consideramos la función: \n",
    "\n",
    "$$\n",
    "f(x,y)=\\left\\{\n",
    "\\begin{array}{ll}\n",
    "\\dfrac{-3xy}{x^2+y^2} & \\textrm{si }(x,y)\\neq\n",
    "(0,0),\n",
    "\\\\ \n",
    " 0 & \\textrm{si }(x,y)=(0,0).\n",
    "\\end{array}\n",
    "\\right.\n",
    "$$\n",
    "\n",
    "Veamos, en primer lugar, que tiene derivadas parciales en el origen:\n",
    "\n",
    "\\begin{eqnarray*}\n",
    "\\dfrac{\\partial f}{\\partial x}(0,0)&=\\lim_{h\\to 0} \\dfrac{f(h,0)-f(0,0)}{h}=\\lim_{h\\to 0}\\dfrac{0-0}{h}=0,\\\\\n",
    "\\dfrac{\\partial f}{\\partial y}(0,0)&=\\lim_{h\\to 0} \\dfrac{f(0,h)-f(0,0)}{h}=\\lim_{h\\to 0}\\dfrac{0-0}{h}=0.\n",
    "\\end{eqnarray*}\n",
    "\n",
    "Sin embargo, es fácil comprobar que $f$ no es continua en $(0,0)$. En efecto, si consideramos su límite restringido a la recta $y=x$, obtenemos\n",
    "\n",
    "$$\n",
    "\\lim_{\\substack{ (x,y)\\to (0,0)\\\\ y=x}} f(x,y)=\\lim_{x\\to 0} f(x,x)=\\lim_{x\\to 0}\\dfrac{-3x^2}{2x^2}=-\\dfrac{3}{2},\n",
    "$$\n",
    "\n",
    "mientras que considerando la recta $y=-x$ se tiene \n",
    "\n",
    "$$\n",
    "\\lim_{\\substack{ (x,y)\\to (0,0)\\\\ y=-x}} f(x,y)=\\lim_{x\\to 0} f(x,-x)=\\lim_{x\\to 0}\\dfrac{3x^2}{2x^2}=\\dfrac{3}{2}.\n",
    "$$\n",
    "\n",
    "Como los dos resultados son distintos, concluimos que $f$ no es continua en $(0,0)$. \n",
    "\n",
    "Ahora podríamos comprobar que las únicas derivadas direccionales que existen son las dos derivadas parciales, pero eso os lo vamos a dejar como ejercicio y nos centraremos en un caso particular (y más sencillo): no existe la derivada en la dirección de $\\mathbf{u}=\\left(\\frac{1}{\\sqrt{2}},\\frac{1}{\\sqrt{2}}\\right)$.\n",
    "\n",
    "\\begin{eqnarray*}\n",
    " D_{\\left(\\frac{1}{\\sqrt{2}},\\frac{1}{\\sqrt{2}}\\right)}f(0,0) &:=& \n",
    "    \\lim_{h\\to 0}\\frac{f\\left( (0,0) + h\\left(\\frac{1}{\\sqrt{2}},\\frac{1}{\\sqrt{2}}\\right) \\right)-f(0,0)}{h} \\\\\n",
    "    &=& \\lim_{h\\to 0}\\frac{f\\left(\\frac{h}{\\sqrt{2}},\\frac{h}{\\sqrt{2}}\\right)}{h}=\\lim_{h\\to 0}\\frac{\\frac{-\\frac{3h^2}{2}}{\\frac{h^2}{2}+\\frac{h^2}{2}}}{h}=\n",
    "    \\left\\{\\begin{array}{l}\\displaystyle\\lim_{h\\to 0^-}\\frac{-3}{2h}=\\infty\\\\ \\displaystyle\\lim_{h\\to 0^+}\\frac{-3}{2h}=-\\infty\\end{array} \\right.\n",
    "\\end{eqnarray*}\n",
    "\n",
    "\n",
    "<img src=\"../../images/03_ejemplo1.png\" width=\"700\"/>\n",
    "\n",
    "¡Veamos estos límites con la ayuda de `Sympy`!\n",
    "\n",
    "````\n"
   ]
  },
  {
   "cell_type": "code",
   "execution_count": 3,
   "metadata": {},
   "outputs": [
    {
     "name": "stdout",
     "output_type": "stream",
     "text": [
      "Límite restringido a y=x:  -3/2\n",
      "Límite restringido a y=-x:  3/2\n",
      "Derivada parcial respecto a x en el (0,0):  0\n",
      "Derivada parcial respecto a y en el (0,0):  0\n",
      "Derivada en (0,0) en la dirección de y=x. Izda.:  oo\n",
      "Derivada en (0,0) en la dirección de y=x. Dcha.:  -oo\n"
     ]
    }
   ],
   "source": [
    "import sympy as sp\n",
    "\n",
    "x, y, h = sp.symbols('x y h', real=True) \n",
    "f = sp.Lambda((x,y),-3*x*y/(x**2+y**2)) # Función f en puntos distintos del origen\n",
    "\n",
    "print('Límite restringido a y=x: ', sp.limit(f(x,x),x,0) )\n",
    "print('Límite restringido a y=-x: ', sp.limit(f(x,-x),x,0) )\n",
    "print('Derivada parcial respecto a x en el (0,0): ', sp.limit((f(h,0)-0)/h,h,0) )\n",
    "print('Derivada parcial respecto a y en el (0,0): ', sp.limit((f(0,h)-0)/h,h,0) )\n",
    "print('Derivada en (0,0) en la dirección de y=x. Izda.: ', \n",
    "      sp.limit((f(h/sp.sqrt(2),h/sp.sqrt(2))-0)/h,h,0,dir='-') )\n",
    "print('Derivada en (0,0) en la dirección de y=x. Dcha.: ', \n",
    "      sp.limit((f(h/sp.sqrt(2),h/sp.sqrt(2))-0)/h,h,0,dir='+') )"
   ]
  },
  {
   "attachments": {},
   "cell_type": "markdown",
   "metadata": {},
   "source": [
    "En resumen: como ya nos podíamos imaginar, después de todo lo que aprendimos en el cálculo de límites para funciones de dos variables, no es suficiente con estudiar las derivadas parciales. Necesitamos algo más. \n",
    "\n",
    "Ese *algo más* es el concepto de diferenciabilidad, que está relacionado con la existencia de una aproximación lineal de la función en las proximidades del punto en cuestión. \n",
    "\n",
    "Vamos a introducir, a continuación, su definición formal para el caso de funciones escalares de dos variables, resultando natural su extensión a más variables.\n",
    "\n",
    "````{prf:definition} Diferenciabilidad\n",
    ":label: def_03_difer \n",
    ":nonumber: \n",
    "\n",
    "Sea $f:R\\subset \\mathbb{R}^2\\longrightarrow\n",
    "\\mathbb{R}$ con $R$ abierto. Decimos que $f$ es diferenciable en $(x_0,y_0)\\in R$, si existen las derivadas parciales primeras de $f$ en el punto $(x_0,y_0)$, y además\n",
    "\n",
    "$$\n",
    "\\lim_{(x,y)\\to (x_0,y_0)}\\dfrac{f(x,y)- \\Big( f(x_0,y_0)+\\nabla f(x_0,y_0)\\cdot (x-x_0,y-y_0) \\Big)}{\\left\\|(x-x_0,y-y_0)\\right\\|}=0.\n",
    "$$\n",
    "\n",
    "Decimos que $f$ es diferenciable en $R$, si lo es en cada punto de $R$.\n",
    "\n",
    "````\n",
    "\n",
    "A continuación, vamos a analizar este límite, con la ayuda de la librería `Sympy`, para comprobar que la función del ejemplo anterior no es diferenciable en el $(0,0)$.    \n",
    "\n",
    "Fíjate en que, por un lado estamos considerando $(x_0,y_0)=(0,0)$ y, por otra, ya vimos que $\\frac{\\partial f}{\\partial x} (0,0) = \\frac{\\partial f}{\\partial y} (0,0) = 0$, por lo que $\\nabla f(x_0,y_0) = \\nabla f(0,0) = (0, \\; 0)$. De aquí que\n",
    "\n",
    "\\begin{eqnarray*}\n",
    "&& \\lim_{(x,y)\\to (0,0)}\\dfrac{f(x,y)- \\Big( f(0,0)+ \\nabla f(0,0) \\cdot (x-0,y-0) \\Big)}{\\left\\|(x-0,y-0)\\right\\|} \\\\\n",
    "&=& \\lim_{(x,y)\\to (0,0)}\\dfrac{f(x,y)}{\\left\\|(x,y)\\right\\|}\n",
    "= \\lim_{(x,y)\\to (0,0)}\\dfrac{-3xy}{\\left(x^2+y^2\\right)\\sqrt{x^2+y^2}}.\n",
    "\\end{eqnarray*}\n",
    "Y al hacer este límite, por rectas, obtendremos como resultado $+$ o $-\\infty$, como nos confirma `Sympy` (al ser distinto de $0$, $f$ no es diferenciable en $(0,0)$):"
   ]
  },
  {
   "cell_type": "code",
   "execution_count": 4,
   "metadata": {},
   "outputs": [
    {
     "name": "stdout",
     "output_type": "stream",
     "text": [
      "Límites direccionales:  -oo*sign(m)\n"
     ]
    }
   ],
   "source": [
    "import sympy as sp\n",
    "\n",
    "x, y = sp.symbols('x y', real=True) \n",
    "f = sp.Lambda((x,y), -3*x*y/(x**2+y**2) ) \n",
    "\n",
    "# Ahora definimos fun = f entre ||(x,y)|| \n",
    "fun = sp.Lambda((x,y), f(x,y)/sp.sqrt(x**2+y**2) )  \n",
    "\n",
    "# calculamos el límite a través de rectas\n",
    "m = sp.Symbol('m', real=True)\n",
    "print('Límites direccionales: ', sp.limit(fun(x,m*x),x,0) )"
   ]
  },
  {
   "attachments": {},
   "cell_type": "markdown",
   "metadata": {},
   "source": [
    "## Propiedades para funciones diferenciables\n",
    "\n",
    "Finalizamos la sección estableciendo dos condiciones para la diferenciabilidad: la necesaria de continuidad y la suficiente de continuidad de las derivadas parciales.\n",
    "\n",
    "````{prf:theorem} Diferenciabilidad implica continuidad \n",
    ":label: th_03_cont\n",
    ":nonumber: \n",
    "Si $f$ es diferenciable en $\\mathbf{x}_0$, entonces $f$ es continua en $\\mathbf{x}_0$.\n",
    "\n",
    "````\n",
    "\n",
    "````{prf:theorem} Condición suficiente para la diferenciabilidad \n",
    ":label: th_03_cont_der\n",
    ":nonumber: \n",
    "Si las derivadas parciales (de primer orden) de $f$ son continuas en una región abierta $R$, entonces $f$ es diferenciable en $R$.\n",
    "\n",
    "````\n"
   ]
  }
 ],
 "metadata": {
  "kernelspec": {
   "display_name": "Python 3 (ipykernel)",
   "language": "python",
   "name": "python3"
  },
  "language_info": {
   "codemirror_mode": {
    "name": "ipython",
    "version": 3
   },
   "file_extension": ".py",
   "mimetype": "text/x-python",
   "name": "python",
   "nbconvert_exporter": "python",
   "pygments_lexer": "ipython3",
   "version": "3.11.2"
  },
  "vscode": {
   "interpreter": {
    "hash": "6bee1e8c92def9b58716ddd07d843225b81ed35493dd8048850a9a59c060c325"
   }
  }
 },
 "nbformat": 4,
 "nbformat_minor": 2
}