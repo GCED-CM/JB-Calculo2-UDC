{
 "cells": [
  {
   "cell_type": "markdown",
   "metadata": {},
   "source": [
    "# Aplicaciones del cálculo de extremos\n",
    "\n",
    "En esta sección, vamos a calcular extremos relativos y absolutos. En primer lugar, obtendremos los extremos relativos de una función, aplicando el criterio de la matriz hessiana. Después, trataremos de obtener un modelo lineal que ajuste una colección de datos, mediante el método de mínimos cuadrados. Y, por último, resolveremos un problema de optimización, calculando extremos absolutos en un dominio compacto. \n",
    "\n",
    "## Extremos relativos y hessiana \n",
    "\n",
    "````{prf:example} \n",
    ":label: 3.x._ex\n",
    ":nonumber: \n",
    "\n",
    "Encuentra el extremo relativo de\n",
    "\n",
    "$$\n",
    "f(x,y) = -x^3 + 4xy - 2y^2 + 1.\n",
    "$$\n",
    "\n",
    "**Solución:**\n",
    "\n",
    "Comenzamos por encontrar los puntos críticos de $f$. Puesto que\n",
    "\n",
    "$$\n",
    "\\dfrac{\\partial f}{\\partial x}(x,y) = -3x^2 + 4y \\quad \\text{ y } \\quad \\dfrac{\\partial f}{\\partial y}(x,y) = 4x - 4y,\n",
    "$$\n",
    "\n",
    "los únicos puntos críticos son aquellos para los que ambas derivadas parciales son $0$.\n",
    "\n",
    "Para localizar estos puntos, igualamos $\\dfrac{\\partial f}{\\partial x}(x,y)$ y $\\dfrac{\\partial f}{\\partial y}(x,y)$ a $0$:\n",
    "\n",
    "$$\n",
    "-3x^2 + 4y = 0 \\quad \\text{ y } \\quad 4x - 4y = 0.\n",
    "$$\n",
    "\n",
    "De la segunda ecuación, se obtiene que $x = y$, y, a partir de la primera, se obtiene que \n",
    "\n",
    "$$\n",
    "y = x = 0 \\quad \\text{ y } \\quad y = x = \\frac{4}{3}.\n",
    "$$\n",
    "\n",
    "Ahora, podemos aplicar el criterio de la matriz hessiana en el punto crítico $(0,0)$. Como\n",
    "\n",
    "$$\n",
    "\\mathrm{Hess}f(x,y) = \\begin{bmatrix}\n",
    "-6x & 4 \\\\\n",
    "4 & -4 \n",
    "\\end{bmatrix},\n",
    "$$\n",
    "\n",
    "entonces\n",
    "\n",
    "$$\n",
    "\\det\\mathrm{Hess}f(0,0) = \\left|\n",
    "\n",
    "\\begin{ array}{cc}\n",
    "\n",
    "0 & 4\\\\\n",
    "\n",
    "4 & -4\n",
    "\n",
    "\\end{array}\n",
    "\n",
    "\\right| = 0 - 16 < 0,\n",
    "$$\n",
    "\n",
    "por lo que podemos concluir que $f$ tiene en $(0,0)$ un punto silla.\n",
    "\n",
    "Además, aplicando de nuevo el criterio de la matriz hessiana para el punto crítico $(\\frac{4}{3},\\frac{4}{3})$. Como\n",
    "\n",
    "$$\n",
    "$\\det\\mathrm{Hess}f(\\frac{4}{3},\\frac{4}{3}) = \\left|\n",
    "\n",
    "\\begin{ array}{cc}\n",
    "\n",
    "-8 & 4\\\\\n",
    "\n",
    "4 & -4\n",
    "\n",
    "\\end{array}\n",
    "\n",
    "\\right| = -8(-4) - 16 = 16 > 0,\n",
    "$$\n",
    "\n",
    "y $\\dfrac{\\partial^2 f}{\\partial x^2}(\\frac{4}{3},\\frac{4}{3}) = -8 < 0$, podemos concluir que $f$ tiene un máximo relativo en $(\\frac{4}{3},\\frac{4}{3})$.\n",
    "````"
   ]
  },
  {
   "cell_type": "markdown",
   "metadata": {},
   "source": [
    "## Método de mínimos cuadrados\n",
    "\n",
    "Al construir un **modelo matemático** para representar un fenómeno particular, los objetivos son simplicidad y precisión. Existen varias maneras para desarrollar tales modelos, una es la conocida como el **método de mínimos cuadrados**. \n",
    "\n",
    "Como medida de lo bien que el modelo $y = f(x)$ se ajusta a la colección de puntos\n",
    "\n",
    "$$\n",
    "\\{(x_1,y_1),(x_2,y_2),...,(x_n,y_n)\\}\n",
    "$$\n",
    "\n",
    "se puede calcular el cuadrado de la distancia entre los datos de los que se parte y los valores predichos por el modelo para obtener la **suma de los errores al cuadrado** o el **error cuadrático**: \n",
    "\n",
    "$$\n",
    "S = \\sum_{i = 1}^n [f(x_i) - y_i]^2.\n",
    "$$\n",
    "\n",
    "En estadística, se llama **recta de regresión** al modelo lineal que minimiza $S$ mediante el **método de mínimos cuadrados**. La prueba de que esta línea, $y = f(x) = ax + b$, en realidad minimiza $S$ implica minimizar una función de dos variables:\n",
    "\n",
    "$$\n",
    "S(a,b) = \\sum_{i = 1}^n [ax_i + b - y_i]^2,\n",
    "$$\n",
    "\n",
    "donde $a, b \\in \\mathbb{R}$.\n",
    "\n",
    "Para obtener los valores de $a$ y $b$ que minimizan $S$, calculamos su gradiente:\n",
    "\n",
    "$$\n",
    "\\mathbf{\\nabla} S(a,b) = \\left[2\\sum_{i = 1}^n x_i (ax_i + b - y_i), 2\\sum_{i = 1}^n (ax_i + b - y_i)\\right].\n",
    "$$\n",
    "\n",
    "E igualando a $0$:\n",
    "\n",
    "$$\n",
    "2\\sum_{i = 1}^n x_i (ax_i + b - y_i) = 0 \\quad \\text{ y } \\quad 2\\sum_{i = 1}^n (ax_i + b - y_i) = 0,\n",
    "$$\n",
    "\n",
    "se obtiene un sistema de dos ecuaciones y dos incógnitas del que se despeja $a$ y $b$.\n",
    "\n",
    "````{prf:theorem}  Recta de regresión de mínimos cuadrados\n",
    ":label: th_recta_regr_mc\n",
    ":nonumber: \n",
    "\n",
    "La **recta de regresión de mínimos cuadrados** para $\\{(x_1,y_1),(x_2,y_2),...,(x_n,y_n)\\}$ está dada por $f(x) = ax + b$, donde\n",
    "\n",
    "$$\n",
    "a = \\frac{\\displaystyle n \\sum_{i=1}^{n}x_iy_i - \\sum_{i=1}^{n}x_i\\sum_{i=1}^{n}y_i}{\\displaystyle n \\sum_{i=1}^{n}x_i^2 - \\left(\\sum_{i=1}^{n}x_i\\right)^2} \\quad \\text{ y } \\quad b = \\frac{1}{n}\\left(\\sum_{i=1}^{n}y_i - a\\sum_{i=1}^{n}x_i\\right).\n",
    "$$\n",
    "````\n",
    "Veamos un caso práctico.\n",
    "\n",
    "````{prf:example} \n",
    ":label: 3.x._ex\n",
    ":nonumber: \n",
    "\n",
    "Hallar la recta de regresión de mínimos cuadrados para los puntos $(-3,0), (-1,1), (0,2)$ y $(2,3)$.\n",
    "\n",
    "**Solución:**\n",
    "\n",
    "A partir del resultado teórico anterior, tenemos que\n",
    "\n",
    "$$\n",
    "a = \\frac{\\displaystyle n \\sum_{i=1}^{n}x_iy_i - \\sum_{i=1}^{n}x_i\\sum_{i=1}^{n}y_i}{\\displaystyle n \\sum_{i=1}^{n}x_i^2 - \\left(\\sum_{i=1}^{n}x_i\\right)^2} = \\dfrac{4(5) - (-2)(6)}{4(14) - (-2)^2}\n",
    "$$\n",
    "\n",
    "y \n",
    "\n",
    "$$\n",
    "b = \\frac{1}{n}\\left(\\sum_{i=1}^{n}y_i - a\\sum_{i=1}^{n}x_i\\right) = \\frac{1}{4}\\left[6 - \\frac{8}{3}(-2)\\right] = \\frac{47}{26}.\n",
    "$$\n",
    "\n",
    "Por tanto, la recta de regresión de mínimos cuadrados es \n",
    "\n",
    "$$\n",
    "f(x) = \\frac{8}{13}x + \\frac{47}{26}.\n",
    "$$\n",
    "````\n",
    "\n",
    "Vamos a preguntarle a nuestro oráculo por si nos hemos equivocado."
   ]
  },
  {
   "cell_type": "code",
   "execution_count": 1,
   "metadata": {},
   "outputs": [],
   "source": [
    "import sympy as sp\n",
    "import numpy as np"
   ]
  },
  {
   "cell_type": "code",
   "execution_count": 2,
   "metadata": {},
   "outputs": [
    {
     "name": "stdout",
     "output_type": "stream",
     "text": [
      "Recta de regresión: \n",
      "\n",
      " y  =  0.615384615384615*x + 1.80769230769231\n"
     ]
    }
   ],
   "source": [
    "x, y = sp.symbols('x y', real=True) # define las variables simbólicas x e y\n",
    "\n",
    "# Datos\n",
    "xi = np.array([-3, -1, 0, 2])\n",
    "yi = np.array([0, 1, 2, 3])\n",
    "\n",
    "# Cálculo de la recta de regresión\n",
    "n = len(xi) # número de datos\n",
    "a = (n*np.dot(xi,yi) - np.sum(xi)*np.sum(yi))/(n*np.sum(xi**2) - np.sum(xi)**2) \n",
    "b = (np.sum(yi) - a*np.sum(xi))/n\n",
    "\n",
    "print('Recta de regresión: \\n\\n', y, ' = ', a*x + b)"
   ]
  },
  {
   "cell_type": "markdown",
   "metadata": {},
   "source": [
    "## Extremos absolutos en un dominio compacto \n",
    "\n",
    "````{prf:example} Cálculo de volumen máximo \n",
    ":label: 3.x._ex\n",
    ":nonumber: \n",
    "\n",
    "Una caja rectangular descansa sobre el plano $xy$ con un vértice en el origen. El vértice opuesto se encuentra en el plano\n",
    "\n",
    "$$\n",
    "6x + 4y + 3z = 24.\n",
    "$$\n",
    "\n",
    "<img src=\"../../images/3.8.Volumen_maximo.png\" width=\"250\"/>\n",
    "\n",
    "Encuentra el volumen máximo de la caja. \n",
    "\n",
    "**Solución:**\n",
    "\n",
    "Supongamos que $x, y, z$ representan la longitud, anchura y altura de la caja. Debido a que un vértice de la caja se encuentra en el plano $6x + 4y + 3z = 24$, como $z = \\frac{1}{3}(24 - 6x - 4y)$, podemos escribir el volumen de la caja, $V = xyz$, en función de dos variables:\n",
    "\n",
    "$$\n",
    "V(x,y) = x y \\left[\\frac{1}{3}(24 - 6x - 4y)\\right] = \\frac{1}{3}(24xy - 6x^2y - 4xy^2).\n",
    "$$\n",
    "\n",
    "A continuación, calculamos el gradiente de $V$:\n",
    "\n",
    "$$\n",
    "\\mathbf{\\nabla} V (x,y) = \\left[\\frac{1}{3}(24y - 12xy - 4y^2), \\frac{1}{3}(24x - 6x^2 - 8xy)\\right] = \\left[\\frac{y}{3}(24 - 12x - 4y), \\frac{x}{3}(24 - 6x - 8y)\\right].\n",
    "$$\n",
    "\n",
    "E igualando a $0$:\n",
    "\n",
    "$$\n",
    "\\frac{y}{3}(24 - 12x - 4y) = 0 \\quad \\text{ y } \\quad \\frac{x}{3}(24 - 6x - 8y) = 0, \n",
    "$$\n",
    "\n",
    "se obtienen los puntos críticos $(0,0), (4,0), (0,6)$ y $\\left(\\frac{4}{3},2\\right)$. \n",
    "\n",
    "En $(0,0), (4,0)$ y $(0,6)$, el volumen es $0$, por lo que esos puntos no producen un volumen máximo. \n",
    "\n",
    "En el punto $\\left(\\frac{4}{3},2\\right)$, se puede aplicar el criterio de la matriz hessiana. Como \n",
    "\n",
    "$$\n",
    "\\mathrm{Hess}V(x,y) = \\begin{bmatrix}\n",
    "-4y & \\frac{1}{3}(24 - 12x -8y) \\\\\n",
    "\\frac{1}{3}(24 - 12x -8y) & -\\frac{8x}{3}\n",
    "\\end{bmatrix},\n",
    "$$\n",
    "\n",
    "entonces\n",
    "\n",
    "$$\n",
    "\\det\\mathrm{Hess}V\\left(\\frac{4}{3},2\\right) = \\left|\n",
    "\n",
    "\\begin{array}{cc}\n",
    "\n",
    "-8 & -\\frac{8}{3}\\\\\n",
    "\n",
    "-\\frac{8}{3} & -\\frac{32}{9}\n",
    "\n",
    "\\end{array}\n",
    "\n",
    "\\right| = \\frac{64}{3} > 0\n",
    "$$\n",
    "\n",
    "y $\\dfrac{\\partial^2 V}{\\partial {x^2}}(\\frac{4}{3},2) = -8 < 0$, por lo que podemos concluir que $V$ tiene un máximo relativo en $\\left(\\frac{4}{3},2\\right)$ y su valor es: \n",
    "\n",
    "$$\n",
    "V\\left(\\frac{4}{3},2\\right) = \\frac{1}{3}\\left[24\\left(\\frac{4}{3}\\right)(2) - 6\\left(\\frac{4}{3}\\right)^2(2) - 4\\left(\\frac{4}{3}\\right)(2^2)\\right] = \\frac{64}{9}.\n",
    "$$\n",
    "\n",
    "¿Hemos terminado? No, porque faltaría comprobar el volumen en los puntos de la frontera del dominio triangular de $V$. Comprueba que el volumen en estos puntos es igual a $0$. \n",
    "\n",
    "Ahora sí, podemos concluir que el volumen máximo es $V\\left(\\frac{4}{3},2\\right) = \\frac{64}{9}$ unidades cúbicas.\n",
    "````\n",
    "\n",
    "Ya por último, vamos a resolver con `Python` el ejercicio propuesto. "
   ]
  },
  {
   "cell_type": "code",
   "execution_count": 3,
   "metadata": {},
   "outputs": [
    {
     "data": {
      "text/plain": [
       "'Gradiente en (x,y): '"
      ]
     },
     "metadata": {},
     "output_type": "display_data"
    },
    {
     "data": {
      "text/latex": [
       "$\\displaystyle \\left[\\begin{matrix}- 4 x y - \\frac{4 y^{2}}{3} + 8 y\\\\- 2 x^{2} - \\frac{8 x y}{3} + 8 x\\end{matrix}\\right]$"
      ],
      "text/plain": [
       "Matrix([\n",
       "[-4*x*y - 4*y**2/3 + 8*y],\n",
       "[-2*x**2 - 8*x*y/3 + 8*x]])"
      ]
     },
     "metadata": {},
     "output_type": "display_data"
    },
    {
     "data": {
      "text/plain": [
       "'Puntos críticos:'"
      ]
     },
     "metadata": {},
     "output_type": "display_data"
    },
    {
     "data": {
      "text/plain": [
       "[(0, 0), (0, 6), (4/3, 2), (4, 0)]"
      ]
     },
     "metadata": {},
     "output_type": "display_data"
    },
    {
     "name": "stdout",
     "output_type": "stream",
     "text": [
      "V(0,0) = 0 , V(4,0) = 0 , V(0,6) = 0\n"
     ]
    },
    {
     "data": {
      "text/plain": [
       "'Matriz hessiana en (x,y): '"
      ]
     },
     "metadata": {},
     "output_type": "display_data"
    },
    {
     "data": {
      "text/latex": [
       "$\\displaystyle \\left[\\begin{matrix}- 4 y & - 4 x - \\frac{8 y}{3} + 8\\\\- 4 x - \\frac{8 y}{3} + 8 & - \\frac{8 x}{3}\\end{matrix}\\right]$"
      ],
      "text/plain": [
       "Matrix([\n",
       "[            -4*y, -4*x - 8*y/3 + 8],\n",
       "[-4*x - 8*y/3 + 8,           -8*x/3]])"
      ]
     },
     "metadata": {},
     "output_type": "display_data"
    },
    {
     "data": {
      "text/plain": [
       "'Hessiana del punto crítico (4/3,2): '"
      ]
     },
     "metadata": {},
     "output_type": "display_data"
    },
    {
     "data": {
      "text/latex": [
       "$\\displaystyle \\left[\\begin{matrix}-8 & - \\frac{8}{3}\\\\- \\frac{8}{3} & - \\frac{32}{9}\\end{matrix}\\right]$"
      ],
      "text/plain": [
       "Matrix([\n",
       "[  -8,  -8/3],\n",
       "[-8/3, -32/9]])"
      ]
     },
     "metadata": {},
     "output_type": "display_data"
    },
    {
     "name": "stdout",
     "output_type": "stream",
     "text": [
      "Determinante:  64/3 . Posición (1,1): -8\n",
      "\n",
      "El volumen máximo de la caja es: \n",
      "\n",
      " V(4/3,2) = 64/9\n"
     ]
    }
   ],
   "source": [
    "x, y = sp.symbols('x y', real=True) # define las variables simbólicas x e y\n",
    "V = sp.Lambda((x,y), (24*x*y - 6*x**2*y -4 *x*y**2)/3)\n",
    "\n",
    "# Calculamos el gradiente de f\n",
    "grad_V =  sp.transpose(sp.Matrix([V(x,y)]).jacobian([x,y]))\n",
    "display('Gradiente en (x,y): ', grad_V)\n",
    "\n",
    "# Buscamos los puntos críticos\n",
    "sol = sp.solve((sp.Eq(grad_V[0],0),sp.Eq(grad_V[1],0)),(x,y))\n",
    "display('Puntos críticos:', sol)\n",
    "\n",
    "# V en (0,0), (4,0), (0,6) es igual a 0\n",
    "print('V(0,0) =', V(*sol[0]), ', V(4,0) =', V(*sol[3]), ', V(0,6) =', V(*sol[1]))\n",
    "\n",
    "# Definimos la hessiana con sp.hessian\n",
    "H = sp.Lambda((x,y), sp.hessian(V(x,y), (x,y)))\n",
    "display('Matriz hessiana en (x,y): ', H(x,y))\n",
    "\n",
    "# Clasificación del punto crítico (4/3,2)\n",
    "H0 = H(*sol[2])\n",
    "display('Hessiana del punto crítico (4/3,2): ', H0)\n",
    "print(\"Determinante: \",sp.det(H0), \". Posición (1,1):\", H0[0,0])\n",
    "\n",
    "# V en (4/3,2) es igual a 64/9\n",
    "print('\\nEl volumen máximo de la caja es: \\n\\n V(4/3,2) =', V(*sol[2]))"
   ]
  }
 ],
 "metadata": {
  "kernelspec": {
   "display_name": "Python 3 (ipykernel)",
   "language": "python",
   "name": "python3"
  },
  "language_info": {
   "codemirror_mode": {
    "name": "ipython",
    "version": 3
   },
   "file_extension": ".py",
   "mimetype": "text/x-python",
   "name": "python",
   "nbconvert_exporter": "python",
   "pygments_lexer": "ipython3",
   "version": "3.9.12"
  },
  "vscode": {
   "interpreter": {
    "hash": "6bee1e8c92def9b58716ddd07d843225b81ed35493dd8048850a9a59c060c325"
   }
  }
 },
 "nbformat": 4,
 "nbformat_minor": 2
}