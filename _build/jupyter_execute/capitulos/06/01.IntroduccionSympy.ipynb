{
 "cells": [
  {
   "cell_type": "markdown",
   "metadata": {},
   "source": [
    "(sec:introduccion_Sympy)=\n",
    "# Introducción a SymPy\n",
    "\n",
    "Las variables simbólicas son aquellas que permiten calcular límites, derivadas, integrales, etc., como se hace habitualmente en las clases de matemáticas. Para poder hacer estas operaciones, habituales en un curso de Cálculo, es preciso tener instalada la libraría **SymPy**.\n",
    "\n",
    "Este módulo no trabaja con una estructura de datos basada en números (ya sean de tipo entero o doble) sino que trabaja con objetos que poseen atributos y métodos que tratan de reproducir el comportamiento matemático de variables, funciones, regiones, ecuaciones, etc., con las que se trabaja habitualmente en las disciplinas de álgebra y cálculo diferencial e integral.\n",
    "\n",
    "Para emplear directamente este guión de prácticas desde una instalación de Python con *Anaconda*, basta con hacer clic en la aplicación 'Jupyter notebook' que ya está instalada por defecto (para más detalles: https://jupyter-notebook-beginner-guide.readthedocs.io/en/latest/execute.html). Para instalar *Anaconda* en vuestro sistema operativo, entrad en el siguiente link: https://docs.anaconda.com/anaconda/install.\n",
    "\n",
    "## Objetivos:\n",
    "\n",
    "- Usar variables y expresiones simbólicas.\n",
    "- Representar gráficamente regiones en el plano.\n",
    "- Definir funciones de varias variables.\n",
    "\n",
    "\n",
    "## Instalación y carga del módulo\n",
    "\n",
    "Para tener disponible el módulo **SymPy**, hay que instalarlo usando la herramienta `pip` (o `conda` si utilizáis entornos de trabajo diferenciados). En el caso de usar *Microsoft Azute Notebooks* (https://notebooks.azure.com), se requiere la siguiente instalación:"
   ]
  },
  {
   "cell_type": "code",
   "execution_count": 1,
   "metadata": {},
   "outputs": [],
   "source": [
    "!pip -q install sympy"
   ]
  },
  {
   "cell_type": "markdown",
   "metadata": {},
   "source": [
    "Para disponer del módulo **SymPy** e importarlo para el resto del guión de prácticas, usaremos:"
   ]
  },
  {
   "cell_type": "code",
   "execution_count": 2,
   "metadata": {},
   "outputs": [],
   "source": [
    "import sympy as sp"
   ]
  },
  {
   "cell_type": "markdown",
   "metadata": {},
   "source": [
    "## Variables y expresiones simbólicas\n",
    "\n",
    "### Variables simbólicas\n",
    "\n",
    "Para trabajar en modo simbólico es necesario definir variables simbólicas y para hacer esto usaremos la función `sp.Symbol`. Veamos algunos ejemplos de su uso:"
   ]
  },
  {
   "cell_type": "code",
   "execution_count": 3,
   "metadata": {
    "scrolled": true
   },
   "outputs": [
    {
     "name": "stdout",
     "output_type": "stream",
     "text": [
      "3*x + 5*y\n",
      "a**3 + b**2 + c\n"
     ]
    }
   ],
   "source": [
    "x = sp.Symbol('x') # define la variable simbólica x\n",
    "y = sp.Symbol('y') # define la variable simbólica y\n",
    "f_exp = 3*x + 5*y # ahora tenemos definida la expresion simbólica f_exp\n",
    "print(f_exp)\n",
    "\n",
    "a, b, c = sp.symbols('a:c') # define como simbólicas las variables a, b, c\n",
    "expresion = a**3 + b**2 + c\n",
    "print(expresion)"
   ]
  },
  {
   "cell_type": "markdown",
   "metadata": {},
   "source": [
    "Por claridad en la implementación y en los cálculos, será habitual que el nombre de la variable simbólica y el nombre del objeto **SymPy** en el que se almacena coincidan, pero esto no tiene porque ser así:"
   ]
  },
  {
   "cell_type": "code",
   "execution_count": 4,
   "metadata": {},
   "outputs": [
    {
     "name": "stdout",
     "output_type": "stream",
     "text": [
      "x\n"
     ]
    },
    {
     "data": {
      "text/plain": [
       "'x'"
      ]
     },
     "execution_count": 4,
     "metadata": {},
     "output_type": "execute_result"
    }
   ],
   "source": [
    "a = sp.Symbol('x')\n",
    "print(a)\n",
    "a.name"
   ]
  },
  {
   "cell_type": "markdown",
   "metadata": {},
   "source": [
    "Debemos tener claro que ahora las variables `x` o `y`, definidas antes, no son números, ni tampoco pertenecen a los objetos definidos con el módulo **NumPy**, que estudiaremos más adelante. Todas las variables simbólicas son objetos de la clase `sp.Symbol`. Además, sus atributos y métodos, que podemos consultar tecleando la orden `dir(x)` o `dir(y)`, son completamente diferentes a las variables numéricas y vectores que veremos de **NumPy**."
   ]
  },
  {
   "cell_type": "markdown",
   "metadata": {},
   "source": [
    "Con **SymPy** se pueden definir constantes enteras o números racionales (todos de forma simbólica) de manera sencilla usando el comando `sp.Integer` o `sp.Rational`. Por ejemplo, podemos definir la constante simbólica $1/3$. Si hiciéramos lo mismo con números representados por defecto en Python, obtendríamos resultados muy diferentes. Observa también la diferencia que existe entre el tipo de dato asignado en el espacio de trabajo."
   ]
  },
  {
   "cell_type": "code",
   "execution_count": 5,
   "metadata": {},
   "outputs": [
    {
     "name": "stdout",
     "output_type": "stream",
     "text": [
      "1/3\n",
      "1/3\n",
      "0.3333333333333333\n",
      "0.3333333333333333\n",
      "<class 'sympy.core.numbers.Rational'>\n",
      "<class 'sympy.core.numbers.Rational'>\n",
      "<class 'float'>\n",
      "<class 'float'>\n"
     ]
    }
   ],
   "source": [
    "a = sp.Rational('1/3')\n",
    "b = sp.Integer('1')/sp.Integer('3')\n",
    "c = 1/3\n",
    "d = 1.0/3.0\n",
    "print(a)\n",
    "print(b)\n",
    "print(c)\n",
    "print(d)\n",
    "print(type(a))\n",
    "print(type(b))\n",
    "print(type(c))\n",
    "print(type(d))"
   ]
  },
  {
   "cell_type": "markdown",
   "metadata": {},
   "source": [
    "Otra forma sencilla de manejar valores constantes mediante objetos del módulo **SymPy** es usar la función `sp.S`. Una vez hechos todos los cálculos simbólicos, si precisamos obtener el valor numérico, utilizaremos la función `sp.N` o bien directamente `float`:"
   ]
  },
  {
   "cell_type": "code",
   "execution_count": 6,
   "metadata": {},
   "outputs": [
    {
     "name": "stdout",
     "output_type": "stream",
     "text": [
      "<class 'sympy.core.numbers.Integer'>\n",
      "<class 'sympy.core.numbers.Integer'>\n",
      "<class 'sympy.core.numbers.Rational'>\n",
      "<class 'sympy.core.numbers.Float'>\n",
      "<class 'float'>\n",
      "1/3\n",
      "0.333333333333333\n",
      "0.333333333333333\n"
     ]
    }
   ],
   "source": [
    "a = sp.S(2)\n",
    "b = sp.S(6)\n",
    "c = a/b\n",
    "d = sp.N(c)\n",
    "e = float(c)\n",
    "print(type(a))\n",
    "print(type(b))\n",
    "print(type(c))\n",
    "print(type(d))\n",
    "print(type(e))\n",
    "print(c)\n",
    "print(d)\n",
    "print('{0:.15f}'.format(e))"
   ]
  },
  {
   "cell_type": "markdown",
   "metadata": {},
   "source": [
    "A lo largo del curso, usaremos asiduamente dos números reales que se pueden definir como constantes simbólicas: $\\pi$ y el número $e$. De la misma manera, para operar con variables o constantes simbólicas, debemos utilizar funciones que sean capaces de manipular este tipo de objetos, todas ellas implementadas en el módulo **SymPy** (por ejemplo, `sp.sin`, `sp.cos`, `sp.log`, etc.)."
   ]
  },
  {
   "cell_type": "code",
   "execution_count": 7,
   "metadata": {},
   "outputs": [
    {
     "name": "stdout",
     "output_type": "stream",
     "text": [
      "-1\n",
      "1\n"
     ]
    }
   ],
   "source": [
    "p = sp.pi # definición de la constante pi\n",
    "print(sp.cos(p))\n",
    "\n",
    "e = sp.E # definición del número e\n",
    "print(sp.log(e))"
   ]
  },
  {
   "cell_type": "markdown",
   "metadata": {},
   "source": [
    "### Suposiciones sobre las variables\n",
    "\n",
    "Cuando se define una variable simbólica se le puede asignar cierta información adicional sobre el tipo de valores que puede alcanzar, o las suposiciones que se le van a aplicar. Por ejemplo, podemos decidir antes de hacer cualquier cálculo si la variable toma valores enteros o reales, si es positiva o negativa, mayor que un cierto número, etc. Este tipo de información se añade en el momento de la definición de la variable simbólica como un argumento opcional."
   ]
  },
  {
   "cell_type": "code",
   "execution_count": 8,
   "metadata": {},
   "outputs": [
    {
     "name": "stdout",
     "output_type": "stream",
     "text": [
      "True\n",
      "True\n",
      "None\n",
      "None\n"
     ]
    }
   ],
   "source": [
    "x = sp.Symbol('x', nonnegative = True) # La raíz cuadrada de un número no negativo es real\n",
    "y = sp.sqrt(x)\n",
    "print(y.is_real)\n",
    "\n",
    "x = sp.Symbol('x', integer = True) # La potencia de un número entero es entera\n",
    "y = x**sp.S(2)\n",
    "print(y.is_integer)\n",
    "\n",
    "a = sp.Symbol('a')\n",
    "b = sp.sqrt(a)\n",
    "print(b.is_real)\n",
    "\n",
    "a = sp.Symbol('a')\n",
    "b = a**sp.S(2)\n",
    "print(b.is_integer)"
   ]
  },
  {
   "cell_type": "markdown",
   "metadata": {},
   "source": [
    "Puesto que los cálculos simbólicos son consistentes en **SymPy**, también se pueden hacer comprobaciones sobre si algunas desigualdades son ciertas o no, siempre y cuando se tenga cuidado en las suposiciones que se hagan al definir las variables simbólicas."
   ]
  },
  {
   "cell_type": "code",
   "execution_count": 9,
   "metadata": {},
   "outputs": [
    {
     "name": "stdout",
     "output_type": "stream",
     "text": [
      "True\n",
      "q + Abs(x) > 0\n"
     ]
    }
   ],
   "source": [
    "x = sp.Symbol('x', real = True)\n",
    "p = sp.Symbol('p', positive = True)\n",
    "q = sp.Symbol('q', real = True)\n",
    "y = sp.Abs(x) + p # El valor absoluto\n",
    "z = sp.Abs(x) + q\n",
    "print(y > 0)\n",
    "print(z > 0)"
   ]
  },
  {
   "cell_type": "markdown",
   "metadata": {},
   "source": [
    "### Expresiones simbólicas\n",
    "\n",
    "De la misma manera que el módulo **SymPy** nos permite definir variables simbólicas, también podemos definir expresiones matemáticas a partir de estas, así como factorizarlas, expandirlas, simplificarlas, o incluso imprimirlas de una forma similar a como lo haríamos con lápiz y papel."
   ]
  },
  {
   "cell_type": "code",
   "execution_count": 10,
   "metadata": {},
   "outputs": [
    {
     "name": "stdout",
     "output_type": "stream",
     "text": [
      "x**3*y - 2*x**3 - 9*x**2*y + 18*x**2 + 27*x*y - 54*x - 27*y + 54\n",
      " 3        3      2         2                            \n",
      "x ⋅y - 2⋅x  - 9⋅x ⋅y + 18⋅x  + 27⋅x⋅y - 54⋅x - 27⋅y + 54\n",
      "(x - 3)**3*(y - 2)\n",
      "      2          \n",
      "     x  - 6⋅x + 9\n",
      "-3 + ────────────\n",
      "        x - 3    \n",
      "x - 6\n"
     ]
    }
   ],
   "source": [
    "x, y = sp.symbols('x,y', real=True)\n",
    "expr = (x-3)*(x-3)**2*(y-2)\n",
    "expr_long = sp.expand(expr) # Expandir expresión\n",
    "\n",
    "print(expr_long) # Imprimir de forma estándar\n",
    "sp.pprint(expr_long) # Imprimir de forma semejante a con lápiz y papel\n",
    "\n",
    "expr_short = sp.factor(expr)\n",
    "print(expr_short) # Factorizar expresión\n",
    "\n",
    "expr = -3+(x**2-6*x+9)/(x-3)\n",
    "expr_simple = sp.simplify(expr) # Simplificar expresión\n",
    "sp.pprint(expr)\n",
    "print(expr_simple)"
   ]
  },
  {
   "cell_type": "markdown",
   "metadata": {},
   "source": [
    "Una expresión en **SymPy** también se puede manipular, sustituyendo unas variables simbólicas por otras o incluso reemplazando las variables simbólicas por constantes. Para hacer este tipo de sustituciones, se utiliza la función `subs` y los valores a utilizar en la sustitución vienen definidos por un diccionario de Python:"
   ]
  },
  {
   "cell_type": "code",
   "execution_count": 11,
   "metadata": {},
   "outputs": [
    {
     "name": "stdout",
     "output_type": "stream",
     "text": [
      "9\n",
      " 2                        2\n",
      "y  + 2⋅y⋅(1 - y) + (1 - y) \n",
      "1\n"
     ]
    }
   ],
   "source": [
    "x, y = sp.symbols('x,y', real=True)\n",
    "expr = x*x + x*y + y*x + y*y\n",
    "res = expr.subs({x:1, y:2}) # Sustitutición de las variables simbólicas por constantes\n",
    "print(res)\n",
    "\n",
    "expr_sub = expr.subs({x:1-y}) # Sustitución de la variable simbólica por una expresión\n",
    "sp.pprint(expr_sub)\n",
    "print(sp.simplify(expr_sub))"
   ]
  },
  {
   "cell_type": "markdown",
   "metadata": {},
   "source": [
    "### Resolución de ecuaciones\n",
    "\n",
    "Dada una expresión en **SymPy**, podemos resolver ecuaciones de forma sencilla. Para ello, utilizaremos la función `solve`. Por ejemplo, veamos como resolver la ecuación $x^2 = 1$.  "
   ]
  },
  {
   "cell_type": "code",
   "execution_count": 12,
   "metadata": {
    "scrolled": true
   },
   "outputs": [
    {
     "name": "stdout",
     "output_type": "stream",
     "text": [
      "[-1, 1]\n"
     ]
    }
   ],
   "source": [
    "x = sp.symbols('x',real=True)\n",
    "expr = x**2 - 1\n",
    "sol = sp.solve(expr,x) # Resolución de la ecuación respecto a x\n",
    "print(sol)"
   ]
  },
  {
   "cell_type": "markdown",
   "metadata": {},
   "source": [
    "A su vez, también podemos utilizar `solve` para despejar una variable. Por ejemplo, veamos como despejar $z$ de la ecuación $x^2 + 4z = 2y$."
   ]
  },
  {
   "cell_type": "code",
   "execution_count": 13,
   "metadata": {},
   "outputs": [
    {
     "name": "stdout",
     "output_type": "stream",
     "text": [
      "⎡   2    ⎤\n",
      "⎢  x    y⎥\n",
      "⎢- ── + ─⎥\n",
      "⎣  4    2⎦\n"
     ]
    }
   ],
   "source": [
    "x, y, z = sp.symbols('x:z',real=True)\n",
    "expr = x**2 - 2*y + 4*z\n",
    "f_exp = sp.solve(expr,z)\n",
    "sp.pprint(f_exp)"
   ]
  },
  {
   "cell_type": "markdown",
   "metadata": {},
   "source": [
    "### **Ejercicio** \n",
    "\n",
    "Convierte en coordenadas cilíndricas y esféricas las siguientes ecuaciones:\n",
    "\n",
    "- $x^2 + y^2 + z^2 = 4$ (esfera).\n",
    "- $y^2 + z^2 = 4x$ (superficie de revolución)."
   ]
  },
  {
   "cell_type": "code",
   "execution_count": 14,
   "metadata": {},
   "outputs": [],
   "source": [
    "# ESCRIBE AQUÍ TU CÓDIGO"
   ]
  },
  {
   "cell_type": "markdown",
   "metadata": {},
   "source": [
    "### **Ejercicio** \n",
    "\n",
    "Dada la ecuación implícita o general del plano $3x + 8y - 2z = 19$, obten la expresión de la función $f(x,y)$ tal que $z = f(x,y)$.  \n"
   ]
  },
  {
   "cell_type": "code",
   "execution_count": 15,
   "metadata": {},
   "outputs": [],
   "source": [
    "# ESCRIBE AQUÍ TU CÓDIGO"
   ]
  },
  {
   "cell_type": "markdown",
   "metadata": {},
   "source": [
    "## Representación gráfica\n",
    "\n",
    "La representación gráfica es una de las herramientas más potentes para explorar datos. Hoy en día, es una de las tareas más importantes tanto para ingenieros como científicos. De hecho, los gráficos se utilizan tanto para exponer como para entender datos y comprobar visualmente resultados calculados.\n",
    "\n",
    "### Regiones en el plano\n",
    "\n",
    "Para representar gráficamente un conjunto de puntos o bien una región, utilizaremos la instrucción `plot_implicit`. Para ello, podemos utilizar como argumento una igualdad o una desigualdad. Además, también podemos incluir los operadores lógicos `sp.And` o `sp.Or`."
   ]
  },
  {
   "cell_type": "code",
   "execution_count": 16,
   "metadata": {},
   "outputs": [
    {
     "data": {
      "image/png": "[encoded data removed]",
      "text/plain": [
       "<Figure size 432x288 with 1 Axes>"
      ]
     },
     "metadata": {
      "filenames": {
       "image/png": "/mnt/c/Users/Luis Hervella/OneDrive - Universidade da Coruña/Coordinación CM/JBCMGCED/_build/jupyter_execute/capitulos/06/01.IntroduccionSympy_32_0.png"
      },
      "needs_background": "light"
     },
     "output_type": "display_data"
    },
    {
     "data": {
      "image/png": "[encoded data removed]",
      "text/plain": [
       "<Figure size 432x288 with 1 Axes>"
      ]
     },
     "metadata": {
      "filenames": {
       "image/png": "/mnt/c/Users/Luis Hervella/OneDrive - Universidade da Coruña/Coordinación CM/JBCMGCED/_build/jupyter_execute/capitulos/06/01.IntroduccionSympy_32_1.png"
      },
      "needs_background": "light"
     },
     "output_type": "display_data"
    },
    {
     "data": {
      "image/png": "[encoded data removed]",
      "text/plain": [
       "<Figure size 432x288 with 1 Axes>"
      ]
     },
     "metadata": {
      "filenames": {
       "image/png": "/mnt/c/Users/Luis Hervella/OneDrive - Universidade da Coruña/Coordinación CM/JBCMGCED/_build/jupyter_execute/capitulos/06/01.IntroduccionSympy_32_2.png"
      },
      "needs_background": "light"
     },
     "output_type": "display_data"
    }
   ],
   "source": [
    "x, y = sp.symbols('x:y', real=True)\n",
    "p1 = sp.plot_implicit(sp.Eq(x**2 + y**2, 4)) # Con una igualdad: circunferencia centrada en el origen y radio 2\n",
    "p2 = sp.plot_implicit(y > x**2) # Con una desigualdad\n",
    "p3 = sp.plot_implicit(sp.And(sp.And(y > x, y > -x), y < x + 4)) # Con el operador lógico sp.And"
   ]
  },
  {
   "cell_type": "markdown",
   "metadata": {},
   "source": [
    "### **Ejercicio** \n",
    "\n",
    "Representa gráficamente las siguientes regiones o conjuntos en el plano:\n",
    "- El conjunto de puntos que satisfacen $x^2+y^2-4x-6y = -9$.\n",
    "- La región del plano de los puntos que cumplen $y>x$ o $y<-2x$.\n",
    "- La región del plano de los puntos que están en el interior de un paralelogramo de vértices $(0,0)$, $(0,1)$, $(1,1)$ y $(1,2)$."
   ]
  },
  {
   "cell_type": "code",
   "execution_count": 17,
   "metadata": {},
   "outputs": [],
   "source": [
    "# ESCRIBE AQUÍ TU CÓDIGO"
   ]
  },
  {
   "cell_type": "markdown",
   "metadata": {},
   "source": [
    "Para más detalles sobre representación gráfica en **SymPy**, se puede consultar la documentación oficial: https://docs.sympy.org/latest/modules/plotting.html."
   ]
  },
  {
   "cell_type": "markdown",
   "metadata": {},
   "source": [
    "## Funciones de varias variables\n",
    "\n",
    "Para definir funciones en **SymPy**, tenemos que utilizar la función `sp.Lambda`. Además, para evaluar la función en un punto, procedemos como en cualquier otra función predefinida (seno, coseno, exponencial, etc.)."
   ]
  },
  {
   "cell_type": "code",
   "execution_count": 18,
   "metadata": {},
   "outputs": [
    {
     "name": "stdout",
     "output_type": "stream",
     "text": [
      "f(2,0) = 4\n",
      "True\n"
     ]
    }
   ],
   "source": [
    "x, y = sp.symbols('x:y',real=True)\n",
    "f_exp = x**2 + x*y\n",
    "f = sp.Lambda((x,y),f_exp) # Creamos la función \n",
    "print('f(2,0) =',f(2,0)) # Evaluamos la función en el punto (2,0)\n",
    "print(f(x,y)==f_exp)"
   ]
  },
  {
   "cell_type": "markdown",
   "metadata": {},
   "source": [
    "### Funciones definidas a trozos\n",
    "\n",
    "Las funciones también pueden venir definidas a partir de expresiones **a trozos**. Para definir estas expresiones, condicionadas por el valor que toman las variables, utilizaremos la orden `sp.Piecewise`. Por ejemplo, veamos como definir la siguiente función:\n",
    "\n",
    "$$\n",
    "g(x,y)=\n",
    "\\begin{cases}\n",
    "\\dfrac{1}{xy} & \\text{si } x>0 \\text{ e }y>0,\\\\\n",
    "1 & \\text{en otro caso}.\n",
    "\\end{cases}\n",
    "$$"
   ]
  },
  {
   "cell_type": "code",
   "execution_count": 19,
   "metadata": {},
   "outputs": [
    {
     "data": {
      "text/latex": [
       "$\\displaystyle \\begin{cases} \\frac{1}{x y} & \\text{for}\\: x > 0 \\wedge y > 0 \\\\1 & \\text{otherwise} \\end{cases}$"
      ],
      "text/plain": [
       "Piecewise((1/(x*y), (x > 0) & (y > 0)), (1, True))"
      ]
     },
     "metadata": {},
     "output_type": "display_data"
    },
    {
     "name": "stdout",
     "output_type": "stream",
     "text": [
      "g(2,2) = 1/4\n",
      "g(-2,2) = 1\n"
     ]
    }
   ],
   "source": [
    "x, y = sp.symbols('x:y',real=True)\n",
    "g_exp = sp.Piecewise((1/(x*y), (x>0) & (y>0)), (1, True))\n",
    "g = sp.Lambda((x,y), g_exp) # Creamos la función\n",
    "display(g(x,y))\n",
    "print('g(2,2) =',g(2,2)) # Evaluamos la función en el punto (2,2)\n",
    "print('g(-2,2) =',g(-2,2)) # Evaluamos la función en el punto (-2,2)"
   ]
  },
  {
   "cell_type": "markdown",
   "metadata": {},
   "source": [
    "> **NOTA**: Debido a un error actual en **SymPy**, si queremos calcular límites de funciones a trozos definidas a partir de la orden `sp.Piecewise`, podemos obtener información errónea. "
   ]
  },
  {
   "cell_type": "markdown",
   "metadata": {},
   "source": [
    "### **Ejercicio** \n",
    "\n",
    "Calcula $f(3,3)$ y $g(1,0,0)$, donde las funciones $f$ y $g$ vienen dadas por las siguientes expresiones:\n",
    "\n",
    "- $\\displaystyle f(x,y) = \\frac{\\sqrt{x^2+y^2-9}}{x}$.\n",
    "- $\\displaystyle g(x,y,z) = \\frac{x}{\\cos(y^2+z^2)}$."
   ]
  },
  {
   "cell_type": "code",
   "execution_count": 20,
   "metadata": {},
   "outputs": [],
   "source": [
    "# ESCRIBE AQUÍ TU CÓDIGO"
   ]
  }
 ],
 "metadata": {
  "kernelspec": {
   "display_name": "Python 3 (ipykernel)",
   "language": "python",
   "name": "python3"
  },
  "language_info": {
   "codemirror_mode": {
    "name": "ipython",
    "version": 3
   },
   "file_extension": ".py",
   "mimetype": "text/x-python",
   "name": "python",
   "nbconvert_exporter": "python",
   "pygments_lexer": "ipython3",
   "version": "3.11.1 (tags/v3.11.1:a7a450f, Dec  6 2022, 19:58:39) [MSC v.1934 64 bit (AMD64)]"
  },
  "vscode": {
   "interpreter": {
    "hash": "6bee1e8c92def9b58716ddd07d843225b81ed35493dd8048850a9a59c060c325"
   }
  }
 },
 "nbformat": 4,
 "nbformat_minor": 2
}