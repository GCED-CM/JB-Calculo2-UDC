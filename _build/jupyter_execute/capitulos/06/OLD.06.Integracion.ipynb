{
 "cells": [
  {
   "cell_type": "markdown",
   "metadata": {},
   "source": [
    "(sec_PythonIntegracion)=\n",
    "# Integración en **Python**\n",
    "\n",
    "En esta sección aprenderemos a integrar con `SymPy` y a aproximar integrales definidas usando `NumPy`.\n",
    "\n",
    "## Integración con **SymPy**\n",
    "Para calcular exactamente la integral de una función mediante SymPy, se emplea la función *integrate*. \n",
    "Por ejemplo, para calcular una primitiva de $\\sin(x)$, escribiremos "
   ]
  },
  {
   "cell_type": "code",
   "execution_count": 73,
   "metadata": {},
   "outputs": [
    {
     "name": "stdout",
     "output_type": "stream",
     "text": [
      "Una primitiva de  sin(x)  es =  -cos(x)\n"
     ]
    }
   ],
   "source": [
    "import sympy as sp\n",
    "\n",
    "x = sp.symbols('x')\n",
    "f = sp.sin(x)\n",
    "I = sp.integrate(f,x)\n",
    "\n",
    "print('Una primitiva de ',f, ' es = ',I)"
   ]
  },
  {
   "cell_type": "markdown",
   "metadata": {},
   "source": [
    "Para calcular la integral definida $\\displaystyle\\int_0^\\pi\\sin(x)\\,dx$, escribiremos"
   ]
  },
  {
   "cell_type": "code",
   "execution_count": 74,
   "metadata": {},
   "outputs": [
    {
     "name": "stdout",
     "output_type": "stream",
     "text": [
      "La integral de  sin(x)  entre 0 y pi es =  2\n"
     ]
    }
   ],
   "source": [
    "import sympy as sp\n",
    "\n",
    "x = sp.symbols('x')\n",
    "f = sp.sin(x)\n",
    "Idef = sp.integrate(f,(x,0,sp.pi))\n",
    "\n",
    "print('La integral de ',f, ' entre 0 y pi es = ',Idef)"
   ]
  },
  {
   "cell_type": "markdown",
   "metadata": {},
   "source": [
    "`SymPy` no siempre es capaz de calcular una primitiva. En caso de no poder hacerlo, devuelve como salida la integral de partida:"
   ]
  },
  {
   "cell_type": "code",
   "execution_count": 75,
   "metadata": {},
   "outputs": [
    {
     "name": "stdout",
     "output_type": "stream",
     "text": [
      "Integral(sin(x*cos(x)), x)\n"
     ]
    }
   ],
   "source": [
    "I = sp.integrate(sp.sin(x*sp.cos(x)),x)\n",
    "print(I)"
   ]
  },
  {
   "cell_type": "markdown",
   "metadata": {},
   "source": [
    "Es posible calcular algunas integrales impropias, cuando los límites de integración son $-\\infty$ y/o $+\\infty$, es decir, integrales de la forma:\n",
    "\n",
    "$$\n",
    "\\int_{-\\infty}^bf(x)\\,dx\\,,\\quad\n",
    "\\int_{a}^{+\\infty}f(x)\\,dx\\,,\\quad\n",
    "\\int_{-\\infty}^{+\\infty}f(x)\\,dx\\,.\n",
    "$$"
   ]
  },
  {
   "cell_type": "code",
   "execution_count": 76,
   "metadata": {},
   "outputs": [
    {
     "name": "stdout",
     "output_type": "stream",
     "text": [
      "Integral de  exp(x)  entre -oo y 0 es =  1\n",
      "Integral de  x**(-2)  entre 1 y +oo es =  1\n"
     ]
    }
   ],
   "source": [
    "x = sp.symbols('x')\n",
    "f = sp.exp(x)\n",
    "I1 = sp.integrate(f,(x,-sp.oo,0))\n",
    "\n",
    "print('Integral de ',f,' entre -oo y 0 es = ',I1)\n",
    "\n",
    "g = 1/(x**2)\n",
    "I2 = sp.integrate(g,(x,1,sp.oo))\n",
    "\n",
    "print('Integral de ',g,' entre 1 y +oo es = ',I2)\n"
   ]
  },
  {
   "cell_type": "markdown",
   "metadata": {},
   "source": [
    "Si necesitamos calcular una integral impropia de segunda especie, como por ejemplo, \n",
    "\n",
    "$$\n",
    "\\int_{-1}^2\\dfrac{1}{x}\\,dx\\,,\n",
    "$$\n",
    "y hacemos:"
   ]
  },
  {
   "cell_type": "code",
   "execution_count": 77,
   "metadata": {},
   "outputs": [
    {
     "name": "stdout",
     "output_type": "stream",
     "text": [
      "La integral vale =  nan\n"
     ]
    }
   ],
   "source": [
    "h = 1/x\n",
    "I2e = sp.integrate(h,(x,-1,2))\n",
    "print('La integral vale = ', I2e)"
   ]
  },
  {
   "cell_type": "markdown",
   "metadata": {},
   "source": [
    "En este caso, para entender qué está ocurriendo, es mejor usar la definición: \n",
    "\n",
    "$$\n",
    "\\int_{-1}^2\\dfrac{1}{x}\\,dx =\\int_{-1}^0\\dfrac{1}{x}\\,dx +\\int_{0}^2\\dfrac{1}{x}\\,dx\\,,  \n",
    "$$\n",
    "donde \n",
    "\n",
    "$$\n",
    "\\int_{-1}^0\\dfrac{1}{x}\\,dx =\\lim_{b\\rightarrow 0^-}\\int_{-1}^b\\dfrac{1}{x}\\,dx\\,,\n",
    "$$\n",
    "y\n",
    "\n",
    "$$\n",
    "\\int_{0}^2\\dfrac{1}{x}\\,dx =\\lim_{a\\rightarrow 0^+}\\int_{a}^2\\dfrac{1}{x}\\,dx\\,.\n",
    "$$"
   ]
  },
  {
   "cell_type": "code",
   "execution_count": 78,
   "metadata": {},
   "outputs": [
    {
     "name": "stdout",
     "output_type": "stream",
     "text": [
      "Valor del primer límite =  -oo\n",
      "Valor del segundo límite =  oo\n",
      "La integral impropia es =  nan\n"
     ]
    }
   ],
   "source": [
    "h = 1/x\n",
    "a,b = sp.symbols('a:b', real=True)\n",
    "L1 = sp.limit(sp.integrate(h,(x,-1,b)),b,0,'-')\n",
    "L2 = sp.limit(sp.integrate(h,(x,a,2)),a,0,'+')\n",
    "print('Valor del primer límite = ', L1)\n",
    "print('Valor del segundo límite = ', L2)\n",
    "print('La integral impropia es = ',L1+L2)"
   ]
  },
  {
   "cell_type": "markdown",
   "metadata": {},
   "source": [
    "## Integración numérica. Fórmulas simples\n",
    "\n",
    "Como hemos visto, no siempre es posible calcular exactamente la integral de una función mediante SymPy.\n",
    "También puede ocurrir que la expresión de la primitiva sea demasiado costosa de evaluar o que solo conozcamos los valores de la función en un conjunto finito de puntos. En estos casos, se emplean técnicas de integración numérica.\n",
    "\n",
    "Importamos a continuación los módulos necesarios."
   ]
  },
  {
   "cell_type": "code",
   "execution_count": 79,
   "metadata": {},
   "outputs": [],
   "source": [
    "import sympy as sp\n",
    "import numpy as np\n",
    "import matplotlib.pyplot as plt\n"
   ]
  },
  {
   "cell_type": "markdown",
   "metadata": {},
   "source": [
    "En la Sección {ref}`sec_IntegracionNumerica` hemos visto varias fórmulas de integración numérica para aproximar una integral de la forma \n",
    "\n",
    "$$\n",
    "\\int_a^bf(x)\\,dx\n",
    "$$\n",
    "donde $a$ y $b$ son números reales. Concretamente, hemos visto las fórmulas del punto medio, del trapecio y de Simpson. \n",
    "\n",
    "Vamos a aproximar la integral de\n",
    "\n",
    "$$\n",
    "I=\\int_{0}^{3}\\left(x^4+1\\right)\\,dx\\,,\n",
    "$$\n",
    "mediante diferentes fórmulas de cuadratura.\n",
    "\n",
    "Recuerda que, en este caso sencillo, podemos conocer el valor exacto de la integral:\n",
    "\n",
    "$$\n",
    "I=\\int_{0}^{3}\\left(x^4+1\\right)\\,dx = \\left[\\frac{x^5}{5}+x\\right]_{x=0}^{3} = \\frac{3^5}{5}+3 = 51.6\\, .\n",
    "$$"
   ]
  },
  {
   "cell_type": "code",
   "execution_count": 80,
   "metadata": {},
   "outputs": [
    {
     "name": "stdout",
     "output_type": "stream",
     "text": [
      "Valor aproximado de I mediante la fórmula del punto medio =  18.1875\n"
     ]
    }
   ],
   "source": [
    "x = sp.Symbol('x', real = True)\n",
    "\n",
    "#Aproximación por punto medio\n",
    "a = 0\n",
    "b = 3\n",
    "pm = (a+b)/2\n",
    "\n",
    "f_exp = x**4+1\n",
    "f = sp.lambdify(x,f_exp)\n",
    "\n",
    "fpm = f(pm)\n",
    "I_aprox = (b-a) * fpm\n",
    "print('Valor aproximado de I mediante la fórmula del punto medio = ', I_aprox)"
   ]
  },
  {
   "cell_type": "markdown",
   "metadata": {},
   "source": [
    "Implementamos a continuación una función para la fórmula del trapecio simple: \n",
    "\n",
    "$$\n",
    "\\int_a^bf(x)\\,dx\\simeq \\dfrac{b-a}{2}(f(a)+f(b))\\,.\n",
    "$$"
   ]
  },
  {
   "cell_type": "code",
   "execution_count": 81,
   "metadata": {},
   "outputs": [],
   "source": [
    "def trapecio(a,b,fa,fb):\n",
    "    aprox_tr = (b-a) * (fa + fb)/2\n",
    "    return aprox_tr"
   ]
  },
  {
   "cell_type": "markdown",
   "metadata": {},
   "source": [
    "La empleamos para aproximar $I$:"
   ]
  },
  {
   "cell_type": "code",
   "execution_count": 82,
   "metadata": {},
   "outputs": [
    {
     "name": "stdout",
     "output_type": "stream",
     "text": [
      "Valor aproximado de la integral por trapecio simple =  124.5\n"
     ]
    }
   ],
   "source": [
    "x = sp.Symbol('x', real = True)\n",
    "\n",
    "a = 0\n",
    "b = 3\n",
    "\n",
    "f_exp = x**4+1\n",
    "f = sp.lambdify(x,f_exp)\n",
    "\n",
    "fa = f(a)\n",
    "fb = f(b)\n",
    "aproximacion_trapecio = trapecio(a,b,fa,fb)\n",
    "print('Valor aproximado de la integral por trapecio simple = ', aproximacion_trapecio)"
   ]
  },
  {
   "cell_type": "markdown",
   "metadata": {},
   "source": [
    "## Ejercicio 1\n",
    "Implementa una función que permita aproximar la integral definida de una función dada $f$ en un intervalo $[a,b]$ mediante la fórmula de Simpson: \n",
    "\n",
    "$$\n",
    "\\int_a^bf(x)\\,dx\\simeq\\dfrac{b-a}{6}(f(a)+4f(\\dfrac{a+b}{2})+f(b))\\,.\n",
    "$$\n",
    "Empléala para aproximar el valor de $I$."
   ]
  },
  {
   "cell_type": "code",
   "execution_count": 83,
   "metadata": {},
   "outputs": [],
   "source": [
    "# Escribe aquí tu código"
   ]
  },
  {
   "cell_type": "markdown",
   "metadata": {},
   "source": [
    "## Integración numérica. Fórmulas compuestas\n",
    "\n",
    "Como habrás podido ver en los apartados anteriores, las fórmulas simples pueden dar resultdos bastante... espantosos.\n",
    "\n",
    "Para obtener una aproximación mejor se suelen usar fórmulas compuestas, como ya contamos en la Sección {ref}`sec_IntegracionNumerica`. Vamos a implementar ahora de manera eficiente estas fórmulas utilizando la función de 'np.sum`. "
   ]
  },
  {
   "cell_type": "code",
   "execution_count": 84,
   "metadata": {},
   "outputs": [
    {
     "name": "stdout",
     "output_type": "stream",
     "text": [
      "aprox_trap:  51.608099919\n",
      "aprox_medio:  51.583801133999984\n",
      "aprox_simpson:  51.60000032399999\n",
      "Exacta:  51.6\n"
     ]
    }
   ],
   "source": [
    "x = sp.Symbol('x', real = True)\n",
    "f_exp = x**4+1\n",
    "f = sp.lambdify(x,f_exp)\n",
    "\n",
    "a = 0; b = 3\n",
    "n = 100\n",
    "\n",
    "x1 = np.linspace(a,b,n+1) # aquí guardamos los x_{i}. \n",
    "                          # Recuerda que, en Python, se guarda x1[0], x1[1], ..., x1[(n+1)-1] = x1[n]\n",
    "y1 = f(x1)\n",
    "\n",
    "h = (b-a)/n # el tamaño de cada subintervalo\n",
    "\n",
    "aprox_trap = h/2 * (y1[0]+2*np.sum(y1[1:n])+y1[n])\n",
    "aprox_medio = 2*h * np.sum(y1[1:n:2])\n",
    "aprox_simpson = 2*h/6 * (y1[0] + 4*np.sum(y1[1:n:2])+2*np.sum(y1[2:n-1:2])+y1[n])\n",
    "\n",
    "print('aprox_trap: ',aprox_trap) \n",
    "print('aprox_medio: ',aprox_medio) \n",
    "print('aprox_simpson: ',aprox_simpson) \n",
    "\n",
    "print('Exacta: ',b**5/5+b)"
   ]
  },
  {
   "cell_type": "markdown",
   "metadata": {},
   "source": [
    "## Ejercicio 2\n",
    "\n",
    "Escribe **dos funciones** para la programación de **trapecio compuesto**:\n",
    "* Una primera función haga el cálculo con `np.sum`, como tienes ahí arriba.\n",
    "* Una segunda función que haga lo mismo, pero con un sumatorio acumulado (será menos eficiente). "
   ]
  },
  {
   "cell_type": "code",
   "execution_count": 85,
   "metadata": {},
   "outputs": [],
   "source": [
    "# Aquí tu código"
   ]
  },
  {
   "cell_type": "markdown",
   "metadata": {},
   "source": [
    "## Ejercicio 3\n",
    "Para obtener el volumen de un cono circular recto de altura $h$ y radio de la base $R$, se puede hacer girar la recta que pasa por el origen y el punto $(h,R)$ alrededor del eje $OX$ entre $x=0$ y $x=h$.\n",
    "\n",
    "Representamos a continuación un cono circular recto de altura $h=10$ y radio de la base $R=2$: "
   ]
  },
  {
   "cell_type": "code",
   "execution_count": 86,
   "metadata": {},
   "outputs": [
    {
     "data": {
      "image/png": "[encoded data removed]",
      "text/plain": [
       "<Figure size 640x480 with 1 Axes>"
      ]
     },
     "metadata": {
      "filenames": {
       "image/png": "/mnt/c/Users/Luis Hervella/OneDrive - Universidade da Coruña/Coordinación CM/JBCMGCED/_build/jupyter_execute/capitulos/06/OLD.06.Integracion_27_0.png"
      }
     },
     "output_type": "display_data"
    }
   ],
   "source": [
    "import matplotlib.pyplot as plt\n",
    "import mpl_toolkits.mplot3d.axes3d as axes3d\n",
    "\n",
    "fig = plt.figure()\n",
    "ax = fig.add_subplot(1, 1, 1, projection='3d')\n",
    "\n",
    "RR = 2.0 \n",
    "hh = 10.0 \n",
    "u = np.linspace(0, 6.5, 60)\n",
    "v = np.linspace(0, 6.5, 60)\n",
    "U, V = np.meshgrid(u, v)\n",
    "\n",
    "X = U\n",
    "Y1 = RR/hh*U*np.cos(V)\n",
    "Z1 = RR/hh*U*np.sin(V)\n",
    "\n",
    "ax.plot_surface(X, Y1, Z1, alpha=0.3, color='red', rstride=6, cstride=12)\n",
    "plt.show()"
   ]
  },
  {
   "cell_type": "markdown",
   "metadata": {},
   "source": [
    "1. Prepara un código que, utilizando la función `sp.integrate`, calcule el volumen de un cono de altura $h$ y radio de la base $R$.\n",
    "2. Para el cono del dibujo anterior ($h=10$, $R=2$), aproxima este volumen utilizando una punto medio, trapecio y Simpson compuestas con $n=1000$."
   ]
  },
  {
   "cell_type": "code",
   "execution_count": 87,
   "metadata": {},
   "outputs": [],
   "source": [
    "# Tu código aquí"
   ]
  }
 ],
 "metadata": {
  "kernelspec": {
   "display_name": "Python 3.10.8 64-bit (microsoft store)",
   "language": "python",
   "name": "python3"
  },
  "language_info": {
   "codemirror_mode": {
    "name": "ipython",
    "version": 3
   },
   "file_extension": ".py",
   "mimetype": "text/x-python",
   "name": "python",
   "nbconvert_exporter": "python",
   "pygments_lexer": "ipython3",
   "version": "3.10.8"
  },
  "vscode": {
   "interpreter": {
    "hash": "f2c0f1c90395c109e1b87b1f4d6d2ea9e1b09c8587e65b0565fcfbe20df05a54"
   }
  }
 },
 "nbformat": 4,
 "nbformat_minor": 2
}