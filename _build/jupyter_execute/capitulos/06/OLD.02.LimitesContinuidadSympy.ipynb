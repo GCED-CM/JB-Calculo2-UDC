{
 "cells": [
  {
   "cell_type": "markdown",
   "metadata": {},
   "source": [
    "# Límites y continuidad con **Sympy**\n",
    "\n",
    "El módulo **Sympy** puede utilizarse se para obtener las singularidades de una función, su dominio y su rango, entre otras cosas. \n",
    "Como veremos en esta práctica, también podremos calcular límites en una variable y comprobar si una función es continua en un punto dado. \n",
    "\n",
    "**Objetivos:**\n",
    "\n",
    "- Diferenciar una expresión de una función en Sympy,\n",
    "- definir funciones a trozos,\n",
    "- explorar el dominio, singularidades y rango de una función,\n",
    "- cálculo de límites en una variable,\n",
    "- análisis de la continuidad de una función."
   ]
  },
  {
   "cell_type": "markdown",
   "metadata": {},
   "source": [
    "Recordemos que lo primero que debemos hacer es importar el módulo **Sympy** para el resto de la práctica:"
   ]
  },
  {
   "cell_type": "code",
   "execution_count": 2,
   "metadata": {},
   "outputs": [],
   "source": [
    "import sympy as sp"
   ]
  },
  {
   "cell_type": "markdown",
   "metadata": {},
   "source": [
    "## Expresiones y funciones en **Sympy**\n",
    "Hasta ahora hemos usado expresiones matemáticas que se guardaban en objetos del módulo **Sympy**. Sin embargo, todavía no hemos utilizado funciones. Para ver las diferencias entre una expresión y su función asociada vamos a mostrar como evaluar funciones y expresiones en **Sympy** sobre un ejemplo sencillo: la función $f(x) \\to x\\cos(4x)$:"
   ]
  },
  {
   "cell_type": "code",
   "execution_count": 3,
   "metadata": {},
   "outputs": [
    {
     "data": {
      "text/latex": [
       "$\\displaystyle x \\cos{\\left(4 x \\right)}$"
      ],
      "text/plain": [
       "x*cos(4*x)"
      ]
     },
     "metadata": {},
     "output_type": "display_data"
    },
    {
     "name": "stdout",
     "output_type": "stream",
     "text": [
      "Valor de f_expr(2)= 2*cos(8)\n"
     ]
    },
    {
     "data": {
      "text/plain": [
       "[1, 7/3]"
      ]
     },
     "execution_count": 3,
     "metadata": {},
     "output_type": "execute_result"
    }
   ],
   "source": [
    "x = sp.symbols('x', real=True) # define la variable simbólica x\n",
    "f_expr = x*sp.cos(4*x) # Esto es una expresión\n",
    "display(f_expr)\n",
    "print('Valor de f_expr(2)=',f_expr.subs({x:2})) # Evaluamos la expresión f con \"subs\"\n",
    "\n",
    "y = sp.symbols('y', real=True)\n",
    "f2_expr=sp.exp(x**3+1)\n",
    "sp.solve(f2_expr-y,x)\n",
    "\n",
    "sp.solve(sp.Abs(2*x-4)-sp.Abs(x-3))"
   ]
  },
  {
   "cell_type": "markdown",
   "metadata": {},
   "source": [
    "En el caso de las funciones, la evauación es mucho más sencilla: se hace como en cualquier otra función pre-definida (seno, coseno, exponencial, *etc.*).\n",
    "\n",
    "Para definir funciones en **Sympy** tenemos que utilizar la función `sp.Lambda`:"
   ]
  },
  {
   "cell_type": "code",
   "execution_count": 4,
   "metadata": {},
   "outputs": [
    {
     "data": {
      "text/latex": [
       "$\\displaystyle \\left( x \\mapsto x \\cos{\\left(4 x \\right)} \\right)$"
      ],
      "text/plain": [
       "Lambda(x, x*cos(4*x))"
      ]
     },
     "metadata": {},
     "output_type": "display_data"
    },
    {
     "name": "stdout",
     "output_type": "stream",
     "text": [
      "Valor de f(2)= 2*cos(8)\n",
      "True\n"
     ]
    }
   ],
   "source": [
    "f = sp.Lambda((x),f_expr) # Creamos la función \"f\" a partir de la expresión \"f_expr\"\n",
    "display(f)\n",
    "print('Valor de f(2)=',f(2)) # Evaluación de la función\n",
    "print(f(x)==f_expr)"
   ]
  },
  {
   "cell_type": "markdown",
   "metadata": {},
   "source": [
    "## Funciones definidas a trozos\n",
    "\n",
    "Las funciones también pueden definirse a partir de expresiones **a trozos**, teniendo en cuenta distintas expresiones que serán evluadas si se cumplen ciertas condiciones. El módulo **Sympy** irá evaluando cada una de las tuplas que aparecen como argumentos (de izquierda a derecha) hasta encontrar una en la que la condición sea cierta. Por ejemplo: \n",
    "\n",
    "$$\n",
    "g\\_expr(x)=\n",
    "\\begin{cases}\n",
    "\\dfrac{1}{x} & \\text{si } x>0,\\\\\n",
    "1 & \\text{si } x \\le 0.\n",
    "\\end{cases}\n",
    "$$"
   ]
  },
  {
   "cell_type": "code",
   "execution_count": 5,
   "metadata": {},
   "outputs": [
    {
     "data": {
      "text/latex": [
       "$\\displaystyle \\begin{cases} \\frac{1}{x} & \\text{for}\\: x > 0 \\\\1 & \\text{otherwise} \\end{cases}$"
      ],
      "text/plain": [
       "Piecewise((1/x, x > 0), (1, True))"
      ]
     },
     "metadata": {},
     "output_type": "display_data"
    }
   ],
   "source": [
    "g_expr = sp.Piecewise((1/(x), x>0), (1, True))\n",
    "g = sp.Lambda((x), g_expr)\n",
    "display(g(x))"
   ]
  },
  {
   "cell_type": "markdown",
   "metadata": {},
   "source": [
    "La forma de escritura anterior, pese a ser muy cómoda, tiene muchas limitaciones (por ejemplo, para el cálculo de límites laterales, que veremos un poco más abajo). En general, es más útil definir las funciones a trozos apoyándonos en la función **escalón**, matemáticamente conocida como función de **Heaviside**, $\\theta$, que viene dada por\n",
    "\n",
    "$$\n",
    "\\theta(x)=\n",
    "\\begin{cases}\n",
    "0 & \\text{si } x \\le 0,\\\\\n",
    "1 & \\text{si } x \\gt 0.\\\\\n",
    "\\end{cases}\n",
    "$$\n",
    "\n",
    "Entonces, una función definida por\n",
    "\n",
    "$$\n",
    "f(x)=\n",
    "\\begin{cases}\n",
    "f_1(x) & \\text{si } x>0,\\\\\n",
    "f_{2}(x) & \\text{si } x < 0,\n",
    "\\end{cases}\n",
    "$$\n",
    "\n",
    "se escribiría como\n",
    "\n",
    "$$\n",
    "f(x) = f_2(x)+(f_1(x)-f_2(x))\\theta(x).\n",
    "$$"
   ]
  },
  {
   "cell_type": "code",
   "execution_count": 57,
   "metadata": {},
   "outputs": [
    {
     "data": {
      "text/latex": [
       "$\\displaystyle \\begin{cases} 1 & \\text{for}\\: x \\leq 0 \\\\\\frac{1}{x} & \\text{otherwise} \\end{cases}$"
      ],
      "text/plain": [
       "Piecewise((1, x <= 0), (1/x, True))"
      ]
     },
     "metadata": {},
     "output_type": "display_data"
    }
   ],
   "source": [
    "# Definición de la función\n",
    "g1 = 1/x; g2 = 1\n",
    "g_expr = g2 + (g1 - g2) * sp.Heaviside(x, 0)  \n",
    "g = sp.Lambda(x, g_expr)\n",
    "# Comprobar la definición de la función g\n",
    "display(sp.simplify(g(x).rewrite(sp.Piecewise)))"
   ]
  },
  {
   "cell_type": "markdown",
   "metadata": {},
   "source": [
    "## Dominio e imagen de una función\n",
    "\n",
    "Para calcular el **dominio** de una función se puede, en primer lugar, calcular las singularidades de una función dada. Entonces, el dominio máximo de la función será todo $\\mathbb{R}$ menos las singularidades. "
   ]
  },
  {
   "cell_type": "code",
   "execution_count": 23,
   "metadata": {},
   "outputs": [
    {
     "data": {
      "text/latex": [
       "$\\displaystyle \\left\\{2 n \\pi + \\frac{\\pi}{2}\\; \\middle|\\; n \\in \\mathbb{Z}\\right\\} \\cup \\left\\{2 n \\pi + \\frac{3 \\pi}{2}\\; \\middle|\\; n \\in \\mathbb{Z}\\right\\}$"
      ],
      "text/plain": [
       "Union(ImageSet(Lambda(_n, 2*_n*pi + pi/2), Integers), ImageSet(Lambda(_n, 2*_n*pi + 3*pi/2), Integers))"
      ]
     },
     "metadata": {},
     "output_type": "display_data"
    }
   ],
   "source": [
    "f=sp.Lambda(x, x/(sp.cos(x)))\n",
    "display(sp.calculus.singularities(f(x), x))"
   ]
  },
  {
   "cell_type": "markdown",
   "metadata": {},
   "source": [
    "Para calcular la **imagen** de una función (o, lo que es lo mismo, su **rango**), utilizaremos la función `sp.calculus.util.function_range`:"
   ]
  },
  {
   "cell_type": "code",
   "execution_count": 44,
   "metadata": {},
   "outputs": [
    {
     "data": {
      "text/latex": [
       "$\\displaystyle \\left[- \\frac{1}{2}, \\frac{1}{2}\\right]$"
      ],
      "text/plain": [
       "Interval(-1/2, 1/2)"
      ]
     },
     "metadata": {},
     "output_type": "display_data"
    }
   ],
   "source": [
    "f=sp.Lambda(x, x/(x**2+1))\n",
    "R = sp.calculus.util.function_range(f(x), x, sp.Reals)\n",
    "display(R)"
   ]
  },
  {
   "cell_type": "markdown",
   "metadata": {},
   "source": [
    "**Ejercicio 5.1** \n",
    "Calcula las singularidades y la imagen de la función $f(x)=\\displaystyle\\frac{x+5}{x^3-2}+\\frac{x^2}{x-2}$.\n",
    "Para ello, debes definir en primer lugar la expresión asociada y, a continuación, la función `Lambda` correspondiente. Después, debes calcular su dominio y su imagen. Por último, dibuja la función $f$."
   ]
  },
  {
   "cell_type": "code",
   "execution_count": 58,
   "metadata": {},
   "outputs": [],
   "source": [
    "# ESCRIBE AQUÍ TU CÓDIGO"
   ]
  },
  {
   "cell_type": "markdown",
   "metadata": {},
   "source": [
    "## Límites\n",
    "Los límites de expresiones de una variable se pueden calcular con la función `sp.limit`. \n",
    "Esta función también permite calcular límites laterales, como se muestra en el siguiente ejemplo:"
   ]
  },
  {
   "cell_type": "code",
   "execution_count": 65,
   "metadata": {},
   "outputs": [
    {
     "data": {
      "text/latex": [
       "$\\displaystyle \\frac{\\cos{\\left(x \\right)}}{x + 1}$"
      ],
      "text/plain": [
       "cos(x)/(x + 1)"
      ]
     },
     "metadata": {},
     "output_type": "display_data"
    },
    {
     "data": {
      "text/latex": [
       "$\\displaystyle -\\infty$"
      ],
      "text/plain": [
       "-oo"
      ]
     },
     "metadata": {},
     "output_type": "display_data"
    },
    {
     "data": {
      "text/latex": [
       "$\\displaystyle \\infty$"
      ],
      "text/plain": [
       "oo"
      ]
     },
     "metadata": {},
     "output_type": "display_data"
    }
   ],
   "source": [
    "g_expr = sp.cos(x)/(x+1)\n",
    "g = sp.Lambda(x, g_expr)\n",
    "display(g(x))\n",
    "\n",
    "display(sp.limit(g(x),x,-1,dir='-')) # límite por la izquierda\n",
    "display(sp.limit(g(x),x,-1,dir='+')) # límite por la derecha"
   ]
  },
  {
   "cell_type": "markdown",
   "metadata": {},
   "source": [
    "En este caso, el límite $\\displaystyle\\lim_{x\\to -1}g(x)$ no existe ya que, como acabamos de ver, los límite laterales no coinciden. Pero una incorrecta utilización del paquete informático nos podría llevar a una conclusión errónea:"
   ]
  },
  {
   "cell_type": "code",
   "execution_count": 63,
   "metadata": {},
   "outputs": [
    {
     "data": {
      "text/latex": [
       "$\\displaystyle \\infty$"
      ],
      "text/plain": [
       "oo"
      ]
     },
     "metadata": {},
     "output_type": "display_data"
    }
   ],
   "source": [
    "display(sp.limit(g(x),x,-1)) # ¡Da un resultado (incorrecto) ya que, por defecto, utiliza el valor del límite por la derecha!"
   ]
  },
  {
   "cell_type": "markdown",
   "metadata": {},
   "source": [
    "A continuación mostramos como se pueden calcular los límites laterales de una función definida a trozos. \n",
    "En este caso, la definición mediante `sp.Piecewise` dará un error de ejecución (¡prueba!), por lo que tendremos que definir la función utilizando nuestro ya odiado escalón (Heaviside):"
   ]
  },
  {
   "cell_type": "code",
   "execution_count": 66,
   "metadata": {},
   "outputs": [
    {
     "data": {
      "text/latex": [
       "$\\displaystyle \\begin{cases} 1 & \\text{for}\\: x \\leq 0 \\\\\\frac{1}{x} & \\text{otherwise} \\end{cases}$"
      ],
      "text/plain": [
       "Piecewise((1, x <= 0), (1/x, True))"
      ]
     },
     "metadata": {},
     "output_type": "display_data"
    },
    {
     "data": {
      "text/latex": [
       "$\\displaystyle 1$"
      ],
      "text/plain": [
       "1"
      ]
     },
     "metadata": {},
     "output_type": "display_data"
    },
    {
     "data": {
      "text/latex": [
       "$\\displaystyle \\infty$"
      ],
      "text/plain": [
       "oo"
      ]
     },
     "metadata": {},
     "output_type": "display_data"
    }
   ],
   "source": [
    "# Definición de la función a trozos (utilizando la función Heaviside)\n",
    "f1 = 1/x; f2 = 1\n",
    "f_expr = f2 + (f1 - f2) * sp.Heaviside(x, 0)  \n",
    "f = sp.Lambda(x, f_expr)\n",
    "display(sp.simplify(f(x).rewrite(sp.Piecewise)))\n",
    "\n",
    "display(sp.limit(f(x),x,0,dir='-')) # límite por la izquierda\n",
    "display(sp.limit(f(x),x,0,dir='+')) # límite por la derecha"
   ]
  },
  {
   "cell_type": "markdown",
   "metadata": {},
   "source": [
    "No hay ningún problema si queremos calcular límites en el infinito, $x\\to+\\infty$ o $x\\to-\\infty$. El valor de $\\infty$ se representa en **Sympy** por `sp.oo`. Por ejemplo:"
   ]
  },
  {
   "cell_type": "code",
   "execution_count": 67,
   "metadata": {},
   "outputs": [
    {
     "data": {
      "text/latex": [
       "$\\displaystyle 0$"
      ],
      "text/plain": [
       "0"
      ]
     },
     "metadata": {},
     "output_type": "display_data"
    },
    {
     "data": {
      "text/latex": [
       "$\\displaystyle \\infty$"
      ],
      "text/plain": [
       "oo"
      ]
     },
     "metadata": {},
     "output_type": "display_data"
    }
   ],
   "source": [
    "display(sp.limit(sp.exp(x),x,-sp.oo))\n",
    "display(sp.limit(sp.exp(x),x,sp.oo))"
   ]
  },
  {
   "cell_type": "markdown",
   "metadata": {},
   "source": [
    "**Ejercicio 5.2** \n",
    "\n",
    "Representa gráficamente la siguiente función y calcula los límites que se indican: \n",
    "\n",
    "$$\n",
    "f(x)=\n",
    "\\begin{cases}\n",
    "\\cos(x) & \\text{si } x<0,\\\\\n",
    "\\frac{x^2}{x+1} & \\text{si } x \\geq 0,\n",
    "\\end{cases}\n",
    "$$\n",
    "\n",
    "- $\\lim_{x\\to -1} f(x)$,\n",
    "- $\\lim_{x\\to 1} f(x)$,\n",
    "- $\\lim_{x\\to 0^{-}} f(x)$,\n",
    "- $\\lim_{x\\to 0^{+}} f(x)$."
   ]
  },
  {
   "cell_type": "code",
   "execution_count": 78,
   "metadata": {},
   "outputs": [],
   "source": [
    "# ESCRIBE AQUÍ TU CÓDIGO"
   ]
  },
  {
   "cell_type": "markdown",
   "metadata": {},
   "source": [
    "## Continuidad\n",
    "\n",
    "En el módulo de **Sympy** existe una función que calcula el dominio de continuidad (es decir, el conjunto de puntos en los que la función es continua): `sp.calculus.util.continuous_domain`"
   ]
  },
  {
   "cell_type": "code",
   "execution_count": 72,
   "metadata": {},
   "outputs": [
    {
     "data": {
      "text/latex": [
       "$\\displaystyle \\mathbb{R} \\setminus \\left(\\left\\{2 n \\pi + \\frac{\\pi}{2}\\; \\middle|\\; n \\in \\mathbb{Z}\\right\\} \\cup \\left\\{2 n \\pi + \\frac{3 \\pi}{2}\\; \\middle|\\; n \\in \\mathbb{Z}\\right\\}\\right)$"
      ],
      "text/plain": [
       "Complement(Reals, Union(ImageSet(Lambda(_n, 2*_n*pi + pi/2), Integers), ImageSet(Lambda(_n, 2*_n*pi + 3*pi/2), Integers)))"
      ]
     },
     "metadata": {},
     "output_type": "display_data"
    }
   ],
   "source": [
    "f=sp.Lambda(x, x/sp.cos(x))\n",
    "I = sp.calculus.util.continuous_domain(f, x, sp.Reals)\n",
    "display(I)"
   ]
  },
  {
   "cell_type": "markdown",
   "metadata": {},
   "source": [
    "Además, para analizar la continuidad de $f$ en un punto $a$, basta con comprobar que\n",
    "$$\n",
    "f(a)=\\lim_{x\\to a}f(x).\n",
    "$$\n",
    "Por ejemplo:"
   ]
  },
  {
   "cell_type": "code",
   "execution_count": 77,
   "metadata": {},
   "outputs": [
    {
     "data": {
      "text/latex": [
       "$\\displaystyle \\mathbb{R}$"
      ],
      "text/plain": [
       "Reals"
      ]
     },
     "metadata": {},
     "output_type": "display_data"
    },
    {
     "data": {
      "text/latex": [
       "$\\displaystyle \\left( x \\mapsto \\begin{cases} - x & \\text{for}\\: x \\leq 0 \\\\x & \\text{otherwise} \\end{cases} \\right)$"
      ],
      "text/plain": [
       "Lambda(x, Piecewise((-x, x <= 0), (x, True)))"
      ]
     },
     "metadata": {},
     "output_type": "display_data"
    },
    {
     "name": "stdout",
     "output_type": "stream",
     "text": [
      "La función f es continua en x=0: True\n"
     ]
    },
    {
     "data": {
      "text/latex": [
       "$\\displaystyle \\mathbb{R}$"
      ],
      "text/plain": [
       "Reals"
      ]
     },
     "metadata": {},
     "output_type": "display_data"
    }
   ],
   "source": [
    "# Dominio de continuidad de la función valor absoluto\n",
    "f = sp.Lambda((x), sp.Abs(x))\n",
    "I = sp.calculus.util.continuous_domain(f(x), x, sp.Reals)\n",
    "display(I)\n",
    "\n",
    "# Comprobación de la continuidad para la misma función, pero ahora definida a trozos\n",
    "f1 = x; f2 = -x\n",
    "f_expr = f2 + (f1-f2) * sp.Heaviside(x, 0)\n",
    "f = sp.Lambda(x, f_expr)\n",
    "# Comprobamos la definición de la función f\n",
    "display(sp.simplify(f.rewrite(sp.Piecewise)))\n",
    "\n",
    "print('La función f es continua en x=0:', sp.limit(f(x),x,0)==f(0))\n",
    "I = sp.calculus.util.continuous_domain(f(x), x, sp.Reals)\n",
    "display(I)\n"
   ]
  },
  {
   "cell_type": "markdown",
   "metadata": {},
   "source": [
    "**Ejercicio 5.3** \n",
    "Analiza la continuidad de la función del Ejercicio 5.2. "
   ]
  },
  {
   "cell_type": "code",
   "execution_count": 79,
   "metadata": {},
   "outputs": [],
   "source": [
    "# ESCRIBE AQUÍ TU CÓDIGO"
   ]
  }
 ],
 "metadata": {
  "kernelspec": {
   "display_name": "Python 3 (ipykernel)",
   "language": "python",
   "name": "python3"
  },
  "language_info": {
   "codemirror_mode": {
    "name": "ipython",
    "version": 3
   },
   "file_extension": ".py",
   "mimetype": "text/x-python",
   "name": "python",
   "nbconvert_exporter": "python",
   "pygments_lexer": "ipython3",
   "version": "3.9.13"
  },
  "vscode": {
   "interpreter": {
    "hash": "4253bf17849ddc6b6e8c6b6b1c64951bcfcb143729dea15b0d22aeda669b2aa2"
   }
  }
 },
 "nbformat": 4,
 "nbformat_minor": 2
}