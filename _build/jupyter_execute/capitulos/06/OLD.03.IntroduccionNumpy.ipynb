{
 "cells": [
  {
   "cell_type": "markdown",
   "metadata": {},
   "source": [
    "# Introducción a **NumPy**\n",
    "\n",
    "Hasta ahora, dentro de Python, hemos trabajado con el módulo **SymPy**, que nos permite manejar cálculo simbólico, definir nuevas funciones, calcular límites o, como veremos más adelante, derivar e integrar funciones.\n",
    "\n",
    "Sin embargo, las posibilidades de Python para el cálculo matemático no acaban, ni mucho menos, aquí. Ahora giraremos nuestra cabeza para buscar una herramienta que convierta a Python en una especie de super-calculadora, con enormes posibilidades a la hora de realizar grandes operaciones repetitivas con números, vectores o matrices. Nosotros le sacaremos el máximo jugo en la programación de los métodos numéricos que estudiaremos en esta materia pero, por supuesto, sus posibilidades son mucho mayores. \n",
    "\n",
    "Yendo al grano, os vamos a presentar la librería **NumPy** (http://www.numpy.org/) que es la más utilizada para cálculos numéricos. Esta librería permite utilizar un enorme abanico de estructuras de datos y funciones para los cálculos numéricos. En esta sección os mostraremos algunas de estas funcionalidades. \n",
    "\n",
    "**NumPy** es una librería enorme y tiene posibilidades muy extensas, por lo que sólo pretendemos realizar una introducción muy breve. Para descubrir nuevas funcionalidades y como utilizarla con muchos otros propósitos, la mejor fuente de información en línea son los buscadores, y, en particular, la comunidad http://stackoverflow.com/.\n",
    "\n",
    "## Objetivos\n",
    "\n",
    "- Trabajar con objetos y métodos.\n",
    "- Introducción a los vectores unidimensionales de números (`numpy.array`).\n",
    "- Aplicar operacines numéricas elementales.\n",
    "- Manipulación de vectores numéricos (indexado, troceado, *etc.*).\n",
    "- Ejercicio: eficiencia de **NumPy** en funciones vectorizadas y no vectorizadas. "
   ]
  },
  {
   "cell_type": "markdown",
   "metadata": {},
   "source": [
    "**Importar el módulo NumPy**\n",
    "\n",
    "Antes de nada, para tener disponible **NumPy** en el código, debemos primero importarlo. Para hacer esto, es habitual importar **NumPy** utilizando el alias `np`: "
   ]
  },
  {
   "cell_type": "code",
   "execution_count": 1,
   "metadata": {},
   "outputs": [],
   "source": [
    "import numpy as np"
   ]
  },
  {
   "cell_type": "markdown",
   "metadata": {},
   "source": [
    "## Programación orientada a objetos\n",
    "\n",
    "Como todos los módulos de Python, la librería **NumPy** está implementada siguiendo una estrategia de programación orientada a objetos. Por lo tanto, cualquier estructura de datos en Python, incluso la más simple, se debe entender como un objeto que pertenece a una clase, y sobre ella podemos realizar todas las operaciones implementadas sobre esta clase de objetos. Incluso un número es un objeto de una clase: "
   ]
  },
  {
   "cell_type": "code",
   "execution_count": 2,
   "metadata": {},
   "outputs": [
    {
     "name": "stdout",
     "output_type": "stream",
     "text": [
      "3.3\n",
      "<class 'float'>\n"
     ]
    },
    {
     "data": {
      "text/plain": [
       "True"
      ]
     },
     "execution_count": 2,
     "metadata": {},
     "output_type": "execute_result"
    }
   ],
   "source": [
    "a = 3.3\n",
    "print(a)\n",
    "print(type(a))\n",
    "isinstance(a,float)"
   ]
  },
  {
   "cell_type": "markdown",
   "metadata": {},
   "source": [
    "Para comprobar los atributos y los métodos que podemos aplicar sobre un objeto en particular, podemos emplear la función `dir()`, que nos devuelve una lista con sus nombres. Como se puede ver en la lista, podemos distinguir dos tipos de atributos y métodos: aquéllos que van con prefijo y sufijo `__*__` y aquéllos que no. Los del primer tipo se denominan **privados** y habitualmente hacen referencia a los cálculos más básicos que se pueden realizar dentro de la clase a la que pertenece el objeto. "
   ]
  },
  {
   "cell_type": "code",
   "execution_count": 4,
   "metadata": {},
   "outputs": [
    {
     "data": {
      "text/plain": [
       "['__abs__',\n",
       " '__add__',\n",
       " '__bool__',\n",
       " '__ceil__',\n",
       " '__class__',\n",
       " '__delattr__',\n",
       " '__dir__',\n",
       " '__divmod__',\n",
       " '__doc__',\n",
       " '__eq__',\n",
       " '__float__',\n",
       " '__floor__',\n",
       " '__floordiv__',\n",
       " '__format__',\n",
       " '__ge__',\n",
       " '__getattribute__',\n",
       " '__getformat__',\n",
       " '__getnewargs__',\n",
       " '__gt__',\n",
       " '__hash__',\n",
       " '__init__',\n",
       " '__init_subclass__',\n",
       " '__int__',\n",
       " '__le__',\n",
       " '__lt__',\n",
       " '__mod__',\n",
       " '__mul__',\n",
       " '__ne__',\n",
       " '__neg__',\n",
       " '__new__',\n",
       " '__pos__',\n",
       " '__pow__',\n",
       " '__radd__',\n",
       " '__rdivmod__',\n",
       " '__reduce__',\n",
       " '__reduce_ex__',\n",
       " '__repr__',\n",
       " '__rfloordiv__',\n",
       " '__rmod__',\n",
       " '__rmul__',\n",
       " '__round__',\n",
       " '__rpow__',\n",
       " '__rsub__',\n",
       " '__rtruediv__',\n",
       " '__setattr__',\n",
       " '__setformat__',\n",
       " '__sizeof__',\n",
       " '__str__',\n",
       " '__sub__',\n",
       " '__subclasshook__',\n",
       " '__truediv__',\n",
       " '__trunc__',\n",
       " 'as_integer_ratio',\n",
       " 'conjugate',\n",
       " 'fromhex',\n",
       " 'hex',\n",
       " 'imag',\n",
       " 'is_integer',\n",
       " 'real']"
      ]
     },
     "execution_count": 4,
     "metadata": {},
     "output_type": "execute_result"
    }
   ],
   "source": [
    "dir(a)"
   ]
  },
  {
   "cell_type": "markdown",
   "metadata": {},
   "source": [
    "Por ejemplo, podemos comprobar si un número real es mayor que otro de dos maneras diferentes: utilizando el operador lógico `>` o bien usando su método privado `__ge__`: "
   ]
  },
  {
   "cell_type": "code",
   "execution_count": 5,
   "metadata": {},
   "outputs": [
    {
     "name": "stdout",
     "output_type": "stream",
     "text": [
      "True\n",
      "True\n"
     ]
    }
   ],
   "source": [
    "a=6.4; b=5.3\n",
    "print(a.__gt__(b))\n",
    "print(a > b)"
   ]
  },
  {
   "cell_type": "markdown",
   "metadata": {},
   "source": [
    "En cualquier caso, en Python tanto los métodos privados como los públicos se utilizan de la misma manera. Por ejemplo:"
   ]
  },
  {
   "cell_type": "code",
   "execution_count": 5,
   "metadata": {},
   "outputs": [
    {
     "name": "stdout",
     "output_type": "stream",
     "text": [
      "False\n",
      "3\n",
      "3\n"
     ]
    }
   ],
   "source": [
    "a=3.4\n",
    "print(a.is_integer())\n",
    "print(a.__int__())\n",
    "print(np.int(a))"
   ]
  },
  {
   "cell_type": "markdown",
   "metadata": {},
   "source": [
    "> **NOTA**: En este curso no vamos a trabajar ni será necesaria la implementación de código utilizando una programación orientada a objetos. Pero lo que sí será necesario es tomar conciencia de cuándo se utilizan objetos de diferentes clases y qué atributos y métodos tiene definido cada caso. "
   ]
  },
  {
   "cell_type": "markdown",
   "metadata": {},
   "source": [
    "## Vectores de números\n",
    "\n",
    "En Python existen multitud de formas de guardar datos numéricos (o no) como pueden ser la estrutura lista o tupla. En particular, las listas pueden contener una secuencia finita de números ordenados (y utilizando un índice para acceder a cada uno de los elementos de la lista). Además, son lo suficientemente flexibles como para contener datos de diferente naturaleza (combinación de números enteros, reales, listas de listas, *etc.*).\n",
    "\n",
    "Pero esta flexibilidad de las listas en Python hace que su rendimiento computacional sea muy limitado. En la mayoría de las aplicaciones científicas en matemáticas (con sus aplicaciones a las diferentes partes de la ingeniería informática, inteligencia artificial, ciencia de datos,...), los problemas reales necesitan operaciones sobre enormes conjuntos de datos y, por tanto, la velocidad computacional es muy importante para estos grandes problemas. Para trabajar de forma eficiente con estos problemas, **Numpy** proporciona funciones especializadas y estructuras de datos adecuadas. En particular, para el caso de conjuntos de números de un mismo tipo (perdiendo parte de la flexibilidad de las listas, pero ganando eficacia computacional).  \n",
    "\n",
    "**Vectores unidimensionales**: Un vector unidimensional es una colección ordenada de números a los que se puede acceder mediante un índice (con lo que se preserva el orden). Por defecto, los vectores en **NumPy** son vectores fila.\n",
    "\n",
    "**Creación de vectores e indexado**: Para crear un vector **Numpy** de longitud 10 e inicializado con ceros, se utilizaría la función `np.zeros()`:"
   ]
  },
  {
   "cell_type": "code",
   "execution_count": 3,
   "metadata": {},
   "outputs": [
    {
     "name": "stdout",
     "output_type": "stream",
     "text": [
      "[0. 0. 0. 0. 0. 0. 0. 0. 0. 0.]\n",
      "<class 'numpy.ndarray'>\n"
     ]
    }
   ],
   "source": [
    "u = np.zeros(10)\n",
    "print(u)\n",
    "print(type(u))"
   ]
  },
  {
   "cell_type": "markdown",
   "metadata": {},
   "source": [
    "El tipo por defecto de los números que contienen los vectores en **NumPy** es `float64` (que es el tipo guardado en `np.float`). Si queremos usar otros tipos, tendríamos que utilizar el argumento opcional `dtype`. El tipo de los números que contiene un vector puede comprobarse accediendo al atributo `dtype` de los vectores **NumPy**:"
   ]
  },
  {
   "cell_type": "code",
   "execution_count": 4,
   "metadata": {},
   "outputs": [
    {
     "name": "stdout",
     "output_type": "stream",
     "text": [
      "float64\n",
      "[0 0 0 0 0]\n",
      "<class 'numpy.ndarray'>\n",
      "int32\n"
     ]
    }
   ],
   "source": [
    "print(u.dtype)\n",
    "w = np.zeros(5, dtype=np.int)\n",
    "print(w)\n",
    "print(type(w))\n",
    "print(w.dtype)"
   ]
  },
  {
   "cell_type": "markdown",
   "metadata": {},
   "source": [
    "Lo que no es posible, por ejemplo, es añadir un valor del tipo cadena de texto (es decir, de tipo `string`) a un objeto `numpy.ndarray`, ya que todos los elementos del vector deben ser del mismo tipo (o, al menos, de un tipo que admita una conversión) y deben tener también el mismo tamaño. Para comprobar el tamaño de un vector, se puede usar la función `len`:"
   ]
  },
  {
   "cell_type": "code",
   "execution_count": 5,
   "metadata": {},
   "outputs": [
    {
     "name": "stdout",
     "output_type": "stream",
     "text": [
      "10\n",
      "[0. 0. 0. 0. 0. 0. 0. 0. 0. 0.]\n"
     ]
    },
    {
     "ename": "ValueError",
     "evalue": "operands could not be broadcast together with shapes (10,) (5,) ",
     "output_type": "error",
     "traceback": [
      "\u001b[1;31m---------------------------------------------------------------------------\u001b[0m",
      "\u001b[1;31mValueError\u001b[0m                                Traceback (most recent call last)",
      "\u001b[1;32m<ipython-input-5-6dfd7306e4fa>\u001b[0m in \u001b[0;36m<module>\u001b[1;34m\u001b[0m\n\u001b[0;32m      2\u001b[0m \u001b[0mv\u001b[0m \u001b[1;33m=\u001b[0m \u001b[0mnp\u001b[0m\u001b[1;33m.\u001b[0m\u001b[0mzeros\u001b[0m\u001b[1;33m(\u001b[0m\u001b[1;36m10\u001b[0m\u001b[1;33m,\u001b[0m \u001b[0mdtype\u001b[0m\u001b[1;33m=\u001b[0m\u001b[0mnp\u001b[0m\u001b[1;33m.\u001b[0m\u001b[0mint\u001b[0m\u001b[1;33m)\u001b[0m\u001b[1;33m\u001b[0m\u001b[1;33m\u001b[0m\u001b[0m\n\u001b[0;32m      3\u001b[0m \u001b[0mprint\u001b[0m\u001b[1;33m(\u001b[0m\u001b[0mu\u001b[0m \u001b[1;33m+\u001b[0m \u001b[0mv\u001b[0m\u001b[1;33m)\u001b[0m \u001b[1;31m# Implicitamente se hace una conversión de tipo de int64 a float64\u001b[0m\u001b[1;33m\u001b[0m\u001b[1;33m\u001b[0m\u001b[0m\n\u001b[1;32m----> 4\u001b[1;33m \u001b[0mprint\u001b[0m\u001b[1;33m(\u001b[0m\u001b[0mu\u001b[0m \u001b[1;33m+\u001b[0m \u001b[0mw\u001b[0m\u001b[1;33m)\u001b[0m \u001b[1;31m# ERROR: ¡Los vectores no tienen el mismo tamaño!\u001b[0m\u001b[1;33m\u001b[0m\u001b[1;33m\u001b[0m\u001b[0m\n\u001b[0m",
      "\u001b[1;31mValueError\u001b[0m: operands could not be broadcast together with shapes (10,) (5,) "
     ]
    }
   ],
   "source": [
    "print(len(u))\n",
    "v = np.zeros(10, dtype=np.int)\n",
    "print(u + v) # Implicitamente se hace una conversión de tipo de int64 a float64\n",
    "print(u + w) # ERROR: ¡Los vectores no tienen el mismo tamaño!"
   ]
  },
  {
   "cell_type": "markdown",
   "metadata": {},
   "source": [
    "Una forma más específica de comprobar la dimensión de un vector es usar `u.shape`, que nos devuelve una tupla con las dimensiones del vector:"
   ]
  },
  {
   "cell_type": "code",
   "execution_count": 9,
   "metadata": {},
   "outputs": [
    {
     "name": "stdout",
     "output_type": "stream",
     "text": [
      "(10,)\n"
     ]
    }
   ],
   "source": [
    "print(u.shape)"
   ]
  },
  {
   "cell_type": "markdown",
   "metadata": {},
   "source": [
    "`shape` nos informa sobre el tamaño del vector en *cada* dirección. En el caso de los vectores, solamente hay una única dirección, mentres que en conjuntos de datos con múltiples índices (matrices, o tensores $n$-dimensionales), `shape` nos informaría del tamaño de estas estructuras de datos en cada dirección. Por ejemplo, para crear una matriz de ceros de tipo entero de tamaño $2\\times 3$:"
   ]
  },
  {
   "cell_type": "code",
   "execution_count": 10,
   "metadata": {},
   "outputs": [
    {
     "name": "stdout",
     "output_type": "stream",
     "text": [
      "[[0 0 0]\n",
      " [0 0 0]]\n",
      "(2, 3)\n"
     ]
    }
   ],
   "source": [
    "A =  np.zeros((2,3), dtype=np.int)\n",
    "print(A)\n",
    "print(A.shape)"
   ]
  },
  {
   "cell_type": "markdown",
   "metadata": {},
   "source": [
    "Podemos cambiar las entradas de un vector utilizando la indexación,"
   ]
  },
  {
   "cell_type": "code",
   "execution_count": 11,
   "metadata": {},
   "outputs": [
    {
     "name": "stdout",
     "output_type": "stream",
     "text": [
      "[ 0.  0.  0.  0.  0.  0.  0.  0.  0.  0.]\n",
      "[ 10.    0.    0.   -4.3   0.    0.    0.    0.    0.    1. ]\n"
     ]
    }
   ],
   "source": [
    "print(u)\n",
    "u[0] = 10.0\n",
    "u[3] = -4.3\n",
    "u[9] = 1.0\n",
    "print(u)"
   ]
  },
  {
   "cell_type": "markdown",
   "metadata": {},
   "source": [
    "> **NOTA IMPORTANTE**: Hay que recordar que en Python los valores de los índices empiezan en 0.\n",
    "\n",
    "Evidentemente, existen otras maneras de crear vectores, como, por ejemplo, el uso de la función `ones` para crear un vector que contenga solamente *unos*:"
   ]
  },
  {
   "cell_type": "code",
   "execution_count": 12,
   "metadata": {},
   "outputs": [
    {
     "name": "stdout",
     "output_type": "stream",
     "text": [
      "[ 1.  1.  1.  1.  1.]\n",
      "float64\n"
     ]
    }
   ],
   "source": [
    "w = np.ones(5)\n",
    "print(w)\n",
    "print(w.dtype)"
   ]
  },
  {
   "cell_type": "markdown",
   "metadata": {},
   "source": [
    "o un vector de valores aleatorios:"
   ]
  },
  {
   "cell_type": "code",
   "execution_count": 13,
   "metadata": {},
   "outputs": [
    {
     "name": "stdout",
     "output_type": "stream",
     "text": [
      "[ 0.02920593  0.14178457  0.82590731  0.27716738  0.25108964  0.59544243]\n"
     ]
    }
   ],
   "source": [
    "w = np.random.rand(6)\n",
    "print(w)"
   ]
  },
  {
   "cell_type": "markdown",
   "metadata": {},
   "source": [
    "o también un vector de números de tipo `numpy.array` a partir de una lista Python de números:"
   ]
  },
  {
   "cell_type": "code",
   "execution_count": 14,
   "metadata": {},
   "outputs": [
    {
     "name": "stdout",
     "output_type": "stream",
     "text": [
      "[  4.   8.   9.  11.  -2.]\n"
     ]
    }
   ],
   "source": [
    "u = [4.0, 8.0, 9.0, 11.0, -2.0]\n",
    "v = np.array(u)\n",
    "print(v)"
   ]
  },
  {
   "cell_type": "markdown",
   "metadata": {},
   "source": [
    "Existen otros dos métodos para crear vectores de números que nos serán de utilidad a lo largo del curso (y, en particular, cuando tengamos que pintar funciones con **Matplotlib**):\n",
    "- `numpy.arange` \n",
    "- `numpy.linspace`\n",
    "\n",
    "La función `arange` crea un vector con valores enteros consecutivos (de forma semejante a la función de Python `range`). Por ejemplo, para crear el vector fila $\\vec{u}=(0, 1, 2, 3, 4, 5)$ usando `arange`,"
   ]
  },
  {
   "cell_type": "code",
   "execution_count": 15,
   "metadata": {},
   "outputs": [
    {
     "name": "stdout",
     "output_type": "stream",
     "text": [
      "[0 1 2 3 4 5]\n",
      "<type 'numpy.ndarray'>\n",
      "int64\n"
     ]
    }
   ],
   "source": [
    "u = np.arange(6)\n",
    "print(u)\n",
    "print(type(u))\n",
    "print(u.dtype)"
   ]
  },
  {
   "cell_type": "markdown",
   "metadata": {},
   "source": [
    "Podemos comprobar que el número $6$ no está incluido ya que el rango de valores comienza en $0$ y el vector solamente posee seis elementos. Para cambiar el valor numérico en el que comienza el vector:"
   ]
  },
  {
   "cell_type": "code",
   "execution_count": 16,
   "metadata": {},
   "outputs": [
    {
     "name": "stdout",
     "output_type": "stream",
     "text": [
      "[2 3 4 5]\n"
     ]
    }
   ],
   "source": [
    "u = np.arange(2, 6)\n",
    "print(u)"
   ]
  },
  {
   "cell_type": "markdown",
   "metadata": {},
   "source": [
    "La función `linspace` crea un vector de números equiespaciados con un valor inicial y final (ambos incluidos) y con un tamaño determinado:"
   ]
  },
  {
   "cell_type": "code",
   "execution_count": 17,
   "metadata": {},
   "outputs": [
    {
     "name": "stdout",
     "output_type": "stream",
     "text": [
      "[   0.   20.   40.   60.   80.  100.]\n",
      "float64\n"
     ]
    }
   ],
   "source": [
    "w = np.linspace(0., 100., 6)\n",
    "print(w)\n",
    "print(w.dtype)"
   ]
  },
  {
   "cell_type": "markdown",
   "metadata": {},
   "source": [
    "Esta función `linspace`, junto con la función `meshgrid`, se usará de forma habitual para pintar funciones con **Matplotlib** a lo largo de este curso."
   ]
  },
  {
   "cell_type": "markdown",
   "metadata": {},
   "source": [
    "## Funciones y aritmética sobre vectores\n",
    "\n",
    "Los vectores en **NumPy** soportan las operaciones aritméticas básicas (producto, sumas, restas, *etc.*):"
   ]
  },
  {
   "cell_type": "code",
   "execution_count": 18,
   "metadata": {},
   "outputs": [
    {
     "name": "stdout",
     "output_type": "stream",
     "text": [
      "[ 1.   0.2  1.2]\n",
      "[ 2.   0.1  2.1]\n",
      "[ 3.   0.3  3.3]\n"
     ]
    }
   ],
   "source": [
    "a = np.array([1.0, 0.2, 1.2])\n",
    "b = np.array([2.0, 0.1, 2.1])\n",
    "print(a)\n",
    "print(b)\n",
    "\n",
    "# Suma de a e b\n",
    "c = a + b\n",
    "print(c)"
   ]
  },
  {
   "cell_type": "markdown",
   "metadata": {},
   "source": [
    "y el producto de todos sus elementos por un valor escalar,"
   ]
  },
  {
   "cell_type": "code",
   "execution_count": 19,
   "metadata": {},
   "outputs": [
    {
     "name": "stdout",
     "output_type": "stream",
     "text": [
      "[ 10.   2.  12.]\n"
     ]
    }
   ],
   "source": [
    "c = 10.0*a\n",
    "print(c)"
   ]
  },
  {
   "cell_type": "markdown",
   "metadata": {},
   "source": [
    "y elevar todas sus componentes a una potencia:"
   ]
  },
  {
   "cell_type": "code",
   "execution_count": 20,
   "metadata": {},
   "outputs": [
    {
     "name": "stdout",
     "output_type": "stream",
     "text": [
      "[ 4  9 16]\n"
     ]
    }
   ],
   "source": [
    "a = np.array([2, 3, 4])\n",
    "print(a**2)"
   ]
  },
  {
   "cell_type": "markdown",
   "metadata": {},
   "source": [
    "También se pueden aplicar las funciones de cálculo usual a cada una de sus componentes:"
   ]
  },
  {
   "cell_type": "code",
   "execution_count": 6,
   "metadata": {},
   "outputs": [
    {
     "name": "stdout",
     "output_type": "stream",
     "text": [
      "[0.         1.57079633 3.14159265 4.71238898]\n",
      "[ 0.0000000e+00  1.0000000e+00  1.2246468e-16 -1.0000000e+00]\n"
     ]
    }
   ],
   "source": [
    "# Crear un vector [0, π/2, π, 3π/2]\n",
    "a = np.array([0.0, np.pi/2, np.pi, 3*np.pi/2])\n",
    "print(a)\n",
    "\n",
    "# Calcular el seno de cada componente del vector\n",
    "b = np.sin(a)\n",
    "print(b)"
   ]
  },
  {
   "cell_type": "markdown",
   "metadata": {},
   "source": [
    "El código anterior calcula el seno de cada coeficiente del vector `a`. Debemos remarcar que la función que se está usando es `np.sin`, que depende directamente del módulo **NumPy**. El uso de cualquier otra implementación de la función en otros módulos (por ejemplo, en el módulo **Math**), podría dar lugar a error.\n",
    "\n",
    "Evidentemente, también podríamos calcular el seno de cada coeficiente del vector, accediendo a cada uno de los elementos mediante su índice y haciendo los cálculos en el interior de un bucle `for`:"
   ]
  },
  {
   "cell_type": "code",
   "execution_count": 24,
   "metadata": {},
   "outputs": [
    {
     "name": "stdout",
     "output_type": "stream",
     "text": [
      "[  0.00000000e+00   1.00000000e+00   1.22464680e-16  -1.00000000e+00]\n"
     ]
    }
   ],
   "source": [
    "b = np.zeros(len(a))\n",
    "for i in range(len(a)):\n",
    "    b[i] = np.sin(a[i])\n",
    "\n",
    "print(b)"
   ]
  },
  {
   "cell_type": "markdown",
   "metadata": {},
   "source": [
    "En este caso el programa es más largo y difícil de leer. Además, en muchos casos será más lento. La manipulación de vectores y cualquiera de los cálculos realizados entre ellos sin acceder a los índices suelen conocerse como **vectorización**. Cuando sea posible emplearla, la vectorización incrementará el rendimiento y la velocidad de los códigos de cálculo. En el ejercicio final de este guión, se analizará el rendimiento de este tipo de técnicas."
   ]
  },
  {
   "cell_type": "markdown",
   "metadata": {},
   "source": [
    "## Troceado de vectores\n",
    "\n",
    "Cuando se trabaja con vectores de números, es habitual tener que extraer un subconjunto de estos para crear un nuevo vector. Por ejemplo, obtener los tres primeros coeficientes de un vector o, en el caso de matrices, restringir los cálculos a su segunda columna. Este tipo de operaciones es el que se denomina troceado de vectores (o, en inglés, *array slicing*). \n",
    "\n",
    "Vamos a explorar esto mediante varios ejemplos, trabajando con un vector de valores aleatorios:"
   ]
  },
  {
   "cell_type": "code",
   "execution_count": 6,
   "metadata": {},
   "outputs": [
    {
     "name": "stdout",
     "output_type": "stream",
     "text": [
      "[0.63076568 0.47536652 0.04092676 0.277812   0.82745402]\n",
      "Troceado usando '[:]' [0.63076568 0.47536652 0.04092676 0.277812   0.82745402]\n",
      "Troceado usando '[1:3]': [0.47536652 0.04092676]\n",
      "Troceado usando '[2:-1]': [0.04092676 0.277812  ]\n",
      "Troceado usando '[2:-2]': [0.04092676]\n"
     ]
    }
   ],
   "source": [
    "a = np.random.rand(5)\n",
    "print(a)\n",
    "\n",
    "# Usar ':' implica el conjunto entero en el rango de los índices, es decir, desde 0 hasta (longitud-1)\n",
    "b = a[:]\n",
    "print(\"Troceado usando '[:]' {}\".format(b))\n",
    "\n",
    "# Usar '1:3' implica los índices 1 -> 3 (sin incluir a 3)\n",
    "b = a[1:3]\n",
    "print(\"Troceado usando '[1:3]': {}\".format(b))\n",
    "\n",
    "# Usar '2:-1' implica los índices 2 -> el segundo desde el final (sin incluirlo)\n",
    "b = a[2:-1]\n",
    "print(\"Troceado usando '[2:-1]': {}\".format(b))\n",
    "\n",
    "# Usar '2:-2' implica los índices 2 -> el tercero desde el final (sin incluirlo)\n",
    "b = a[2:-2]\n",
    "print(\"Troceado usando '[2:-2]': {}\".format(b))"
   ]
  },
  {
   "cell_type": "markdown",
   "metadata": {},
   "source": [
    "> **NOTA**: el uso del índice `-1`, se corresponde con el último elemento del vector. Del mismo modo, el índice `-2` corresponde al penúltimo elemento, *etc.*. Este convenio de referenciar índices desde el final de un vector es muy útil, ya que con el uso de estos índices negativos se puede hacer referencia a los últimos coeficientes de un vector sin tener que hacer referencia expresa a su tamaño (o, incluso, sin conocerlo explícitamente)."
   ]
  },
  {
   "cell_type": "markdown",
   "metadata": {},
   "source": [
    "Si lo que se quiere es trocear un vector desde el principio o desde el final del mismo hay que utilizar la sintaxis de índices con '`:`'"
   ]
  },
  {
   "cell_type": "code",
   "execution_count": 8,
   "metadata": {},
   "outputs": [
    {
     "name": "stdout",
     "output_type": "stream",
     "text": [
      "Troceado usando '[:3]': [0.65319139 0.7371771  0.85358493]\n",
      "Troceado usando '[4:]': [0.78166875]\n",
      "Troceado usando '[:]': [0.65319139 0.7371771  0.85358493 0.24875806 0.78166875]\n"
     ]
    }
   ],
   "source": [
    "# Usar ':3' implica usar índices desde el principio hasta 3 (sin incluir el índice 3)\n",
    "b = a[:3]\n",
    "print(\"Troceado usando '[:3]': {}\".format(b))\n",
    "\n",
    "# Usar '4:' implica los índices desde 4 -> hasta el final\n",
    "b = a[4:]\n",
    "print(\"Troceado usando '[4:]': {}\".format(b))\n",
    "\n",
    "# Usar ':' implica todos los índices desde el comienzo hasta el final\n",
    "b = a[:]\n",
    "print(\"Troceado usando '[:]': {}\".format(b))"
   ]
  },
  {
   "cell_type": "markdown",
   "metadata": {},
   "source": [
    "El troceado también se puede aplicar a matrices:"
   ]
  },
  {
   "cell_type": "code",
   "execution_count": 9,
   "metadata": {},
   "outputs": [
    {
     "name": "stdout",
     "output_type": "stream",
     "text": [
      "[[1.3 0. ]\n",
      " [0.  2. ]]\n",
      "[0. 2.]\n",
      "[1.3 0. ]\n"
     ]
    }
   ],
   "source": [
    "B = np.array([[1.3, 0], [0, 2.0]])\n",
    "print(B)\n",
    "\n",
    "# Extraer la segunda fila\n",
    "row = B[1, :]\n",
    "print(row)\n",
    "\n",
    "# Extraer la primera columna (almacenada en un vector fila)\n",
    "col = B[:, 0] \n",
    "print(col)"
   ]
  },
  {
   "cell_type": "markdown",
   "metadata": {},
   "source": [
    "Existen muchas otras estrategias y sintaxis relacionada con el troceado de vectores, que quedan fuera del alcance de esta introdución breve a **NumPy**. Para una información más detallada, se puede consultar: https://docs.scipy.org/doc/numpy/reference/arrays.indexing.html"
   ]
  },
  {
   "cell_type": "markdown",
   "metadata": {},
   "source": [
    "## Ejercicio: aceleración con NumPy en el cálculo de normas de vectores\n",
    "\n",
    "La norma euclídea (o *módulo*) de un vector $\\vec{x}=(x_{0},\\ldots,x_{n-1})\\in\\mathbb{R}^{n}$ viene dada por \n",
    "\n",
    "$$\n",
    "\\| x \\| = \\sqrt{\\sum_{i=0}^{n-1} x_{i} x_{i}},\n",
    "$$\n",
    "\n",
    "donde $x_{i}$ es el $i$-ésimo coeficiente de $\\vec{x}$. En resumen, su norma no es más que el cálculo del producto interior del vector por sí mismo, seguido por el cálculo de una raíz cuadrada. Para calcular el valor de la norma se pueden seguir diferentes estrategias: la primera de ellas puede ser usar un bucle para recorrer todos los coeficientes del vector y sumar el cuadrado de cada coeficiente, luego tomar la suma de todas estas cantidades y calcular su raíz cadrada.\n",
    "\n",
    "Para evaluar el rendimiento computacional de esta implementación, vamos a coger un vector moderadamente grande (10 millones) y vamos a calcular el tiempo de cáculo:"
   ]
  },
  {
   "cell_type": "code",
   "execution_count": 8,
   "metadata": {},
   "outputs": [
    {
     "name": "stdout",
     "output_type": "stream",
     "text": [
      "<class 'numpy.ndarray'>\n"
     ]
    }
   ],
   "source": [
    "# Crear un vector NumPy con 10 millones de valores aleatorios\n",
    "x = np.random.rand(10000000)\n",
    "print(type(x))"
   ]
  },
  {
   "cell_type": "code",
   "execution_count": 9,
   "metadata": {},
   "outputs": [
    {
     "name": "stdout",
     "output_type": "stream",
     "text": [
      "Wall time: 3.84 s\n",
      "1825.756466436551\n"
     ]
    }
   ],
   "source": [
    "def compute_norm(x):\n",
    "    norm = 0.0\n",
    "    for xi in x:\n",
    "        norm += xi*xi\n",
    "    return np.sqrt(norm)\n",
    "\n",
    "%time norm = compute_norm(x)\n",
    "print(norm)"
   ]
  },
  {
   "cell_type": "markdown",
   "metadata": {},
   "source": [
    "El tiempo de cálculo que nos interesa es el que aparece bajo la etiqueta '`Wall time`'.\n",
    "\n",
    "> **NOTA**: Los detalle de como la etiqueta `%time` trabaja en este guión no son de importancia en este curso. Debemos indicar que esta forma de proceder es únicamente válida para consolas o ficheiros que se ejecuten bajo [I]Python y entornos de servidores Jupyter. Esta forma de trabajar es muy compacta y conveniente para medir el tiempo que se requiere para completar la ejecución de una línea de código."
   ]
  },
  {
   "cell_type": "markdown",
   "metadata": {},
   "source": [
    "**Ejercicio 1:** \n",
    "Usando la misma implementación basada en un bucle, accede a cada elemento del vector por su índice, comenzando desde el primero hasta el último. Haz lo mismo con un bucle que acceda en orde inverso, desde el último hasta el primero."
   ]
  },
  {
   "cell_type": "code",
   "execution_count": 31,
   "metadata": {},
   "outputs": [],
   "source": [
    "# ESCRIBE AQUÍ TU CÓDIGO\n"
   ]
  },
  {
   "cell_type": "markdown",
   "metadata": {},
   "source": [
    "**Ejercicio 2:** \n",
    "Trata de emplear funciones **NumPy** para definir una función que evite el bucle sobre los coeficientes del vector y que no acceda elemento a elemento al mismo (es decir, haz una versión vectorizada del cálculo de la norma euclídea)."
   ]
  },
  {
   "cell_type": "code",
   "execution_count": 32,
   "metadata": {},
   "outputs": [],
   "source": [
    "# ESCRIBE AQUÍ TU CÓDIGO\n"
   ]
  },
  {
   "cell_type": "markdown",
   "metadata": {},
   "source": [
    "**Ejercicio 3:** \n",
    "Compara los tiempos de cálculo de las cuatro implementaciones para diferentes dimensiones del vector $\\vec{x}$, de tamaños $10$, $10^3$, $10^5$, $10^7$. A partir de estos tiempos de cálculo: ¿qué se puede deducir como conclusión?"
   ]
  },
  {
   "cell_type": "code",
   "execution_count": 33,
   "metadata": {},
   "outputs": [],
   "source": [
    "# ESCRIBE AQUÍ TU CÓDIGO\n"
   ]
  }
 ],
 "metadata": {
  "kernelspec": {
   "display_name": "Python 3.10.8 64-bit (microsoft store)",
   "language": "python",
   "name": "python3"
  },
  "language_info": {
   "codemirror_mode": {
    "name": "ipython",
    "version": 3
   },
   "file_extension": ".py",
   "mimetype": "text/x-python",
   "name": "python",
   "nbconvert_exporter": "python",
   "pygments_lexer": "ipython3",
   "version": "3.10.8"
  },
  "vscode": {
   "interpreter": {
    "hash": "f2c0f1c90395c109e1b87b1f4d6d2ea9e1b09c8587e65b0565fcfbe20df05a54"
   }
  }
 },
 "nbformat": 4,
 "nbformat_minor": 4
}