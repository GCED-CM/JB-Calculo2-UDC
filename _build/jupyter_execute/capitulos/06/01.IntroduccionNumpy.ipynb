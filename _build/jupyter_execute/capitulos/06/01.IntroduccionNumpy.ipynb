{
 "cells": [
  {
   "cell_type": "markdown",
   "metadata": {},
   "source": [
    "# Introducción\n",
    "\n",
    "O traballo con números é unha das cuestións comúns e centais en calquere disciplina científica e en particular en enxeñaría de datos. Debido á súa importancia existen unha gran cantidade de librarías dedicadas á implementación de métodos eficientes para manipular números e funcións. Incluso existen linguaxes e entornos de programación especialmente deseñados para este propósito, tales como a linguaxe Fortran ou Matlab/Octave.\n",
    "\n",
    "Para a linguaxe Python, que será  a que usaremos no presente curso de *Cálculo Multivariable*, a libraría **NumPy** (http://www.numpy.org/) é a máis amplamente usada para cálculos numéricos.  Esta librería usar un amplo abano de estruturas de datos e funcións para os cálculos numéricos. Neste guión de prácticas, revisaranse algunhas destas funcionalidades. \n",
    "\n",
    "**NumPy** é unha librería enorme e ten funcionalidades moi extensas. Este guión de prácticas soamente reprensenta unha introducción moi breve. Para descrubrir máis funcionalidades e como utilizala con moitos outros propósitos, a mellor fonte de información en liña son os buscadores, e en particular a comunidade http://stackoverflow.com/.\n",
    "\n",
    "Para empregar directamente este guión de prácticas dende unha instalación de Python con *Anaconda*, basta con facer clic na aplicación 'Jupyter notebook' que xa está instalada por defecto (para máis detalles: https://jupyter-notebook-beginner-guide.readthedocs.io/en/latest/execute.html).\n",
    "\n",
    "\n",
    "## Obxectivos\n",
    "\n",
    "- Traballar con obxectos e métodos\n",
    "- Introduccion aos vectores unidimensionais de números (`numpy.array`) \n",
    "- Aplicar operacións numéricas elementais\n",
    "- Manipulación de vectores numéricos (indexado, troceado, etc)\n",
    "- Exercicio: eficiencia de **Numpy** en funcións vectorizadas e non vectorizadas"
   ]
  },
  {
   "cell_type": "markdown",
   "metadata": {},
   "source": [
    "# Importar o módulo **NumPy**\n",
    "\n",
    "Para ter dispoñible **NumPy** no código, débese primeiro importar o seu módulo. Para facer isto, fíxose unha costume moi extendida, importar **Numpy** usando o atallo '`np`': "
   ]
  },
  {
   "cell_type": "code",
   "execution_count": 3,
   "metadata": {},
   "outputs": [],
   "source": [
    "import numpy as np"
   ]
  },
  {
   "cell_type": "markdown",
   "metadata": {},
   "source": [
    "# Programación orientada a obxectos\n",
    "\n",
    "Como todos os módulos de Python, a libraría **Numpy** está implementada seguindo unha estratexía de programación orientada a obxectos. Polo tanto, calquera estrutura de datos en Python, incluso a máis simple, débese entender como un obxecto que pertence a unha clase, e todas as operaciós que podemos facer con estes obxectos, son métodos implementados sobre esa clase de obxectos. Incluso un número, é un obxecto dunha clase:"
   ]
  },
  {
   "cell_type": "code",
   "execution_count": 4,
   "metadata": {},
   "outputs": [
    {
     "name": "stdout",
     "output_type": "stream",
     "text": [
      "3.3\n",
      "<class 'float'>\n"
     ]
    },
    {
     "data": {
      "text/plain": [
       "True"
      ]
     },
     "execution_count": 4,
     "metadata": {},
     "output_type": "execute_result"
    }
   ],
   "source": [
    "a = 3.3\n",
    "print(a)\n",
    "print(type(a))\n",
    "isinstance(a,float)"
   ]
  },
  {
   "cell_type": "markdown",
   "metadata": {},
   "source": [
    "Para comprobar os atributos e os métodos que podemos aplicar sobre un obxecto en particular, podemos empregar a función `dir()`, que nos devolve unha lista cos seus nomes. Como se pode ver na lista, podemos distinguir dos tipos de atributos e métodos: aqueles que van co prefixo e sufixo `__*__` e aqueles que non. Os do primeiro tipo, denóminanse **privados** e habitualmente fan referencia aos cálculos máis básicos que se poden realizar dentro da clase á que pertence o obxecto."
   ]
  },
  {
   "cell_type": "code",
   "execution_count": 3,
   "metadata": {},
   "outputs": [
    {
     "data": {
      "text/plain": [
       "['__abs__',\n",
       " '__add__',\n",
       " '__class__',\n",
       " '__coerce__',\n",
       " '__delattr__',\n",
       " '__div__',\n",
       " '__divmod__',\n",
       " '__doc__',\n",
       " '__eq__',\n",
       " '__float__',\n",
       " '__floordiv__',\n",
       " '__format__',\n",
       " '__ge__',\n",
       " '__getattribute__',\n",
       " '__getformat__',\n",
       " '__getnewargs__',\n",
       " '__gt__',\n",
       " '__hash__',\n",
       " '__init__',\n",
       " '__int__',\n",
       " '__le__',\n",
       " '__long__',\n",
       " '__lt__',\n",
       " '__mod__',\n",
       " '__mul__',\n",
       " '__ne__',\n",
       " '__neg__',\n",
       " '__new__',\n",
       " '__nonzero__',\n",
       " '__pos__',\n",
       " '__pow__',\n",
       " '__radd__',\n",
       " '__rdiv__',\n",
       " '__rdivmod__',\n",
       " '__reduce__',\n",
       " '__reduce_ex__',\n",
       " '__repr__',\n",
       " '__rfloordiv__',\n",
       " '__rmod__',\n",
       " '__rmul__',\n",
       " '__rpow__',\n",
       " '__rsub__',\n",
       " '__rtruediv__',\n",
       " '__setattr__',\n",
       " '__setformat__',\n",
       " '__sizeof__',\n",
       " '__str__',\n",
       " '__sub__',\n",
       " '__subclasshook__',\n",
       " '__truediv__',\n",
       " '__trunc__',\n",
       " 'as_integer_ratio',\n",
       " 'conjugate',\n",
       " 'fromhex',\n",
       " 'hex',\n",
       " 'imag',\n",
       " 'is_integer',\n",
       " 'real']"
      ]
     },
     "execution_count": 3,
     "metadata": {},
     "output_type": "execute_result"
    }
   ],
   "source": [
    "dir(a)"
   ]
  },
  {
   "cell_type": "markdown",
   "metadata": {},
   "source": [
    "Por exemplo, podemos comprobar un número real é maior que outro de dous xeitos diferentes: usando o operador lóxico `>` ou ben usando o seu método privado `__ge__`: "
   ]
  },
  {
   "cell_type": "code",
   "execution_count": 5,
   "metadata": {},
   "outputs": [
    {
     "name": "stdout",
     "output_type": "stream",
     "text": [
      "True\n",
      "True\n"
     ]
    }
   ],
   "source": [
    "a=6.4; b=5.3\n",
    "print(a.__gt__(b))\n",
    "print(a > b)"
   ]
  },
  {
   "cell_type": "markdown",
   "metadata": {},
   "source": [
    "En calquera caso, en Python tanto os métodos privados como públicos empréganse do mesmo xeito. Por exemplo:"
   ]
  },
  {
   "cell_type": "code",
   "execution_count": 5,
   "metadata": {},
   "outputs": [
    {
     "name": "stdout",
     "output_type": "stream",
     "text": [
      "False\n",
      "3\n",
      "3\n"
     ]
    }
   ],
   "source": [
    "a=3.4\n",
    "print(a.is_integer())\n",
    "print(a.__int__())\n",
    "print(np.int(a))"
   ]
  },
  {
   "cell_type": "markdown",
   "metadata": {},
   "source": [
    "> ** NOTA **: Neste curso non imos a traballar nin será necesario a implementación de código usando unha programación orientada ao obxecto. Pero o que si será necesario será tomar consciencia de cando se usan obxectos de diferentes clases e que atributos e métodos teñen definidos en cada caso"
   ]
  },
  {
   "cell_type": "markdown",
   "metadata": {},
   "source": [
    "# Vectores de números\n",
    "\n",
    "En Python existen multitude de formas de gardar datos numéricos (ou non) como poden ser a estrutura lista ou tupla. En particular, as listas poden conter unha secuencia finita de números ordeados (e usando un índice para acceder a cada un dos elementos da lista). Ademais, son o suficiente flexibles como para conter datos de diferente natureza (combinacións de números enteiros, reais, listas de listas, etc).\n",
    "\n",
    "Pero esta flexibilidade das listas en Python fai que a seu rendemento computacional sexa moi limitado. Na maioría de apliacións científicas en matemáticas e enxeñaría de datos, os problemas reais involucran operacións sobre enormes conxuntos de datos e polo tanto a velocidade computacional é moi importante para estos grandes problemas. Para traballar de forma eficiente con estos problemas, **Numpy** proporciona funcións especializadas e estruturas de datos para o cálculo numérico eficiente. En particular, para o caso de arranxos de números dun mesmo tipo (perdendo parte da flexibilidade das listas pero gañando eficiencia computacional)."
   ]
  },
  {
   "cell_type": "markdown",
   "metadata": {},
   "source": [
    "## Vectores unidimensionais\n",
    "\n",
    "Un vector unidimensional é unha colección ordeada de números que se pode acceder mediante un índice (co que se preserva a orde). Por defecto, os vectores en **Numpy** son vectores fila."
   ]
  },
  {
   "cell_type": "markdown",
   "metadata": {},
   "source": [
    "### Creación de vectores e indexado \n",
    "\n",
    "Para crear un vector **Numpy** de lonxitude 10 e inicializado con ceros, empregaríase a función `np.zeros()`:"
   ]
  },
  {
   "cell_type": "code",
   "execution_count": 6,
   "metadata": {},
   "outputs": [
    {
     "name": "stdout",
     "output_type": "stream",
     "text": [
      "[ 0.  0.  0.  0.  0.  0.  0.  0.  0.  0.]\n",
      "<type 'numpy.ndarray'>\n"
     ]
    }
   ],
   "source": [
    "u = np.zeros(10)\n",
    "print(u)\n",
    "print(type(u))"
   ]
  },
  {
   "cell_type": "markdown",
   "metadata": {},
   "source": [
    "O tipo por defecto dos número que conteñen os vectores en **Numpy** é `float64` (que é o tipo gardado en `np.float`). De querer usar outros tipos, habería que empregar o argumento opcional `dtype`. O tipo dos números que contén un vector pódese comprobar accedendo ao atributo `dtype` dos vectores **Numpy**:"
   ]
  },
  {
   "cell_type": "code",
   "execution_count": 7,
   "metadata": {},
   "outputs": [
    {
     "name": "stdout",
     "output_type": "stream",
     "text": [
      "float64\n",
      "[0 0 0 0 0]\n",
      "<type 'numpy.ndarray'>\n",
      "int64\n"
     ]
    }
   ],
   "source": [
    "print(u.dtype)\n",
    "w = np.zeros(5, dtype=np.int)\n",
    "print(w)\n",
    "print(type(w))\n",
    "print(w.dtype)"
   ]
  },
  {
   "cell_type": "markdown",
   "metadata": {},
   "source": [
    "O que non é posible por exemplo é engadir un valor cadea de texto (de tipo `string`) a un obxecto `numpy.ndarray`, xa que todas os elementos do vector deben ser do mesmo tipo (ou dun tipo que admita unha conversión) e deben ter tamén o mesmo tamaño. Para comprobar o tamaño dun vector, pódese usar a función `len`:"
   ]
  },
  {
   "cell_type": "code",
   "execution_count": 8,
   "metadata": {},
   "outputs": [
    {
     "name": "stdout",
     "output_type": "stream",
     "text": [
      "10\n",
      "[ 0.  0.  0.  0.  0.  0.  0.  0.  0.  0.]\n"
     ]
    },
    {
     "ename": "ValueError",
     "evalue": "operands could not be broadcast together with shapes (10,) (5,) ",
     "output_type": "error",
     "traceback": [
      "\u001b[0;31m---------------------------------------------------------------------------\u001b[0m",
      "\u001b[0;31mValueError\u001b[0m                                Traceback (most recent call last)",
      "\u001b[0;32m<ipython-input-8-14ecbb311c92>\u001b[0m in \u001b[0;36m<module>\u001b[0;34m()\u001b[0m\n\u001b[1;32m      2\u001b[0m \u001b[0mv\u001b[0m \u001b[0;34m=\u001b[0m \u001b[0mnp\u001b[0m\u001b[0;34m.\u001b[0m\u001b[0mzeros\u001b[0m\u001b[0;34m(\u001b[0m\u001b[0;36m10\u001b[0m\u001b[0;34m,\u001b[0m \u001b[0mdtype\u001b[0m\u001b[0;34m=\u001b[0m\u001b[0mnp\u001b[0m\u001b[0;34m.\u001b[0m\u001b[0mint\u001b[0m\u001b[0;34m)\u001b[0m\u001b[0;34m\u001b[0m\u001b[0m\n\u001b[1;32m      3\u001b[0m \u001b[0;32mprint\u001b[0m\u001b[0;34m(\u001b[0m\u001b[0mu\u001b[0m \u001b[0;34m+\u001b[0m \u001b[0mv\u001b[0m\u001b[0;34m)\u001b[0m \u001b[0;31m# Implicitamente faise unha conversión de tipo de int64 a float64\u001b[0m\u001b[0;34m\u001b[0m\u001b[0m\n\u001b[0;32m----> 4\u001b[0;31m \u001b[0;32mprint\u001b[0m\u001b[0;34m(\u001b[0m\u001b[0mu\u001b[0m \u001b[0;34m+\u001b[0m \u001b[0mw\u001b[0m\u001b[0;34m)\u001b[0m \u001b[0;31m# ERRO: Os vectores non teñen o mesmo tamaño!\u001b[0m\u001b[0;34m\u001b[0m\u001b[0m\n\u001b[0m",
      "\u001b[0;31mValueError\u001b[0m: operands could not be broadcast together with shapes (10,) (5,) "
     ]
    }
   ],
   "source": [
    "print(len(u))\n",
    "v = np.zeros(10, dtype=np.int)\n",
    "print(u + v) # Implicitamente faise unha conversión de tipo de int64 a float64\n",
    "print(u + w) # ERRO: Os vectores non teñen o mesmo tamaño!"
   ]
  },
  {
   "cell_type": "markdown",
   "metadata": {},
   "source": [
    "Unha forma máis específica de comprobar a dimensión dun vector é usar `u.shape`, que nos devolve unha tupla coas dimensións do vector:"
   ]
  },
  {
   "cell_type": "code",
   "execution_count": 9,
   "metadata": {},
   "outputs": [
    {
     "name": "stdout",
     "output_type": "stream",
     "text": [
      "(10,)\n"
     ]
    }
   ],
   "source": [
    "print(u.shape)"
   ]
  },
  {
   "cell_type": "markdown",
   "metadata": {},
   "source": [
    "`shape` nos informa sobre o tamaño do vector en *cada* dirección. No caso dos vectores, soamente hai unha única dirección, mentres que en conxuntos de datos con múltiples índices (matrices, ou tensores $n$-dimensionais) `shape` nos informaría do tamaño destas estrutura de datos en cada dirección. Por exemplo, para crear unha matriz de ceros de tipo enteiro de tamaño $2\\times 3$:"
   ]
  },
  {
   "cell_type": "code",
   "execution_count": 10,
   "metadata": {},
   "outputs": [
    {
     "name": "stdout",
     "output_type": "stream",
     "text": [
      "[[0 0 0]\n",
      " [0 0 0]]\n",
      "(2, 3)\n"
     ]
    }
   ],
   "source": [
    "A =  np.zeros((2,3), dtype=np.int)\n",
    "print(A)\n",
    "print(A.shape)"
   ]
  },
  {
   "cell_type": "markdown",
   "metadata": {},
   "source": [
    "We can change the entries of an array using indexing,"
   ]
  },
  {
   "cell_type": "code",
   "execution_count": 11,
   "metadata": {},
   "outputs": [
    {
     "name": "stdout",
     "output_type": "stream",
     "text": [
      "[ 0.  0.  0.  0.  0.  0.  0.  0.  0.  0.]\n",
      "[ 10.    0.    0.   -4.3   0.    0.    0.    0.    0.    1. ]\n"
     ]
    }
   ],
   "source": [
    "print(u)\n",
    "u[0] = 10.0\n",
    "u[3] = -4.3\n",
    "u[9] = 1.0\n",
    "print(u)"
   ]
  },
  {
   "cell_type": "markdown",
   "metadata": {},
   "source": [
    "> **NOTA IMPORTANTE **: Hai que lembrar que os valores dos índices comezan en cero!\n",
    "\n",
    "Evidentemente, existen outras maneiras de crear vectores, como por exemplo o uso da función `ones` para crear un vector que contén soamente 'uns':"
   ]
  },
  {
   "cell_type": "code",
   "execution_count": 12,
   "metadata": {},
   "outputs": [
    {
     "name": "stdout",
     "output_type": "stream",
     "text": [
      "[ 1.  1.  1.  1.  1.]\n",
      "float64\n"
     ]
    }
   ],
   "source": [
    "w = np.ones(5)\n",
    "print(w)\n",
    "print(w.dtype)"
   ]
  },
  {
   "cell_type": "markdown",
   "metadata": {},
   "source": [
    "ou un vector de valores aleatorios:"
   ]
  },
  {
   "cell_type": "code",
   "execution_count": 13,
   "metadata": {},
   "outputs": [
    {
     "name": "stdout",
     "output_type": "stream",
     "text": [
      "[ 0.02920593  0.14178457  0.82590731  0.27716738  0.25108964  0.59544243]\n"
     ]
    }
   ],
   "source": [
    "w = np.random.rand(6)\n",
    "print(w)"
   ]
  },
  {
   "cell_type": "markdown",
   "metadata": {},
   "source": [
    "ou tamént un vector de números de tipo `numpy.array` a partir dunha lista Python de números:"
   ]
  },
  {
   "cell_type": "code",
   "execution_count": 14,
   "metadata": {},
   "outputs": [
    {
     "name": "stdout",
     "output_type": "stream",
     "text": [
      "[  4.   8.   9.  11.  -2.]\n"
     ]
    }
   ],
   "source": [
    "u = [4.0, 8.0, 9.0, 11.0, -2.0]\n",
    "v = np.array(u)\n",
    "print(v)"
   ]
  },
  {
   "cell_type": "markdown",
   "metadata": {},
   "source": [
    "Existen outros dous métodos para crear vectores de números que nos serán de utilidade ao longo do curso (e en particular cando teñamos que pintar funcións nunha ou en varias variables):\n",
    "- `numpy.arange` \n",
    "- `numpy.linspace`\n",
    "\n",
    "A función `arange` crea un vector con valores enteiros consecutivos (de forma semellante á función de Python `range`). Para crear o vector fila $\\vec{u}=(0, 1, 2, 3, 4, 5)$ usando `arange`:"
   ]
  },
  {
   "cell_type": "code",
   "execution_count": 15,
   "metadata": {},
   "outputs": [
    {
     "name": "stdout",
     "output_type": "stream",
     "text": [
      "[0 1 2 3 4 5]\n",
      "<type 'numpy.ndarray'>\n",
      "int64\n"
     ]
    }
   ],
   "source": [
    "u = np.arange(6)\n",
    "print(u)\n",
    "print(type(u))\n",
    "print(u.dtype)"
   ]
  },
  {
   "cell_type": "markdown",
   "metadata": {},
   "source": [
    "Podemos comprobar que o número $6$ non está incluido xa que o rango de valores comeza en $0$ e o vector soamente posúe seis elementos. Para cambiar o valor numérico no que comeza o vector:"
   ]
  },
  {
   "cell_type": "code",
   "execution_count": 16,
   "metadata": {},
   "outputs": [
    {
     "name": "stdout",
     "output_type": "stream",
     "text": [
      "[2 3 4 5]\n"
     ]
    }
   ],
   "source": [
    "u = np.arange(2, 6)\n",
    "print(u)"
   ]
  },
  {
   "cell_type": "markdown",
   "metadata": {},
   "source": [
    "A función `linspace` crea un vector de números equiespaciados cun un valor inicial e final (ambos incluídos) e cun tamaño determinado:"
   ]
  },
  {
   "cell_type": "code",
   "execution_count": 17,
   "metadata": {},
   "outputs": [
    {
     "name": "stdout",
     "output_type": "stream",
     "text": [
      "[   0.   20.   40.   60.   80.  100.]\n",
      "float64\n"
     ]
    }
   ],
   "source": [
    "w = np.linspace(0., 100., 6)\n",
    "print(w)\n",
    "print(w.dtype)"
   ]
  },
  {
   "cell_type": "markdown",
   "metadata": {},
   "source": [
    "Esta función `linspace` xunto coa función `meshgrid` usarase de forma extensiva para pintar funcións de unha e de varias variables ao longo deste curso."
   ]
  },
  {
   "cell_type": "markdown",
   "metadata": {},
   "source": [
    "### Funcións e aritmética sobre vectores\n",
    "\n",
    "Os vectores en **NumPy** soportan as operacións aritmética básica tales como o produto, sumas e restas:"
   ]
  },
  {
   "cell_type": "code",
   "execution_count": 18,
   "metadata": {},
   "outputs": [
    {
     "name": "stdout",
     "output_type": "stream",
     "text": [
      "[ 1.   0.2  1.2]\n",
      "[ 2.   0.1  2.1]\n",
      "[ 3.   0.3  3.3]\n"
     ]
    }
   ],
   "source": [
    "a = np.array([1.0, 0.2, 1.2])\n",
    "b = np.array([2.0, 0.1, 2.1])\n",
    "print(a)\n",
    "print(b)\n",
    "\n",
    "# Suma de a e b\n",
    "c = a + b\n",
    "print(c)"
   ]
  },
  {
   "cell_type": "markdown",
   "metadata": {},
   "source": [
    "e no caso do producto dos seus elementos por un valor escalar,"
   ]
  },
  {
   "cell_type": "code",
   "execution_count": 19,
   "metadata": {},
   "outputs": [
    {
     "name": "stdout",
     "output_type": "stream",
     "text": [
      "[ 10.   2.  12.]\n"
     ]
    }
   ],
   "source": [
    "c = 10.0*a\n",
    "print(c)"
   ]
  },
  {
   "cell_type": "markdown",
   "metadata": {},
   "source": [
    "e elevar as súas compoñentes a unha potencia:"
   ]
  },
  {
   "cell_type": "code",
   "execution_count": 20,
   "metadata": {},
   "outputs": [
    {
     "name": "stdout",
     "output_type": "stream",
     "text": [
      "[ 4  9 16]\n"
     ]
    }
   ],
   "source": [
    "a = np.array([2, 3, 4])\n",
    "print(a**2)"
   ]
  },
  {
   "cell_type": "markdown",
   "metadata": {},
   "source": [
    "Tamén se poden aplicar as funcións de cálculo usual a cada unha das súas compoñentes:"
   ]
  },
  {
   "cell_type": "code",
   "execution_count": 21,
   "metadata": {},
   "outputs": [
    {
     "name": "stdout",
     "output_type": "stream",
     "text": [
      "[ 0.          1.57079633  3.14159265  4.71238898]\n",
      "[  0.00000000e+00   1.00000000e+00   1.22464680e-16  -1.00000000e+00]\n"
     ]
    }
   ],
   "source": [
    "# Crear un vector [0, π/2, π, 3π/2]\n",
    "a = np.array([0.0, np.pi/2, np.pi, 3*np.pi/2])\n",
    "print(a)\n",
    "\n",
    "# Calcular o seno de cada compoñente do vector\n",
    "b = np.sin(a)\n",
    "print(b)"
   ]
  },
  {
   "cell_type": "markdown",
   "metadata": {},
   "source": [
    "O anteior código calcula o seno de cada coeficiente do vector `a`. Debemos remarcar que a función que se está a usar é `np.sin`, que depende directamente do módulo **Numpy**. O uso de calquera outra implementación da función noutros módulos (por exemplo no módulo **Math**), podería dar lugar a erro."
   ]
  },
  {
   "cell_type": "markdown",
   "metadata": {},
   "source": [
    "Evidentemente, tamén poderíamos calcular o seno de cada coeficiente do vector, accedendo a cada un dos elementos mediante o seu índice e facendo os cálculos no interior dun bucle `for`:"
   ]
  },
  {
   "cell_type": "code",
   "execution_count": 24,
   "metadata": {},
   "outputs": [
    {
     "name": "stdout",
     "output_type": "stream",
     "text": [
      "[  0.00000000e+00   1.00000000e+00   1.22464680e-16  -1.00000000e+00]\n"
     ]
    }
   ],
   "source": [
    "b = np.zeros(len(a))\n",
    "for i in range(len(a)):\n",
    "    b[i] = np.sin(a[i])\n",
    "\n",
    "print(b)"
   ]
  },
  {
   "cell_type": "markdown",
   "metadata": {},
   "source": [
    "Neste caso o programa é máis longo e difícil de ler. Ademais, en moitos casos será máis lento. Á manipulación de vectores e calquera dos cálculos realizados entre eles sen acceder aos índices nos referiremos como 'vectorización'. Cando sexa posible, empregar vectorización incrementará o rendemento e velocidade dos códigos de cálculo. No exercicio final deste guión, analizarase o rendemento deste tipo de técnicas."
   ]
  },
  {
   "cell_type": "markdown",
   "metadata": {},
   "source": [
    "# Troceado de vectores\n",
    "\n",
    "Cando se traballa con vectores de números, é habitual ter que extraer un subconxunto destes para crear un novo vector. Por exemplo, obter os tres primeiros coeficientes dun vector ou no caso de matrices, restrinxir os cálculos á súa segunda columna. Este tipo de operacións é o que se denomina troceado de vectores (ou en inglés *array slicing*). \n",
    "\n",
    "Imos a explorar isto mediante varios exemplos, comezando por traballar cun vector de valores aleatorios:"
   ]
  },
  {
   "cell_type": "code",
   "execution_count": 25,
   "metadata": {},
   "outputs": [
    {
     "name": "stdout",
     "output_type": "stream",
     "text": [
      "[ 0.44655442  0.97251814  0.63498149  0.31135886  0.77509646]\n"
     ]
    }
   ],
   "source": [
    "a = np.random.rand(5)\n",
    "print(a)"
   ]
  },
  {
   "cell_type": "markdown",
   "metadata": {},
   "source": [
    "No que segue, imos a facer varias operacións de troceado:"
   ]
  },
  {
   "cell_type": "code",
   "execution_count": 26,
   "metadata": {},
   "outputs": [
    {
     "name": "stdout",
     "output_type": "stream",
     "text": [
      "Troceado usando '[:]' [ 0.44655442  0.97251814  0.63498149  0.31135886  0.77509646]\n",
      "Troceado usando '[1:3]': [ 0.97251814  0.63498149]\n",
      "Troceado usando '[2:-1]': [ 0.63498149  0.31135886]\n",
      "Troceado usando '[2:-2]': [ 0.63498149]\n"
     ]
    }
   ],
   "source": [
    "# Usar ':' implica o conxunto enterio no rango dos índices, é dicir, dende 0 ata (lonxitude-1)\n",
    "b = a[:]\n",
    "print(\"Troceado usando '[:]' {}\".format(b))\n",
    "\n",
    "# Usar '1:3' implica os índices 1 -> 3 (sen incluir a 3)\n",
    "b = a[1:3]\n",
    "print(\"Troceado usando '[1:3]': {}\".format(b))\n",
    "\n",
    "# Usar '2:-1' implica os índices 2 -> o segundo dende o final (sen incluílo)\n",
    "b = a[2:-1]\n",
    "print(\"Troceado usando '[2:-1]': {}\".format(b))\n",
    "\n",
    "# Usar '2:-2' implica os índices 2 -> o terceiro dende o final (sen incluílo)\n",
    "b = a[2:-2]\n",
    "print(\"Troceado usando '[2:-2]': {}\".format(b))"
   ]
  },
  {
   "cell_type": "markdown",
   "metadata": {},
   "source": [
    "> **NOTA**: o uso de índice `-1`, correspóndese co último elemento do vector. Do mesmo xeito, o índice `-2` está vinculado ao segundo elemento comezando polo final, etc. Este convenio de referenciar índices dende o final dun vector é moi útil xa co uso destes índices negativos, pódese facer referencia aos últimos coeficientes dun vector sen ter que facer referencia expresa ao tamaño do vector."
   ]
  },
  {
   "cell_type": "markdown",
   "metadata": {},
   "source": [
    "Se o que se quere é trocear un vector dende o comezo ou dende o final do mesmo, hay que empregar a sintaxe de índices con '`:`'"
   ]
  },
  {
   "cell_type": "code",
   "execution_count": 27,
   "metadata": {},
   "outputs": [
    {
     "name": "stdout",
     "output_type": "stream",
     "text": [
      "Troceado usando '[:3]': [ 0.44655442  0.97251814  0.63498149]\n",
      "Troceado usando '[4:]': [ 0.77509646]\n",
      "Troceado usando '[:]': [ 0.44655442  0.97251814  0.63498149  0.31135886  0.77509646]\n"
     ]
    }
   ],
   "source": [
    "# Usar ':3' implica usar índices dende o comezo ata 3 (sen incluir o índice 3)\n",
    "b = a[:3]\n",
    "print(\"Troceado usando '[:3]': {}\".format(b))\n",
    "\n",
    "# Usar '4:' imlica os índices dende 4 -> ata o final\n",
    "b = a[4:]\n",
    "print(\"Troceado usando '[4:]': {}\".format(b))\n",
    "\n",
    "# Usar ':' implica todos os índices dende o comezo ata o final\n",
    "b = a[:]\n",
    "print(\"Troceado usando '[:]': {}\".format(b))"
   ]
  },
  {
   "cell_type": "markdown",
   "metadata": {},
   "source": [
    "O troceado tamén se pode aplicar sobre matrices:"
   ]
  },
  {
   "cell_type": "code",
   "execution_count": 28,
   "metadata": {},
   "outputs": [
    {
     "name": "stdout",
     "output_type": "stream",
     "text": [
      "[[ 1.3  0. ]\n",
      " [ 0.   2. ]]\n",
      "[ 0.  2.]\n",
      "[ 1.3  0. ]\n"
     ]
    }
   ],
   "source": [
    "B = np.array([[1.3, 0], [0, 2.0]])\n",
    "print(B)\n",
    "\n",
    "# Extraer a segunda fila\n",
    "row = B[1, :]\n",
    "print(row)\n",
    "\n",
    "# Extraer a primeira columna (almacenada nun vector fila)\n",
    "col = B[:, 0] \n",
    "print(col)"
   ]
  },
  {
   "cell_type": "markdown",
   "metadata": {},
   "source": [
    "Existe moitas outras estratexias e sintaxe relacionada co troceado de vectores, que quedan fora do alcance desta introdución breve a **Numpy**. Para unha información máis detallada, pódese consultar: https://docs.scipy.org/doc/numpy/reference/arrays.indexing.html"
   ]
  },
  {
   "cell_type": "markdown",
   "metadata": {},
   "source": [
    "# Exercicio: aceleración con Numpy no cálculo de normas de vectores\n",
    "\n",
    "A norma euclídea (ou módulo) dun vector $\\vec{x}=(x_{0},\\ldots,x_{n-1})\\in\\mathbb{R}^{n}$ ven dada por \n",
    "\n",
    "$$\n",
    "\\| x \\| = \\sqrt{\\sum_{i=0}^{n-1} x_{i} x_{i}}\n",
    "$$\n",
    "\n",
    "onde $x_{i}$ é o $i$-ésimo coeficiente de $\\vec{x}$. En resumo, a súa norma non é máis que o cálculo do produto interior por si mesmo, seguido polo cálculo dunha raíz cadrada. Para calcular o valor da norma, pódense seguir diferentes estratexias: a primeira delas pode ser usar un bucle para recorrer todos os coeficientes do vector e sumar o cadrado de cada coeficiente. Logo coller a suma de todas estas cantidades e calcular a raíz cadrada.\n",
    "\n",
    "Para avaliar o rendemento computacional desta implementación, collerase un vector de lonxitude 10 millóns e calcularemos o tempo de cálculo:"
   ]
  },
  {
   "cell_type": "code",
   "execution_count": 29,
   "metadata": {},
   "outputs": [
    {
     "name": "stdout",
     "output_type": "stream",
     "text": [
      "<type 'numpy.ndarray'>\n"
     ]
    }
   ],
   "source": [
    "# Crear un vector NumPy con 10 millóns de valores aleatorios\n",
    "x = np.random.rand(10000000)\n",
    "print(type(x))"
   ]
  },
  {
   "cell_type": "code",
   "execution_count": 30,
   "metadata": {},
   "outputs": [
    {
     "name": "stdout",
     "output_type": "stream",
     "text": [
      "CPU times: user 1.58 s, sys: 32 ms, total: 1.61 s\n",
      "Wall time: 1.57 s\n",
      "1825.64102992\n"
     ]
    }
   ],
   "source": [
    "def compute_norm(x):\n",
    "    norm = 0.0\n",
    "    for xi in x:\n",
    "        norm += xi*xi\n",
    "    return np.sqrt(norm)\n",
    "\n",
    "%time norm = compute_norm(x)\n",
    "print(norm)"
   ]
  },
  {
   "cell_type": "markdown",
   "metadata": {},
   "source": [
    "O tempo de cálculo que nos interesa é o que aparece baixo a etiqueta '`Wall time`'.\n",
    "\n",
    "> ** NOTA **: Os detalle de como a etiqueta `%time` traballa neste guión non é de importancia neste curso. Debemos indicar que esta forma de proceder é unicamente válida para consolas ou ficheiros que se executen baixo [I]Python e entornos de servidores Jupyter. Esta forma de traballar é moi compact e conveniente para medir o tempo que se require para completar a execución dunha liña de código."
   ]
  },
  {
   "cell_type": "markdown",
   "metadata": {},
   "source": [
    "### **Exercicio 1.1** \n",
    "Usando a mesma implementación baseada nun bucle, accede a cada elemento do vector polo seu índice comezando dende o primeiro ata o último. Fai o mesmo cun bucle que acceda en orde inverso, dende o último ata o primeiro."
   ]
  },
  {
   "cell_type": "code",
   "execution_count": 31,
   "metadata": {},
   "outputs": [],
   "source": [
    "# O TEU CÓDIGO AQUÍ\n"
   ]
  },
  {
   "cell_type": "markdown",
   "metadata": {},
   "source": [
    "### **Exercicio 1.2** \n",
    "Trata de empregar funcións **Numpy** para definir unha función que evite o bucle sobre os coeficientes do vector e que non acceda elemento a elemento no vector (versión vectorizada)."
   ]
  },
  {
   "cell_type": "code",
   "execution_count": 32,
   "metadata": {},
   "outputs": [],
   "source": [
    "# O TEU CÓDIGO AQUÍ\n"
   ]
  },
  {
   "cell_type": "markdown",
   "metadata": {},
   "source": [
    "### **Exercicio 1.3** \n",
    "Compara os tempos de cálculo das catro implementacións para diferentes dimensións do vector $\\vec{x}$, de tamaños $10$, $10^3$, $10^5$, $10^7$. A partir destes tempos de cálculo: que se pode deducir como conclusión?"
   ]
  },
  {
   "cell_type": "code",
   "execution_count": 33,
   "metadata": {},
   "outputs": [],
   "source": [
    "# O TEU CÓDIGO AQUÍ\n"
   ]
  }
 ],
 "metadata": {
  "kernelspec": {
   "display_name": "Python 3",
   "language": "python",
   "name": "python3"
  },
  "language_info": {
   "codemirror_mode": {
    "name": "ipython",
    "version": 3
   },
   "file_extension": ".py",
   "mimetype": "text/x-python",
   "name": "python",
   "nbconvert_exporter": "python",
   "pygments_lexer": "ipython3",
   "version": "3.9.5"
  }
 },
 "nbformat": 4,
 "nbformat_minor": 4
}