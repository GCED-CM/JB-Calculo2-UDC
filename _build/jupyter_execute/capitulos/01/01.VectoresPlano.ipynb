{
 "cells": [
  {
   "attachments": {},
   "cell_type": "markdown",
   "metadata": {},
   "source": [
    "# Vectores en el plano\n",
    "\n",
    "## Definición de vector en el plano\n",
    "\n",
    "Muchas cantidades en geometría y física (área, volumen, temperatura, masa, tiempo,...) se pueden caracterizar por un único número real que se escala a las unidades de medida adecuadas ($m^2$, $m^3$, $^\\text{o}$C,...). \n",
    "Se llaman **magnitudes escalares**, y al número real asociado con ellas se le llama **escalar**. \n",
    "\n",
    "Sin embargo, otras cantidades (fuerza, velocidad, aceleración,...) implican magnitud y dirección y no pueden caracterizarse completamente por un solo número real: \n",
    "necesitaremos los vectores (y, más adelante, en algunos casos, las matrices).\n",
    "\n",
    "De momento, vamos a centrarnos en dar una correcta definición para estas cantidades en el plano, $\\mathbb{R}^2$.\n",
    "\n",
    "````{prf:definition} \n",
    ":label: def_01_vector\n",
    ":nonumber: \n",
    "\n",
    "Llamaremos **vector** a un segmento en el plano, que estará caracterizado por el ángulo que forma con el eje $OX$ (dirección) y por su longitud (o magnitud). \n",
    "\n",
    "Suele representarse con una flecha con un punto inicial y un punto final en el plano, aunque esta representación puede dar lugar a confusiones, ya que dos segmentos con la misma longitud y dirección, aunque partan de puntos diferentes, definen el mismo vector. \n",
    "\n",
    "<img src=\"../../images/01_vector_plano.png\" width=\"250\"/>\n",
    "````\n",
    "\n",
    "A lo largo del presente libro denotaremos los vectores mediante letras minúscula y en negrita ($\\mathbf{n}$, $\\mathbf{u}$, $\\mathbf{v}$,... ), aunque cuando se escriben a mano suelen denotarse con una flecha ($\\vec{n}$, $\\vec{u}$, ...).\n",
    "\n",
    "Vamos a ver un ejemplo para que nos quede claro que dos segmentos con la misma dirección y longitud definen el mismo vector.\n",
    "\n",
    "````{prf:example}\n",
    ":label: ex_01_vector\n",
    ":nonumber:\n",
    "\n",
    "Comprueba que, para los puntos $P=(0,0)$, $Q=(3,2)$, $R=(1,2)$ y $S=(4,4)$, los segmentos $\\vec{PQ}$ y $\\vec{SR}$ definen el mismo vector.\n",
    "\n",
    "Vamos a comprobar que tienen la misma longitud y la misma pendiente (lo que implica que tendrán la misma dirección):\n",
    "\n",
    "* Longitud $\\vec{PQ}$: $\\sqrt{(3-0)^2+(2-0)^2} = \\sqrt{13}$.\n",
    "* Longitud $\\vec{RS}$: $\\sqrt{(4-1)^2 + (4-2)^2} = \\sqrt{13}$.\n",
    "* Pendiente que forma $\\vec{PQ}$ con la recta $OX$: $\\frac{2-0}{3-0} = \\frac{2}{3}$.\n",
    "* Pendiente que forma $\\vec{RS}$ con la recta $OX$: $\\frac{4-2}{4-1} = \\frac{2}{3}$.\n",
    "  \n",
    "<img src=\"../../images/01_ejemplo1.png\" width=\"250\"/>\n",
    "\n",
    "````\n",
    "\n",
    "Una vez aclarado que hay muchos segmentos que representan al mismo vector, conviene unificar esto. \n",
    "Por ello, entre todos los vectores con la misma longitud y dirección, suele elegirse el que tiene como punto de inicio el origen de coordenadas, $(0,0)$. \n",
    "Entonces, si entendemos que el punto inicial será el $(0,0)$, basta dar el punto final, $Q=\\left(v_{1}, v_{2}\\right)$, \n",
    "para tener totalmente identificado un vector $\\mathbf{v}$. \n",
    "\n",
    "````{prf:definition} Definición de un vector mediante sus componentes \n",
    ":label: def_01_vector2\n",
    ":nonumber: \n",
    "\n",
    "Definiremos $\\mathbf{v}$ como un vector en el plano mediante las coordenadas, $\\left( v_{1}, v_{2}\\right)$, de su punto final, entendiendo que el punto inicial es el origen $(0,0)$.\n",
    "En este sentido, **identificaremos vectores en el plano con elementos del espacio $\\mathbb{R} \\times \\mathbb{R} = \\mathbb{R}^2$**.\n",
    "\n",
    "Las componentes $v_{1}$ y $v_{2}$ son las **componentes de $\\mathbf{v}$**. \n",
    "\n",
    "Si el punto inicial y el punto final están ambos en el origen, entonces decimos que $\\mathbf{v}$ es el **vector cero** (o **vector nulo**) y se denota por $\\mathbf{0}= (0,0)$. \n",
    "\n",
    "La longitud de $\\mathbf{v}$ se llama **norma de $\\mathbf{v}$**,\n",
    "\n",
    "$$\n",
    "\\|\\mathbf{v}\\| = \\sqrt{v_{1}^2+v_{2}^2}.\n",
    "$$\n",
    "Si $\\|\\mathbf{v}\\| = 1$ diremos que $\\mathbf{v}$ es un **vector unitario**.\n",
    "\n",
    "Además, $\\|\\mathbf{v}\\| = 0$ si y sólo si $\\mathbf{v} = \\mathbf{0}$.\n",
    "````"
   ]
  },
  {
   "attachments": {},
   "cell_type": "markdown",
   "metadata": {},
   "source": [
    "## Operaciones vectoriales\n",
    "\n",
    "````{prf:definition} Suma de vectores y multiplicación por un escalar \n",
    ":label: def_01_suma\n",
    ":nonumber: \n",
    "\n",
    "Sean $\\mathbf{u}=\\left( u_{1}, u_{2}\\right)$ y $\\mathbf{v}=\\left( v_{1}, v_{2}\\right)$ vectores y sea $c\\in\\mathbb{R}$ un escalar. \n",
    "\n",
    "1. El **múltiplo escalar** de $c$ y $\\mathbf{u}$ es el vector $c\\mathbf{u} := \\left( cu_{1}, cu_{2}\\right)$.\n",
    "2. La **suma vectorial** de $\\mathbf{u}$ y $\\mathbf{v}$ es el vector $\\mathbf{u}+\\mathbf{v} := \\left( u_{1} + v_{1}, u_{2} + v_{2}\\right)$.\n",
    "````\n",
    "Veamos algunas consideraciones geométricas para estas operaciones:\n",
    "\n",
    "El **múltiplo escalar**, $c\\mathbf{u}$, de un vector, $\\mathbf{u}$, es un vector que tiene módulo $|c|$ veces $\\|\\mathbf{u}\\|$ y la misma dirección si $c$ es positivo mientras que, para $c$ un número negativo, direcciones opuestas. Lo ilustramos en la siguiente figura:\n",
    "\n",
    "<img src=\"../../images/01_multiplicacion_escalar.png\" width=\"250\"/>\n",
    "\n",
    "La **suma de vectores**, $\\mathbf{u}+\\mathbf{v}$, puede entenderse gráficamente como la diagonal del paralelogramo que tiene como lados adyacentes $\\mathbf{u}$ y $\\mathbf{v}$, o, equivalentemente, como el resultado de colocar el segundo de los vectores *en la punta* del primero.\n",
    "\n",
    "<img src=\"../../images/01_suma_vectores.png\" width=\"400\"/>\n",
    "\n",
    "En consecuencia, podemos también interpretar gráficamente la resta de vectores jugando con el paralelogramo resultante.\n",
    "\n",
    "<img src=\"../../images/01_resta_vectores.png\" width=\"200\"/>\n",
    "\n",
    "````{prf:theorem} Desigualdad triangular \n",
    ":label: th_01_desigualdad_triangular\n",
    ":nonumber: \n",
    "Sean $\\mathbf{u}$, $\\mathbf{v}\\in\\mathbb{R}^2$. Entonces\n",
    "\n",
    "$$\n",
    "\\|\\mathbf{u}+\\mathbf{v}\\| \\leq \\|\\mathbf{u}\\| + \\|\\mathbf{v}\\|. \n",
    "$$\n",
    "\n",
    "La igualdad sólo se cumplirá si $\\mathbf{u}$ y $\\mathbf{v}$ tienen la misma dirección.\n",
    "````\n",
    "\n",
    "````{prf:theorem} Propiedades de la suma de vectores y multiplicación por escalar \n",
    ":label: th_01_prop_suma\n",
    ":nonumber: \n",
    "Sean $\\mathbf{u}$, $\\mathbf{v}$, $\\mathbf{w}\\in\\mathbb{R}^2$ y $c$, $d\\in\\mathbb{R}$. Entonces:\n",
    "\n",
    "$$\n",
    "\\begin{array}{ll}\n",
    "\\textrm{1.}\\; \\mathbf{u} + \\mathbf{v} = \\mathbf{v} + \\mathbf{u} & \\textrm{(propiedad conmutativa).} \\\\\n",
    "\\textrm{2.}\\; (\\mathbf{u} + \\mathbf{v}) + \\mathbf{w} = \\mathbf{u} + (\\mathbf{v} + \\mathbf{w}) & \\textrm{(propiedad asociativa).} \\\\\n",
    "\\textrm{3.}\\; \\mathbf{u} + \\mathbf{0} = \\mathbf{u} & \\textrm{(elemento neutro para la suma).} \\\\\n",
    "\\textrm{4.}\\; \\mathbf{u} + (-\\mathbf{u}) = \\mathbf{0} & \\textrm{(elemento inverso para la suma).} \\\\\n",
    "\\textrm{5.}\\; c(d\\mathbf{u}) = (cd)\\mathbf{u} & \\textrm{(pseudo-asociativa).} \\\\\n",
    "\\textrm{6.}\\; (c+d)\\mathbf{u} = c\\mathbf{u} + d\\mathbf{u} & \\textrm{(distributiva (1) ).} \\\\\n",
    "\\textrm{7.}\\; c(\\mathbf{u}+\\mathbf{v}) = c\\mathbf{u} + c\\mathbf{v} & \\textrm{(distributiva (2)).} \\\\\n",
    "\\textrm{8.}\\; 1(\\mathbf{u}) = \\mathbf{u} & \\textrm{(elemento neutro de la multiplicación por escalares).} \\\\\n",
    "\\textrm{9.}\\; 0(\\mathbf{u}) = \\mathbf{0} & \\textrm{(elemento 0 en la multiplicación por escalares).}\n",
    "\\end{array}\n",
    "$$\n",
    "\n",
    "Al cumplirse estas nueve propiedades podemos afirmar que el espacio de vectores, con la suma y la multiplicación por escalares así definidas, forman un **espacio vectorial**.\n",
    "````"
   ]
  },
  {
   "cell_type": "markdown",
   "metadata": {},
   "source": [
    "## Vectores unitarios\n",
    "\n",
    "Dado un vector $\\mathbf{u}$, muchas veces es importante calcular otro vector en la misma dirección y que tenga módulo $1$ (es decir, que sea **unitario**). Lo definimos a continuación:\n",
    "\n",
    "````{prf:definition} Vector unitario \n",
    ":label: def_01_vector_unitario\n",
    ":nonumber: \n",
    "Sean $\\mathbf{u}\\in\\mathbb{R}^{2}$. Definimos $\\mathbf{u}_{1}\\in\\mathbb{R}^{2}$, el vector unitario en la dirección de $\\mathbf{u}$ como\n",
    "\n",
    "$$\n",
    "\\mathbf{u}_{1} = \\frac{\\mathbf{u}}{\\|\\mathbf{u}\\|} = \\frac{1}{\\|\\mathbf{u}\\|} \\mathbf{u}.\n",
    "$$\n",
    "\n",
    "Por su definición, es evidente que $\\|\\mathbf{u}_{1}\\| = 1$.\n",
    "````\n",
    "\n",
    "Dentro de todas las infinitas direcciones que existen en $\\mathbb{R}^2$ vamos a destacar dos de ellas, las llamadas **direcciones canónicas**, que nos permitirán utilizar una representación cartesiana del plano. \n",
    "Vamos a definir a continuación los vectores unitarios en estas direcciones:\n",
    "\n",
    "````{prf:definition} Vectores unitarios canónicos \n",
    ":label: def_01_vectores_canonicos\n",
    ":nonumber: \n",
    "\n",
    "Llamaremos vectores unitarios canónicos a\n",
    "\n",
    "1. $\\mathbf{i} = (1,0)$,\n",
    "2. $\\mathbf{j} = (0,1)$.\n",
    "\n",
    "<img src=\"../../images/01_vectores_canonicos.png\" width=\"250\"/>\n",
    "\n",
    "````\n",
    "\n",
    "Una vez que ya hemos definido los evctores canónicos unitarios, podemos escribir cualquier vector, utilizando sus coordenadas, en función de éstos:\n",
    "\n",
    "$$\n",
    "\\mathbf{u} = \\left(u_{1}, u_{2}\\right) = u_{1} (1,0) + u_{2} (0,1) = u_{1}\\mathbf{i} + u_{2}\\mathbf{j}.\n",
    "$$"
   ]
  },
  {
   "attachments": {},
   "cell_type": "markdown",
   "metadata": {},
   "source": [
    "## Jugando con vectores en Sympy y Numpy\n",
    "\n",
    "Ahora deberías leerte las secciónes {ref}`sec:introduccion_Sympy` y {ref}`sec:introduccion_Numpy` para poder jugar un poco con las propiedades que acabas de aprender de vectores y con las librerías Sympy y Numpy, que utilizaremos a lo largo del presente curso. Te damos alguna pista:"
   ]
  },
  {
   "cell_type": "code",
   "execution_count": 17,
   "metadata": {},
   "outputs": [
    {
     "name": "stdout",
     "output_type": "stream",
     "text": [
      "u:  [1 2]\n",
      "v:  [3 4]\n",
      "u+v:  [4 6]\n",
      "3u - 2v:  [-3 -2]\n"
     ]
    }
   ],
   "source": [
    "import numpy as np\n",
    "\n",
    "# Definimos los vectores u y v\n",
    "u = np.array([1, 2])\n",
    "v = np.array([3, 4])\n",
    "\n",
    "# Imprimimos en pantalla estos vectores\n",
    "print('u: ',u)\n",
    "print('v: ',v)\n",
    "\n",
    "# Sumamos los vectores, almacenando el resultado en w1\n",
    "w1 = u + v\n",
    "print('u+v: ', w1)\n",
    "\n",
    "# Multiplicamos u por 3, v por -2 y los sumamos en w2\n",
    "w2 = 3*u - 2*v\n",
    "print('3u - 2v: ', w2)"
   ]
  },
  {
   "cell_type": "markdown",
   "metadata": {},
   "source": [
    "En Sympy hay que definir los vectores como matrices unidimensionales. En general, será útil si queremos mantener fracciones o queremos realizar cálculos simbólicos sobre los vectores:"
   ]
  },
  {
   "cell_type": "code",
   "execution_count": 31,
   "metadata": {},
   "outputs": [
    {
     "name": "stdout",
     "output_type": "stream",
     "text": [
      "u+v:  Matrix([[7/10], [4/3]])\n"
     ]
    },
    {
     "data": {
      "text/latex": [
       "$\\displaystyle \\left[\\begin{matrix}\\frac{7}{10}\\\\\\frac{4}{3}\\end{matrix}\\right]$"
      ],
      "text/plain": [
       "Matrix([\n",
       "[7/10],\n",
       "[ 4/3]])"
      ]
     },
     "metadata": {},
     "output_type": "display_data"
    },
    {
     "data": {
      "text/plain": [
       "'3w:'"
      ]
     },
     "metadata": {},
     "output_type": "display_data"
    },
    {
     "data": {
      "text/latex": [
       "$\\displaystyle \\left[\\begin{matrix}\\frac{3}{x}\\\\3 x^{2}\\end{matrix}\\right]$"
      ],
      "text/plain": [
       "Matrix([\n",
       "[   3/x],\n",
       "[3*x**2]])"
      ]
     },
     "metadata": {},
     "output_type": "display_data"
    }
   ],
   "source": [
    "import sympy as sp\n",
    "\n",
    "x = sp.Symbol('x', real=True)\n",
    "\n",
    "# Definimos los vectores u y v\n",
    "u = sp.Matrix([sp.frac('1/2'), sp.frac('1/3')])\n",
    "v = sp.Matrix([sp.frac('1/5'), 1])\n",
    "w = sp.Matrix([1/x, x**2])\n",
    "\n",
    "# Sumamos los vectores, almacenando el resultado en w1\n",
    "w1 = u + v\n",
    "print('u+v: ', w1)\n",
    "# Queda más chulo con display:\n",
    "display(w1)\n",
    "\n",
    "# Multiplicamos w por 3\n",
    "display('3w:',3*w)\n"
   ]
  },
  {
   "cell_type": "markdown",
   "metadata": {},
   "source": [
    "Ahora puedes aprovechar la potencia de cualquiera de estas librerías (tampoco es que sea muy necesaria para lo que se avecina, pero...) y resolver el siguiente problema:\n",
    "\n",
    "````{prf:example} \n",
    "\n",
    "Si dos remolcadores empujan un petrolero, el primero con una fuerza de módulo 8000 HP en la dirección $(1,-1)$ y el segundo con una fuerza de 10000 HP en la dirección $(1,1)$. \n",
    "\n",
    "1. ¿Cuál es la magnitud y la dirección resultante del empuje de los 2 remolcadores?\n",
    "2. Si el primer remolcador aumentara su empuje un 50 %, manteniendo la misma dirección, ¿cuál sería la fuerza resultante? \n",
    "````"
   ]
  },
  {
   "cell_type": "markdown",
   "metadata": {},
   "source": []
  }
 ],
 "metadata": {
  "kernelspec": {
   "display_name": "Python 3",
   "language": "python",
   "name": "python3"
  },
  "language_info": {
   "codemirror_mode": {
    "name": "ipython",
    "version": 3
   },
   "file_extension": ".py",
   "mimetype": "text/x-python",
   "name": "python",
   "nbconvert_exporter": "python",
   "pygments_lexer": "ipython3",
   "version": "3.11.1 (tags/v3.11.1:a7a450f, Dec  6 2022, 19:58:39) [MSC v.1934 64 bit (AMD64)]"
  },
  "vscode": {
   "interpreter": {
    "hash": "6bee1e8c92def9b58716ddd07d843225b81ed35493dd8048850a9a59c060c325"
   }
  }
 },
 "nbformat": 4,
 "nbformat_minor": 2
}