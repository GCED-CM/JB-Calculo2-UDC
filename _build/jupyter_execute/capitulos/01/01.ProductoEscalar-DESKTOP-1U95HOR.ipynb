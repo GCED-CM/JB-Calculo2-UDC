{
 "cells": [
  {
   "attachments": {},
   "cell_type": "markdown",
   "metadata": {},
   "source": [
    "# El producto escalar\n",
    "\n",
    "En las dos secciones precedentes hemos introducido dos operaciones para vectores: la suma y el producto por un escalar. Ahora vamos a estudiar una tercera operación: el producto escalar.\n",
    "\n",
    "## Producto escalar. Definición y propiedades\n",
    "\n",
    "````{prf:definition} Producto escalar\n",
    ":label: def_01_producto_escalar\n",
    ":nonumber: \n",
    "\n",
    "El producto escalar es una aplicación $\\mathbb{R}^{n} \\times \\mathbb{R}^{n} \\to \\mathbb{R}$ que se define, en general, como\n",
    "\n",
    "$$\n",
    "\\mathbf{u}\\cdot\\mathbf{v} := \\sum_{i=1}^{n} u_{i} v_{i} \\in \\mathbb{R}.\n",
    "$$\n",
    "\n",
    "Así, en los casos que venimos estudiando,\n",
    "\n",
    "1. En $\\mathbb{R}^{2}$, $\\displaystyle \\mathbf{u} \\cdot \\mathbf{v} = u_{1}v_{1} + u_{2}v_{2} \\in \\mathbb{R}$.\n",
    "2. En $\\mathbb{R}^{3}$, $\\displaystyle \\mathbf{u} \\cdot \\mathbf{v} = u_{1}v_{1} + u_{2}v_{2} + u_{3}v_{3} \\in \\mathbb{R}$.\n",
    "\n",
    "````\n",
    "\n",
    "````{prf:example} \n",
    ":label: ex_01_producto_escalar\n",
    ":nonumber: \n",
    "\n",
    "* El producto escalar de los vectores en el plano $\\mathbf{u} = (1,2)$ y $\\mathbf{v} = (-3,4)$ es:\n",
    "\n",
    "    $$ \\mathbf{u}\\cdot\\mathbf{v} = 1 \\, (-3) + 2* 4 = -3 + 8 = 5.$$\n",
    "* El producto escalar de los vectores en el espacio $\\mathbf{u} = (1,2,3)$ y $\\mathbf{v} = (-3,4,-5)$ es:\n",
    "\n",
    "    $$ \\mathbf{u}\\cdot\\mathbf{v} = 1 \\, (-3) + 2* 4 + 3 \\, (-5)= -3 + 8 -15 = -10.$$\n",
    "````\n",
    "\n",
    "````{prf:property} \n",
    ":label: prop_01_producto_escalar\n",
    ":nonumber: \n",
    "\n",
    "Sean $\\mathbf{u}$, $\\mathbf{v}$ y $\\mathbf{v}$ vectores en $\\mathbb{R}^{n}$ y $c\\in\\mathbb{R}$. Entonces\n",
    "\n",
    "1. $\\mathbf{u}\\cdot\\mathbf{v} = \\mathbf{v}\\cdot\\mathbf{u}$ (propiedad conmutativa).\n",
    "2. $\\mathbf{u}\\cdot(\\mathbf{v}+\\mathbf{w}) = \\mathbf{u}\\cdot\\mathbf{v} + \\mathbf{u}\\cdot\\mathbf{w}$ (propiedad distributiva).\n",
    "3. $c\\, (\\mathbf{u}\\cdot\\mathbf{v}) = c\\, \\mathbf{u}\\cdot \\mathbf{v} = \\mathbf{u}\\cdot c\\, \\mathbf{v}$.\n",
    "4. $\\mathbf{0}\\cdot\\mathbf{v} = \\mathbf{0}$.\n",
    "5. $\\mathbf{u}\\cdot\\mathbf{u} = \\|\\mathbf{u}\\|^2$.\n",
    "\n",
    "````\n",
    "\n",
    "**Nota:** En `Numpy` se calcula con el comando np.dot (que también admite la sintaxis, para los vectores u y v, `u.dot(v)`):\n",
    "\n"
   ]
  },
  {
   "cell_type": "code",
   "execution_count": 9,
   "metadata": {},
   "outputs": [
    {
     "name": "stdout",
     "output_type": "stream",
     "text": [
      "Producto escalar de u y v:  -10\n",
      "Producto escalar de u y v:  -10\n"
     ]
    }
   ],
   "source": [
    "import numpy as np\n",
    "\n",
    "# Definimos los vectores u y v\n",
    "u = np.array([1, 2, 3])\n",
    "v = np.array([-3, 4, -5])\n",
    "\n",
    "# Calculamos el producto escalar de u y v con np.dot\n",
    "dot_product = np.dot (u,v)\n",
    "print('Producto escalar de u y v: ', dot_product)\n",
    "\n",
    "# Una opción equivalente de llamar a la misma función np.dot:\n",
    "dot_product = u.dot(v)\n",
    "print('Producto escalar de u y v: ', dot_product)\n",
    "\n"
   ]
  },
  {
   "attachments": {},
   "cell_type": "markdown",
   "metadata": {},
   "source": [
    "Para hacer el producto vectorial en `Sympy` tenemos que usar la segunda sintaxis. Recuerda que en este caso los vectores tienen que definirse como `sp.Matrix`."
   ]
  },
  {
   "cell_type": "code",
   "execution_count": 12,
   "metadata": {},
   "outputs": [
    {
     "name": "stdout",
     "output_type": "stream",
     "text": [
      "73/30\n"
     ]
    }
   ],
   "source": [
    "import sympy as sp\n",
    "\n",
    "u = sp.Matrix([sp.frac('1/2'), sp.frac('1/3'), 1])\n",
    "v = sp.Matrix([sp.frac('1/5'), 1, 2])\n",
    "\n",
    "# Calculamos el producto escalar de u y v en Sympy\n",
    "product = u.dot(v)\n",
    "print(product)"
   ]
  },
  {
   "attachments": {},
   "cell_type": "markdown",
   "metadata": {},
   "source": [
    "## Ángulo entre dos vectores\n",
    "\n",
    "El ángulo entre dos vectores, $\\mathbf{u}$, $\\mathbf{v}\\in\\mathbb{R}^{2}$, ambos distintos de $\\mathbb{0}$, es el ángulo $\\theta$, $\\theta\\in [0,\\pi]$, entre estos vectores situados \n",
    "en su posición estándar (es decir, con el punto inicial de ambos en el origen de coordenadas).\n",
    "\n",
    "<img src=\"../../images/01_angulo_vectores.png\" width=\"250\"/>\n",
    "\n",
    "Puede calcularse utilizando la siguiente propiedad:\n",
    "\n",
    "````{prf:property} \n",
    ":label: prop_01_angulo_vectores\n",
    ":nonumber: \n",
    "\n",
    "Si $\\theta$ es el ángulo entre los vectores $\\mathbf{u}$, $\\mathbf{v}\\in\\mathbb{R}^{2}$, ambos distintos de $\\mathbb{0}$, entonces\n",
    "\n",
    "$$\n",
    "\\cos\\theta = \\frac{\\mathbf{u}\\cdot\\mathbf{v}}{\\|\\mathbf{u}\\|\\|\\mathbf{v}\\|},\n",
    "$$\n",
    "\n",
    "o, equivalentemente,\n",
    "\n",
    "$$\n",
    "\\theta = \\arccos\\left(\\frac{\\mathbf{u}\\cdot\\mathbf{v}}{\\|\\mathbf{u}\\|\\|\\mathbf{v}\\|}\\right),\n",
    "$$\n",
    "````\n",
    "\n",
    "Queremos destacar que, como el denominador en esta fracción es siempre un número positivo, $\\mathbf{u}\\cdot\\mathbf{v}$ y $\\cos\\theta$ tendrán siempre el mismo signo. Por lo tanto podemos deducir fácilmente el signo de $\\mathbf{u}\\cdot\\mathbf{v}$ según el signo de $\\cos\\theta$, como mostramos en la siguiente figura.\n",
    "\n",
    "<img src=\"../../images/01_signo_producto_escalar.png\" width=\"1200\"/>\n"
   ]
  },
  {
   "cell_type": "markdown",
   "metadata": {},
   "source": []
  }
 ],
 "metadata": {
  "kernelspec": {
   "display_name": "Python 3",
   "language": "python",
   "name": "python3"
  },
  "language_info": {
   "codemirror_mode": {
    "name": "ipython",
    "version": 3
   },
   "file_extension": ".py",
   "mimetype": "text/x-python",
   "name": "python",
   "nbconvert_exporter": "python",
   "pygments_lexer": "ipython3",
   "version": "3.11.1 (tags/v3.11.1:a7a450f, Dec  6 2022, 19:58:39) [MSC v.1934 64 bit (AMD64)]"
  },
  "vscode": {
   "interpreter": {
    "hash": "6bee1e8c92def9b58716ddd07d843225b81ed35493dd8048850a9a59c060c325"
   }
  }
 },
 "nbformat": 4,
 "nbformat_minor": 2
}