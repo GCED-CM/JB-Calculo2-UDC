{
 "cells": [
  {
   "cell_type": "markdown",
   "id": "24d611d7",
   "metadata": {},
   "source": [
    "# Boletín 1: Vectores y geometría del espacio\n",
    "\n",
    "Este boletín contiene una selección modificada de los problemas que aparecen en el capítulo 11 (pág. 829-830) del libro de R. Larson y B.H. Edwards, *Cálculo de 2 variables*, 10a, McGraw-Hill, 2016."
   ]
  },
  {
   "cell_type": "markdown",
   "id": "74f0e1d1",
   "metadata": {},
   "source": [
    "**<FONT SIZE=4>[1]</font>** Determina si $\\mathbf{u}$ y $\\mathbf{v}$ son ortogonales, paralelos o ninguna de las dos cosas en los siguientes casos:\n",
    "\n",
    "1. $\\mathbf{u} = (7,-2, 3)^{t}$, $\\mathbf{v}=(-1,4,5)^{t}$.\n",
    "   \n",
    "2. $\\mathbf{u} = (-4,3, -6)^{t}$, $\\mathbf{v}=(16,-12,24)^{t}$."
   ]
  },
  {
   "cell_type": "markdown",
   "id": "41da95a9",
   "metadata": {},
   "source": [
    "**<FONT SIZE=4>[2]</font>** Sean $\\mathbf{u} = (-3,2,0)$ y $\\mathbf{v} = (2,1,0)$. Comprueba, utilizando `numpy`, si te hace falta, que la suma de los cuadrados de las longitudes de las diagonales del paralelogramo determinado por los vectores $\\mathbf{u}$ y $\\mathbf{v}$ es igual a la suma de los cuadrados de las longitudes de los cuatro lados. Demuestra que esta propiedad es cierta en general (para cualquier par de vectores $\\mathbf{u}$ y $\\mathbf{v}$)."
   ]
  },
  {
   "cell_type": "markdown",
   "id": "42ad63f6",
   "metadata": {},
   "source": [
    "**<FONT SIZE=4>[3]</font>** Sean $\\mathbf{u} = \\vec{PQ}$ y $\\mathbf{v} = \\vec{PR}$. Calcula las componentes de $\\mathbf{u}$ y $\\mathbf{v}$, $\\mathbf{u}\\cdot\\mathbf{v}$, $\\mathbf{v}\\cdot\\mathbf{v}$, el ángulo que forman $\\mathbf{u}$ y $\\mathbf{v}$, los vectores unitarios en estas direcciones, un vector unitario ortogonal a esos dos vectores y las proyecciones de $\\mathbf{u}$ sobre $\\mathbf{v}$ y de $\\mathbf{v}$ sobre $\\mathbf{u}$ en los siguientes casos:\n",
    "\n",
    "1. $P=(5,0,0)$, $Q=(4,4,0)$, $R=(2,0,6)$ (coordenadas cartesianas).\n",
    "2. $P=(2,-1,3)$, $Q=(0,5,1)$, $R=(5,5,0)$ (coordenadas cartesianas)."
   ]
  },
  {
   "cell_type": "markdown",
   "id": "8296a96a",
   "metadata": {},
   "source": [
    "**<FONT SIZE=4>[4]</font>** Calcula el volumen del paralelepípedo que tiene por vértices los puntos $P=(2,0,3)$, $Q=(4,1,3)$, $R=(4,0,4)$ y $S=(2,-1,5)$, en coordenadas cartesianas, siendo $\\vec{PQ}$, $\\vec{PR}$ y $\\vec{PS}$ tres de sus aristas. \n",
    "\n",
    "Construye una *function* en `numpy` que reciba cuatro puntos en coordenadas cartesianas arbitrarias, $P$, $Q$, $R$ y $S$, y calcule el volumen de tal paralelepípedo. Pruébala con el ejemplo anterior. "
   ]
  },
  {
   "cell_type": "markdown",
   "id": "99dfe742",
   "metadata": {},
   "source": [
    "**<FONT SIZE=4>[5]</font>** Convierte los siguientes puntos y expresiones al sistema de coordenadas que se indique:\n",
    "\n",
    "1. El punto de coordenadas cartesianas $(-2\\sqrt{2}, 2\\sqrt{2}, 2)$ en coordenadas cilíndricas y esféricas.\n",
    "2. El punto de coordenadas cilíndricas $(100, -\\pi/6, 50)$ en coordenadas esféricas y cartesianas.\n",
    "3. La expresión $x^2 - y^2 = 2z$ en coordenadas cilíndricas y esféricas.\n",
    "4. La expresión $x^2 + y^2 + z^2 = 16$ en coordenadas cilíndricas y esféricas.\n",
    "5. La expresión $x^2 -x + y^2 - y = 0$ en coordenadas cilíndricas y esféricas.\n",
    "6. La expresión $r = 5\\cos\\theta$ en coordenadas cartesianas.\n",
    "7. La expresión $\\theta = \\pi/4$ en coordenadas cartesianas.\n",
    "8. La expresión $\\rho = 3\\cos\\phi$ en coordenadas cartesianas.\n",
    "9. La expresión $r = \\frac{2}{1-\\cos\\theta}$ en coordenadas cartesianas."
   ]
  },
  {
   "cell_type": "markdown",
   "id": "f8b1cd45",
   "metadata": {},
   "source": [
    "**<FONT SIZE=4>[6]</font>** Calcula la ecuación cartesiana de las siguientes esferas. Pasa estas ecuaciones a coordenadas esféricas, ayudándote de `sympy`.\n",
    "\n",
    "1. Centro $(3,-2,6)$ y diámetro $15$.\n",
    "2. La esfera que incluye un diámetro con extremos en $(0,0,4)$ y $(4,6,0)$."
   ]
  },
  {
   "cell_type": "markdown",
   "id": "3e806082",
   "metadata": {},
   "source": [
    "**<FONT SIZE=4>[7]</font>** Pasa las siguientes ecuaciones de esferas a su forma estándar (completando el cuadrado) para obtener su radio y su centro:\n",
    "\n",
    "1. $x^2 + y^2 + z^2 - 4x - 6y + 4 = 0$.\n",
    "2. $x^2 + y^2 + z^2 - 10x + 6y - 4z + 34 = 0$."
   ]
  },
  {
   "cell_type": "markdown",
   "id": "15966e42",
   "metadata": {},
   "source": [
    "**<FONT SIZE=4>[8]</font>** Encuentra dos curvas generadoras diferentes de las siguientes superficies de revolución:\n",
    "\n",
    "1. $y^2 + z^2 - 4x = 0$.\n",
    "2. $x^2 + 2y^2 + z^2 = 3y$.\n",
    "3. $x^2 + y^2 = 4z^2$."
   ]
  },
  {
   "cell_type": "markdown",
   "id": "b875647d",
   "metadata": {},
   "source": [
    "**<FONT SIZE=4>[9]</font>** Determina la ecuación de la superficie de revolución generada al rotar\n",
    "\n",
    "1. La curva $z^2 = 2y$ en el plano $YZ$ alrededor del eje $Y$.\n",
    "2. La curva $2x + 3z = 1$ en el plano $XZ$ alrededor del eje $X$.\n",
    "3. La curva $y^2 + (z-1)^2 = 1$ en el plano $YZ$ alrededor del eje $Z$."
   ]
  }
 ],
 "metadata": {
  "kernelspec": {
   "display_name": "Python 3 (ipykernel)",
   "language": "python",
   "name": "python3"
  },
  "language_info": {
   "codemirror_mode": {
    "name": "ipython",
    "version": 3
   },
   "file_extension": ".py",
   "mimetype": "text/x-python",
   "name": "python",
   "nbconvert_exporter": "python",
   "pygments_lexer": "ipython3",
   "version": "3.11.7"
  },
  "vscode": {
   "interpreter": {
    "hash": "f2c0f1c90395c109e1b87b1f4d6d2ea9e1b09c8587e65b0565fcfbe20df05a54"
   }
  }
 },
 "nbformat": 4,
 "nbformat_minor": 5
}