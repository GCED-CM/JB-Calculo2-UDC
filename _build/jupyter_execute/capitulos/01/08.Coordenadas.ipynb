{
 "cells": [
  {
   "cell_type": "markdown",
   "metadata": {},
   "source": [
    "(sec:1.8.coordenadas)=\n",
    "# Coordenadas cilíndricas y esféricas\n",
    "\n",
    "Hasta ahora hemos utilizado las coordenadas cartesianas para representar punto, rectas y superficies en $\\mathbb{R}^{3}$. \n",
    "Es decir, caracterizamos cada punto por sus coordenadas respecto a los tres ejes cartesianos: $(x,y,z).$ \n",
    "En esta sección vamos a estudiar otras dos maneras de describir un punto con las coordenadas cilíndricas y esféricas, lo que, \n",
    "en ocasiones, nos permitirá simplificar la escritura.\n",
    "\n",
    "## Coordenadas cilíndricas\n",
    "\n",
    "El sistema de coordenadas cilíndricas es una extensión de las coordenadas polares en el plano al espacio 3D. Mantendremos las\n",
    "coordenadas polares en el plano $XY$ añadiendo la altura $Z$. Es decir:\n",
    "\n",
    "````{prf:definition} Coordenadas cilíndricas\n",
    ":label: def_1.8.cilindricas\n",
    ":nonumber: \n",
    "\n",
    "En un **sistema de coordenadas cilíndricas** un punto $P$ del espacio se representa por medio de una terna ordenada\n",
    "$\\left(r,\\theta,z\\right)$, donde:\n",
    "\n",
    "1. $(r,\\theta)$ es una representación en coordenadas polares de la proyección de $P$ sobre el plano $XY$.\n",
    "2. $z$ es la distancia dirigida de $(r,\\theta)$ a $P$.\n",
    "\n",
    "<img src=\"../../images/1.8.coordenadas_cilindricas.jpg\" width=\"350\"/>\n",
    "\n",
    "````\n",
    "\n",
    "Para realizar los cambios de coordenadas, de cartesianas a cilíndricas y viceversa, aplicaremos las siguientes fórmulas:\n",
    "\n",
    "* **Cartesianas a cilíndricas**: \n",
    "\n",
    "    $r = \\sqrt{x^2+y^2}$, $\\theta = \\arctan\\left(\\frac{y}{x}\\right)$, $z=z$.\n",
    "* **Cilíndricas a cartesianas**:\n",
    "\n",
    "    $x = r\\cos(\\theta)$, $y=r\\sin(\\theta)$, $z=z$.\n",
    "\n",
    "El punto $(0,0,0)$ se llama **polo** u **origen de coordenadas**. Además, dado que la representación del origen en $\\mathbb{R}^{2}$ no es única en polares, tampoco \n",
    "será única la representación del origen en $\\mathbb{R}^{3}$ en coordenadas cilíndricas. \n",
    "\n",
    "Las coordenadas cilíndricas son especialmente convenientes para representar superficies cilíndricas y superficies de revolución con el eje $Z$ como eje de simetría, \n",
    "como mostramos en la figura a continuación:\n",
    "\n",
    "<img src=\"../../images/1.8.cilindros_en_cilindricas.jpg\" width=\"1000\"/>\n",
    "\n",
    "También los planos verticales y horizontales tienen ecuaciones simples en coordenadas cilíndricas:\n",
    "\n",
    "<img src=\"../../images/1.8.planos_en_cilindricas.jpg\" width=\"750\"/>\n",
    "\n"
   ]
  },
  {
   "cell_type": "markdown",
   "metadata": {},
   "source": [
    "## Coordenadas esféricas\n",
    "\n",
    "En el sistema de coordenadas esféricas cada punto, $P$, está representado por 3 coordenadas: la primera es la distancia desde $P$ al origen, \n",
    "la segunda el ángulo que forma la proyección de $P$ sobre el plano $XY$ (esta segunda es igual que en las coordenadas cilíndricas) y la \n",
    "tercera el ángulo que forma $OP$ con el eje $Z$. Es decir:\n",
    "\n",
    "````{prf:definition} Coordenadas cilíndricas\n",
    ":label: def_1.8.esfericas\n",
    ":nonumber: \n",
    "\n",
    "En un **sistema de coordenadas esféricas** un punto $P$ del espacio se representa por medio de una terna ordenada\n",
    "$\\left(\\rho,\\theta,\\phi\\right)$, donde:\n",
    "\n",
    "* $\\rho$ es la distancia entre $P$ y el origen ($\\rho \\geq 0$).\n",
    "* $\\theta$ es el mismo ángulo utilizado en coordenadas cilíndricas para $r\\geq 0$.\n",
    "* $\\phi$ es el ángulo entre el eje $Z$ positivo y el segmento de recta $OP$ ($0\\leq \\phi \\leq \\pi$).\n",
    "\n",
    "<img src=\"../../images/1.8.coordenadas_esfericas.jpg\" width=\"350\"/>\n",
    "\n",
    "````\n",
    "\n",
    "Para realizar los cambios de coordenadas, de cartesianas a esféricas y viceversa, aplicaremos las siguientes fórmulas:\n",
    "\n",
    "* **Cartesianas a esféricas**: \n",
    "\n",
    "    $\\rho = \\sqrt{x^2+y^2+z^2}$, $\\theta = \\arctan\\left(\\frac{y}{x}\\right)$, $\\phi = \\arccos\\left(\\frac{z}{\\sqrt{x^2+y^2+z^2}}\\right)$.\n",
    "* **Esféricas a cartesianas**:\n",
    "\n",
    "    $x = r\\sin(\\phi)\\cos(\\theta)$, $y=r\\sin(\\phi)\\sin(\\theta)$, $z=\\rho\\cos(\\phi)$.\n",
    "\n",
    "Si nos interesa cambiar de cilíndricas a esféricas, o viceversa:\n",
    "\n",
    "* **Esféricas a cilíndricas**: \n",
    "\n",
    "    $r^2 = \\rho^2 \\sin^2(\\theta)$, $\\theta = \\theta$, $z = \\rho\\cos(\\theta)$.\n",
    "* **Cilíndricas a esféricas**:\n",
    "\n",
    "    $\\rho = \\sqrt{r^2+z^2}$, $\\theta = \\theta$, $\\phi=\\arccos\\left( \\frac{z}{\\sqrt{r^2+z^2}} \\right)$.\n",
    "\n",
    "El sistema de coordenadas esféricas es útil, sobre todo, en superficies en $\\mathbb{R}^3$ que tienen un punto o un eje de simetría. Por ejemplo:\n",
    "\n",
    "<img src=\"../../images/1.8.superficies_coordenadas_esfericas.jpg\" width=\"1000\"/>\n",
    "\n",
    "Como curiosidad, podemos comentar que el sistema de longitud-latitud, que se usa en posicionamiento GPS para describir un punto en la superficie de la Tierra, \n",
    "corresponde a una variante (el ángulo $\\phi$ se mide desde el plano) de las coordenadas esféricas:\n",
    "\n",
    "<img src=\"../../images/1.8.latitud_longitud.jpg\" width=\"600\"/>\n",
    "\n",
    "Por ejemplo...\n",
    "\n",
    "<img src=\"../../images/1.8.FIC_GPS.jpg\" width=\"600\"/>\n",
    "\n",
    "Si quieres enterarte más de esto, puedes consultar, por ejemplo: https://world.ubergizmo.com/es/como/aprende-a-leer-las-coordenadas-del-gps/.\n"
   ]
  },
  {
   "cell_type": "markdown",
   "metadata": {},
   "source": [
    "## Algunos ejercicios resueltos con `Python`\n",
    "\n",
    "Vamos a ver a continuación algunos **ejercicios/ejemplos de cambios de coordenadas**. \n",
    "\n",
    "* **Ejercicio 1:** Pasar el punto $P_{1} = (x,y,z) = (3,5,4)$ a coordenadas cilíndricas y esféricas.\n",
    "* **Ejercicio 2:** Pasar el punto $P_{2} = (r,\\theta,z) = (2,\\frac{\\pi}{4},-3)$ a coordenadas cartesianas y esféricas.\n",
    "* **Ejercicio 3:** Pasar el punto $P_{3} = (\\rho,\\theta,\\phi) = (2,\\frac{\\pi}{4},\\frac{\\pi}{4})$ a coordenadas cartesianas y cilíndricas."
   ]
  },
  {
   "cell_type": "code",
   "execution_count": 1,
   "metadata": {},
   "outputs": [
    {
     "name": "stdout",
     "output_type": "stream",
     "text": [
      "Dato: P_car=  [3. 5. 4.]\n",
      "P_cil=  (5.830951894845301, 1.0303768265243125, 4.0)\n",
      "P_esf=  (7.0710678118654755, 1.0303768265243125, 0.9695321101157683)\n"
     ]
    }
   ],
   "source": [
    "# Resolvemos el ejercicio 1. Dejamos 2 y 3 para que practiquéis\n",
    "\n",
    "import numpy as np\n",
    "\n",
    "def cart_2_cil(P):\n",
    "    r = np.sqrt(P[0]**2+P[1]**2)\n",
    "    theta = np.arctan(P[1]/P[0])\n",
    "    z = P[2]\n",
    "    return r,theta,z\n",
    "\n",
    "def cart_2_esf(P):\n",
    "    rho = np.sqrt( P[0]**2+P[1]**2+P[2]**2 )\n",
    "    theta = np.arctan(P[1]/P[0])\n",
    "    phi = np.arccos( P[2]/rho )\n",
    "    return rho,theta,phi\n",
    "\n",
    "P_car = np.zeros(3)\n",
    "P_cil = np.zeros(3)\n",
    "P_esf = np.zeros(3)\n",
    "\n",
    "# Dato\n",
    "P_car = np.array([3., 5., 4.])\n",
    "\n",
    "# Cambiamos de coordenadas\n",
    "P_cil = cart_2_cil(P_car)\n",
    "P_esf = cart_2_esf(P_car)\n",
    "\n",
    "print('Dato: P_car= ', P_car)\n",
    "print('P_cil= ',P_cil)\n",
    "print('P_esf= ',P_esf)\n"
   ]
  },
  {
   "cell_type": "markdown",
   "metadata": {},
   "source": [
    "Ahora nos vamos a quedar en el cálculo simbólico (es decir, en `Sympy`), para cambiar de coordenadas la ecuación de una superficie.\n",
    "\n",
    "* **Ejercicio 4:** Representa en coordenadas cilíndricas y esféricas la ecuación del cono $x^2+y^2=z^2$.\n",
    "* **Ejercicio 5:** Representa en coordenadas cilíndricas y esféricas la superficie que en coordenadas cartesianas \n",
    "    se representa como $x^2+y^2+z^2-4z=0$."
   ]
  },
  {
   "cell_type": "code",
   "execution_count": 2,
   "metadata": {},
   "outputs": [
    {
     "data": {
      "text/latex": [
       "$\\displaystyle r^{2} - z^{2} = 0$"
      ],
      "text/plain": [
       "Eq(r**2 - z**2, 0)"
      ]
     },
     "metadata": {},
     "output_type": "display_data"
    },
    {
     "data": {
      "text/latex": [
       "$\\displaystyle \\rho^{2} \\cos{\\left(2 \\phi \\right)} = 0$"
      ],
      "text/plain": [
       "Eq(rho**2*cos(2*phi), 0)"
      ]
     },
     "metadata": {},
     "output_type": "display_data"
    }
   ],
   "source": [
    "# Resolvemos el ejercicio 4 y os dejamos el 5 para que practiquéis\n",
    "\n",
    "import sympy as sp\n",
    "\n",
    "x = sp.Symbol('x')\n",
    "y = sp.Symbol('y')\n",
    "z = sp.Symbol('z')\n",
    "r = sp.Symbol('r', nonnegative = True)\n",
    "theta = sp.Symbol('theta')\n",
    "rho = sp.Symbol('rho', nonnegative = True)\n",
    "phi = sp.Symbol('phi')\n",
    "\n",
    "# Definimos la ecuación en cartesianas\n",
    "exp_cart = x**2+y**2 - z**2\n",
    "ec_cart = sp.Eq(exp_cart,0)\n",
    "\n",
    "# Pasamos la ecuación a cilíndricas\n",
    "ec_cil = ec_cart.subs({x:r*sp.cos(theta), y:r*sp.sin(theta), z:z})\n",
    "display(sp.simplify(ec_cil))\n",
    "\n",
    "# Pasamos la ecuación a esféricas\n",
    "ec_esf = ec_cart.subs({x:rho*sp.sin(phi)*sp.cos(theta), y:rho*sp.sin(phi)*sp.sin(theta), z:rho*sp.cos(phi)})\n",
    "display(sp.simplify(ec_esf))"
   ]
  }
 ],
 "metadata": {
  "kernelspec": {
   "display_name": "Python 3 (ipykernel)",
   "language": "python",
   "name": "python3"
  },
  "language_info": {
   "codemirror_mode": {
    "name": "ipython",
    "version": 3
   },
   "file_extension": ".py",
   "mimetype": "text/x-python",
   "name": "python",
   "nbconvert_exporter": "python",
   "pygments_lexer": "ipython3",
   "version": "3.11.1"
  },
  "vscode": {
   "interpreter": {
    "hash": "6bee1e8c92def9b58716ddd07d843225b81ed35493dd8048850a9a59c060c325"
   }
  }
 },
 "nbformat": 4,
 "nbformat_minor": 2
}