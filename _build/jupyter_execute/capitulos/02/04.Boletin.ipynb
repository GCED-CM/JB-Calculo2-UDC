{
 "cells": [
  {
   "cell_type": "markdown",
   "id": "24d611d7",
   "metadata": {},
   "source": [
    "# Boletín 1: Vectores y geometría del espacio\n",
    "\n",
    "Este boletín contiene una selección modificada de los problemas que aparecen recogidos en las secciones 13.1 y 13.2 (capítulo 13) del libro de R. Larson y B.H. Edwards, *Cálculo de 2 variables*, 10a, McGraw-Hill, 2016."
   ]
  },
  {
   "cell_type": "markdown",
   "id": "74f0e1d1",
   "metadata": {},
   "source": [
    "**<FONT SIZE=4>[1]</font>** Describe el dominio y el rango de las siguientes funciones:\n",
    "\n",
    "1. $g(x,y) = x\\sqrt{y}$,\n",
    "2. $h(x,y) = \\arccos(x+y)$,\n",
    "3. $s(x,y) = \\ln(xy-6)$,\n",
    "4. $u(x,y) = \\dfrac{-4x}{x^2+y^2+1}$.\n",
    "\n"
   ]
  },
  {
   "cell_type": "markdown",
   "id": "41da95a9",
   "metadata": {},
   "source": [
    "**<FONT SIZE=4>[2]</font>** Dibuja las curvas de nivel para los valores indicados de la constante $c$ en los siguientes casos. Hazlo sobre papel y, también, utilizando la función `contour` de `matplotlib.pyplot`, como se muestra en la Sección 2.1.3 del presente Jupyter Book.\n",
    "\n",
    "1. $z = x^2+4y^2$, $c=0$, $2$, $4$, $6$,\n",
    "2. $f(x,y) = xy$, $c=\\pm 1$, $\\pm 2$, $\\pm 3$, $\\pm 4$,\n",
    "3. $g(x,y) = \\dfrac{x}{x^2+y^2}$, $c=\\pm \\frac{1}{2}$, $\\pm 1$, $\\pm 2$,\n",
    "4. $h(x,y) = \\ln(x-y)$, $c=0$, $c=\\pm \\frac{1}{2}$, $\\pm 1$, \n",
    "5. $p(x,y) = \\dfrac{y}{x^2}$, $c=0$, $c=\\pm 1$, $\\pm 2$,\n",
    "6. $s(x,y) = 1-|x| - |y|$, $c=0$, $c=\\pm \\frac{1}{2}$, $\\pm 1$, $\\pm 2$."
   ]
  },
  {
   "cell_type": "markdown",
   "id": "42ad63f6",
   "metadata": {},
   "source": [
    "**<FONT SIZE=4>[3]</font>** Razona si son correctas las siguientes afirmaciones:\n",
    "\n",
    "1. Si $f\\left(x_{0}, y_{0}\\right) = f\\left(x_{1}, y_{1}\\right)$ entonces $x_{0}=x_{1}$ e $y_{0}=y_{1}$.\n",
    "2. Si $f$ es una función entonces $f(ax,ay) = a^2 f(x,y)$.\n",
    "3. Una recta vertical puede cortar a la gráfica de $z=f(x,y)$ como mucho en un solo punto.\n",
    "4. Dos curvas de nivel diferentes de la gráfica $z=f(x,y)$ pueden intersecarse."
   ]
  },
  {
   "cell_type": "markdown",
   "id": "8296a96a",
   "metadata": {},
   "source": [
    "**<FONT SIZE=4>[4]</font>** Calcula el límite en el punto indicado y analiza la continuidad en el mismo punto de las siguientes funciones:\n",
    "\n",
    "1. $$\\displaystyle\\lim_{(x,y)\\to(0,2)} \\dfrac{x}{y},$$\n",
    "2. $$\\displaystyle\\lim_{(x,y)\\to(1,1)} \\dfrac{x}{\\sqrt{x+y}},$$\n",
    "3. $$\\displaystyle\\lim_{(x,y)\\to(0,1)} \\dfrac{\\arcsin(xy)}{1-xy},$$\n",
    "4. $$\\displaystyle\\lim_{(x,y)\\to(2\\pi,4)} \\sin\\left(\\dfrac{x}{y}\\right).$$"
   ]
  },
  {
   "cell_type": "markdown",
   "id": "99dfe742",
   "metadata": {},
   "source": [
    "**<FONT SIZE=4>[5]</font>** Calcula el límite, si existe, y, si no es así, explica el motivo:\n",
    "\n",
    "1. $$\\displaystyle\\lim_{(x,y)\\to(1,1)} \\dfrac{xy-1}{1+xy},$$\n",
    "2. $$\\displaystyle\\lim_{(x,y)\\to(0,0)} \\dfrac{x^4-4y^4}{x^2+2y^2},$$\n",
    "3. $$\\displaystyle\\lim_{(x,y)\\to(0,0)} \\dfrac{x-y}{\\sqrt{x}-\\sqrt{y}},$$\n",
    "4. $$\\displaystyle\\lim_{(x,y,z)\\to(0,0,0)} \\dfrac{xy+yz^2+xz^2}{x^2+y^2+z^2},$$\n",
    "5. $$\\displaystyle\\lim_{(x,y)\\to(0,0)} \\dfrac{x}{\\sqrt{x^2+y^2}},$$\n",
    "6. $$\\displaystyle\\lim_{(x,y)\\to(0,0)} \\dfrac{x^2y^2}{\\left(x^2+y^2\\right)^2},$$\n",
    "7. $$\\displaystyle\\lim_{(x,y)\\to(0,0)} xy\\cos\\left(\\dfrac{1}{xy}\\right),$$\n",
    "8. $$\\displaystyle\\lim_{(x,y)\\to(0,0)} \\dfrac{x^2y^2}{x^2y^2+\\left(x-y\\right)^2},$$"
   ]
  },
  {
   "cell_type": "markdown",
   "id": "f8b1cd45",
   "metadata": {},
   "source": [
    "**<FONT SIZE=4>[6]</font>** Calcula los siguientes límites. Es muy posible que tengas que usar coordenadas polares o esféricas y la regla de l'Hôpital. Y, ya de paso, comprueba tus cálculos usando `sympy`, tal como se hace en la Sección 2.2.4.\n",
    "\n",
    "1. $$\\displaystyle\\lim_{(x,y)\\to(0,0)} \\dfrac{xy^2}{x^2+y^2},$$\n",
    "2. $$\\displaystyle\\lim_{(x,y)\\to(0,0)} \\dfrac{x^2-y^2}{\\sqrt{x^2+y^2}},$$\n",
    "3. $$\\displaystyle\\lim_{(x,y)\\to(0,0)} \\dfrac{\\sin(x^2+y^2)}{x^2+y^2},$$\n",
    "4. $$\\displaystyle\\lim_{(x,y)\\to(0,0)} \\left(x^2+y^2\\right)\\ln\\left(x^2+y^2\\right),$$\n",
    "5. $$\\displaystyle\\lim_{(x,y,z)\\to(0,0,0)} \\dfrac{xyz}{x^2+y^2},$$\n",
    "6. $$\\displaystyle\\lim_{(x,y,z)\\to(0,0,0)} \\arctan\\left(\\dfrac{1}{x^2+y^2+z^2}\\right),$$\n",
    "7. $$\\displaystyle\\lim_{(x,y)\\to(0,0)} \\dfrac{\\cos\\left(x^2+y^2\\right)-e^{x^2+y^2}}{\\sin\\left(x^2+y^2\\right)},$$\n",
    "8. $$\\displaystyle\\lim_{(x,y)\\to(0,0)} \\dfrac{x^2+y^2}{\\sqrt{x^2+y^2+1}-1}.$$"
   ]
  },
  {
   "cell_type": "markdown",
   "id": "3e806082",
   "metadata": {},
   "source": [
    "**<FONT SIZE=4>[7]</font>** Analiza la continuidad de las siguientes funciones respecto al valor del parámetro constante $a$:\n",
    "\n",
    "1. $$f(x,y)=\\left\\{ \\begin{array}{ll}\n",
    "\\dfrac{x^4-y^4}{x^2+y^2} & \\quad \\mbox{si}\\; (x,y)\\neq(0,0), \\\\\n",
    "a & \\quad \\mbox{si}\\; (x,y)=(0,0),\\end{array}\\right.$$\n",
    "2. $$f(x,y)=\\left\\{ \\begin{array}{ll}\n",
    "\\dfrac{4x^2y^2}{x^2+y^2} & \\quad \\mbox{si}\\; (x,y)\\neq(0,0), \\\\\n",
    "a & \\quad \\mbox{si}\\; (x,y)=(0,0),\\end{array}\\right.$$\n",
    "3. $$f(x,y)=\\left\\{ \\begin{array}{ll}\n",
    "\\dfrac{x^2+2xy^2+y^2}{x^2+y^2} & \\quad \\mbox{si}\\; (x,y)\\neq(0,0), \\\\\n",
    "a & \\quad \\mbox{si}\\; (x,y)=(0,0),\\end{array}\\right.$$\n",
    "4. $$f(x,y)=\\left\\{ \\begin{array}{ll}\n",
    "\\dfrac{\\sin(xy)}{xy} & \\quad \\mbox{si}\\; xy\\neq 0, \\\\\n",
    "a & \\quad \\mbox{si}\\; xy=0,\\end{array}\\right.$$\n",
    "5. $$f(x,y)=\\left\\{ \\begin{array}{ll}\n",
    "\\dfrac{\\sin\\left(x^2-y^2\\right)}{x^2-y^2} & \\quad \\mbox{si}\\; x^2\\neq y^2, \\\\\n",
    "a & \\quad \\mbox{si}\\; x^2=y^2,\\end{array}\\right.$$\n",
    "6. $$f(x,y,z) = \\frac{z}{x^2+y^2+a}.$$"
   ]
  },
  {
   "cell_type": "markdown",
   "id": "15966e42",
   "metadata": {},
   "source": [
    "**<FONT SIZE=4>[8]</font>** Dada la función \n",
    "\n",
    "$$f(x,y)=xy\\frac{x^2-y^2}{x^2+y^2},$$\n",
    "definir $f(0,0)$ de manera que $f$ sea continua en el origen de coordenadas."
   ]
  },
  {
   "cell_type": "markdown",
   "id": "b875647d",
   "metadata": {},
   "source": [
    "**<FONT SIZE=4>[9]</font>** Consideramos la siguiente función\n",
    "\n",
    "$$f(x,y)=\\left\\{ \\begin{array}{ll}\n",
    "\\dfrac{x^2+y^2}{\\alpha\\ln\\left(x^2+y^2+1\\right)}+\\beta x & \\quad \\mbox{si}\\; x\\neq 0\\; \\mbox{e}\\; y\\neq 0, \\\\\n",
    "\\gamma & \\quad \\mbox{si}\\; x=0\\; \\mbox{o}\\; y=0,\\end{array}\\right.$$\n",
    "siendo $\\alpha$, $\\beta$, $\\gamma\\in\\mathbb{R}$. Obtén los valores de estas constantes para que se verifiquen las siguientes propiedades (todas a la vez, por supuesto):\n",
    "\n",
    "1. El punto $(1,0)$ pertenece a la curva de nivel $1$ de $f$,\n",
    "2. la función $f$ es continua en el punto $(0,0)$ y\n",
    "3. la función $f$ es continua en el punto $(1,0)$."
   ]
  }
 ],
 "metadata": {
  "kernelspec": {
   "display_name": "Python 3 (ipykernel)",
   "language": "python",
   "name": "python3"
  },
  "language_info": {
   "codemirror_mode": {
    "name": "ipython",
    "version": 3
   },
   "file_extension": ".py",
   "mimetype": "text/x-python",
   "name": "python",
   "nbconvert_exporter": "python",
   "pygments_lexer": "ipython3",
   "version": "3.11.8"
  },
  "vscode": {
   "interpreter": {
    "hash": "f2c0f1c90395c109e1b87b1f4d6d2ea9e1b09c8587e65b0565fcfbe20df05a54"
   }
  }
 },
 "nbformat": 4,
 "nbformat_minor": 5
}