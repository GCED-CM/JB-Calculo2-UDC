{
 "cells": [
  {
   "cell_type": "markdown",
   "metadata": {},
   "source": [
    "# Cambio de variable\n",
    "\n",
    "Antes de empezar esta sección, te recomendamos que pongas al día tus conocimientos para funciones de una variable. Puedes consultar:\n",
    "\n",
    "* En este mismo Jupyter Book, la sección 4.1., Sección {ref}`sec:4.1.revision`.\n",
    "* Wikipedia: https://es.wikipedia.org/wiki/Métodos_de_integración#Integración_por_cambio_de_variable\n",
    "* ...\n",
    "\n",
    "## Matriz jacobiana y cambio de variable\n",
    "\n",
    "El método de cambio de variable esencialmente revierte la regla de la cadena para derivadas. En otras palabras, nos ayuda a integrar composición de funciones. A menudo, este método es útil para reducir la complejidad del cálculo de algunas integrales. Hay muchos casos en los que con las variables iniciales no sabremos resolver la integral, ya sea por la función a integrar, o por la complejidad de la expresión de los intervalos de integración. En estos casos, buscaremos cambios de variables que nos faciliten la resolución de la integral. \n",
    "\n",
    "````{prf:theorem} Cambio de variable en integrales dobles\n",
    ":label: cv_id\n",
    ":nonumber: \n",
    "\n",
    "Sea $R$ una región en el plano $XY$ y sea $S$ una región en el plano $UV$. Sean $\\mathbf{F}: S \\subset \\mathbb{R}^2 \\rightarrow \\mathbb{R}^2$ y $G: R \\subset \\mathbb{R}^2 \\rightarrow \\mathbb{R}$ dos funciones tales que $\\mathbf{F}$ es inyectiva y $\\mathbf{F}(u,v) = (F_1(u,v),F_2(u,v)) \\subset R$, donde $F_1$ y $F_2$ tienen primeras derivadas parciales continuas. Si $G$ es continua en $R$ y $\\det \\mathrm{J}\\mathbf{F}(u,v) \\neq 0$ en $S$, entonces\n",
    "\n",
    "$$\n",
    "\\displaystyle \\int_{R} \\int G(x,y) \\, dx \\, dy = \\int_{S} \\int (G \\circ \\mathbf{F})(u,v) |\\det \\mathrm{J}\\mathbf{F}(u,v)| \\, du \\, dv,\n",
    "$$\n",
    "\n",
    "donde $\\mathrm{J}\\mathbf{F}$ es la matriz jacobiana de $\\mathbf{F}$.\n",
    "````\n",
    "\n",
    "````{prf:example} \n",
    ":label: 4.x._ex\n",
    ":nonumber: \n",
    "\n",
    "Sea $R$ la región delimitada por las líneas\n",
    "\n",
    "$$\n",
    "x - 2y = 0, \\quad x - 2y = -4, \\quad x + y = 4, \\quad x + y = 1.\n",
    "$$\n",
    "\n",
    "<img src=\"../../images/5.4_Ejemplo_1.png\" width=\"250\"/>\n",
    "\n",
    "Evalúa la integral\n",
    "\n",
    "$$\n",
    "\\displaystyle \\int_R \\int 9xy \\, dA.\n",
    "$$\n",
    "\n",
    "**Solución:**\n",
    "\n",
    "Como es complejo establecer los intervalos de integración sobre $R$, vamos a definir una región $S$ más sencilla. Para ello, consideramos el siguiente cambio de variable: \n",
    "\n",
    "$$\n",
    "\\left\\{\\begin{array}{lcl}\n",
    "u &=& x + y \\\\\n",
    "v &=& x - 2y\n",
    "\\end{array}\\right.\n",
    "$$\n",
    "\n",
    "Ahora sí, fácilmente podemos deducir los intervalos de integración de las nuevas variables a partir de la nueva región $S = \\Big{\\{}(u,v) \\in \\mathbb{R}^2 \\Big{/} 1 \\le u \\le 4, -4 \\le v \\le 0\\Big{\\}}$. Además, despejando $x$ e $y$ a partir del cambio de variable propuesto, obtenemos la función $\\mathbf{F}: S \\subset \\mathbb{R}^2 \\rightarrow \\mathbb{R}^2$ tal que\n",
    "\n",
    "$$\n",
    "\\mathbf{F}(u,v) = \\left(\\frac{1}{3}(2u + v),\\frac{1}{3}(u - v)\\right).\n",
    "$$\n",
    "\n",
    "Como \n",
    "\n",
    "$$\n",
    "\\det\\mathrm{J}\\mathbf{F}(u,v) = \\begin{vmatrix}\n",
    "\\frac{2}{3} & \\frac{1}{3}\\\\\n",
    "\\frac{1}{3} & -\\frac{1}{3}\n",
    "\\end{vmatrix} \n",
    "= -\\frac{1}{3},\n",
    "$$\n",
    "\n",
    "por el resultado teórico anterior, obtenemos\n",
    "\n",
    "\\begin{equation*}\n",
    "\\begin{split}\n",
    "\\displaystyle \\int_{R} \\int 9xy \\, dA & = \\int_{S} \\int 9 \\left[\\frac{1}{3}(2u + v)\\frac{1}{3}(u - v)\\right] \\left|-\\frac{1}{3}\\right| \\, dv \\, du \\\\\n",
    " & = \\int_1^4 \\int_{-4}^0 \\frac{1}{3} (2u^2 - uv - v^2) \\, dv \\, du \\\\\n",
    " & = \\frac{1}{3} \\int_1^4 \\left[2u^2v - \\frac{uv^2}{2} - \\frac{v^3}{3}\\right]_{-4}^0 \\, du \\\\\n",
    " & = \\frac{1}{3} \\int_1^4 \\left(8u^2 + 8u - \\frac{64}{3}\\right) \\, du \\\\\n",
    " & = \\frac{1}{3} \\left[\\frac{8u^3}{3} + 4u^2 - \\frac{64}{3}u\\right]_1^4 \\\\\n",
    " & = \\frac{164}{3}.\n",
    "\\end{split}\n",
    "\\end{equation*}\n",
    "````\n",
    "\n",
    "Podemos usar `Sympy` para que nos confirme lo bien que trabajamos:"
   ]
  },
  {
   "cell_type": "code",
   "execution_count": 1,
   "metadata": {},
   "outputs": [
    {
     "data": {
      "text/latex": [
       "$\\displaystyle -0.333333333333333$"
      ],
      "text/plain": [
       "-0.333333333333333"
      ]
     },
     "metadata": {},
     "output_type": "display_data"
    },
    {
     "data": {
      "text/plain": [
       "'Valor de la integral: '"
      ]
     },
     "metadata": {},
     "output_type": "display_data"
    },
    {
     "data": {
      "text/latex": [
       "$\\displaystyle 54.6666666666667$"
      ],
      "text/plain": [
       "54.6666666666667"
      ]
     },
     "metadata": {},
     "output_type": "display_data"
    }
   ],
   "source": [
    "import sympy as sp\n",
    "\n",
    "x, y, u, v = sp.symbols('x y u v', real=True) # define las variables simbólicas x, y, u, v\n",
    "\n",
    "# Definimos las funciones F y G como matrices\n",
    "F = sp.Matrix([ 1/3*(2*u+v), 1/3*(u-v) ])\n",
    "G = sp.Matrix([ 9*x*y ])\n",
    "\n",
    "# Definimos la nueva función a integrar \n",
    "GoF_expr = G.subs(x,1/3*(2*u+v)).subs(y,1/3*(u-v))\n",
    "\n",
    "# Calculamos el determinante de la matriz jacobiana asociada a F\n",
    "det_jac_F = sp.det( F.jacobian([u,v]) )\n",
    "display(det_jac_F)\n",
    "\n",
    "# Calculamos la integral sobre la nueva región de integración\n",
    "res = sp.integrate(GoF_expr*abs(det_jac_F), (v, -4, 0), (u, 1, 4))\n",
    "display('Valor de la integral: ')\n",
    "display(sp.simplify(res[0]))"
   ]
  },
  {
   "cell_type": "markdown",
   "metadata": {},
   "source": [
    "## Integrales dobles en coordenadas polares\n",
    "\n",
    "En $\\mathbb{R}^2$, si la función a integrar o la región de integración tienen alguna clase de simetría radial, a menudo resulta conveniente aplicar la transformación de coordenadas cartesianas a coordenadas polares.\n",
    "\n",
    "````{prf:theorem} Cambio de variable a la forma polar\n",
    ":label: cv_id\n",
    ":nonumber: \n",
    "\n",
    "Sea $R$ una región en el plano $XY$ y sea $S$ una región en el plano $r\\theta$. Sean $\\mathbf{F}: S \\subset \\mathbb{R}^2 \\rightarrow \\mathbb{R}^2$ y $G: R \\subset \\mathbb{R}^2 \\rightarrow \\mathbb{R}$ dos funciones tales que $\\mathbf{F}(r,\\theta) = (r\\cos(\\theta),r\\sin(\\theta)) \\subset R$. Si $S = \\{(r,\\theta) \\in \\mathbb{R}^+ \\times [0,2\\pi] | \\alpha \\le \\theta \\le \\beta, 0 \\le g_1(\\theta) \\le r \\le g_2(\\theta)\\}$, donde $g_1$ y $g_2$ son continuas en $[\\alpha,\\beta]$ y $G$ es continua en $R$, entonces\n",
    "\n",
    "\\begin{eqnarray*}\n",
    "\\int_{R} \\int G(x,y) \\, dA &=& \\int_S \\int (G \\circ \\mathbf{F})(r,\\theta) |\\det \\mathrm{J}\\mathbf{F}(r,\\theta)| \\, dr \\, d\\theta \\\\ \n",
    "&=& \\int_{\\alpha}^{\\beta} \\int_{g_1(\\theta)}^{g_2(\\theta)} G(r\\cos(\\theta),r\\sin(\\theta)) r \\, dr \\, d\\theta.\n",
    "\\end{eqnarray*}\n",
    "````\n",
    "\n",
    "Fíjate que, en este caso, como la aplicación que define el cambio de variable es $\\mathbf{F}(r,\\theta) = (r\\cos(\\theta),r\\sin(\\theta)) \\subset R$, su matriz jacobiana será\n",
    "\n",
    "$$\n",
    "F(r,\\theta) = \\begin{bmatrix} \\cos\\theta & -r\\sin\\theta \\\\ \\sin\\theta & r\\cos\\theta\\end{bmatrix}\n",
    "$$\n",
    "y, por tanto, el valor absoluto del determinante de esta matriz será\n",
    "\n",
    "$$\n",
    "\\left| \\det\\mathrm{J}\\mathbf{F}(r,\\theta) \\right| = \\left| r\\cos^2\\theta + r\\sin^2\\theta \\right| = \\left| r\\right | = r.\n",
    "$$\n",
    "\n",
    "\n",
    "````{prf:example} \n",
    ":label: 4.x._ex\n",
    ":nonumber: \n",
    "\n",
    "Sea $R$ la región anular que se encuentra entre los dos círculos \n",
    "\n",
    "$$\n",
    "\\left\\{\\begin{array}{lcl}\n",
    "x^2 + y^2 &=& 1, \\\\\n",
    "x^2 + y^2 &=& 5.\n",
    "\\end{array}\\right.\n",
    "$$\n",
    "\n",
    "<img src=\"../../images/5.4_Ejemplo_2.png\" width=\"300\"/>\n",
    "\n",
    "Evalúa la integral\n",
    "\n",
    "$$\n",
    "\\displaystyle \\int_R \\int (x^2 + y) \\, dA.\n",
    "$$\n",
    "\n",
    "**Solución:**\n",
    "\n",
    "Utilizando el cambio de variable a la forma polar, tenemos $\\mathbf{F}: S \\subset \\mathbb{R}^2 \\rightarrow \\mathbb{R}^2$\n",
    "\n",
    "$$\n",
    "\\mathbf{F}(u,v) = (r\\cos(\\theta),r\\sin(\\theta)),\n",
    "$$\n",
    "\n",
    "donde los intervalos de integración de las nuevas variables son:\n",
    "\n",
    "$$\n",
    "0 \\le \\theta \\le 2\\pi \\quad \\text{ y } \\quad 1 \\le r \\le \\sqrt{5}.\n",
    "$$\n",
    "\n",
    "Por el resultado teórico anterior, obtenemos\n",
    "\n",
    "\\begin{equation*}\n",
    "\\begin{split}\n",
    "\\displaystyle \\int_{R} \\int (x^2 + y) \\, dA & = \\int_0^{2\\pi} \\int_{1}^{\\sqrt{5}} (r^2\\cos^2(\\theta) + r\\sin(\\theta))r \\, dr \\, d\\theta \\\\\n",
    " & = \\int_0^{2\\pi} \\int_{1}^{\\sqrt{5}} (r^3\\cos^2(\\theta) + r^2\\sin(\\theta)) \\, dr \\, d\\theta \\\\\n",
    " & = \\int_0^{2\\pi} \\left[\\frac{r^4}{4}\\cos^2(\\theta) + \\frac{r^3}{3}\\sin(\\theta)\\right]_1^{\\sqrt{5}} \\, d\\theta \\\\\n",
    " & = \\int_0^{2\\pi} \\left(6\\cos^2(\\theta) + \\frac{5\\sqrt{5}-1}{3}\\sin(\\theta)\\right) \\, d\\theta \\\\\n",
    " & = \\int_0^{2\\pi} \\left(3 + 3\\cos(2\\theta) + \\frac{5\\sqrt{5}-1}{3}\\sin(\\theta)\\right) \\, d\\theta \\\\\n",
    " & = \\left[3\\theta + \\frac{3\\sin(2\\theta)}{2} - \\frac{5\\sqrt{5}-1}{3}\\cos(\\theta)\\right]_0^{2\\pi} \\\\\n",
    " & = 6\\pi\n",
    "\\end{split}\n",
    "\\end{equation*}\n",
    "````\n",
    "\n",
    "Vamos a hacer que trabaje un poco nuestro oráculo de confianza. Con la ayuda de `Sympy`, vamos a comprobar que los cálculos realizados en el ejemplo anterior son correctos:"
   ]
  },
  {
   "cell_type": "code",
   "execution_count": 5,
   "metadata": {},
   "outputs": [
    {
     "data": {
      "text/plain": [
       "'Valor de la integral: '"
      ]
     },
     "metadata": {},
     "output_type": "display_data"
    },
    {
     "data": {
      "text/latex": [
       "$\\displaystyle 6 \\pi$"
      ],
      "text/plain": [
       "6*pi"
      ]
     },
     "metadata": {},
     "output_type": "display_data"
    }
   ],
   "source": [
    "import sympy as sp\n",
    "\n",
    "x, y, r, th = sp.symbols('x y r th', real=True) # define las variables simbólicas x, y, r, th\n",
    "\n",
    "# Definimos las funciones F y G como matrices\n",
    "F = sp.Matrix([ r*sp.cos(th), r*sp.sin(th) ])\n",
    "G = sp.Matrix([ x**2 + y ])\n",
    "\n",
    "# Definimos la nueva función a integrar \n",
    "GoF_expr = G.subs(x,r*sp.cos(th)).subs(y,r*sp.sin(th))\n",
    "\n",
    "# Calculamos el determinante de la matriz jacobiana asociada a F\n",
    "det_jac_F = sp.det( F.jacobian([r,th]) )\n",
    "\n",
    "# Calculamos la integral sobre la nueva región de integración\n",
    "res = sp.integrate(GoF_expr*abs(det_jac_F), (r, 1, sp.sqrt(5)), (th, 0, 2*sp.pi))\n",
    "# res = sp.integrate(GoF_expr[0]*abs(det_jac_F), (r, 1, sp.sqrt(5)), (th, 0, 2*sp.pi))\n",
    "display('Valor de la integral: ')\n",
    "display(sp.simplify(res[0]))\n",
    "# display(sp.simplify(res))"
   ]
  }
 ],
 "metadata": {
  "kernelspec": {
   "display_name": "Python 3 (ipykernel)",
   "language": "python",
   "name": "python3"
  },
  "language_info": {
   "codemirror_mode": {
    "name": "ipython",
    "version": 3
   },
   "file_extension": ".py",
   "mimetype": "text/x-python",
   "name": "python",
   "nbconvert_exporter": "python",
   "pygments_lexer": "ipython3",
   "version": "3.11.3"
  },
  "vscode": {
   "interpreter": {
    "hash": "6bee1e8c92def9b58716ddd07d843225b81ed35493dd8048850a9a59c060c325"
   }
  }
 },
 "nbformat": 4,
 "nbformat_minor": 2
}
