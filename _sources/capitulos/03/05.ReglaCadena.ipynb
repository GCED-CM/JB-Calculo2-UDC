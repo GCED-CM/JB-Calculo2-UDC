{
 "cells": [
  {
   "cell_type": "markdown",
   "metadata": {},
   "source": [
    "# Regla de la cadena \n",
    "\n",
    "## Matriz jacobiana y regla de la cadena\n",
    "\n",
    "La noción de matriz jacobiana, junto con la de regla general de la cadena, nos va a permitir calcular las derivadas parciales de una composición de funciones diferenciables. \n",
    "\n",
    "````{prf:theorem}  Diferenciabilidad de una función compuesta\n",
    ":label: th_dif_func_comp\n",
    ":nonumber: \n",
    "\n",
    "Sean $\\mathbf{F}: D \\subset \\mathbb{R}^n \\rightarrow \\mathbb{R}^m$ y $G: \\mathbb{R}^m \\rightarrow \\mathbb{R}$ dos funciones tales que $\\mathbf{F}(D) \\subset \\mathbb{R}^m$. Sea $\\mathbf{a} \\in D$ tal que $\\mathbf{F}$ es diferenciable en $\\mathbf{a}$ y $G$ es diferenciable en $\\mathbf{F}(\\mathbf{a})$. Entonces la función compuesta $G \\circ \\mathbf{F}$ es diferenciable en $\\mathbf{a}$ y a partir de la **regla general de la cadena** se tiene:\n",
    "\n",
    "$$\n",
    "\\mathrm{J}(G \\circ \\mathbf{F}) (\\mathbf{a}) = \\mathrm{J}G(\\mathbf{F}(\\mathbf{a}))\\mathrm{J}\\mathbf{F}(\\mathbf{a}),\n",
    "$$\n",
    "\n",
    "donde $\\mathrm{J}G = \\left[\\frac{\\partial G}{\\partial \\overline{x}_{1}}, \\frac{\\partial G}{\\partial \\overline{x}_{2}}, ... , \\frac{\\partial G}{\\partial \\overline{x}_{m}}\\right]$ es la matriz jacobiana de $G$, y \n",
    "\n",
    "$$\n",
    "\\mathrm{J}\\mathbf{F} =\n",
    "\\begin{bmatrix}\n",
    "\\frac{\\partial F_{1}}{\\partial x_{1}} & \\frac{\\partial F_{1}}{\\partial x_{2}} & ... & \\frac{\\partial F_{1}}{\\partial x_{n}} \\\\\n",
    "\\frac{\\partial F_{2}}{\\partial x_{1}} & \\frac{\\partial F_{2}}{\\partial x_{2}} & ... & \\frac{\\partial F_{2}}{\\partial x_{n}} \\\\\n",
    "... & ... & ... & ... \\\\\n",
    "\\frac{\\partial F_{m}}{\\partial x_{1}} & \\frac{\\partial F_{m}}{\\partial x_{2}} & ... & \\frac{\\partial F_{m}}{\\partial x_{n}} \\\\\n",
    "\\end{bmatrix}\n",
    "$$\n",
    "\n",
    "es la matriz jacobiana de $\\mathbf{F}$.\n",
    "````\n",
    "\n",
    "**NOTA 1:** Recuerda que para una función $G: \\mathbb{R}^m \\rightarrow \\mathbb{R}$, la matriz jacobiana es igual a la transpuesta del gradiente. Por tanto, a partir de la igualdad anterior, tenemos que \n",
    "\n",
    "$$\n",
    "\\mathrm{J}(G \\circ \\mathbf{F}) (\\mathbf{a}) = (\\mathbf{\\nabla}G)^\\mathrm{t} (\\mathbf{F}(\\mathbf{a}))\\mathrm{J}\\mathbf{F}(\\mathbf{a}).\n",
    "$$\n",
    "\n",
    "**NOTA 2:** La regla de la cadena para el caso multivariable es una generalización de la regla de la cadena para una variable. Si $n = m = 1$, tal que $a \\in \\mathbb{R}$, $\\mathbf{F}: D \\subset \\mathbb{R} \\rightarrow \\mathbb{R}$ y $G: \\mathbb{R} \\rightarrow \\mathbb{R}$, entonces \n",
    "\n",
    "$$\n",
    "\\mathrm{J}(G \\circ F) (a) = \\mathrm{J}G(F(a))\\mathrm{J}F(a) = G'(F(a))F'(a).\n",
    "$$\n",
    "\n",
    "````{prf:remark} Regla de la cadena para una variable independiente\n",
    ":label: rc_01_regla_cadena\n",
    ":nonumber:\n",
    "\n",
    "Sea $w = G(x_1,x_2,...,x_m)$, donde $G$ es una función diferenciable de las $m$ variables $x_1, x_2, ... , x_m$. Si cada una de las $x_j = F_j(t)$ es una función diferenciable de $t$, entonces $w$ es una función diferenciable de $t$, y\n",
    "\n",
    "$$\n",
    "\\frac{dw}{dt} = (\\mathbf{\\nabla}G)^\\mathrm{t} (\\mathbf{F}(t))\\mathrm{J}\\mathbf{F}(t) = \\frac{\\partial w}{\\partial x_1}\\frac{dx_1}{dt} + \\frac{\\partial w}{\\partial x_2}\\frac{dx_2}{dt} + ... + \\frac{\\partial w}{\\partial x_m}\\frac{dx_m}{dt}.\n",
    "$$\n",
    "````\n",
    "\n",
    "¡A practicar!\n",
    "\n",
    "````{prf:example}  \n",
    ":label: 3.x._ex\n",
    ":nonumber: \n",
    "\n",
    "Sea $w = x^2y - y^2$ donde $x = \\sin(t)$ e $y = e^t$. Calcular $\\frac{\\partial w}{\\partial t}$.\n",
    "\n",
    "**Solución:**\n",
    "\n",
    "Por la regla de la cadena para una variable independiente, tenemos que\n",
    "\n",
    "\\begin{equation*} \n",
    "\\begin{split}\n",
    "\\frac{dw}{dt} & = \\frac{\\partial w}{\\partial x} \\frac{\\partial x}{\\partial t} + \\frac{\\partial w}{\\partial y} \\frac{\\partial y}{\\partial t} \\\\\n",
    " & = 2xy(\\cos(t)) + (x^2 - 2y)e^t \\\\\n",
    " & = 2\\color{blue}{\\sin(t)}\\color{blue}{e^t}\\cos(t) + (\\color{blue}{\\sin}^2\\color{blue}{(t)} - 2\\color{blue}{e^t})e^t \\\\\n",
    " & = 2e^t\\sin(t)\\cos(t) + e^t\\sin^2(t) - 2e^(2t).\n",
    "\\end{split}\n",
    "\\end{equation*}\n",
    "````\n",
    "\n",
    "````{prf:remark} Regla de la cadena para dos variables independientes\n",
    ":label: rc_02_regla_cadena\n",
    ":nonumber:\n",
    "\n",
    "Sea $w = G(x_1,x_2,...,x_m)$, donde $G$ es una función diferenciable de las $m$ variables $x_1, x_2, ... , x_m$. Si cada una de las $x_j = F_j(s,t)$ es una función diferenciable de $s$ y $t$, entonces $w$ es una función diferenciable de $s$ y $t$, y \n",
    "\n",
    "$$\n",
    "\\begin{bmatrix}\n",
    "\\frac{\\partial w}{\\partial s}\\\\\n",
    "\\frac{\\partial w}{\\partial t}\\\\\n",
    "\\end{bmatrix}\n",
    "= (\\mathbf{\\nabla}G)^\\mathrm{t} (\\mathbf{F}(s,t))\\mathrm{J}\\mathbf{F}(s,t) = \n",
    "\\begin{bmatrix}\n",
    "\\frac{\\partial w}{\\partial x_1}\\frac{\\partial x_1}{\\partial s} + \\frac{\\partial w}{\\partial x_2}\\frac{\\partial x_2}{\\partial s} + \\ldots + \\frac{\\partial w}{\\partial x_m}\\frac{\\partial x_m}{\\partial s}\\\\\n",
    "\\frac{\\partial w}{\\partial x_1}\\frac{\\partial x_1}{\\partial t} + \\frac{\\partial w}{\\partial x_2}\\frac{\\partial x_2}{\\partial t} + \\ldots + \\frac{\\partial w}{\\partial x_m}\\frac{\\partial x_m}{\\partial t}\n",
    "\\end{bmatrix}\n",
    "$$\n",
    "````\n",
    "\n",
    "¡Sigamos practicando!\n",
    "\n",
    "````{prf:example}  \n",
    ":label: 3.x._ex\n",
    ":nonumber: \n",
    "\n",
    "Utiliza la regla de la cadena para calcular $\\frac{dw}{ds}$ y $\\frac{dw}{dt}$ para $w = 2xy$ donde $x = s^2 + t^2$ e $y = s/t$. \n",
    "\n",
    "**Solución:**\n",
    "\n",
    "Por la regla de la cadena para dos variables independientes, obtenemos que\n",
    "\n",
    "$$\n",
    "\\begin{bmatrix}\n",
    "\\frac{\\partial w}{\\partial s}\\\\\n",
    "\\frac{\\partial w}{\\partial t}\\\\\n",
    "\\end{bmatrix} = \n",
    "\\begin{bmatrix}\n",
    "\\frac{\\partial w}{\\partial x} \\frac{\\partial x}{\\partial s} + \\frac{\\partial w}{\\partial y} \\frac{\\partial y}{\\partial s}\\\\\n",
    "\\frac{\\partial w}{\\partial x} \\frac{\\partial x}{\\partial t} + \\frac{\\partial w}{\\partial y} \\frac{\\partial y}{\\partial t}\\\\\n",
    "\\end{bmatrix} =\n",
    "\\begin{bmatrix}\n",
    "2y(2s) + 2x\\frac{1}{t}\\\\\n",
    "2y(2t) + 2x\\frac{-s}{t^2}\\\\\n",
    "\\end{bmatrix} = \n",
    "\\begin{bmatrix}\n",
    "2 \\color{blue}{\\frac{s}{t}}(2s) + 2(\\color{blue}{s^2 + t^2})\\frac{1}{t}\\\\\n",
    "2\\color{blue}{\\frac{s}{t}}(2t) + 2(\\color{blue}{s^2 + t^2})\\frac{-s}{t^2}\\\\\n",
    "\\end{bmatrix} = \n",
    "\\begin{bmatrix}\n",
    "\\frac{4s^2}{t} + \\frac{2s^2 + 2t^2}{t}\\\\\n",
    "4s - \\frac{2s^3 + 2st^2}{t^2}\\\\\n",
    "\\end{bmatrix} = \n",
    "\\begin{bmatrix}\n",
    "\\frac{6s^2 + 2t^2}{t}\\\\\n",
    "\\frac{2st^2 - 2s^3}{t^2}\\\\\n",
    "\\end{bmatrix} \n",
    "$$\n",
    "````\n",
    "\n",
    "Vamos ahora a practicar con `Python`."
   ]
  },
  {
   "cell_type": "code",
   "execution_count": 1,
   "metadata": {},
   "outputs": [],
   "source": [
    "import sympy as sp"
   ]
  },
  {
   "cell_type": "code",
   "execution_count": 2,
   "metadata": {},
   "outputs": [
    {
     "name": "stdout",
     "output_type": "stream",
     "text": [
      "Derivada parcial de w con respecto a s: \n"
     ]
    },
    {
     "data": {
      "text/latex": [
       "$\\displaystyle \\frac{6 s^{2}}{t} + 2 t$"
      ],
      "text/plain": [
       "6*s**2/t + 2*t"
      ]
     },
     "metadata": {},
     "output_type": "display_data"
    },
    {
     "name": "stdout",
     "output_type": "stream",
     "text": [
      "Derivada parcial de w con respecto a t: \n"
     ]
    },
    {
     "data": {
      "text/latex": [
       "$\\displaystyle - \\frac{2 s^{3}}{t^{2}} + 2 s$"
      ],
      "text/plain": [
       "-2*s**3/t**2 + 2*s"
      ]
     },
     "metadata": {},
     "output_type": "display_data"
    }
   ],
   "source": [
    "x, y, s, t = sp.symbols('x y s t', real=True) # define las variables simbólicas x, y, s, t \n",
    "\n",
    "w = 2*x*y # define w(x,y)\n",
    "xx = s**2 + t**2 # define x(s,t)\n",
    "yy = s/t # define y(s,t)\n",
    "\n",
    "# Cálculo de las derivadas parciales de w con respecto a s y t:\n",
    "F, G = sp.Matrix([xx, yy]), sp.Matrix([w])\n",
    "jac_F, jac_G = F.jacobian([s,t]), G.jacobian([x,y]) # cálculo del jacobiano de F y G\n",
    "dw_s, dw_t = sp.simplify(jac_G.subs({x:s**2+t**2,y:s/t})*jac_F)\n",
    "\n",
    "# Cálculo de la derivada de w con respecto a s:\n",
    "print('Derivada parcial de w con respecto a s: ')\n",
    "display(dw_s)\n",
    "\n",
    "# Cálculo de la derivada de w con respecto a t:\n",
    "print('Derivada parcial de w con respecto a t: ')\n",
    "display(dw_t)"
   ]
  },
  {
   "cell_type": "markdown",
   "metadata": {},
   "source": [
    "## Derivación implícita\n",
    "\n",
    "Si queremos calcular las derivadas de una función que depende de una o varias variables no tenemos porque conocer su expresión de forma explícita, puede venir dada implícitamente. Por ejemplo, la función $y = f(x)$ puede venir determinada por la expresión $y^3 + y^2 - 5y - x^2 = -4$. En este caso, no se conoce de forma explícita cuál es la expresión de $f$ en términos de $x$. A pesar de ello, es posible calcular la derivada parcial $\\partial f/\\partial x$. \n",
    "\n",
    "````{prf:definition} Regla de la cadena: derivación implícita\n",
    ":label: def_rc_2vi\n",
    ":nonumber: \n",
    "\n",
    "Si la ecuación $F(x,y) = 0$ define a $y$ implícitamente como función derivable de $x$, entonces\n",
    "\n",
    "$$\n",
    "\\frac{\\partial y}{\\partial x} = -\\frac{F_x(x,y)}{F_y(x,y)}, \\quad F_y(x,y) \\neq 0.\n",
    "$$\n",
    "\n",
    "Si la ecuación $F(x,y,z) = 0$ define a $z$ implícitamente como función diferenciable de $x$ e $y$, entonces\n",
    "\n",
    "$$\n",
    "\\frac{\\partial z}{\\partial x} = -\\frac{F_x(x,y,z)}{F_z(x,y,z)} \\quad \\textrm{ y } \\quad \\frac{\\partial z}{\\partial y} = -\\frac{F_y(x,y,z)}{F_z(x,y,z)}, \\quad F_z(x,y,z) \\neq 0.\n",
    "$$\n",
    "````\n",
    "\n",
    "¡A seguir practicando!\n",
    "\n",
    "````{prf:example}  \n",
    ":label: 3.x._ex\n",
    ":nonumber: \n",
    "\n",
    "Calcular $\\frac{\\partial y}{partial x}$ para $y^3 + y^2 - 5y - x^2 = -4$. \n",
    "\n",
    "**Solución:**\n",
    "\n",
    "Tomando $F$ tal que $F(x,y) = 0$, tenemos que\n",
    "\n",
    "$$\n",
    "F(x,y) = y^3 + y^2 - 5y - x^2 + 4.\n",
    "$$\n",
    "\n",
    "Entonces\n",
    "\n",
    "$$\n",
    "F_x(x,y) = -2x \\quad \\textrm{ y } \\quad F_y(x,y) = 3y^2 + 2y - 5.\n",
    "$$\n",
    "\n",
    "Usando el resultado teórico de derivación implícita, obtenemos que\n",
    "\n",
    "$$\n",
    "\\frac{\\partial y}{\\partial x} = -\\frac{F_x(x,y)}{F_y(x,y)} = - \\frac{(-2x)}{3y^2 + 2y - 5} = \\frac{2x}{3y^2 + 2y - 5}.\n",
    "$$\n",
    "````\n",
    "\n",
    "Vamos a comprobar que el cálculo es correcto con la ayuda de `Python`."
   ]
  },
  {
   "cell_type": "code",
   "execution_count": 3,
   "metadata": {},
   "outputs": [
    {
     "data": {
      "text/latex": [
       "$\\displaystyle - x^{2} + y^{3} + y^{2} - 5 y + 4 = 0$"
      ],
      "text/plain": [
       "Eq(-x**2 + y**3 + y**2 - 5*y + 4, 0)"
      ]
     },
     "metadata": {},
     "output_type": "display_data"
    },
    {
     "name": "stdout",
     "output_type": "stream",
     "text": [
      "Derivada implícita con respecto a x: \n"
     ]
    },
    {
     "data": {
      "text/latex": [
       "$\\displaystyle \\frac{2 x}{3 y^{2} + 2 y - 5}$"
      ],
      "text/plain": [
       "2*x/(3*y**2 + 2*y - 5)"
      ]
     },
     "metadata": {},
     "output_type": "display_data"
    }
   ],
   "source": [
    "x, y = sp.symbols('x y', real=True) # define la variable simbólica x e y \n",
    "\n",
    "F = y**3 + y**2 - 5*y - x**2 + 4 # define F tal que F(x,y) = 0\n",
    "display(sp.Eq(F,0))\n",
    "\n",
    "# Cálculo de la derivada implícita con respecto a x\n",
    "F_x, F_y = sp.diff(F, x), sp.diff(F, y) \n",
    "y_x = - F_x/F_y\n",
    "print('Derivada implícita con respecto a x: ')\n",
    "display(y_x)"
   ]
  }
 ],
 "metadata": {
  "kernelspec": {
   "display_name": "Python 3 (ipykernel)",
   "language": "python",
   "name": "python3"
  },
  "language_info": {
   "codemirror_mode": {
    "name": "ipython",
    "version": 3
   },
   "file_extension": ".py",
   "mimetype": "text/x-python",
   "name": "python",
   "nbconvert_exporter": "python",
   "pygments_lexer": "ipython3",
   "version": "3.9.12"
  },
  "vscode": {
   "interpreter": {
    "hash": "6bee1e8c92def9b58716ddd07d843225b81ed35493dd8048850a9a59c060c325"
   }
  }
 },
 "nbformat": 4,
 "nbformat_minor": 2
}
