{
 "cells": [
  {
   "attachments": {},
   "cell_type": "markdown",
   "metadata": {},
   "source": [
    "# Regla de la cadena \n",
    "\n",
    "## Matriz jacobiana y regla de la cadena\n",
    "\n",
    "La noción de matriz jacobiana, junto con la de regla general de la cadena, nos va a permitir calcular las derivadas parciales de una composición de funciones diferenciables. \n",
    "\n",
    "````{prf:theorem}  Diferenciabilidad de una función compuesta\n",
    ":label: th_dif_func_comp\n",
    ":nonumber: \n",
    "\n",
    "Sean $\\mathbf{F}: D \\subset \\mathbb{R}^n \\rightarrow \\mathbb{R}^m$ y $G: \\mathbb{R}^m \\rightarrow \\mathbb{R}$ dos funciones tales que $\\mathbf{F}(D) \\subset \\mathbb{R}^m$. Sea $\\mathbf{a} \\in D$ tal que $\\mathbf{F}$ es diferenciable en $\\mathbf{a}$ y $G$ es diferenciable en $\\mathbf{F}(\\mathbf{a})$. Entonces la función compuesta $G \\circ \\mathbf{F}$ es diferenciable en $\\mathbf{a}$ y a partir de la **regla general de la cadena** se tiene:\n",
    "\n",
    "$$\n",
    "\\mathrm{J}(G \\circ \\mathbf{F}) (\\mathbf{a}) = \\mathrm{J}G(\\mathbf{F}(\\mathbf{a})) \\; \\mathrm{J}\\mathbf{F}(\\mathbf{a}),\n",
    "$$\n",
    "\n",
    "donde $\\mathrm{J}G = \\left[\\frac{\\partial G}{\\partial \\overline{x}_{1}}, \\frac{\\partial G}{\\partial \\overline{x}_{2}}, ... , \\frac{\\partial G}{\\partial \\overline{x}_{m}}\\right]$ es la matriz jacobiana de $G$, y \n",
    "\n",
    "$$\n",
    "\\mathrm{J}\\mathbf{F} =\n",
    "\\begin{bmatrix}\n",
    "\\frac{\\partial F_{1}}{\\partial x_{1}} & \\frac{\\partial F_{1}}{\\partial x_{2}} & ... & \\frac{\\partial F_{1}}{\\partial x_{n}} \\\\\n",
    "\\frac{\\partial F_{2}}{\\partial x_{1}} & \\frac{\\partial F_{2}}{\\partial x_{2}} & ... & \\frac{\\partial F_{2}}{\\partial x_{n}} \\\\\n",
    "... & ... & ... & ... \\\\\n",
    "\\frac{\\partial F_{m}}{\\partial x_{1}} & \\frac{\\partial F_{m}}{\\partial x_{2}} & ... & \\frac{\\partial F_{m}}{\\partial x_{n}} \\\\\n",
    "\\end{bmatrix}\n",
    "$$\n",
    "\n",
    "es la matriz jacobiana de $\\mathbf{F}$.\n",
    "````\n",
    "\n",
    "**NOTA 1:** Recuerda que para una función $G: \\mathbb{R}^m \\rightarrow \\mathbb{R}$, la matriz jacobiana es igual a la transpuesta del gradiente. Por tanto, a partir de la igualdad anterior, tenemos que \n",
    "\n",
    "$$\n",
    "\\mathrm{J}(G \\circ \\mathbf{F}) (\\mathbf{a}) = (\\mathbf{\\nabla}G)^\\mathrm{t} (\\mathbf{F}(\\mathbf{a})) \\; \\mathrm{J}\\mathbf{F}(\\mathbf{a}).\n",
    "$$\n",
    "\n",
    "**NOTA 2:** La regla de la cadena para el caso multivariable es una generalización de la regla de la cadena para una variable. Si $n = m = 1$, tal que $a \\in \\mathbb{R}$, $\\mathbf{F}: D \\subset \\mathbb{R} \\rightarrow \\mathbb{R}$ y $G: \\mathbb{R} \\rightarrow \\mathbb{R}$, entonces \n",
    "\n",
    "$$\n",
    "\\mathrm{J}(G \\circ F) (a) = \\mathrm{J}G(F(a)) \\; \\mathrm{J}F(a) = G'(F(a))\\; F'(a).\n",
    "$$\n",
    "\n",
    "Aunque no lo haremos así, os dejamos un par de *remarks*, por si lo veis en algún libro y os llama la atención:\n",
    "\n",
    "````{prf:remark} Regla de la cadena para una variable independiente\n",
    ":label: rc_01_regla_cadena\n",
    ":nonumber:\n",
    "\n",
    "Sea $w = G(x_1,x_2,...,x_m)$, donde $G$ es una función diferenciable de las $m$ variables $x_1, x_2, ... , x_m$. Si cada una de las $x_j = F_j(t)$ es una función diferenciable de $t$, entonces $w$ es una función diferenciable de $t$, y\n",
    "\n",
    "$$\n",
    "\\frac{dw}{dt} = (\\mathbf{\\nabla}G)^\\mathrm{t} (\\mathbf{F}(t)) \\; \\mathrm{J}\\mathbf{F}(t) = \\frac{\\partial w}{\\partial x_1}\\frac{dx_1}{dt} + \\frac{\\partial w}{\\partial x_2}\\frac{dx_2}{dt} + ... + \\frac{\\partial w}{\\partial x_m}\\frac{dx_m}{dt}.\n",
    "$$\n",
    "````\n",
    "\n",
    "````{prf:remark} Regla de la cadena para dos variables independientes\n",
    ":label: rc_02_regla_cadena\n",
    ":nonumber:\n",
    "\n",
    "Sea $w = G(x_1,x_2,...,x_m)$, donde $G$ es una función diferenciable de las $m$ variables $x_1, x_2, ... , x_m$. Si cada una de las $x_j = F_j(s,t)$ es una función diferenciable de $s$ y $t$, entonces $w$ es una función diferenciable de $s$ y $t$, y \n",
    "\n",
    "$$\n",
    "\\begin{bmatrix}\n",
    "\\frac{\\partial w}{\\partial s}\\\\\n",
    "\\frac{\\partial w}{\\partial t}\\\\\n",
    "\\end{bmatrix}\n",
    "= (\\mathbf{\\nabla}G)^\\mathrm{t} (\\mathbf{F}(s,t)) \\; \\mathrm{J}\\mathbf{F}(s,t) = \n",
    "\\begin{bmatrix}\n",
    "\\frac{\\partial w}{\\partial x_1}\\frac{\\partial x_1}{\\partial s} + \\frac{\\partial w}{\\partial x_2}\\frac{\\partial x_2}{\\partial s} + \\ldots + \\frac{\\partial w}{\\partial x_m}\\frac{\\partial x_m}{\\partial s}\\\\\n",
    "\\frac{\\partial w}{\\partial x_1}\\frac{\\partial x_1}{\\partial t} + \\frac{\\partial w}{\\partial x_2}\\frac{\\partial x_2}{\\partial t} + \\ldots + \\frac{\\partial w}{\\partial x_m}\\frac{\\partial x_m}{\\partial t}\n",
    "\\end{bmatrix}\n",
    "$$\n",
    "````"
   ]
  },
  {
   "attachments": {},
   "cell_type": "markdown",
   "metadata": {},
   "source": [
    "## Ejemplo una variable\n",
    "\n",
    "Consideramos la composición de funciones:\n",
    "\n",
    "$$\n",
    "\\begin{array}{ccccc}\n",
    "\\mathbb{R} & \\stackrel{\\mathbf{F}}{\\longrightarrow} & \\mathbb{R}^{2} & \\stackrel{G}{\\longrightarrow} & \\mathbb{R} \\\\\n",
    "t &\\to & \\mathbf{F}(t) = \\begin{bmatrix} x=\\sin(t) \\\\ y=e^{t} \\end{bmatrix} & \\to & G(x,y) = x^2y-y^2 \n",
    "\\end{array}\n",
    "$$\n",
    "\n",
    "Vamos a calcular el jacobiano de esta composición. Recordemos que\n",
    "\n",
    "$$\n",
    "\\mathrm{J}\\left( G\\circ\\mathbf{F}\\right)(t) = \\mathrm{J}G(\\mathbf{F}(t)) \\; \\mathrm{J}\\mathbf{F}(t).\n",
    "$$\n",
    "\n",
    "Vamos a calcular cada uno de los factores de este producto:\n",
    "\n",
    "$$\n",
    "\\mathrm{J}\\mathbf{F}(t) = \\begin{bmatrix} \\frac{\\partial x}{\\partial t} (t) \\\\ \\\\ \\frac{\\partial y}{\\partial t} (t) \\end{bmatrix}\n",
    "= \\begin{bmatrix} \\cos(t) \\\\ \\\\ e^t \\end{bmatrix}. \n",
    "$$\n",
    "\n",
    "El segundo factor es:\n",
    "\n",
    "$$\n",
    "\\mathrm{J}G(x,y) = \\begin{bmatrix} \\dfrac{\\partial G}{\\partial x} (x,y) & \\dfrac{\\partial G}{\\partial y} (x,y) \\end{bmatrix} = \n",
    "\\begin{bmatrix} 2xy & x^2-2y\\end{bmatrix},\n",
    "$$\n",
    "entonces:\n",
    "\n",
    "$$\n",
    "\\mathrm{J}G (\\mathbf{F}(t)) = \\mathrm{J}G \\left( \\sin(t), e^{t} \\right) = \\begin{bmatrix} 2\\sin(t) e^{t} & \\sin^2(t)-2e^{t}\\end{bmatrix}.\n",
    "$$\n",
    "Y, por lo tanto,\n",
    "\n",
    "$$\n",
    "\\mathrm{J}\\left( G\\circ\\mathbf{F}\\right)(t) = \\begin{bmatrix} 2\\sin(t) e^{t} & \\sin^2(t)-2e^{t}\\end{bmatrix} \\begin{bmatrix} \\cos(t) \\\\ \\\\ e^t \\end{bmatrix} \n",
    "= 2e^{t}\\sin(t)\\cos(t) + e^{t}\\sin^{2}(t)-2e^{2t}.\n",
    "$$\n",
    "\n",
    "Ya estaría, pero vamos a hacerlo por otro camino: vamos a construir explícitamente la función composición y a derivarla:\n",
    "\n",
    "$$\n",
    "t \\stackrel{\\mathbf{F}}\\longrightarrow \\left(\\sin(t),e^{t}\\right) \\stackrel{G}{\\longrightarrow} e^{t}\\sin^{2}(t)-e^{2t},\n",
    "$$\n",
    "y, derivando directamente,\n",
    "\n",
    "$$\n",
    "\\mathrm{J}\\left( G\\circ\\mathbf{F}\\right)(t) = \\frac{d}{dt}\\left(e^{t}\\sin^{2}(t)-e^{2t}\\right) = e^{t}\\sin^{2}(t) + 2 e^{t}\\sin(t)\\cos(t) - 2e^{2t}.\n",
    "$$\n",
    "\n",
    "¡¡Da lo mismo de las dos maneras!! I can't believe it!!"
   ]
  },
  {
   "attachments": {},
   "cell_type": "markdown",
   "metadata": {},
   "source": [
    "## Ejemplo de dos variables\n",
    "\n",
    "Consideramos la composición de funciones:\n",
    "\n",
    "$$\n",
    "\\begin{array}{ccccc}\n",
    "\\mathbb{R}^{2} & \\stackrel{\\mathbf{F}}{\\longrightarrow} & \\mathbb{R}^{2} & \\stackrel{G}{\\longrightarrow} & \\mathbb{R} \\\\\n",
    "\\begin{bmatrix} r \\\\ \\theta \\end{bmatrix} &\\to & \\mathbf{F}(r,\\theta) = \\begin{bmatrix} x=r\\cos(\\theta) \\\\ y=r\\sin(\\theta) \\end{bmatrix} & \\to & G(x,y) = x^2 + y^2 \n",
    "\\end{array}\n",
    "$$\n",
    "\n",
    "Vamos a calcular el jacobiano de esta composición. Recordemos que\n",
    "\n",
    "$$\n",
    "\\mathrm{J}\\left( G\\circ\\mathbf{F}\\right)(r,\\theta) = \\mathrm{J}G(\\mathbf{F}(r,\\theta)) \\; \\mathrm{J}\\mathbf{F}(r,\\theta).\n",
    "$$\n",
    "\n",
    "Vamos a calcular cada uno de los factores de este producto:\n",
    "\n",
    "$$\n",
    "\\mathrm{J}\\mathbf{F}(r,\\theta) = \n",
    "\\begin{bmatrix} \\dfrac{\\partial x}{\\partial r} & \\dfrac{\\partial x}{\\partial \\theta} \\\\ \\\\ \\dfrac{\\partial y}{\\partial r} & \\dfrac{\\partial y}{\\partial \\theta} \\end{bmatrix}\n",
    "= \\begin{bmatrix} \\cos(\\theta) & -r\\sin(\\theta) \\\\ \\\\ \\sin(\\theta) & r\\cos(\\theta) \\end{bmatrix}.\n",
    "$$\n",
    "\n",
    "El segundo factor es:\n",
    "\n",
    "$$\n",
    "\\mathrm{J}G(x,y) = \\begin{bmatrix} \\dfrac{\\partial G}{\\partial x} &  \\dfrac{\\partial G}{\\partial y} \\end{bmatrix} = \\begin{bmatrix} 2x & 2y \\end{bmatrix}.\n",
    "$$\n",
    "\n",
    "Entonces:\n",
    "\n",
    "$$\n",
    "\\mathrm{J}G (\\mathbf{F}(t)) = \\mathrm{J}G \\left( r\\cos(t), r\\sin(\\theta) \\right) = \\begin{bmatrix} 2r\\cos(\\theta) & 2r\\sin(\\theta) \\end{bmatrix}.\n",
    "$$\n",
    "Y, por lo tanto,\n",
    "\n",
    "\\begin{eqnarray*}\n",
    "\\mathrm{J}\\left( G\\circ\\mathbf{F}\\right)(t) &=& \\begin{bmatrix} 2r\\cos(\\theta) & 2r\\sin(\\theta) \\end{bmatrix} \n",
    "\\begin{bmatrix} \\cos(\\theta) & -r\\sin(\\theta) \\\\ \\\\ \\sin(\\theta) & r\\cos(\\theta) \\end{bmatrix} \\\\\n",
    "\\\\\n",
    "&=& \\begin{bmatrix} 2r\\cos^{2}(\\theta) + 2r\\sin^2(\\theta) & -2r^2\\sin(\\theta)\\cos(\\theta) + 2r^2\\sin(\\theta)\\cos(\\theta) \\end{bmatrix}\n",
    "= \\begin{bmatrix} 2r & 0 \\end{bmatrix}.\n",
    "\\end{eqnarray*}\n",
    "\n",
    "Como en el ejemplo anterior, vamos a construir explícitamente la función composición y a calcular su jacobiano:\n",
    "\n",
    "$$\n",
    "(r,\\theta) \\stackrel{\\mathbf{F}}\\longrightarrow \\left(r\\cos(\\theta), r\\sin(t)\\right) \\stackrel{G}{\\longrightarrow} r^{2}\\cos^{2}(\\theta) + r^{2}\\sin^{2}(\\theta),\n",
    "$$\n",
    "y, derivando directamente,\n",
    "\n",
    "$$\n",
    "\\mathrm{J}\\left( G\\circ\\mathbf{F}\\right)(r,\\theta) = \\begin{bmatrix} \\dfrac{(G\\circ\\mathbf{F})}{\\partial r} (r,\\theta) & \\dfrac{(G\\circ\\mathbf{F})}{\\partial \\theta} (r,\\theta) \\end{bmatrix}\n",
    "= \\begin{bmatrix} 2r & 0\\end{bmatrix}.\n",
    "$$\n",
    "\n",
    "Again... ¡¡Da lo mismo!! ¡¡GUAU, GUAU, GUAUUUU!!"
   ]
  },
  {
   "attachments": {},
   "cell_type": "markdown",
   "metadata": {},
   "source": [
    "## Composición de funciones con `sympy`\n",
    "\n",
    "Retomamos este último ejemplo para resolverlo ayudados por `sympy`. ¡A ver si le da lo mismo! "
   ]
  },
  {
   "cell_type": "code",
   "execution_count": 2,
   "metadata": {},
   "outputs": [
    {
     "name": "stdout",
     "output_type": "stream",
     "text": [
      "Derivada parcial de w con respecto a s: \n"
     ]
    },
    {
     "data": {
      "text/latex": [
       "$\\displaystyle \\frac{6 s^{2}}{t} + 2 t$"
      ],
      "text/plain": [
       "6*s**2/t + 2*t"
      ]
     },
     "metadata": {},
     "output_type": "display_data"
    },
    {
     "name": "stdout",
     "output_type": "stream",
     "text": [
      "Derivada parcial de w con respecto a t: \n"
     ]
    },
    {
     "data": {
      "text/latex": [
       "$\\displaystyle - \\frac{2 s^{3}}{t^{2}} + 2 s$"
      ],
      "text/plain": [
       "-2*s**3/t**2 + 2*s"
      ]
     },
     "metadata": {},
     "output_type": "display_data"
    }
   ],
   "source": [
    "import sympy as sp\n",
    "\n",
    "x, y, s, t = sp.symbols('x y s t', real=True) # define las variables simbólicas x, y, s, t \n",
    "\n",
    "w = 2*x*y # define w(x,y)\n",
    "xx = s**2 + t**2 # define x(s,t)\n",
    "yy = s/t # define y(s,t)\n",
    "\n",
    "# Cálculo de las derivadas parciales de w con respecto a s y t:\n",
    "F, G = sp.Matrix([xx, yy]), sp.Matrix([w])\n",
    "jac_F, jac_G = F.jacobian([s,t]), G.jacobian([x,y]) # cálculo del jacobiano de F y G\n",
    "dw_s, dw_t = sp.simplify(jac_G.subs({x:s**2+t**2,y:s/t})*jac_F)\n",
    "\n",
    "# Cálculo de la derivada de w con respecto a s:\n",
    "print('Derivada parcial de w con respecto a s: ')\n",
    "display(dw_s)\n",
    "\n",
    "# Cálculo de la derivada de w con respecto a t:\n",
    "print('Derivada parcial de w con respecto a t: ')\n",
    "display(dw_t)"
   ]
  },
  {
   "attachments": {},
   "cell_type": "markdown",
   "metadata": {},
   "source": [
    "## Derivación implícita\n",
    "\n",
    "Si queremos calcular las derivadas de una función que depende de una o varias variables no tenemos porque conocer su expresión de forma explícita, puede venir dada implícitamente. Por ejemplo, la función $y = f(x)$ puede venir determinada por la expresión $y^3 + y^2 - 5y - x^2 = -4$. En este caso, no se conoce de forma explícita cuál es la expresión de $f$ en términos de $x$. \n",
    "En el caso general, es posible tener una función, $F$, que defina la relación entre $x$ e $y$, $F(x,y) = 0$.\n",
    "También en estos casos es posible calcular la derivada parcial $\\frac{\\partial y}{\\partial x}$. Sólo tenemos que derivar la expresión $F(x,y) = 0$ utilizando la regla de la cadena como sigue:\n",
    "\n",
    "$$\n",
    "F(x,y) = 0 \\stackrel{\\frac{\\partial}{\\partial x}}{\\Longrightarrow} \n",
    "\\frac{\\partial F}{\\partial x}(x,y)\\frac{\\partial x}{\\partial x} + \\frac{\\partial F}{\\partial y}(x,y)\\frac{\\partial y}{\\partial x}.\n",
    "$$\n",
    "\n",
    "Despejamos en la anterior expresión, teniendo en cuenta que $\\frac{\\partial x}{\\partial x}=1$, y obtenemos:\n",
    "\n",
    "$$\n",
    "\\frac{\\partial y}{\\partial x} = - \\frac{ \\frac{\\partial F}{\\partial x}(x,y)  } { \\frac{\\partial F}{\\partial y}(x,y) }.\n",
    "$$\n",
    "\n",
    "Análogamente, si tenemos una relación implícita entre tres variables, $x$, $y$ y $z$ y queremos conocer, por ejemplo, \n",
    "las derivadas de $z$ respecto $x$ e $y$ (entendemos que, en este caso, $x$ e $y$ son variables independientes),\n",
    "\n",
    "\\begin{eqnarray*}\n",
    "F(x,y,z) = 0 &\\stackrel{\\frac{\\partial}{\\partial x}}{\\Longrightarrow}&\n",
    "\\frac{\\partial F}{\\partial x}(x,y,z)\\frac{\\partial x}{\\partial x} + \\cancel{ \\frac{\\partial F}{\\partial y}(x,y,z)\n",
    "{\\color{red} \\frac{\\partial y}{\\partial x}} } \n",
    "+ \\frac{\\partial F}{\\partial z}(x,y,z)\\frac{\\partial z}{\\partial x} = 0 \\\\\n",
    "& \\Rightarrow & \\frac{\\partial z}{\\partial x} = - \\frac{ \\frac{\\partial F}{\\partial x}(x,y,z)  } { \\frac{\\partial F}{\\partial z}(x,y,z) } \\\\\n",
    "F(x,y,z) = 0 &\\stackrel{\\frac{\\partial}{\\partial y}}{\\Longrightarrow}&\n",
    "\\cancel{ \\frac{\\partial F}{\\partial y}(x,y,z){\\color{red} \\frac{\\partial x}{\\partial y}} } \n",
    "+ \\frac{\\partial F}{\\partial y}(x,y,z) \\frac{\\partial y}{\\partial y} \n",
    "+ \\frac{\\partial F}{\\partial z}(x,y,z)\\frac{\\partial z}{\\partial y} = 0\\\\\n",
    "& \\Rightarrow & \\frac{\\partial z}{\\partial y} = - \\frac{ \\frac{\\partial F}{\\partial y}(x,y,z)  } { \\frac{\\partial F}{\\partial z}(x,y,z) }\n",
    "\\end{eqnarray*}\n",
    "\n",
    "````{prf:definition} Regla de la cadena: derivación implícita\n",
    ":label: def_rc_2vi\n",
    ":nonumber: \n",
    "\n",
    "Si la ecuación $F(x,y) = 0$ define a $y$ implícitamente como función derivable de $x$, entonces\n",
    "\n",
    "$$\n",
    "\\frac{\\partial y}{\\partial x} = -\\frac{F_x(x,y)}{F_y(x,y)}, \\quad F_y(x,y) \\neq 0.\n",
    "$$\n",
    "\n",
    "Si la ecuación $F(x,y,z) = 0$ define a $z$ implícitamente como función diferenciable de $x$ e $y$, entonces\n",
    "\n",
    "$$\n",
    "\\frac{\\partial z}{\\partial x} = -\\frac{F_x(x,y,z)}{F_z(x,y,z)} \\quad \\textrm{ y } \\quad \\frac{\\partial z}{\\partial y} = -\\frac{F_y(x,y,z)}{F_z(x,y,z)}, \\quad F_z(x,y,z) \\neq 0.\n",
    "$$\n",
    "````\n",
    "\n",
    "¡A seguir practicando!\n",
    "\n",
    "````{prf:example}  \n",
    ":label: 3.x._ex\n",
    ":nonumber: \n",
    "\n",
    "Calcular $\\frac{\\partial y}{partial x}$ para $y^3 + y^2 - 5y - x^2 = -4$. \n",
    "\n",
    "**Solución:**\n",
    "\n",
    "Tomando $F$ tal que $F(x,y) = 0$, tenemos que\n",
    "\n",
    "$$\n",
    "F(x,y) = y^3 + y^2 - 5y - x^2 + 4.\n",
    "$$\n",
    "\n",
    "Entonces\n",
    "\n",
    "$$\n",
    "F_x(x,y) = -2x \\quad \\textrm{ y } \\quad F_y(x,y) = 3y^2 + 2y - 5.\n",
    "$$\n",
    "\n",
    "Usando el resultado teórico de derivación implícita, obtenemos que\n",
    "\n",
    "$$\n",
    "\\frac{\\partial y}{\\partial x} = -\\frac{F_x(x,y)}{F_y(x,y)} = - \\frac{(-2x)}{3y^2 + 2y - 5} = \\frac{2x}{3y^2 + 2y - 5}.\n",
    "$$\n",
    "````\n",
    "\n",
    "Vamos a comprobar que el cálculo es correcto con la ayuda de `Python`."
   ]
  },
  {
   "cell_type": "code",
   "execution_count": 3,
   "metadata": {},
   "outputs": [
    {
     "data": {
      "text/latex": [
       "$\\displaystyle - x^{2} + y^{3} + y^{2} - 5 y + 4 = 0$"
      ],
      "text/plain": [
       "Eq(-x**2 + y**3 + y**2 - 5*y + 4, 0)"
      ]
     },
     "metadata": {},
     "output_type": "display_data"
    },
    {
     "name": "stdout",
     "output_type": "stream",
     "text": [
      "Derivada implícita con respecto a x: \n"
     ]
    },
    {
     "data": {
      "text/latex": [
       "$\\displaystyle \\frac{2 x}{3 y^{2} + 2 y - 5}$"
      ],
      "text/plain": [
       "2*x/(3*y**2 + 2*y - 5)"
      ]
     },
     "metadata": {},
     "output_type": "display_data"
    }
   ],
   "source": [
    "x, y = sp.symbols('x y', real=True) # define la variable simbólica x e y \n",
    "\n",
    "F = y**3 + y**2 - 5*y - x**2 + 4 # define F tal que F(x,y) = 0\n",
    "display(sp.Eq(F,0))\n",
    "\n",
    "# Cálculo de la derivada implícita con respecto a x\n",
    "F_x, F_y = sp.diff(F, x), sp.diff(F, y) \n",
    "y_x = - F_x/F_y\n",
    "print('Derivada implícita con respecto a x: ')\n",
    "display(y_x)"
   ]
  }
 ],
 "metadata": {
  "kernelspec": {
   "display_name": "Python 3 (ipykernel)",
   "language": "python",
   "name": "python3"
  },
  "language_info": {
   "codemirror_mode": {
    "name": "ipython",
    "version": 3
   },
   "file_extension": ".py",
   "mimetype": "text/x-python",
   "name": "python",
   "nbconvert_exporter": "python",
   "pygments_lexer": "ipython3",
   "version": "3.9.12"
  },
  "vscode": {
   "interpreter": {
    "hash": "6bee1e8c92def9b58716ddd07d843225b81ed35493dd8048850a9a59c060c325"
   }
  }
 },
 "nbformat": 4,
 "nbformat_minor": 2
}
